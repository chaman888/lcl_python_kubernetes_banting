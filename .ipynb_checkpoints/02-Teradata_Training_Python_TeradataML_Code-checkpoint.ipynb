{
 "cells": [
  {
   "cell_type": "markdown",
   "id": "ea839dab",
   "metadata": {},
   "source": [
    "**<div class=\"alert alert-block alert-info\"> Importing Packages.**</div>"
   ]
  },
  {
   "cell_type": "code",
   "execution_count": 1,
   "id": "12e72c7e",
   "metadata": {
    "tags": []
   },
   "outputs": [],
   "source": [
    "from teradataml.dataframe.fastload import fastload\n",
    "from teradatasqlalchemy.types import *\n",
    "import pandas as pd\n",
    "import getpass\n",
    "import datetime\n",
    "import os\n",
    "import teradataml as ml"
   ]
  },
  {
   "cell_type": "markdown",
   "id": "78ed0e75",
   "metadata": {},
   "source": [
    "**<div class=\"alert alert-block alert-info\"> Applying Condition.**</div>"
   ]
  },
  {
   "cell_type": "code",
   "execution_count": 2,
   "id": "bfc34223",
   "metadata": {
    "tags": []
   },
   "outputs": [],
   "source": [
    "if ml.get_context() is not None:\n",
    "    ml.remove_context()\n"
   ]
  },
  {
   "cell_type": "markdown",
   "id": "2508e4ae",
   "metadata": {},
   "source": [
    "**<div class=\"alert alert-block alert-info\"> Fetching user details(username and password) and assigning them to a variable.**</div>"
   ]
  },
  {
   "cell_type": "code",
   "execution_count": 3,
   "id": "21dc17b1",
   "metadata": {
    "tags": []
   },
   "outputs": [
    {
     "name": "stdin",
     "output_type": "stream",
     "text": [
      " chasing\n"
     ]
    }
   ],
   "source": [
    "user = input()"
   ]
  },
  {
   "cell_type": "code",
   "execution_count": 4,
   "id": "3df25567",
   "metadata": {
    "tags": []
   },
   "outputs": [
    {
     "name": "stdout",
     "output_type": "stream",
     "text": [
      "Please Enter the password for the user: chasing\n"
     ]
    },
    {
     "name": "stdin",
     "output_type": "stream",
     "text": [
      " ········\n"
     ]
    }
   ],
   "source": [
    "print(\"Please Enter the password for the user:\",user)\n",
    "pwd = getpass.getpass()"
   ]
  },
  {
   "cell_type": "markdown",
   "id": "9625aace",
   "metadata": {},
   "source": [
    "**<div class=\"alert alert-block alert-info\"> Assigning hostname to a variable and creating connection request.**</div>"
   ]
  },
  {
   "cell_type": "code",
   "execution_count": 5,
   "id": "bb30adc7",
   "metadata": {
    "tags": []
   },
   "outputs": [],
   "source": [
    "hostname=\"tdprod1.ngco.com\"\n"
   ]
  },
  {
   "cell_type": "code",
   "execution_count": 6,
   "id": "e1d7c0a6-6f35-4925-b297-783368dcca66",
   "metadata": {
    "tags": []
   },
   "outputs": [
    {
     "name": "stdout",
     "output_type": "stream",
     "text": [
      "Connect to :tdprod1.ngco.com as user id:chasing \n"
     ]
    }
   ],
   "source": [
    "print( \"Connect to :{} as user id:{} \".format(hostname,user))"
   ]
  },
  {
   "cell_type": "code",
   "execution_count": null,
   "id": "37652851",
   "metadata": {
    "tags": []
   },
   "outputs": [
    {
     "name": "stdout",
     "output_type": "stream",
     "text": [
      "Connect to :tdprod1.ngco.com as user id:chasing \n"
     ]
    }
   ],
   "source": [
    "print( \"Connect to :{} as user id:{} \".format(hostname,user))\n",
    "ml.create_context(host =hostname, username=user, password=pwd, database=user ,logmech=\"ldap\")"
   ]
  },
  {
   "cell_type": "markdown",
   "id": "c005fd5b",
   "metadata": {},
   "source": [
    "**<div class=\"alert alert-block alert-info\"> Inserting data in a variable from table.**</div>"
   ]
  },
  {
   "cell_type": "code",
   "execution_count": 11,
   "id": "fcb7b8c8",
   "metadata": {},
   "outputs": [],
   "source": [
    "df = ml.DataFrame.from_query(\" select * from cs186026.Department;\")"
   ]
  },
  {
   "cell_type": "code",
   "execution_count": 12,
   "id": "f7097bdf",
   "metadata": {},
   "outputs": [
    {
     "data": {
      "text/html": [
       "<style type=\"text/css\">\n",
       "\ttable {border:ridge 5px;}\n",
       "\ttable td {border:inset 1px;}\n",
       "\ttable tr#HeaderRow {background-color:grey; color:white;}</style>\n",
       "<html><table>\n",
       "\t<tr id=\"HeaderRow\">\n",
       "\t\t<th>Dept_Number</th>\n",
       "\t\t<th>Dept_Name</th>\n",
       "\t\t<th>Dept_Mgr_Number</th>\n",
       "\t\t<th>Budget_Amount</th>\n",
       "\t</tr>\n",
       "\t<tr>\n",
       "\t\t<td>402</td>\n",
       "\t\t<td>NULL                                    </td>\n",
       "\t\t<td>801</td>\n",
       "\t\t<td>982300.000</td>\n",
       "\t</tr>\n",
       "\t<tr>\n",
       "\t\t<td>403</td>\n",
       "\t\t<td>education                               </td>\n",
       "\t\t<td>801</td>\n",
       "\t\t<td>932000.000</td>\n",
       "\t</tr>\n",
       "\t<tr>\n",
       "\t\t<td>401</td>\n",
       "\t\t<td>customer support                        </td>\n",
       "\t\t<td>801</td>\n",
       "\t\t<td>982300.000</td>\n",
       "\t</tr>\n",
       "\t<tr>\n",
       "\t\t<td>501</td>\n",
       "\t\t<td>marketing sales                         </td>\n",
       "\t\t<td>801</td>\n",
       "\t\t<td>982300.000</td>\n",
       "\t</tr>\n",
       "\t<tr>\n",
       "\t\t<td>301</td>\n",
       "\t\t<td>research and devl.                      </td>\n",
       "\t\t<td>801</td>\n",
       "\t\t<td>932000.000</td>\n",
       "\t</tr>\n",
       "</table></html>"
      ],
      "text/plain": [
       "                                            Dept_Name  Dept_Mgr_Number Budget_Amount\n",
       "Dept_Number                                                                         \n",
       "402          NULL                                                  801    982300.000\n",
       "401          customer support                                      801    982300.000\n",
       "301          research and devl.                                    801    932000.000\n",
       "501          marketing sales                                       801    982300.000\n",
       "403          education                                             801    932000.000"
      ]
     },
     "execution_count": 12,
     "metadata": {},
     "output_type": "execute_result"
    }
   ],
   "source": [
    "df"
   ]
  },
  {
   "cell_type": "markdown",
   "id": "aa3e53c6",
   "metadata": {},
   "source": [
    "**<div class=\"alert alert-block alert-info\"> Inserting data into dataframe \"panda_df\".**</div>"
   ]
  },
  {
   "cell_type": "code",
   "execution_count": 13,
   "id": "f8e96d18",
   "metadata": {},
   "outputs": [],
   "source": [
    "panda_df=df.to_pandas()"
   ]
  },
  {
   "cell_type": "code",
   "execution_count": 14,
   "id": "ac503b91",
   "metadata": {},
   "outputs": [
    {
     "data": {
      "text/html": [
       "<div>\n",
       "<style scoped>\n",
       "    .dataframe tbody tr th:only-of-type {\n",
       "        vertical-align: middle;\n",
       "    }\n",
       "\n",
       "    .dataframe tbody tr th {\n",
       "        vertical-align: top;\n",
       "    }\n",
       "\n",
       "    .dataframe thead th {\n",
       "        text-align: right;\n",
       "    }\n",
       "</style>\n",
       "<table border=\"1\" class=\"dataframe\">\n",
       "  <thead>\n",
       "    <tr style=\"text-align: right;\">\n",
       "      <th></th>\n",
       "      <th>Dept_Name</th>\n",
       "      <th>Dept_Mgr_Number</th>\n",
       "      <th>Budget_Amount</th>\n",
       "    </tr>\n",
       "    <tr>\n",
       "      <th>Dept_Number</th>\n",
       "      <th></th>\n",
       "      <th></th>\n",
       "      <th></th>\n",
       "    </tr>\n",
       "  </thead>\n",
       "  <tbody>\n",
       "    <tr>\n",
       "      <th>403</th>\n",
       "      <td>education</td>\n",
       "      <td>801</td>\n",
       "      <td>932000.00</td>\n",
       "    </tr>\n",
       "    <tr>\n",
       "      <th>501</th>\n",
       "      <td>marketing sales</td>\n",
       "      <td>801</td>\n",
       "      <td>982300.00</td>\n",
       "    </tr>\n",
       "    <tr>\n",
       "      <th>402</th>\n",
       "      <td>NULL</td>\n",
       "      <td>801</td>\n",
       "      <td>982300.00</td>\n",
       "    </tr>\n",
       "    <tr>\n",
       "      <th>301</th>\n",
       "      <td>research and devl.</td>\n",
       "      <td>801</td>\n",
       "      <td>932000.00</td>\n",
       "    </tr>\n",
       "    <tr>\n",
       "      <th>401</th>\n",
       "      <td>customer support</td>\n",
       "      <td>801</td>\n",
       "      <td>982300.00</td>\n",
       "    </tr>\n",
       "  </tbody>\n",
       "</table>\n",
       "</div>"
      ],
      "text/plain": [
       "                                            Dept_Name  Dept_Mgr_Number  \\\n",
       "Dept_Number                                                              \n",
       "403          education                                             801   \n",
       "501          marketing sales                                       801   \n",
       "402          NULL                                                  801   \n",
       "301          research and devl.                                    801   \n",
       "401          customer support                                      801   \n",
       "\n",
       "            Budget_Amount  \n",
       "Dept_Number                \n",
       "403             932000.00  \n",
       "501             982300.00  \n",
       "402             982300.00  \n",
       "301             932000.00  \n",
       "401             982300.00  "
      ]
     },
     "execution_count": 14,
     "metadata": {},
     "output_type": "execute_result"
    }
   ],
   "source": [
    "panda_df"
   ]
  },
  {
   "cell_type": "markdown",
   "id": "987a3910",
   "metadata": {},
   "source": [
    "**<div class=\"alert alert-block alert-info\"> Loading data into a table using fastload utility.**</div>"
   ]
  },
  {
   "cell_type": "code",
   "execution_count": 16,
   "id": "37bc93e1",
   "metadata": {},
   "outputs": [
    {
     "ename": "TeradataMlException",
     "evalue": "[Teradata][teradataml](TDML_2087) fastload() failed to load pandas dataframe to Teradata Vantage.",
     "output_type": "error",
     "traceback": [
      "\u001b[1;31m---------------------------------------------------------------------------\u001b[0m",
      "\u001b[1;31mOperationalError\u001b[0m                          Traceback (most recent call last)",
      "\u001b[1;32m~\\Anaconda3\\lib\\site-packages\\teradataml\\dataframe\\fastload.py\u001b[0m in \u001b[0;36mfastload\u001b[1;34m(df, table_name, schema_name, if_exists, index, index_label, primary_index, types, batch_size, save_errors)\u001b[0m\n\u001b[0;32m    324\u001b[0m         \u001b[1;32mif\u001b[0m \u001b[1;32mnot\u001b[0m \u001b[0mtable_exists\u001b[0m \u001b[1;32mor\u001b[0m \u001b[0mif_exists\u001b[0m\u001b[1;33m.\u001b[0m\u001b[0mlower\u001b[0m\u001b[1;33m(\u001b[0m\u001b[1;33m)\u001b[0m \u001b[1;33m==\u001b[0m \u001b[1;34m'replace'\u001b[0m\u001b[1;33m:\u001b[0m\u001b[1;33m\u001b[0m\u001b[1;33m\u001b[0m\u001b[0m\n\u001b[1;32m--> 325\u001b[1;33m             fl_dict = _insert_from_dataframe(df, schema_name, table_name, index, batch_size, \n\u001b[0m\u001b[0;32m    326\u001b[0m                                              save_errors)\n",
      "\u001b[1;32m~\\Anaconda3\\lib\\site-packages\\teradataml\\dataframe\\fastload.py\u001b[0m in \u001b[0;36m_insert_from_dataframe\u001b[1;34m(df, schema_name, table_name, index, batch_size, save_errors, is_pti, timecode_column, sequence_column)\u001b[0m\n\u001b[0;32m    486\u001b[0m             \u001b[1;31m# Execute insert statement\u001b[0m\u001b[1;33m\u001b[0m\u001b[1;33m\u001b[0m\u001b[1;33m\u001b[0m\u001b[0m\n\u001b[1;32m--> 487\u001b[1;33m             \u001b[0mcur\u001b[0m\u001b[1;33m.\u001b[0m\u001b[0mexecute\u001b[0m \u001b[1;33m(\u001b[0m\u001b[0mins\u001b[0m\u001b[1;33m,\u001b[0m \u001b[0minsert_list\u001b[0m\u001b[1;33m)\u001b[0m\u001b[1;33m\u001b[0m\u001b[1;33m\u001b[0m\u001b[0m\n\u001b[0m\u001b[0;32m    488\u001b[0m \u001b[1;33m\u001b[0m\u001b[0m\n",
      "\u001b[1;32m~\\Anaconda3\\lib\\site-packages\\teradatasql\\__init__.py\u001b[0m in \u001b[0;36mexecute\u001b[1;34m(self, sOperation, params, ignoreErrors)\u001b[0m\n\u001b[0;32m    664\u001b[0m                 \u001b[1;31m#  operation, but this kind of usage is deprecated: .executemany() should be used instead.\u001b[0m\u001b[1;33m\u001b[0m\u001b[1;33m\u001b[0m\u001b[1;33m\u001b[0m\u001b[0m\n\u001b[1;32m--> 665\u001b[1;33m                 \u001b[0mself\u001b[0m\u001b[1;33m.\u001b[0m\u001b[0mexecutemany\u001b[0m \u001b[1;33m(\u001b[0m\u001b[0msOperation\u001b[0m\u001b[1;33m,\u001b[0m \u001b[0mparams\u001b[0m\u001b[1;33m,\u001b[0m \u001b[0mignoreErrors\u001b[0m\u001b[1;33m)\u001b[0m\u001b[1;33m\u001b[0m\u001b[1;33m\u001b[0m\u001b[0m\n\u001b[0m\u001b[0;32m    666\u001b[0m \u001b[1;33m\u001b[0m\u001b[0m\n",
      "\u001b[1;32m~\\Anaconda3\\lib\\site-packages\\teradatasql\\__init__.py\u001b[0m in \u001b[0;36mexecutemany\u001b[1;34m(self, sOperation, seqOfParams, ignoreErrors)\u001b[0m\n\u001b[0;32m    905\u001b[0m \u001b[1;33m\u001b[0m\u001b[0m\n\u001b[1;32m--> 906\u001b[1;33m                 \u001b[1;32mraise\u001b[0m \u001b[0mOperationalError\u001b[0m \u001b[1;33m(\u001b[0m\u001b[0msErr\u001b[0m\u001b[1;33m)\u001b[0m\u001b[1;33m\u001b[0m\u001b[1;33m\u001b[0m\u001b[0m\n\u001b[0m\u001b[0;32m    907\u001b[0m \u001b[1;33m\u001b[0m\u001b[0m\n",
      "\u001b[1;31mOperationalError\u001b[0m: [Version 17.10.0.5] [Session 2396907] [Teradata SQL Driver] [Error 516] Bound parameter 3 type NUMBER (604) is not supported with target column type VARCHAR (448)\n at gosqldriver/teradatasql.(*teradataConnection).makeDriverErrorCode TeradataConnection.go:812\n at gosqldriver/teradatasql.(*fastLoadManagerBase).getTeradataTypeCast FastLoadManagerBase.go:417\n at gosqldriver/teradatasql.(*fastLoadManagerBase).getUsingInsertValues FastLoadManagerBase.go:560\n at gosqldriver/teradatasql.(*fastLoadManagerBase).distributeRows FastLoadManagerBase.go:1438\n at gosqldriver/teradatasql.(*fastLoadManagerBase).executeInsert FastLoadManagerBase.go:1315\n at gosqldriver/teradatasql.newTeradataRows TeradataRows.go:308\n at gosqldriver/teradatasql.(*teradataStatement).QueryContext TeradataStatement.go:122\n at gosqldriver/teradatasql.(*teradataConnection).QueryContext TeradataConnection.go:1348\n at database/sql.ctxDriverQuery ctxutil.go:48\n at database/sql.(*DB).queryDC.func1 sql.go:1643\n at database/sql.withLock sql.go:3284\n at database/sql.(*DB).queryDC sql.go:1638\n at database/sql.(*Conn).QueryContext sql.go:1887\n at main.goCreateRows goside.go:654\n at main._cgoexpwrap_7f5c3249bf12_goCreateRows _cgo_gotypes.go:367\n at runtime.cgocallbackg1 cgocall.go:332\n at runtime.cgocallbackg cgocall.go:207\n at runtime.cgocallback_gofunc asm_amd64.s:794\n at runtime.goexit asm_amd64.s:1374",
      "\nThe above exception was the direct cause of the following exception:\n",
      "\u001b[1;31mTeradataMlException\u001b[0m                       Traceback (most recent call last)",
      "\u001b[1;32m<ipython-input-16-5a3a871b2947>\u001b[0m in \u001b[0;36m<module>\u001b[1;34m\u001b[0m\n\u001b[1;32m----> 1\u001b[1;33m \u001b[0mml\u001b[0m\u001b[1;33m.\u001b[0m\u001b[0mfastload\u001b[0m\u001b[1;33m(\u001b[0m\u001b[0mdf\u001b[0m \u001b[1;33m=\u001b[0m \u001b[0mpanda_df\u001b[0m\u001b[1;33m,\u001b[0m \u001b[0mtable_name\u001b[0m \u001b[1;33m=\u001b[0m \u001b[1;34m'Department_uploaded'\u001b[0m\u001b[1;33m,\u001b[0m\u001b[0mschema_name\u001b[0m\u001b[1;33m=\u001b[0m\u001b[1;34m\"cs186026\"\u001b[0m\u001b[1;33m,\u001b[0m\u001b[0mif_exists\u001b[0m\u001b[1;33m=\u001b[0m\u001b[1;34m'replace'\u001b[0m\u001b[1;33m)\u001b[0m\u001b[1;33m\u001b[0m\u001b[1;33m\u001b[0m\u001b[0m\n\u001b[0m",
      "\u001b[1;32m~\\Anaconda3\\lib\\site-packages\\teradataml\\dataframe\\fastload.py\u001b[0m in \u001b[0;36mfastload\u001b[1;34m(df, table_name, schema_name, if_exists, index, index_label, primary_index, types, batch_size, save_errors)\u001b[0m\n\u001b[0;32m    355\u001b[0m         \u001b[1;32mraise\u001b[0m\u001b[1;33m\u001b[0m\u001b[1;33m\u001b[0m\u001b[0m\n\u001b[0;32m    356\u001b[0m     \u001b[1;32mexcept\u001b[0m \u001b[0mException\u001b[0m \u001b[1;32mas\u001b[0m \u001b[0merr\u001b[0m\u001b[1;33m:\u001b[0m\u001b[1;33m\u001b[0m\u001b[1;33m\u001b[0m\u001b[0m\n\u001b[1;32m--> 357\u001b[1;33m         raise TeradataMlException(Messages.get_message(MessageCodes.FASTLOAD_FAILS), \n\u001b[0m\u001b[0;32m    358\u001b[0m                                   MessageCodes.FASTLOAD_FAILS) from err\n\u001b[0;32m    359\u001b[0m     \u001b[1;32mreturn\u001b[0m \u001b[0mfl_dict\u001b[0m\u001b[1;33m\u001b[0m\u001b[1;33m\u001b[0m\u001b[0m\n",
      "\u001b[1;31mTeradataMlException\u001b[0m: [Teradata][teradataml](TDML_2087) fastload() failed to load pandas dataframe to Teradata Vantage."
     ]
    }
   ],
   "source": [
    "ml.fastload(df = panda_df, table_name = 'Department_uploaded',schema_name=\"cs186026\",if_exists='replace')"
   ]
  },
  {
   "cell_type": "markdown",
   "id": "ec398482",
   "metadata": {},
   "source": [
    "**<div class=\"alert alert-block alert-info\"> Inserting data into df1 and displaying that.**</div>"
   ]
  },
  {
   "cell_type": "code",
   "execution_count": 10,
   "id": "c10d6522",
   "metadata": {},
   "outputs": [],
   "source": [
    "df1 = ml.DataFrame(\"rldmprod_v.Department_uploaded\")\n"
   ]
  },
  {
   "cell_type": "code",
   "execution_count": 11,
   "id": "2a6640e7",
   "metadata": {},
   "outputs": [
    {
     "data": {
      "text/plain": [
       "              EFF_DT SITE_TY_CD      EXP_DT PUR_ORG_NUM   RGN_NUM CAL_TY_CD BAN_NUM         CUST_SITE_NUM SL_DSTRCT_NUM STR_CAT_CD SUPIOR_DEPT_STR_SITE_NUM CO_TY_NUM ACTV_ST_IND OPN_CLS_ST_CD                      SITE_NM  REC_CRE_JOB_NUM                 REC_CRE_TMS                REC_CHNG_TMS PROFL_SITE_NUM POS_INBND_SITE_NUM POS_OUTBND_SITE_NUM DC_TOB_TAX_PERMT_CD BUS_TY_CD ORIG_SEG_DEFN_PRC_IND PROFT_CENT_NUM PROFL_SEG_SITE_NUM     ACTV_DT COLLG_DSCT_IND SR_DSCT_IND   DEACTV_DT SHOP_TY_CD LIKE_SITE_NUM PREV_SITE_NUM BUS_PTNR_NUM PTNR_SRC_SYS_CD LOCL_CURRN_CD SRC_SYS_CD STR_LOCK_VLD_FROM_DT STR_LOCK_VLD_TO_DT  STR_CLS_DT  STR_OPN_DT GEOG_LOC_ID_SRC_ID APO_STRT_LOC_DESC RTRN_MTRL_AUTH_IND TMPLT_STR_NUM SITE_RPT_GRP_CD CUST_GRP_CD COST_ALOCT_SL_ORG_NUM COST_ALOCT_DIST_CHNNL_NUM COST_ALOCT_TGT_IND CTRLNG_AREA_NUM SL_AREA_FLR_SPC_QTY SL_AREA_FLR_SPC_UOM_CD\n",
       "SITE_NUM                                                                                                                                                                                                                                                                                                                                                                                                                                                                                                                                                                                                                                                                                                                                                                                                                                                                                         \n",
       "E709      2015-10-27         A   2020-02-03    0002      0001          9A      WS    E709                          None       None                     None  L053            None          None     SDM Vancouver Broadway E             1075  2015-10-28 01:04:44.433276  2020-02-06 14:56:28.119926       L103                   None                None                None      NA                    None           None               None        None           None        None        None       None          None          None         None            None    CAD              None                 None               None        None  2015-09-27               None              None               None          None              M         None                  None                      None               None            None                .000                   None\n",
       "1431      2013-01-01         A   2013-04-25    0005      0005          91      07    0000001431                    None         2                  R299      1431            None          None  Paradise Market SE Paradise               69  2013-01-02 01:02:38.007135  2013-05-02 01:17:23.160941       L160                   None            ZL00                    None      02                    None           None               None  2004-04-30             2           2   2012-12-31       01            None          None         None            None    CAD              None           2012-12-31         9999-12-31  2010-09-11  2004-05-02               None              None               None          None              M         C1                    None                      None               None            None                .000                   None\n",
       "1431      2014-10-02         A   2014-12-22    0005      0005          91      07    0000001431                    None         2                  R299      1431            None          None  Paradise Market SE Paradise              686  2014-10-06 01:06:22.333519  2014-12-28 01:04:35.056445       L160                   None            ZL00                    None      02                    None           None               None  2004-04-30             2           2   2012-12-31       01            None          None         None            None    CAD              None                 None               None  2010-09-11  2004-05-02               None              None               None          None              M         MK                    None                      None               None            None           18000.000                 FT2   \n",
       "1431      2014-03-25         A   2014-10-01    0005      0005          91      07    0000001431                    None         2                  R299      1431            None          None  Paradise Market SE Paradise              499  2014-03-26 01:04:39.918487  2014-10-06 01:06:22.349959       L160                   None            ZL00                    None      02                    None           None               None  2004-04-30             2           2   2012-12-31       01            None          None         None            None    CAD              None                 None               None  2010-09-11  2004-05-02               None              None               None          None              M         MK                    None                      None               None            None                .000                   None\n",
       "1431      2013-04-26         A   2014-01-28    0005      0005          91      07    0000001431                    None         2                  R299      1431            None          None  Paradise Market SE Paradise              178  2013-05-02 01:17:21.718323  2014-02-06 01:06:29.182769       L160                   None            ZL00                    None      02                    None           None               None  2004-04-30             2           2   2012-12-31       01            None          None         None            None    CAD              None           2012-12-31         9999-12-31  2010-09-11  2004-05-02               None              None               None          None              M         CV                    None                      None               None            None                .000                   None\n",
       "1431      2012-10-23         A   2012-12-31    0005      0005          91      07    0000001431                    None         2                  R299      1431            None          None  Paradise Market SE Paradise                1  2012-10-23 02:37:41.228304  2013-01-02 01:02:38.033524       L160                   None            ZL00                    None      02                    None           None               None  2004-04-30             2           2   2012-12-31       01            None          None         None            None    CAD              None           2010-09-11         9999-12-31  2010-09-11  2004-05-02               None              None               None          None              M         C1                    None                      None               None            None                .000                   None\n",
       "1431      2014-01-29         A   2014-03-24    0005      0005          91      07    0000001431                    None         2                  R299      1431            None          None  Paradise Market SE Paradise              446  2014-02-06 01:06:29.125486  2014-03-26 01:04:39.949974       L160                   None            ZL00                    None      02                    None           None               None  2004-04-30             2           2   2012-12-31       01            None          None         None            None    CAD              None                 None               None  2010-09-11  2004-05-02               None              None               None          None              M         CV                    None                      None               None            None                .000                   None\n",
       "E709      2020-02-04         A   2020-02-04    0002      0001          9A      WS    E709                          None       None                     None  L053            None          None                         None             2642  2020-02-06 14:56:28.119922  2020-02-07 02:02:54.097434       L103                   None                None                None      NA                    None           None               None        None           None        None        None       None          None          None         None            None    CAD              None                 None               None        None  2015-09-27               None              None               None          None              M         None                  None                      None               None            None                .000                   None\n",
       "E709      2015-09-28         A   2015-10-26    0002      0001          9A      WS    E709                          None       None                     None  L053            None          None           SDM Kingsgate Mall             1046  2015-10-03 01:04:02.607426  2015-10-28 01:04:44.433281       L103                   None                None                None      NA                    None           None               None        None           None        None        None       None          None          None         None            None    CAD              None                 None               None        None  2015-09-27               None              None               None          None              M         None                  None                      None               None            None                .000                   None\n",
       "E709      2015-09-27         A   2015-09-27    0002      0001          9A      WS    E709                          None       None                     None  L053            None          None           SDM Kingsgate Mall             1045  2015-10-02 01:04:17.248644  2015-10-03 01:04:02.607431       L103                   None                None                None      NA                    None           None               None        None           None        None        None       None          None          None         None            None    CAD              None                 None               None        None  2015-09-27               None              None               None          None            None        None                  None                      None               None            None                .000                   None"
      ]
     },
     "execution_count": 11,
     "metadata": {},
     "output_type": "execute_result"
    }
   ],
   "source": [
    "df1"
   ]
  },
  {
   "cell_type": "markdown",
   "id": "ea59a5c2",
   "metadata": {},
   "source": [
    "**<div class=\"alert alert-block alert-info\">Checking Versions.**</div>"
   ]
  },
  {
   "cell_type": "code",
   "execution_count": 4,
   "id": "6f5283f4",
   "metadata": {},
   "outputs": [
    {
     "ename": "NameError",
     "evalue": "name 'ml' is not defined",
     "output_type": "error",
     "traceback": [
      "\u001b[0;31m---------------------------------------------------------------------------\u001b[0m",
      "\u001b[0;31mNameError\u001b[0m                                 Traceback (most recent call last)",
      "\u001b[0;32m<ipython-input-4-b94cac554f48>\u001b[0m in \u001b[0;36m<module>\u001b[0;34m\u001b[0m\n\u001b[0;32m----> 1\u001b[0;31m \u001b[0mml\u001b[0m\u001b[0;34m.\u001b[0m\u001b[0mshow_versions\u001b[0m\u001b[0;34m(\u001b[0m\u001b[0;34m)\u001b[0m\u001b[0;34m\u001b[0m\u001b[0;34m\u001b[0m\u001b[0m\n\u001b[0m",
      "\u001b[0;31mNameError\u001b[0m: name 'ml' is not defined"
     ]
    }
   ],
   "source": [
    "ml.show_versions()"
   ]
  },
  {
   "cell_type": "code",
   "execution_count": null,
   "id": "8321a30a",
   "metadata": {},
   "outputs": [],
   "source": []
  }
 ],
 "metadata": {
  "environment": {
   "name": "common-cpu.m81",
   "type": "gcloud",
   "uri": "gcr.io/deeplearning-platform-release/base-cpu:m81"
  },
  "kernelspec": {
   "display_name": "Python 3 (ipykernel)",
   "language": "python",
   "name": "python3"
  },
  "language_info": {
   "codemirror_mode": {
    "name": "ipython",
    "version": 3
   },
   "file_extension": ".py",
   "mimetype": "text/x-python",
   "name": "python",
   "nbconvert_exporter": "python",
   "pygments_lexer": "ipython3",
   "version": "3.10.11"
  }
 },
 "nbformat": 4,
 "nbformat_minor": 5
}
