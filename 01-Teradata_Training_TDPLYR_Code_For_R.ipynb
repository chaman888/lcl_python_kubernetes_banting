{
 "cells": [
  {
   "cell_type": "markdown",
   "id": "00673fe6",
   "metadata": {},
   "source": [
    "**<div class=\"alert alert-block alert-info\"> Importing Packages with the help of library function**</div>"
   ]
  },
  {
   "cell_type": "code",
   "execution_count": 26,
   "id": "bf2a6994",
   "metadata": {},
   "outputs": [],
   "source": [
    "library(tdplyr)\n",
    "options(tibble.print_min = 20)\n",
    "library(dplyr)\n",
    "library(dbplyr)"
   ]
  },
  {
   "cell_type": "markdown",
   "id": "6ecdf3d9",
   "metadata": {},
   "source": [
    "**<div class=\"alert alert-block alert-warning\"> The td.column.casesensitive.handler is a boolean configuration property that controls whether to treat the column names passed to analytical function arguments as 'Case Sensitive' or 'Case Insensitive'.\n",
    "When the property is set to FALSE (default), column names passed to analytical function wrappers are treated as 'Case Insensitive'.\n",
    "When the property is set to TRUE, column names are treated as 'Case Sensitive'.**</div>"
   ]
  },
  {
   "cell_type": "code",
   "execution_count": 11,
   "id": "c8845577",
   "metadata": {},
   "outputs": [],
   "source": [
    "options('td.column.casesensitive.handler'= FALSE)"
   ]
  },
  {
   "cell_type": "markdown",
   "id": "707feb5a",
   "metadata": {},
   "source": [
    "**<div class=\"alert alert-block alert-info\"> Reading user input with masking from getPass() and creating context with td_create_context()**</div>"
   ]
  },
  {
   "cell_type": "code",
   "execution_count": 12,
   "id": "fd06e89e",
   "metadata": {},
   "outputs": [
    {
     "name": "stdin",
     "output_type": "stream",
     "text": [
      " ·········\n"
     ]
    }
   ],
   "source": [
    "my_password <- getPass()"
   ]
  },
  {
   "cell_type": "code",
   "execution_count": 13,
   "id": "b47dc2fa",
   "metadata": {},
   "outputs": [],
   "source": [
    "con <- td_create_context(host = \"tdprd3.td.teradata.com\", uid=\"cs186026\", pwd=my_password, database=\"cs186026\", dType = \"native\", logmech = \"LDAP\")"
   ]
  },
  {
   "cell_type": "code",
   "execution_count": 14,
   "id": "84cdbf4c",
   "metadata": {},
   "outputs": [],
   "source": [
    "# Change temporary database.\n",
    "td_set_context(con, temp.database = \"cs186026\")"
   ]
  },
  {
   "cell_type": "markdown",
   "id": "550e6d82",
   "metadata": {},
   "source": [
    "**<div class=\"alert alert-block alert-info\"> Use the td_get_context function to retrieve a named list of attributes in an existing context.**</div>"
   ]
  },
  {
   "cell_type": "code",
   "execution_count": 15,
   "id": "4a97c210",
   "metadata": {},
   "outputs": [
    {
     "data": {
      "text/plain": [
       "$connection\n",
       "<Teradata Native Driver Connection>\n",
       "  CS186026@tdprd3.td.teradata.com\n",
       "  Database: CS186026\n",
       "  Teradata Version: 17.10.03.01\n",
       "<TeradataConnection Driver=17.10.0.4 Database=17.10.03.01 Host=tdprd3.td.teradata.com uConnHandle=1>\n",
       "\n",
       "$temp.database\n",
       "[1] \"CS186026\"\n",
       "\n",
       "$default.database\n",
       "[1] \"CS186026\"\n",
       "\n",
       "$driver.type\n",
       "[1] \"Teradata Native Driver\"\n"
      ]
     },
     "metadata": {},
     "output_type": "display_data"
    }
   ],
   "source": [
    "td_get_context()"
   ]
  },
  {
   "cell_type": "markdown",
   "id": "68188a84",
   "metadata": {},
   "source": [
    "**<div class=\"alert alert-block alert-info\"> To retrieve the connection in the current context, use:<br>\n",
    "td_get_context()$connection**</div>"
   ]
  },
  {
   "cell_type": "code",
   "execution_count": 16,
   "id": "ab0e248f",
   "metadata": {},
   "outputs": [
    {
     "data": {
      "text/plain": [
       "<Teradata Native Driver Connection>\n",
       "  CS186026@tdprd3.td.teradata.com\n",
       "  Database: CS186026\n",
       "  Teradata Version: 17.10.03.01\n",
       "<TeradataConnection Driver=17.10.0.4 Database=17.10.03.01 Host=tdprd3.td.teradata.com uConnHandle=1>"
      ]
     },
     "metadata": {},
     "output_type": "display_data"
    }
   ],
   "source": [
    "td_get_context()$connection"
   ]
  },
  {
   "cell_type": "markdown",
   "id": "a2260361",
   "metadata": {},
   "source": [
    "**<div class=\"alert alert-block alert-info\">To retrieve the temorary database in the current context, use:<br>\n",
    "td_get_context()$temp.database**</div>"
   ]
  },
  {
   "cell_type": "code",
   "execution_count": 17,
   "id": "5c6ea167",
   "metadata": {},
   "outputs": [
    {
     "data": {
      "text/html": [
       "'CS186026'"
      ],
      "text/latex": [
       "'CS186026'"
      ],
      "text/markdown": [
       "'CS186026'"
      ],
      "text/plain": [
       "[1] \"CS186026\""
      ]
     },
     "metadata": {},
     "output_type": "display_data"
    }
   ],
   "source": [
    "td_get_context()$temp.database"
   ]
  },
  {
   "cell_type": "markdown",
   "id": "55ce571c",
   "metadata": {},
   "source": [
    "**<div class=\"alert alert-block alert-info\">To retrieve the default database in the current context, use:<br>\n",
    "td_get_context()$database**</div>"
   ]
  },
  {
   "cell_type": "code",
   "execution_count": 18,
   "id": "2696823d",
   "metadata": {},
   "outputs": [
    {
     "data": {
      "text/plain": [
       "NULL"
      ]
     },
     "metadata": {},
     "output_type": "display_data"
    }
   ],
   "source": [
    "td_get_context()$database"
   ]
  },
  {
   "cell_type": "markdown",
   "id": "b56164b4",
   "metadata": {},
   "source": [
    "**<div class=\"alert alert-block alert-info\"> Accessing a table**</div>"
   ]
  },
  {
   "cell_type": "code",
   "execution_count": 19,
   "id": "8fb41625",
   "metadata": {},
   "outputs": [],
   "source": [
    "df <- tbl(con, \"Employee\")"
   ]
  },
  {
   "cell_type": "code",
   "execution_count": 20,
   "id": "df58f134",
   "metadata": {},
   "outputs": [
    {
     "data": {
      "text/plain": [
       "\u001b[90m# Source:   table<Employee> [?? x 8]\u001b[39m\n",
       "\u001b[90m# Database: Teradata\u001b[39m\n",
       "   Employee_Number Dept_Number Emp_Mgr_Number Job_Code Last_Name      First_Name\n",
       "             \u001b[3m\u001b[90m<int>\u001b[39m\u001b[23m       \u001b[3m\u001b[90m<int>\u001b[39m\u001b[23m          \u001b[3m\u001b[90m<int>\u001b[39m\u001b[23m    \u001b[3m\u001b[90m<int>\u001b[39m\u001b[23m \u001b[3m\u001b[90m<chr>\u001b[39m\u001b[23m          \u001b[3m\u001b[90m<chr>\u001b[39m\u001b[23m     \n",
       "\u001b[90m 1\u001b[39m            \u001b[4m1\u001b[24m018         501             \u001b[31mNA\u001b[39m   \u001b[4m4\u001b[24m\u001b[4m1\u001b[24m\u001b[4m2\u001b[24m101 \u001b[90m\"\u001b[39mRatzlaff    ~ Larry     \n",
       "\u001b[90m 2\u001b[39m            \u001b[4m1\u001b[24m004         401             \u001b[31mNA\u001b[39m   \u001b[4m4\u001b[24m\u001b[4m1\u001b[24m\u001b[4m2\u001b[24m101 \u001b[90m\"\u001b[39mJohnson     ~ Darlene   \n",
       "\u001b[90m 3\u001b[39m            \u001b[4m1\u001b[24m009         403             \u001b[31mNA\u001b[39m       \u001b[31mNA\u001b[39m \u001b[90m\"\u001b[39mLombardo    ~ Domingus  \n",
       "\u001b[90m 4\u001b[39m            \u001b[4m1\u001b[24m025          \u001b[31mNA\u001b[39m             \u001b[31mNA\u001b[39m   \u001b[4m2\u001b[24m\u001b[4m1\u001b[24m\u001b[4m1\u001b[24m100 \u001b[90m\"\u001b[39mShort       ~ Michael   \n",
       "\u001b[90m 5\u001b[39m            \u001b[4m1\u001b[24m014         402             \u001b[31mNA\u001b[39m       \u001b[31mNA\u001b[39m \u001b[90m\"\u001b[39mCrane       ~ Robert    \n",
       "\u001b[90m 6\u001b[39m            \u001b[4m1\u001b[24m006         301             \u001b[31mNA\u001b[39m   \u001b[4m3\u001b[24m\u001b[4m1\u001b[24m\u001b[4m2\u001b[24m101 \u001b[90m\"\u001b[39mStein       ~ John      \n",
       "\u001b[90m 7\u001b[39m            \u001b[4m1\u001b[24m010         401             \u001b[31mNA\u001b[39m   \u001b[4m4\u001b[24m\u001b[4m1\u001b[24m\u001b[4m2\u001b[24m101 \u001b[90m\"\u001b[39mRogers      ~ Frank     \n",
       "\u001b[90m 8\u001b[39m            \u001b[4m1\u001b[24m001         401             \u001b[31mNA\u001b[39m   \u001b[4m4\u001b[24m\u001b[4m1\u001b[24m\u001b[4m2\u001b[24m101 \u001b[90m\"\u001b[39mHoover      ~ William   \n",
       "\u001b[90m 9\u001b[39m            \u001b[4m1\u001b[24m012         403             \u001b[31mNA\u001b[39m       \u001b[31mNA\u001b[39m \u001b[90m\"\u001b[39mHopkins     ~ Paulene   \n",
       "\u001b[90m10\u001b[39m            \u001b[4m1\u001b[24m024         403             \u001b[31mNA\u001b[39m       \u001b[31mNA\u001b[39m \u001b[90m\"\u001b[39mBrown       ~ Allen     \n",
       "\u001b[90m11\u001b[39m            \u001b[4m1\u001b[24m008         301             \u001b[31mNA\u001b[39m   \u001b[4m3\u001b[24m\u001b[4m1\u001b[24m\u001b[4m2\u001b[24m102 \u001b[90m\"\u001b[39mKanieski    ~ Carol     \n",
       "\u001b[90m12\u001b[39m            \u001b[4m1\u001b[24m015         501             \u001b[31mNA\u001b[39m   \u001b[4m4\u001b[24m\u001b[4m1\u001b[24m\u001b[4m2\u001b[24m109 \u001b[90m\"\u001b[39mWilson      ~ Edward    \n",
       "\u001b[90m13\u001b[39m            \u001b[4m1\u001b[24m022         401             \u001b[31mNA\u001b[39m       \u001b[31mNA\u001b[39m \u001b[90m\"\u001b[39mMachado     ~ Albert    \n",
       "\u001b[90m14\u001b[39m            \u001b[4m1\u001b[24m016          \u001b[31mNA\u001b[39m             \u001b[31mNA\u001b[39m   \u001b[4m3\u001b[24m\u001b[4m2\u001b[24m\u001b[4m1\u001b[24m100 \u001b[90m\"\u001b[39mRogers      ~ Nora      \n",
       "\u001b[90m15\u001b[39m            \u001b[4m1\u001b[24m002         401             \u001b[31mNA\u001b[39m       \u001b[31mNA\u001b[39m \u001b[90m\"\u001b[39mBrown       ~ Alan      \n",
       "\u001b[90m16\u001b[39m            \u001b[4m1\u001b[24m023         501             \u001b[31mNA\u001b[39m   \u001b[4m3\u001b[24m\u001b[4m1\u001b[24m\u001b[4m2\u001b[24m103 \u001b[90m\"\u001b[39mRabbit      ~ Peter     \n",
       "\u001b[90m17\u001b[39m            \u001b[4m1\u001b[24m007         403             \u001b[31mNA\u001b[39m   \u001b[4m4\u001b[24m\u001b[4m3\u001b[24m\u001b[4m2\u001b[24m101 \u001b[90m\"\u001b[39mVillegas    ~ Arnando   \n",
       "\u001b[90m18\u001b[39m            \u001b[4m1\u001b[24m020         403             \u001b[31mNA\u001b[39m       \u001b[31mNA\u001b[39m \u001b[90m\"\u001b[39mCharles     ~ John      \n",
       "\u001b[90m19\u001b[39m            \u001b[4m1\u001b[24m013         401             \u001b[31mNA\u001b[39m       \u001b[31mNA\u001b[39m \u001b[90m\"\u001b[39mPhillips    ~ Charles   \n",
       "\u001b[90m20\u001b[39m            \u001b[4m1\u001b[24m021          \u001b[31mNA\u001b[39m             \u001b[31mNA\u001b[39m   \u001b[4m2\u001b[24m\u001b[4m2\u001b[24m\u001b[4m2\u001b[24m101 \u001b[90m\"\u001b[39mMorrissey   ~ Jim       \n",
       "\u001b[90m# ... with 2 more variables: Salary_Amount <dbl>, Hire_Date <date>\u001b[39m"
      ]
     },
     "metadata": {},
     "output_type": "display_data"
    }
   ],
   "source": [
    "df"
   ]
  },
  {
   "cell_type": "markdown",
   "id": "5e0af3d1",
   "metadata": {},
   "source": [
    "**<div class=\"alert alert-block alert-info\"> Accessing a table from select query**</div>"
   ]
  },
  {
   "cell_type": "code",
   "execution_count": 21,
   "id": "ff33e416",
   "metadata": {},
   "outputs": [],
   "source": [
    "df_site_num <- tbl(con, sql(\"select * from cs186026.Employee\"))\n"
   ]
  },
  {
   "cell_type": "code",
   "execution_count": 22,
   "id": "dcac439f",
   "metadata": {},
   "outputs": [
    {
     "data": {
      "text/plain": [
       "\u001b[90m# Source:   SQL [?? x 8]\u001b[39m\n",
       "\u001b[90m# Database: Teradata\u001b[39m\n",
       "   Employee_Number Dept_Number Emp_Mgr_Number Job_Code Last_Name      First_Name\n",
       "             \u001b[3m\u001b[90m<int>\u001b[39m\u001b[23m       \u001b[3m\u001b[90m<int>\u001b[39m\u001b[23m          \u001b[3m\u001b[90m<int>\u001b[39m\u001b[23m    \u001b[3m\u001b[90m<int>\u001b[39m\u001b[23m \u001b[3m\u001b[90m<chr>\u001b[39m\u001b[23m          \u001b[3m\u001b[90m<chr>\u001b[39m\u001b[23m     \n",
       "\u001b[90m 1\u001b[39m            \u001b[4m1\u001b[24m018         501             \u001b[31mNA\u001b[39m   \u001b[4m4\u001b[24m\u001b[4m1\u001b[24m\u001b[4m2\u001b[24m101 \u001b[90m\"\u001b[39mRatzlaff    ~ Larry     \n",
       "\u001b[90m 2\u001b[39m            \u001b[4m1\u001b[24m025          \u001b[31mNA\u001b[39m             \u001b[31mNA\u001b[39m   \u001b[4m2\u001b[24m\u001b[4m1\u001b[24m\u001b[4m1\u001b[24m100 \u001b[90m\"\u001b[39mShort       ~ Michael   \n",
       "\u001b[90m 3\u001b[39m            \u001b[4m1\u001b[24m007         403             \u001b[31mNA\u001b[39m   \u001b[4m4\u001b[24m\u001b[4m3\u001b[24m\u001b[4m2\u001b[24m101 \u001b[90m\"\u001b[39mVillegas    ~ Arnando   \n",
       "\u001b[90m 4\u001b[39m            \u001b[4m1\u001b[24m014         402             \u001b[31mNA\u001b[39m       \u001b[31mNA\u001b[39m \u001b[90m\"\u001b[39mCrane       ~ Robert    \n",
       "\u001b[90m 5\u001b[39m            \u001b[4m1\u001b[24m006         301             \u001b[31mNA\u001b[39m   \u001b[4m3\u001b[24m\u001b[4m1\u001b[24m\u001b[4m2\u001b[24m101 \u001b[90m\"\u001b[39mStein       ~ John      \n",
       "\u001b[90m 6\u001b[39m            \u001b[4m1\u001b[24m001         401             \u001b[31mNA\u001b[39m   \u001b[4m4\u001b[24m\u001b[4m1\u001b[24m\u001b[4m2\u001b[24m101 \u001b[90m\"\u001b[39mHoover      ~ William   \n",
       "\u001b[90m 7\u001b[39m            \u001b[4m1\u001b[24m004         401             \u001b[31mNA\u001b[39m   \u001b[4m4\u001b[24m\u001b[4m1\u001b[24m\u001b[4m2\u001b[24m101 \u001b[90m\"\u001b[39mJohnson     ~ Darlene   \n",
       "\u001b[90m 8\u001b[39m            \u001b[4m1\u001b[24m020         403             \u001b[31mNA\u001b[39m       \u001b[31mNA\u001b[39m \u001b[90m\"\u001b[39mCharles     ~ John      \n",
       "\u001b[90m 9\u001b[39m            \u001b[4m1\u001b[24m024         403             \u001b[31mNA\u001b[39m       \u001b[31mNA\u001b[39m \u001b[90m\"\u001b[39mBrown       ~ Allen     \n",
       "\u001b[90m10\u001b[39m            \u001b[4m1\u001b[24m012         403             \u001b[31mNA\u001b[39m       \u001b[31mNA\u001b[39m \u001b[90m\"\u001b[39mHopkins     ~ Paulene   \n",
       "\u001b[90m11\u001b[39m            \u001b[4m1\u001b[24m015         501             \u001b[31mNA\u001b[39m   \u001b[4m4\u001b[24m\u001b[4m1\u001b[24m\u001b[4m2\u001b[24m109 \u001b[90m\"\u001b[39mWilson      ~ Edward    \n",
       "\u001b[90m12\u001b[39m            \u001b[4m1\u001b[24m016          \u001b[31mNA\u001b[39m             \u001b[31mNA\u001b[39m   \u001b[4m3\u001b[24m\u001b[4m2\u001b[24m\u001b[4m1\u001b[24m100 \u001b[90m\"\u001b[39mRogers      ~ Nora      \n",
       "\u001b[90m13\u001b[39m            \u001b[4m1\u001b[24m008         301             \u001b[31mNA\u001b[39m   \u001b[4m3\u001b[24m\u001b[4m1\u001b[24m\u001b[4m2\u001b[24m102 \u001b[90m\"\u001b[39mKanieski    ~ Carol     \n",
       "\u001b[90m14\u001b[39m            \u001b[4m1\u001b[24m023         501             \u001b[31mNA\u001b[39m   \u001b[4m3\u001b[24m\u001b[4m1\u001b[24m\u001b[4m2\u001b[24m103 \u001b[90m\"\u001b[39mRabbit      ~ Peter     \n",
       "\u001b[90m15\u001b[39m            \u001b[4m1\u001b[24m002         401             \u001b[31mNA\u001b[39m       \u001b[31mNA\u001b[39m \u001b[90m\"\u001b[39mBrown       ~ Alan      \n",
       "\u001b[90m16\u001b[39m            \u001b[4m1\u001b[24m022         401             \u001b[31mNA\u001b[39m       \u001b[31mNA\u001b[39m \u001b[90m\"\u001b[39mMachado     ~ Albert    \n",
       "\u001b[90m17\u001b[39m            \u001b[4m1\u001b[24m010         401             \u001b[31mNA\u001b[39m   \u001b[4m4\u001b[24m\u001b[4m1\u001b[24m\u001b[4m2\u001b[24m101 \u001b[90m\"\u001b[39mRogers      ~ Frank     \n",
       "\u001b[90m18\u001b[39m            \u001b[4m1\u001b[24m009         403             \u001b[31mNA\u001b[39m       \u001b[31mNA\u001b[39m \u001b[90m\"\u001b[39mLombardo    ~ Domingus  \n",
       "\u001b[90m19\u001b[39m            \u001b[4m1\u001b[24m013         401             \u001b[31mNA\u001b[39m       \u001b[31mNA\u001b[39m \u001b[90m\"\u001b[39mPhillips    ~ Charles   \n",
       "\u001b[90m20\u001b[39m            \u001b[4m1\u001b[24m021          \u001b[31mNA\u001b[39m             \u001b[31mNA\u001b[39m   \u001b[4m2\u001b[24m\u001b[4m2\u001b[24m\u001b[4m2\u001b[24m101 \u001b[90m\"\u001b[39mMorrissey   ~ Jim       \n",
       "\u001b[90m# ... with 2 more variables: Salary_Amount <dbl>, Hire_Date <date>\u001b[39m"
      ]
     },
     "metadata": {},
     "output_type": "display_data"
    }
   ],
   "source": [
    "df_site_num"
   ]
  },
  {
   "cell_type": "markdown",
   "id": "39f86637",
   "metadata": {},
   "source": [
    "**<div class=\"alert alert-block alert-info\"> Make a copy of original table in a new dataframe**</div>"
   ]
  },
  {
   "cell_type": "code",
   "execution_count": 23,
   "id": "3bfea662",
   "metadata": {},
   "outputs": [],
   "source": [
    "copy_to(con, df, name=\"employee_upload\", overwrite=FALSE)"
   ]
  },
  {
   "cell_type": "code",
   "execution_count": 4,
   "id": "61953689",
   "metadata": {},
   "outputs": [
    {
     "ename": "ERROR",
     "evalue": "Error in copy_to(con, df, name = dbplyr::in_schema(td_get_context()$temp.database, : could not find function \"copy_to\"\n",
     "output_type": "error",
     "traceback": [
      "Error in copy_to(con, df, name = dbplyr::in_schema(td_get_context()$temp.database, : could not find function \"copy_to\"\nTraceback:\n"
     ]
    }
   ],
   "source": [
    "copy_to(con, df, name = dbplyr::in_schema(td_get_context()$temp.database,\"site_hier_2\"), overwrite=FALSE)"
   ]
  },
  {
   "cell_type": "code",
   "execution_count": 24,
   "id": "27b15ebd",
   "metadata": {},
   "outputs": [],
   "source": [
    "df_site_num_2 <- tbl(con, sql(\"select * from employee_upload\"))"
   ]
  },
  {
   "cell_type": "code",
   "execution_count": 25,
   "id": "6d9ac761",
   "metadata": {},
   "outputs": [
    {
     "data": {
      "text/plain": [
       "\u001b[90m# Source:   SQL [?? x 8]\u001b[39m\n",
       "\u001b[90m# Database: Teradata\u001b[39m\n",
       "   Employee_Number Dept_Number Emp_Mgr_Number Job_Code Last_Name      First_Name\n",
       "             \u001b[3m\u001b[90m<int>\u001b[39m\u001b[23m       \u001b[3m\u001b[90m<int>\u001b[39m\u001b[23m          \u001b[3m\u001b[90m<int>\u001b[39m\u001b[23m    \u001b[3m\u001b[90m<int>\u001b[39m\u001b[23m \u001b[3m\u001b[90m<chr>\u001b[39m\u001b[23m          \u001b[3m\u001b[90m<chr>\u001b[39m\u001b[23m     \n",
       "\u001b[90m 1\u001b[39m            \u001b[4m1\u001b[24m014         402             \u001b[31mNA\u001b[39m       \u001b[31mNA\u001b[39m \u001b[90m\"\u001b[39mCrane       ~ Robert    \n",
       "\u001b[90m 2\u001b[39m            \u001b[4m1\u001b[24m010         401             \u001b[31mNA\u001b[39m   \u001b[4m4\u001b[24m\u001b[4m1\u001b[24m\u001b[4m2\u001b[24m101 \u001b[90m\"\u001b[39mRogers      ~ Frank     \n",
       "\u001b[90m 3\u001b[39m            \u001b[4m1\u001b[24m001         401             \u001b[31mNA\u001b[39m   \u001b[4m4\u001b[24m\u001b[4m1\u001b[24m\u001b[4m2\u001b[24m101 \u001b[90m\"\u001b[39mHoover      ~ William   \n",
       "\u001b[90m 4\u001b[39m            \u001b[4m1\u001b[24m006         301             \u001b[31mNA\u001b[39m   \u001b[4m3\u001b[24m\u001b[4m1\u001b[24m\u001b[4m2\u001b[24m101 \u001b[90m\"\u001b[39mStein       ~ John      \n",
       "\u001b[90m 5\u001b[39m            \u001b[4m1\u001b[24m024         403             \u001b[31mNA\u001b[39m       \u001b[31mNA\u001b[39m \u001b[90m\"\u001b[39mBrown       ~ Allen     \n",
       "\u001b[90m 6\u001b[39m            \u001b[4m1\u001b[24m015         501             \u001b[31mNA\u001b[39m   \u001b[4m4\u001b[24m\u001b[4m1\u001b[24m\u001b[4m2\u001b[24m109 \u001b[90m\"\u001b[39mWilson      ~ Edward    \n",
       "\u001b[90m 7\u001b[39m            \u001b[4m1\u001b[24m022         401             \u001b[31mNA\u001b[39m       \u001b[31mNA\u001b[39m \u001b[90m\"\u001b[39mMachado     ~ Albert    \n",
       "\u001b[90m 8\u001b[39m            \u001b[4m1\u001b[24m008         301             \u001b[31mNA\u001b[39m   \u001b[4m3\u001b[24m\u001b[4m1\u001b[24m\u001b[4m2\u001b[24m102 \u001b[90m\"\u001b[39mKanieski    ~ Carol     \n",
       "\u001b[90m 9\u001b[39m            \u001b[4m1\u001b[24m023         501             \u001b[31mNA\u001b[39m   \u001b[4m3\u001b[24m\u001b[4m1\u001b[24m\u001b[4m2\u001b[24m103 \u001b[90m\"\u001b[39mRabbit      ~ Peter     \n",
       "\u001b[90m10\u001b[39m            \u001b[4m1\u001b[24m016          \u001b[31mNA\u001b[39m             \u001b[31mNA\u001b[39m   \u001b[4m3\u001b[24m\u001b[4m2\u001b[24m\u001b[4m1\u001b[24m100 \u001b[90m\"\u001b[39mRogers      ~ Nora      \n",
       "\u001b[90m11\u001b[39m            \u001b[4m1\u001b[24m002         401             \u001b[31mNA\u001b[39m       \u001b[31mNA\u001b[39m \u001b[90m\"\u001b[39mBrown       ~ Alan      \n",
       "\u001b[90m12\u001b[39m            \u001b[4m1\u001b[24m018         501             \u001b[31mNA\u001b[39m   \u001b[4m4\u001b[24m\u001b[4m1\u001b[24m\u001b[4m2\u001b[24m101 \u001b[90m\"\u001b[39mRatzlaff    ~ Larry     \n",
       "\u001b[90m13\u001b[39m            \u001b[4m1\u001b[24m013         401             \u001b[31mNA\u001b[39m       \u001b[31mNA\u001b[39m \u001b[90m\"\u001b[39mPhillips    ~ Charles   \n",
       "\u001b[90m14\u001b[39m            \u001b[4m1\u001b[24m020         403             \u001b[31mNA\u001b[39m       \u001b[31mNA\u001b[39m \u001b[90m\"\u001b[39mCharles     ~ John      \n",
       "\u001b[90m15\u001b[39m            \u001b[4m1\u001b[24m004         401             \u001b[31mNA\u001b[39m   \u001b[4m4\u001b[24m\u001b[4m1\u001b[24m\u001b[4m2\u001b[24m101 \u001b[90m\"\u001b[39mJohnson     ~ Darlene   \n",
       "\u001b[90m16\u001b[39m            \u001b[4m1\u001b[24m021          \u001b[31mNA\u001b[39m             \u001b[31mNA\u001b[39m   \u001b[4m2\u001b[24m\u001b[4m2\u001b[24m\u001b[4m2\u001b[24m101 \u001b[90m\"\u001b[39mMorrissey   ~ Jim       \n",
       "\u001b[90m17\u001b[39m            \u001b[4m1\u001b[24m012         403             \u001b[31mNA\u001b[39m       \u001b[31mNA\u001b[39m \u001b[90m\"\u001b[39mHopkins     ~ Paulene   \n",
       "\u001b[90m18\u001b[39m            \u001b[4m1\u001b[24m007         403             \u001b[31mNA\u001b[39m   \u001b[4m4\u001b[24m\u001b[4m3\u001b[24m\u001b[4m2\u001b[24m101 \u001b[90m\"\u001b[39mVillegas    ~ Arnando   \n",
       "\u001b[90m19\u001b[39m            \u001b[4m1\u001b[24m009         403             \u001b[31mNA\u001b[39m       \u001b[31mNA\u001b[39m \u001b[90m\"\u001b[39mLombardo    ~ Domingus  \n",
       "\u001b[90m20\u001b[39m            \u001b[4m1\u001b[24m025          \u001b[31mNA\u001b[39m             \u001b[31mNA\u001b[39m   \u001b[4m2\u001b[24m\u001b[4m1\u001b[24m\u001b[4m1\u001b[24m100 \u001b[90m\"\u001b[39mShort       ~ Michael   \n",
       "\u001b[90m# ... with 2 more variables: Salary_Amount <dbl>, Hire_Date <date>\u001b[39m"
      ]
     },
     "metadata": {},
     "output_type": "display_data"
    }
   ],
   "source": [
    "df_site_num_2"
   ]
  },
  {
   "cell_type": "markdown",
   "id": "7145fda0",
   "metadata": {},
   "source": [
    "**<div class=\"alert alert-block alert-info\">Use the td_set_context function to initialize or update a context using an already established connection.**</div>"
   ]
  },
  {
   "cell_type": "code",
   "execution_count": 97,
   "id": "2de2e903",
   "metadata": {},
   "outputs": [],
   "source": [
    "td_set_context(con, temp.database = \"chasing\")"
   ]
  },
  {
   "cell_type": "markdown",
   "id": "2ee0391c",
   "metadata": {},
   "source": [
    "**<div class=\"alert alert-block alert-info\">Load the example data**</div>"
   ]
  },
  {
   "cell_type": "code",
   "execution_count": 95,
   "id": "16971be7",
   "metadata": {},
   "outputs": [
    {
     "name": "stderr",
     "output_type": "stream",
     "text": [
      "Warning message in file(con, \"r\"):\n",
      "“file(\"\") only supports open = \"w+\" and open = \"w+b\": using the former”\n"
     ]
    },
    {
     "ename": "ERROR",
     "evalue": "Error: In loadExampleData('df', 'df'):\n[tdplyr - (TDR_E2101)] The example file 'df' does not load the table(s) 'df'.\n",
     "output_type": "error",
     "traceback": [
      "Error: In loadExampleData('df', 'df'):\n[tdplyr - (TDR_E2101)] The example file 'df' does not load the table(s) 'df'.\nTraceback:\n",
      "1. loadExampleData(\"df\", \"df\")",
      "2. .ta.stop(\"TDR_E2101\", fileName, paste0(table_not_present, collapse = \"', '\"))",
      "3. stop(str(displayMsg), call. = FALSE)"
     ]
    }
   ],
   "source": [
    "loadExampleData(\"df\", \"df\")"
   ]
  },
  {
   "cell_type": "markdown",
   "id": "48900e94",
   "metadata": {},
   "source": [
    "**<div class=\"alert alert-block alert-info\">Use the td_remove_context function to remove an existing context created using the td_create_context function or the td_set_context or dbConnect(tdplyr::NativeDriver(), ...) function.**</div>"
   ]
  },
  {
   "cell_type": "code",
   "execution_count": null,
   "id": "9cb76111",
   "metadata": {},
   "outputs": [],
   "source": [
    "td_remove_context()"
   ]
  }
 ],
 "metadata": {
  "environment": {
   "name": "common-cpu.m81",
   "type": "gcloud",
   "uri": "gcr.io/deeplearning-platform-release/base-cpu:m81"
  },
  "kernelspec": {
   "display_name": "R",
   "language": "R",
   "name": "ir"
  },
  "language_info": {
   "codemirror_mode": "r",
   "file_extension": ".r",
   "mimetype": "text/x-r-source",
   "name": "R",
   "pygments_lexer": "r",
   "version": "4.1.1"
  }
 },
 "nbformat": 4,
 "nbformat_minor": 5
}
