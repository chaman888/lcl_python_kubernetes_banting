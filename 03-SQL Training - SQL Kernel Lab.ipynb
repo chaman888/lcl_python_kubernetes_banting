{
 "cells": [
  {
   "cell_type": "markdown",
   "id": "60a283ad",
   "metadata": {
    "tags": []
   },
   "source": [
    "\n",
    "# <center> Connecting to Teradata Database from SQL Kernel </center> "
   ]
  },
  {
   "cell_type": "markdown",
   "id": "0891f969",
   "metadata": {
    "tags": []
   },
   "source": [
    "**<div class=\"alert alert-block alert-info\"> Adding a new Teradata Connection for SQL Kernel, Involve below steps**</div>\n",
    " 1. Add Variables.<br>\n",
    " 2. Create Connection <br>\n",
    " 3. Activate Connection"
   ]
  },
  {
   "cell_type": "markdown",
   "id": "82cfd612",
   "metadata": {},
   "source": [
    "**<div class=\"alert alert-block alert-info\"> Use Below Syntax Add New Variable**</div>"
   ]
  },
  {
   "cell_type": "code",
   "execution_count": 11,
   "id": "92d0bbd3",
   "metadata": {},
   "outputs": [],
   "source": [
    "%var systemName='tdprod1_ngco_com', user='chasing', host='tdprod1.ngco.com', db='chasing'"
   ]
  },
  {
   "cell_type": "code",
   "execution_count": 137,
   "id": "0e9ccba2",
   "metadata": {},
   "outputs": [
    {
     "ename": "ERROR",
     "evalue": "Profile does not exist",
     "output_type": "error",
     "traceback": [
      "Profile does not exist"
     ]
    }
   ],
   "source": [
    "%rmconnect ${systemName}"
   ]
  },
  {
   "cell_type": "markdown",
   "id": "78ee4dae",
   "metadata": {},
   "source": [
    "**<div class=\"alert alert-block alert-info\">Use Below Syntax to Add Connection.** </div>"
   ]
  },
  {
   "cell_type": "code",
   "execution_count": 138,
   "id": "c18a4d4f",
   "metadata": {},
   "outputs": [
    {
     "name": "stdout",
     "output_type": "stream",
     "text": [
      "Success: ''tdprod1_ngco_com'' connection added"
     ]
    }
   ],
   "source": [
    "%addconnect name=${systemName}, user=${user}, host=${host}, logmech='LDAP'"
   ]
  },
  {
   "cell_type": "markdown",
   "id": "c3d29601",
   "metadata": {},
   "source": [
    "**<div class=\"alert alert-block alert-info\">Use Below Syntax to Connect to Teradata Environment** </div>"
   ]
  },
  {
   "cell_type": "code",
   "execution_count": 2,
   "id": "d7008745",
   "metadata": {},
   "outputs": [
    {
     "name": "stdin",
     "output_type": "stream",
     "text": [
      "Password: ·········\n"
     ]
    },
    {
     "name": "stdout",
     "output_type": "stream",
     "text": [
      "Success: 'Vantage-Live' connection established and activated for user 'cs186026', with default database 'cs186026'\n"
     ]
    }
   ],
   "source": [
    "%connect Vantage-Live"
   ]
  },
  {
   "cell_type": "markdown",
   "id": "9d4def65",
   "metadata": {
    "tags": []
   },
   "source": [
    "\n"
   ]
  },
  {
   "cell_type": "markdown",
   "id": "8d424343-ab07-4feb-b0ef-eece1c483fd4",
   "metadata": {},
   "source": [
    "## <center> Executing Training Lab </center> \n",
    "### Teradata Basic SQL LAB (Studio or Studio Express and HELP Command [Slide 21-32]) ##\n",
    "\n",
    "#### 1. Try each of the following in the order shown, and note if it fails by looking at the Bottom-Left portion of the utility screen. For those that fail,  <font color='blue'>\"double-click\"</font> the\n",
    "#### <font color='blue'>\"Result\"</font> field for the failed request in the <font color='blue'>\"SQL History Window.\"</font> \n",
    "\n",
    "#### 2. Practice dragging and dropping columns from the <font color='blue'>\"Data Source Explorer\"</font> window onto the <font color='blue'>\"SQL Editor Window.\"</font>\n",
    "\n",
    "#### 3. Try using the Project Explorer to save, recall and run saved SQL queries.\n",
    "\n",
    "#### 4. Experiment with recalling previously run queries in the Teradata SQL History window and the affect of having multiple SQL Editors open.\n"
   ]
  },
  {
   "cell_type": "markdown",
   "id": "aef4c32e",
   "metadata": {},
   "source": [
    "**<div class=\"alert alert-block alert-info\">  HELP DATABASE;** </div> \n",
    "**<div class=\"alert alert-block alert-info\">  HELP DATABASE yourusername;** </div> \n",
    "**<div class=\"alert alert-block alert-info\">  HELP SHOW TABLE Employee;** </div> \n",
    "**<div class=\"alert alert-block alert-info\">  HELP SHOW TABLE Employee_View;** </div> \n",
    "**<div class=\"alert alert-block alert-info\">  SHOW VIEW Employee_View;** </div> \n",
    " "
   ]
  },
  {
   "cell_type": "code",
   "execution_count": 15,
   "id": "48f6c9bc",
   "metadata": {},
   "outputs": [
    {
     "data": {
      "application/vnd.teradata.resultset": "\"Table/View/Macro name\",\"Kind\",\"Comment\",\"Protection\",\"Creator Name\",\"Commit Option\",\"Transaction Log\",\"Table/View/Macro Dictionary Name\",\"Table/View/Macro SQL Name\",\"Table/View/Macro Name UEscape\",\"Creator Dictionary Name\",\"Creator SQL Name\",\"Creator Name UEscape\",\"Table Flavor\"\n\"Department                                                                                \",\"T \",\"\",\"F \",\"CS186026                                                                                  \",\"N \",\"Y \",\"Department\",\"Department\",\"\",\"CS186026\",\"CS186026\",\"\",\"\"\n\"Department_uploaded                                                                       \",\"O \",\"\",\"F \",\"CS186026                                                                                  \",\"N \",\"Y \",\"Department_uploaded\",\"Department_uploaded\",\"\",\"CS186026\",\"CS186026\",\"\",\"\"\n\"Employee                                                                                  \",\"T \",\"\",\"F \",\"CS186026                                                                                  \",\"N \",\"Y \",\"Employee\",\"Employee\",\"\",\"CS186026\",\"CS186026\",\"\",\"\"\n\"Employee_View                                                                             \",\"V \",\"\",\"F \",\"CS186026                                                                                  \",\"N \",\"Y \",\"Employee_View\",\"Employee_View\",\"\",\"CS186026\",\"CS186026\",\"\",\"\"\n\"Emp_Phone                                                                                 \",\"T \",\"\",\"F \",\"CS186026                                                                                  \",\"N \",\"Y \",\"Emp_Phone\",\"Emp_Phone\",\"\",\"CS186026\",\"CS186026\",\"\",\"\"\n\"Job                                                                                       \",\"T \",\"\",\"F \",\"CS186026                                                                                  \",\"N \",\"Y \",\"Job\",\"Job\",\"\",\"CS186026\",\"CS186026\",\"\",\"\"\n\"ml___frmqry_v_1643819419664104                                                            \",\"V \",\"\",\"F \",\"CS186026                                                                                  \",\"N \",\"Y \",\"ml___frmqry_v_1643819419664104\",\"ml___frmqry_v_1643819419664104\",\"\",\"CS186026\",\"CS186026\",\"\",\"\"",
      "text/html": [
       "<div class = \"td-resultset-table-div\" style = \"max-height: 100%; overflow-y: auto\">\n",
       "      <table class=\"tdhistory70836\"><style>\n",
       "      table.tdhistory70836 { display: block !important; min-height: 231px !important; overflow: auto !important; height: 231px !important; width: 100% !important; border: 1px solid rgb(207, 207, 207) !important; border-collapse: collapse !important; ; color: var(--jp-ui-font-color1) !important; }\n",
       "      th.tdhistory70836 { border: 1px solid rgb(198,198,198) !important; border-collapse: collapse !important; ; padding: 2px 5px !important; ; font-size: 13px !important; ; text-align: center !important; white-space: normal !important; color: var(--jp-ui-font-color1) !important; }\n",
       "      th.tdhistory70836:last-child { text-align: left !important; }\n",
       "      tbody.tdhistory70836 tr:nth-child(even) { background: rgba(243, 243, 243, 0.75) !important; }\n",
       "      tbody.tdhistory70836 tr:nth-child(odd) { background: var(--jp-ui-inverse-font-color1) !important; }\n",
       "      td.tdhistory70836 { border: 1px solid rgb(207, 207, 207) !important; border-collapse: collapse !important; ; padding: 2px 5px !important; ; font-size: 13px !important; ; text-align: left !important;          white-space: nowrap !important; overflow:hidden !important; text-overflow:ellipsis !important;; }\n",
       "    </style><thead><tr style= \"background: rgba(243, 243, 243, 0.75)\"><th class=\"tdhistory70836\"></th><th class=\"tdhistory70836\">Table/View/Macro name</th><th class=\"tdhistory70836\">Kind</th><th class=\"tdhistory70836\">Comment</th><th class=\"tdhistory70836\">Protection</th><th class=\"tdhistory70836\">Creator Name</th><th class=\"tdhistory70836\">Commit Option</th><th class=\"tdhistory70836\">Transaction Log</th><th class=\"tdhistory70836\">Table/View/Macro Dictionary Name</th><th class=\"tdhistory70836\">Table/View/Macro SQL Name</th><th class=\"tdhistory70836\">Table/View/Macro Name UEscape</th><th class=\"tdhistory70836\">Creator Dictionary Name</th><th class=\"tdhistory70836\">Creator SQL Name</th><th class=\"tdhistory70836\">Creator Name UEscape</th><th class=\"tdhistory70836\">Table Flavor</th></tr></thead><tbody class=\"tdhistory70836 resultset-body\"><tr><th class=\"tdhistory70836\" style= \"background: rgba(243, 243, 243, 0.75)\">1</th><td class=\"tdhistory70836\">Department                                                                                </td><td class=\"tdhistory70836\">T </td><td class=\"tdhistory70836\"></td><td class=\"tdhistory70836\">F </td><td class=\"tdhistory70836\">CS186026                                                                                  </td><td class=\"tdhistory70836\">N </td><td class=\"tdhistory70836\">Y </td><td class=\"tdhistory70836\">Department</td><td class=\"tdhistory70836\">Department</td><td class=\"tdhistory70836\"></td><td class=\"tdhistory70836\">CS186026</td><td class=\"tdhistory70836\">CS186026</td><td class=\"tdhistory70836\"></td><td class=\"tdhistory70836\"></td></tr><tr><th class=\"tdhistory70836\" style= \"background: rgba(243, 243, 243, 0.75)\">2</th><td class=\"tdhistory70836\">Department_uploaded                                                                       </td><td class=\"tdhistory70836\">O </td><td class=\"tdhistory70836\"></td><td class=\"tdhistory70836\">F </td><td class=\"tdhistory70836\">CS186026                                                                                  </td><td class=\"tdhistory70836\">N </td><td class=\"tdhistory70836\">Y </td><td class=\"tdhistory70836\">Department_uploaded</td><td class=\"tdhistory70836\">Department_uploaded</td><td class=\"tdhistory70836\"></td><td class=\"tdhistory70836\">CS186026</td><td class=\"tdhistory70836\">CS186026</td><td class=\"tdhistory70836\"></td><td class=\"tdhistory70836\"></td></tr><tr><th class=\"tdhistory70836\" style= \"background: rgba(243, 243, 243, 0.75)\">3</th><td class=\"tdhistory70836\">Employee                                                                                  </td><td class=\"tdhistory70836\">T </td><td class=\"tdhistory70836\"></td><td class=\"tdhistory70836\">F </td><td class=\"tdhistory70836\">CS186026                                                                                  </td><td class=\"tdhistory70836\">N </td><td class=\"tdhistory70836\">Y </td><td class=\"tdhistory70836\">Employee</td><td class=\"tdhistory70836\">Employee</td><td class=\"tdhistory70836\"></td><td class=\"tdhistory70836\">CS186026</td><td class=\"tdhistory70836\">CS186026</td><td class=\"tdhistory70836\"></td><td class=\"tdhistory70836\"></td></tr><tr><th class=\"tdhistory70836\" style= \"background: rgba(243, 243, 243, 0.75)\">4</th><td class=\"tdhistory70836\">Employee_View                                                                             </td><td class=\"tdhistory70836\">V </td><td class=\"tdhistory70836\"></td><td class=\"tdhistory70836\">F </td><td class=\"tdhistory70836\">CS186026                                                                                  </td><td class=\"tdhistory70836\">N </td><td class=\"tdhistory70836\">Y </td><td class=\"tdhistory70836\">Employee_View</td><td class=\"tdhistory70836\">Employee_View</td><td class=\"tdhistory70836\"></td><td class=\"tdhistory70836\">CS186026</td><td class=\"tdhistory70836\">CS186026</td><td class=\"tdhistory70836\"></td><td class=\"tdhistory70836\"></td></tr><tr><th class=\"tdhistory70836\" style= \"background: rgba(243, 243, 243, 0.75)\">5</th><td class=\"tdhistory70836\">Emp_Phone                                                                                 </td><td class=\"tdhistory70836\">T </td><td class=\"tdhistory70836\"></td><td class=\"tdhistory70836\">F </td><td class=\"tdhistory70836\">CS186026                                                                                  </td><td class=\"tdhistory70836\">N </td><td class=\"tdhistory70836\">Y </td><td class=\"tdhistory70836\">Emp_Phone</td><td class=\"tdhistory70836\">Emp_Phone</td><td class=\"tdhistory70836\"></td><td class=\"tdhistory70836\">CS186026</td><td class=\"tdhistory70836\">CS186026</td><td class=\"tdhistory70836\"></td><td class=\"tdhistory70836\"></td></tr><tr><th class=\"tdhistory70836\" style= \"background: rgba(243, 243, 243, 0.75)\">6</th><td class=\"tdhistory70836\">Job                                                                                       </td><td class=\"tdhistory70836\">T </td><td class=\"tdhistory70836\"></td><td class=\"tdhistory70836\">F </td><td class=\"tdhistory70836\">CS186026                                                                                  </td><td class=\"tdhistory70836\">N </td><td class=\"tdhistory70836\">Y </td><td class=\"tdhistory70836\">Job</td><td class=\"tdhistory70836\">Job</td><td class=\"tdhistory70836\"></td><td class=\"tdhistory70836\">CS186026</td><td class=\"tdhistory70836\">CS186026</td><td class=\"tdhistory70836\"></td><td class=\"tdhistory70836\"></td></tr><tr><th class=\"tdhistory70836\" style= \"background: rgba(243, 243, 243, 0.75)\">7</th><td class=\"tdhistory70836\">ml___frmqry_v_1643819419664104                                                            </td><td class=\"tdhistory70836\">V </td><td class=\"tdhistory70836\"></td><td class=\"tdhistory70836\">F </td><td class=\"tdhistory70836\">CS186026                                                                                  </td><td class=\"tdhistory70836\">N </td><td class=\"tdhistory70836\">Y </td><td class=\"tdhistory70836\">ml___frmqry_v_1643819419664104</td><td class=\"tdhistory70836\">ml___frmqry_v_1643819419664104</td><td class=\"tdhistory70836\"></td><td class=\"tdhistory70836\">CS186026</td><td class=\"tdhistory70836\">CS186026</td><td class=\"tdhistory70836\"></td><td class=\"tdhistory70836\"></td></tr></tbody></table></div>"
      ]
     },
     "execution_count": 15,
     "metadata": {
      "application/vnd.teradata.resultset": "{\"resultSetID\":\"C:\\\\\\\\Users\\\\\\\\cs186026\\\\\\\\Teradata\\\\\\\\Resultsets\\\\\\\\2022.02.02_17.42.14.210_EST\",\"historyID\":4,\"chunkID\":\"00001\",\"sessionid\":\"\",\"portnum\":\"\",\"dockermode\":\"standalone\",\"totalRowCount\":7,\"chunkCount\":0,\"rowLimit\":0,\"columnMetadata\":[{\"columnName\":\"Table/View/Macro name\",\"columnTypeName\":\"CHAR\",\"length\":30,\"scale\":30},{\"columnNumber\":1,\"columnName\":\"Kind\",\"columnTypeName\":\"CHAR\",\"length\":1,\"scale\":1},{\"columnNumber\":2,\"columnName\":\"Comment\",\"columnTypeName\":\"VARCHAR\",\"length\":255,\"scale\":255},{\"columnNumber\":3,\"columnName\":\"Protection\",\"columnTypeName\":\"CHAR\",\"length\":1,\"scale\":1},{\"columnNumber\":4,\"columnName\":\"Creator Name\",\"columnTypeName\":\"CHAR\",\"length\":30,\"scale\":30},{\"columnNumber\":5,\"columnName\":\"Commit Option\",\"columnTypeName\":\"CHAR\",\"length\":1,\"scale\":1},{\"columnNumber\":6,\"columnName\":\"Transaction Log\",\"columnTypeName\":\"CHAR\",\"length\":1,\"scale\":1},{\"columnNumber\":7,\"columnName\":\"Table/View/Macro Dictionary Name\",\"columnTypeName\":\"VARCHAR\",\"length\":128,\"scale\":128},{\"columnNumber\":8,\"columnName\":\"Table/View/Macro SQL Name\",\"columnTypeName\":\"VARCHAR\",\"length\":644,\"scale\":644},{\"columnNumber\":9,\"columnName\":\"Table/View/Macro Name UEscape\",\"columnTypeName\":\"VARCHAR\",\"length\":1,\"scale\":1},{\"columnNumber\":10,\"columnName\":\"Creator Dictionary Name\",\"columnTypeName\":\"VARCHAR\",\"length\":128,\"scale\":128},{\"columnNumber\":11,\"columnName\":\"Creator SQL Name\",\"columnTypeName\":\"VARCHAR\",\"length\":644,\"scale\":644},{\"columnNumber\":12,\"columnName\":\"Creator Name UEscape\",\"columnTypeName\":\"VARCHAR\",\"length\":1,\"scale\":1},{\"columnNumber\":13,\"columnName\":\"Table Flavor\",\"columnTypeName\":\"CHAR\",\"length\":1,\"scale\":1}]}"
     },
     "output_type": "execute_result"
    }
   ],
   "source": [
    "HELP DATABASE cs186026;"
   ]
  },
  {
   "cell_type": "code",
   "execution_count": 12,
   "id": "8e396a73-8070-46fe-8b06-263661b0a727",
   "metadata": {},
   "outputs": [],
   "source": []
  },
  {
   "cell_type": "code",
   "execution_count": 16,
   "id": "88e024a1",
   "metadata": {},
   "outputs": [
    {
     "data": {
      "text/plain": [
       "Success: 1 rows affected"
      ]
     },
     "execution_count": 16,
     "metadata": {
      "application/vnd.teradata.resultset": ""
     },
     "output_type": "execute_result"
    }
   ],
   "source": [
    "DATABASE cs186026;\n"
   ]
  },
  {
   "cell_type": "code",
   "execution_count": 17,
   "id": "47f124c8",
   "metadata": {},
   "outputs": [
    {
     "data": {
      "application/vnd.teradata.resultset": "\"Table/View/Macro name\",\"Kind\",\"Comment\",\"Protection\",\"Creator Name\",\"Commit Option\",\"Transaction Log\",\"Table/View/Macro Dictionary Name\",\"Table/View/Macro SQL Name\",\"Table/View/Macro Name UEscape\",\"Creator Dictionary Name\",\"Creator SQL Name\",\"Creator Name UEscape\",\"Table Flavor\"\n\"Department                                                                                \",\"T \",\"\",\"F \",\"CS186026                                                                                  \",\"N \",\"Y \",\"Department\",\"Department\",\"\",\"CS186026\",\"CS186026\",\"\",\"\"\n\"Department_uploaded                                                                       \",\"O \",\"\",\"F \",\"CS186026                                                                                  \",\"N \",\"Y \",\"Department_uploaded\",\"Department_uploaded\",\"\",\"CS186026\",\"CS186026\",\"\",\"\"\n\"Employee                                                                                  \",\"T \",\"\",\"F \",\"CS186026                                                                                  \",\"N \",\"Y \",\"Employee\",\"Employee\",\"\",\"CS186026\",\"CS186026\",\"\",\"\"\n\"Employee_View                                                                             \",\"V \",\"\",\"F \",\"CS186026                                                                                  \",\"N \",\"Y \",\"Employee_View\",\"Employee_View\",\"\",\"CS186026\",\"CS186026\",\"\",\"\"\n\"Emp_Phone                                                                                 \",\"T \",\"\",\"F \",\"CS186026                                                                                  \",\"N \",\"Y \",\"Emp_Phone\",\"Emp_Phone\",\"\",\"CS186026\",\"CS186026\",\"\",\"\"\n\"Job                                                                                       \",\"T \",\"\",\"F \",\"CS186026                                                                                  \",\"N \",\"Y \",\"Job\",\"Job\",\"\",\"CS186026\",\"CS186026\",\"\",\"\"\n\"ml___frmqry_v_1643819419664104                                                            \",\"V \",\"\",\"F \",\"CS186026                                                                                  \",\"N \",\"Y \",\"ml___frmqry_v_1643819419664104\",\"ml___frmqry_v_1643819419664104\",\"\",\"CS186026\",\"CS186026\",\"\",\"\"",
      "text/html": [
       "<div class = \"td-resultset-table-div\" style = \"max-height: 100%; overflow-y: auto\">\n",
       "      <table class=\"tdhistory246850\"><style>\n",
       "      table.tdhistory246850 { display: block !important; min-height: 231px !important; overflow: auto !important; height: 231px !important; width: 100% !important; border: 1px solid rgb(207, 207, 207) !important; border-collapse: collapse !important; ; color: var(--jp-ui-font-color1) !important; }\n",
       "      th.tdhistory246850 { border: 1px solid rgb(198,198,198) !important; border-collapse: collapse !important; ; padding: 2px 5px !important; ; font-size: 13px !important; ; text-align: center !important; white-space: normal !important; color: var(--jp-ui-font-color1) !important; }\n",
       "      th.tdhistory246850:last-child { text-align: left !important; }\n",
       "      tbody.tdhistory246850 tr:nth-child(even) { background: rgba(243, 243, 243, 0.75) !important; }\n",
       "      tbody.tdhistory246850 tr:nth-child(odd) { background: var(--jp-ui-inverse-font-color1) !important; }\n",
       "      td.tdhistory246850 { border: 1px solid rgb(207, 207, 207) !important; border-collapse: collapse !important; ; padding: 2px 5px !important; ; font-size: 13px !important; ; text-align: left !important;          white-space: nowrap !important; overflow:hidden !important; text-overflow:ellipsis !important;; }\n",
       "    </style><thead><tr style= \"background: rgba(243, 243, 243, 0.75)\"><th class=\"tdhistory246850\"></th><th class=\"tdhistory246850\">Table/View/Macro name</th><th class=\"tdhistory246850\">Kind</th><th class=\"tdhistory246850\">Comment</th><th class=\"tdhistory246850\">Protection</th><th class=\"tdhistory246850\">Creator Name</th><th class=\"tdhistory246850\">Commit Option</th><th class=\"tdhistory246850\">Transaction Log</th><th class=\"tdhistory246850\">Table/View/Macro Dictionary Name</th><th class=\"tdhistory246850\">Table/View/Macro SQL Name</th><th class=\"tdhistory246850\">Table/View/Macro Name UEscape</th><th class=\"tdhistory246850\">Creator Dictionary Name</th><th class=\"tdhistory246850\">Creator SQL Name</th><th class=\"tdhistory246850\">Creator Name UEscape</th><th class=\"tdhistory246850\">Table Flavor</th></tr></thead><tbody class=\"tdhistory246850 resultset-body\"><tr><th class=\"tdhistory246850\" style= \"background: rgba(243, 243, 243, 0.75)\">1</th><td class=\"tdhistory246850\">Department                                                                                </td><td class=\"tdhistory246850\">T </td><td class=\"tdhistory246850\"></td><td class=\"tdhistory246850\">F </td><td class=\"tdhistory246850\">CS186026                                                                                  </td><td class=\"tdhistory246850\">N </td><td class=\"tdhistory246850\">Y </td><td class=\"tdhistory246850\">Department</td><td class=\"tdhistory246850\">Department</td><td class=\"tdhistory246850\"></td><td class=\"tdhistory246850\">CS186026</td><td class=\"tdhistory246850\">CS186026</td><td class=\"tdhistory246850\"></td><td class=\"tdhistory246850\"></td></tr><tr><th class=\"tdhistory246850\" style= \"background: rgba(243, 243, 243, 0.75)\">2</th><td class=\"tdhistory246850\">Department_uploaded                                                                       </td><td class=\"tdhistory246850\">O </td><td class=\"tdhistory246850\"></td><td class=\"tdhistory246850\">F </td><td class=\"tdhistory246850\">CS186026                                                                                  </td><td class=\"tdhistory246850\">N </td><td class=\"tdhistory246850\">Y </td><td class=\"tdhistory246850\">Department_uploaded</td><td class=\"tdhistory246850\">Department_uploaded</td><td class=\"tdhistory246850\"></td><td class=\"tdhistory246850\">CS186026</td><td class=\"tdhistory246850\">CS186026</td><td class=\"tdhistory246850\"></td><td class=\"tdhistory246850\"></td></tr><tr><th class=\"tdhistory246850\" style= \"background: rgba(243, 243, 243, 0.75)\">3</th><td class=\"tdhistory246850\">Employee                                                                                  </td><td class=\"tdhistory246850\">T </td><td class=\"tdhistory246850\"></td><td class=\"tdhistory246850\">F </td><td class=\"tdhistory246850\">CS186026                                                                                  </td><td class=\"tdhistory246850\">N </td><td class=\"tdhistory246850\">Y </td><td class=\"tdhistory246850\">Employee</td><td class=\"tdhistory246850\">Employee</td><td class=\"tdhistory246850\"></td><td class=\"tdhistory246850\">CS186026</td><td class=\"tdhistory246850\">CS186026</td><td class=\"tdhistory246850\"></td><td class=\"tdhistory246850\"></td></tr><tr><th class=\"tdhistory246850\" style= \"background: rgba(243, 243, 243, 0.75)\">4</th><td class=\"tdhistory246850\">Employee_View                                                                             </td><td class=\"tdhistory246850\">V </td><td class=\"tdhistory246850\"></td><td class=\"tdhistory246850\">F </td><td class=\"tdhistory246850\">CS186026                                                                                  </td><td class=\"tdhistory246850\">N </td><td class=\"tdhistory246850\">Y </td><td class=\"tdhistory246850\">Employee_View</td><td class=\"tdhistory246850\">Employee_View</td><td class=\"tdhistory246850\"></td><td class=\"tdhistory246850\">CS186026</td><td class=\"tdhistory246850\">CS186026</td><td class=\"tdhistory246850\"></td><td class=\"tdhistory246850\"></td></tr><tr><th class=\"tdhistory246850\" style= \"background: rgba(243, 243, 243, 0.75)\">5</th><td class=\"tdhistory246850\">Emp_Phone                                                                                 </td><td class=\"tdhistory246850\">T </td><td class=\"tdhistory246850\"></td><td class=\"tdhistory246850\">F </td><td class=\"tdhistory246850\">CS186026                                                                                  </td><td class=\"tdhistory246850\">N </td><td class=\"tdhistory246850\">Y </td><td class=\"tdhistory246850\">Emp_Phone</td><td class=\"tdhistory246850\">Emp_Phone</td><td class=\"tdhistory246850\"></td><td class=\"tdhistory246850\">CS186026</td><td class=\"tdhistory246850\">CS186026</td><td class=\"tdhistory246850\"></td><td class=\"tdhistory246850\"></td></tr><tr><th class=\"tdhistory246850\" style= \"background: rgba(243, 243, 243, 0.75)\">6</th><td class=\"tdhistory246850\">Job                                                                                       </td><td class=\"tdhistory246850\">T </td><td class=\"tdhistory246850\"></td><td class=\"tdhistory246850\">F </td><td class=\"tdhistory246850\">CS186026                                                                                  </td><td class=\"tdhistory246850\">N </td><td class=\"tdhistory246850\">Y </td><td class=\"tdhistory246850\">Job</td><td class=\"tdhistory246850\">Job</td><td class=\"tdhistory246850\"></td><td class=\"tdhistory246850\">CS186026</td><td class=\"tdhistory246850\">CS186026</td><td class=\"tdhistory246850\"></td><td class=\"tdhistory246850\"></td></tr><tr><th class=\"tdhistory246850\" style= \"background: rgba(243, 243, 243, 0.75)\">7</th><td class=\"tdhistory246850\">ml___frmqry_v_1643819419664104                                                            </td><td class=\"tdhistory246850\">V </td><td class=\"tdhistory246850\"></td><td class=\"tdhistory246850\">F </td><td class=\"tdhistory246850\">CS186026                                                                                  </td><td class=\"tdhistory246850\">N </td><td class=\"tdhistory246850\">Y </td><td class=\"tdhistory246850\">ml___frmqry_v_1643819419664104</td><td class=\"tdhistory246850\">ml___frmqry_v_1643819419664104</td><td class=\"tdhistory246850\"></td><td class=\"tdhistory246850\">CS186026</td><td class=\"tdhistory246850\">CS186026</td><td class=\"tdhistory246850\"></td><td class=\"tdhistory246850\"></td></tr></tbody></table></div>"
      ]
     },
     "execution_count": 17,
     "metadata": {
      "application/vnd.teradata.resultset": "{\"resultSetID\":\"C:\\\\\\\\Users\\\\\\\\cs186026\\\\\\\\Teradata\\\\\\\\Resultsets\\\\\\\\2022.02.02_17.42.24.005_EST\",\"historyID\":6,\"chunkID\":\"00001\",\"sessionid\":\"\",\"portnum\":\"\",\"dockermode\":\"standalone\",\"totalRowCount\":7,\"chunkCount\":0,\"rowLimit\":0,\"columnMetadata\":[{\"columnName\":\"Table/View/Macro name\",\"columnTypeName\":\"CHAR\",\"length\":30,\"scale\":30},{\"columnNumber\":1,\"columnName\":\"Kind\",\"columnTypeName\":\"CHAR\",\"length\":1,\"scale\":1},{\"columnNumber\":2,\"columnName\":\"Comment\",\"columnTypeName\":\"VARCHAR\",\"length\":255,\"scale\":255},{\"columnNumber\":3,\"columnName\":\"Protection\",\"columnTypeName\":\"CHAR\",\"length\":1,\"scale\":1},{\"columnNumber\":4,\"columnName\":\"Creator Name\",\"columnTypeName\":\"CHAR\",\"length\":30,\"scale\":30},{\"columnNumber\":5,\"columnName\":\"Commit Option\",\"columnTypeName\":\"CHAR\",\"length\":1,\"scale\":1},{\"columnNumber\":6,\"columnName\":\"Transaction Log\",\"columnTypeName\":\"CHAR\",\"length\":1,\"scale\":1},{\"columnNumber\":7,\"columnName\":\"Table/View/Macro Dictionary Name\",\"columnTypeName\":\"VARCHAR\",\"length\":128,\"scale\":128},{\"columnNumber\":8,\"columnName\":\"Table/View/Macro SQL Name\",\"columnTypeName\":\"VARCHAR\",\"length\":644,\"scale\":644},{\"columnNumber\":9,\"columnName\":\"Table/View/Macro Name UEscape\",\"columnTypeName\":\"VARCHAR\",\"length\":1,\"scale\":1},{\"columnNumber\":10,\"columnName\":\"Creator Dictionary Name\",\"columnTypeName\":\"VARCHAR\",\"length\":128,\"scale\":128},{\"columnNumber\":11,\"columnName\":\"Creator SQL Name\",\"columnTypeName\":\"VARCHAR\",\"length\":644,\"scale\":644},{\"columnNumber\":12,\"columnName\":\"Creator Name UEscape\",\"columnTypeName\":\"VARCHAR\",\"length\":1,\"scale\":1},{\"columnNumber\":13,\"columnName\":\"Table Flavor\",\"columnTypeName\":\"CHAR\",\"length\":1,\"scale\":1}]}"
     },
     "output_type": "execute_result"
    }
   ],
   "source": [
    "help database cs186026;"
   ]
  },
  {
   "cell_type": "code",
   "execution_count": 18,
   "id": "8841f104",
   "metadata": {},
   "outputs": [
    {
     "data": {
      "application/vnd.teradata.resultset": "\"Request Text\"\n\"CREATE VIEW Employee_View \r(\rDept_Number                   \r,Emp_Mgr_Number                \r,Job_Code                      \r,Last_Name                     \r,First_Name                    \r,Salary_Amount  \r)\rAS LOCKING ROW FOR ACCESS\rSELECT \rDept_Number                   \r,Emp_Mgr_Number                \r,Job_Code                      \r,Last_Name                     \r,First_Name                    \r,Salary_Amount  \rFROM Employee;\"",
      "text/html": [
       "<div class = \"td-resultset-table-div\" style = \"max-height: 100%; overflow-y: auto\">\n",
       "      <table class=\"tdhistory509824\"><style>\n",
       "      table.tdhistory509824 { display: block !important; min-height: 105px !important; overflow: auto !important; height: 105px !important; width: 100% !important; border: 1px solid rgb(207, 207, 207) !important; border-collapse: collapse !important; ; color: var(--jp-ui-font-color1) !important; }\n",
       "      th.tdhistory509824 { border: 1px solid rgb(198,198,198) !important; border-collapse: collapse !important; ; padding: 2px 5px !important; ; font-size: 13px !important; ; text-align: center !important; white-space: normal !important; color: var(--jp-ui-font-color1) !important; }\n",
       "      th.tdhistory509824:last-child { text-align: left !important; }\n",
       "      tbody.tdhistory509824 tr:nth-child(even) { background: rgba(243, 243, 243, 0.75) !important; }\n",
       "      tbody.tdhistory509824 tr:nth-child(odd) { background: var(--jp-ui-inverse-font-color1) !important; }\n",
       "      td.tdhistory509824 { border: 1px solid rgb(207, 207, 207) !important; border-collapse: collapse !important; ; padding: 2px 5px !important; ; font-size: 13px !important; ; text-align: left !important;          white-space: nowrap !important; overflow:hidden !important; text-overflow:ellipsis !important;; }\n",
       "    </style><thead><tr style= \"background: rgba(243, 243, 243, 0.75)\"><th class=\"tdhistory509824\"></th><th class=\"tdhistory509824\">Request Text</th></tr></thead><tbody class=\"tdhistory509824 resultset-body\"><tr><th class=\"tdhistory509824\" style= \"background: rgba(243, 243, 243, 0.75)\">1</th><td class=\"tdhistory509824\">CREATE VIEW Employee_View \r",
       "(\r",
       "Dept_Number                   \r",
       ",Emp_Mgr_Number                \r",
       ",Job_Code                      \r",
       ",Last_Name                     \r",
       ",First_Name                    \r",
       ",Salary_Amount  \r",
       ")\r",
       "AS LOCKING ROW FOR ACCESS\r",
       "SELECT \r",
       "Dept_Number                   \r",
       ",Emp_Mgr_Number                \r",
       ",Job_Code                      \r",
       ",Last_Name                     \r",
       ",First_Name                    \r",
       ",Salary_Amount  \r",
       "FROM Employee;</td></tr></tbody></table></div>"
      ]
     },
     "execution_count": 18,
     "metadata": {
      "application/vnd.teradata.resultset": "{\"resultSetID\":\"C:\\\\\\\\Users\\\\\\\\cs186026\\\\\\\\Teradata\\\\\\\\Resultsets\\\\\\\\2022.02.02_17.42.27.062_EST\",\"historyID\":7,\"chunkID\":\"00001\",\"sessionid\":\"\",\"portnum\":\"\",\"dockermode\":\"standalone\",\"totalRowCount\":1,\"chunkCount\":0,\"rowLimit\":0,\"columnMetadata\":[{\"columnName\":\"Request Text\",\"columnTypeName\":\"VARCHAR\",\"length\":431,\"scale\":431}]}"
     },
     "output_type": "execute_result"
    }
   ],
   "source": [
    "-- SHOW TABLE Employee_View; \n",
    "SHOW VIEW Employee_View;"
   ]
  },
  {
   "cell_type": "markdown",
   "id": "718ba716",
   "metadata": {},
   "source": [
    "# Teradata Logical Operators Slide [49]\n",
    "\n",
    "**<div class=\"alert alert-block alert-info\"> 1. Find and list the first and last names of employees where their last name begins with either \"R\", \"S\", or \"T\"** </div> "
   ]
  },
  {
   "cell_type": "code",
   "execution_count": 1,
   "id": "dd0d3ba3",
   "metadata": {},
   "outputs": [
    {
     "ename": "ERROR",
     "evalue": "No active connection",
     "output_type": "error",
     "traceback": [
      "No active connection"
     ]
    }
   ],
   "source": [
    "SELECT first_name, last_name\n",
    "FROM Employee\n",
    "WHERE last_name >= 'R' AND last_name < 'U'\n",
    "ORDER BY 2, 1;\n"
   ]
  },
  {
   "cell_type": "markdown",
   "id": "83e70c26",
   "metadata": {},
   "source": [
    "**<div class=\"alert alert-block alert-info\">2. Write a request that will show the salary amount for the people identified in #1 if they were given a 10% increase in salary that gave them a salary > 50K** </div> \n"
   ]
  },
  {
   "cell_type": "code",
   "execution_count": 213,
   "id": "7fc17b3c",
   "metadata": {},
   "outputs": [
    {
     "data": {
      "application/vnd.teradata.resultset": "\"First_Name\",\"Last_Name\",\"current_sal\",\"new_sal\"\n\"Peter\",\"Rabbit                                  \",\"56500.00\",\"62150.000\"\n\"Larry\",\"Ratzlaff                                \",\"56500.00\",\"62150.000\"\n\"Frank\",\"Rogers                                  \",\"46000.00\",\"50600.000\"\n\"Nora\",\"Rogers                                  \",\"56500.00\",\"62150.000\"\n\"Michael\",\"Short                                   \",\"56500.00\",\"62150.000\"\n\"John\",\"Stein                                   \",\"46000.00\",\"50600.000\"",
      "text/html": [
       "<div class = \"td-resultset-table-div\" style = \"max-height: 100%; overflow-y: auto\">\n",
       "      <table class=\"tdhistory792840\"><style>\n",
       "      table.tdhistory792840 { display: block !important; min-height: 210px !important; overflow: auto !important; height: 210px !important; width: 100% !important; border: 1px solid rgb(207, 207, 207) !important; border-collapse: collapse !important; ; color: var(--jp-ui-font-color1) !important; }\n",
       "      th.tdhistory792840 { border: 1px solid rgb(198,198,198) !important; border-collapse: collapse !important; ; padding: 2px 5px !important; ; font-size: 13px !important; ; text-align: center !important; white-space: normal !important; color: var(--jp-ui-font-color1) !important; }\n",
       "      th.tdhistory792840:last-child { text-align: left !important; }\n",
       "      tbody.tdhistory792840 tr:nth-child(even) { background: rgba(243, 243, 243, 0.75) !important; }\n",
       "      tbody.tdhistory792840 tr:nth-child(odd) { background: var(--jp-ui-inverse-font-color1) !important; }\n",
       "      td.tdhistory792840 { border: 1px solid rgb(207, 207, 207) !important; border-collapse: collapse !important; ; padding: 2px 5px !important; ; font-size: 13px !important; ; text-align: left !important;          white-space: nowrap !important; overflow:hidden !important; text-overflow:ellipsis !important;; }\n",
       "    </style><thead><tr style= \"background: rgba(243, 243, 243, 0.75)\"><th class=\"tdhistory792840\"></th><th class=\"tdhistory792840\">First_Name</th><th class=\"tdhistory792840\">Last_Name</th><th class=\"tdhistory792840\">current_sal</th><th class=\"tdhistory792840\">new_sal</th></tr></thead><tbody class=\"tdhistory792840 resultset-body\"><tr><th class=\"tdhistory792840\" style= \"background: rgba(243, 243, 243, 0.75)\">1</th><td class=\"tdhistory792840\">Peter</td><td class=\"tdhistory792840\">Rabbit                                  </td><td class=\"tdhistory792840\">56500.00</td><td class=\"tdhistory792840\">62150.000</td></tr><tr><th class=\"tdhistory792840\" style= \"background: rgba(243, 243, 243, 0.75)\">2</th><td class=\"tdhistory792840\">Larry</td><td class=\"tdhistory792840\">Ratzlaff                                </td><td class=\"tdhistory792840\">56500.00</td><td class=\"tdhistory792840\">62150.000</td></tr><tr><th class=\"tdhistory792840\" style= \"background: rgba(243, 243, 243, 0.75)\">3</th><td class=\"tdhistory792840\">Frank</td><td class=\"tdhistory792840\">Rogers                                  </td><td class=\"tdhistory792840\">46000.00</td><td class=\"tdhistory792840\">50600.000</td></tr><tr><th class=\"tdhistory792840\" style= \"background: rgba(243, 243, 243, 0.75)\">4</th><td class=\"tdhistory792840\">Nora</td><td class=\"tdhistory792840\">Rogers                                  </td><td class=\"tdhistory792840\">56500.00</td><td class=\"tdhistory792840\">62150.000</td></tr><tr><th class=\"tdhistory792840\" style= \"background: rgba(243, 243, 243, 0.75)\">5</th><td class=\"tdhistory792840\">Michael</td><td class=\"tdhistory792840\">Short                                   </td><td class=\"tdhistory792840\">56500.00</td><td class=\"tdhistory792840\">62150.000</td></tr><tr><th class=\"tdhistory792840\" style= \"background: rgba(243, 243, 243, 0.75)\">6</th><td class=\"tdhistory792840\">John</td><td class=\"tdhistory792840\">Stein                                   </td><td class=\"tdhistory792840\">46000.00</td><td class=\"tdhistory792840\">50600.000</td></tr></tbody></table></div>"
      ]
     },
     "execution_count": 213,
     "metadata": {
      "application/vnd.teradata.resultset": "{\"resultSetID\":\"/home/jupyter/Teradata/Resultsets/2022.01.11_16.49.00.571_UTC\",\"historyID\":207,\"chunkID\":\"00001\",\"sessionid\":\"\",\"portnum\":\"\",\"dockermode\":\"standalone\",\"totalRowCount\":6,\"chunkCount\":0,\"rowLimit\":0,\"columnMetadata\":[{\"columnName\":\"First_Name\",\"columnTypeName\":\"VARCHAR\",\"length\":20,\"scale\":20},{\"columnNumber\":1,\"columnName\":\"Last_Name\",\"columnTypeName\":\"CHAR\",\"length\":20,\"scale\":20},{\"columnNumber\":2,\"columnName\":\"current_sal\",\"columnTypeName\":\"DECIMAL\",\"length\":2,\"precision\":10,\"scale\":2},{\"columnNumber\":3,\"columnName\":\"new_sal\",\"columnTypeName\":\"DECIMAL\",\"length\":3,\"precision\":12,\"scale\":3}]}"
     },
     "output_type": "execute_result"
    }
   ],
   "source": [
    "SELECT first_name,\n",
    "    last_name,\n",
    "    salary_amount AS current_sal,\n",
    "    (salary_amount *1.1) AS new_sal\n",
    "    FROM Employee\n",
    "    WHERE last_name >= 'R'\n",
    "        AND  last_name < 'U'\n",
    "        AND  new_sal > 50000\n",
    "    ORDER BY 2,\n",
    "        1;"
   ]
  },
  {
   "cell_type": "markdown",
   "id": "6b9fd500",
   "metadata": {},
   "source": [
    "# Set Operators [Slide 51-55]\n",
    "\n",
    "**<div class=\"alert alert-block alert-info\"> 1. Select all Job codes of manager and which are belongs to department number 301, 501** </div>"
   ]
  },
  {
   "cell_type": "code",
   "execution_count": 152,
   "id": "bb2409a8",
   "metadata": {},
   "outputs": [
    {
     "data": {
      "application/vnd.teradata.resultset": "\"Job_Code\"\n\"312101\"\n\"412101\"\n\"412109\"",
      "text/html": [
       "<div class = \"td-resultset-table-div\" style = \"max-height: 100%; overflow-y: auto\">\n",
       "      <table class=\"tdhistory185082\"><style>\n",
       "      table.tdhistory185082 { display: block !important; min-height: 147px !important; overflow: auto !important; height: 147px !important; width: 100% !important; border: 1px solid rgb(207, 207, 207) !important; border-collapse: collapse !important; ; color: var(--jp-ui-font-color1) !important; }\n",
       "      th.tdhistory185082 { border: 1px solid rgb(198,198,198) !important; border-collapse: collapse !important; ; padding: 2px 5px !important; ; font-size: 13px !important; ; text-align: center !important; white-space: normal !important; color: var(--jp-ui-font-color1) !important; }\n",
       "      th.tdhistory185082:last-child { text-align: left !important; }\n",
       "      tbody.tdhistory185082 tr:nth-child(even) { background: rgba(243, 243, 243, 0.75) !important; }\n",
       "      tbody.tdhistory185082 tr:nth-child(odd) { background: var(--jp-ui-inverse-font-color1) !important; }\n",
       "      td.tdhistory185082 { border: 1px solid rgb(207, 207, 207) !important; border-collapse: collapse !important; ; padding: 2px 5px !important; ; font-size: 13px !important; ; text-align: left !important;          white-space: nowrap !important; overflow:hidden !important; text-overflow:ellipsis !important;; }\n",
       "    </style><thead><tr style= \"background: rgba(243, 243, 243, 0.75)\"><th class=\"tdhistory185082\"></th><th class=\"tdhistory185082\">Job_Code</th></tr></thead><tbody class=\"tdhistory185082 resultset-body\"><tr><th class=\"tdhistory185082\" style= \"background: rgba(243, 243, 243, 0.75)\">1</th><td class=\"tdhistory185082\">312101</td></tr><tr><th class=\"tdhistory185082\" style= \"background: rgba(243, 243, 243, 0.75)\">2</th><td class=\"tdhistory185082\">412101</td></tr><tr><th class=\"tdhistory185082\" style= \"background: rgba(243, 243, 243, 0.75)\">3</th><td class=\"tdhistory185082\">412109</td></tr></tbody></table></div>"
      ]
     },
     "execution_count": 152,
     "metadata": {
      "application/vnd.teradata.resultset": "{\"resultSetID\":\"/home/jupyter/Teradata/Resultsets/2022.01.11_15.01.59.205_UTC\",\"historyID\":147,\"chunkID\":\"00001\",\"sessionid\":\"\",\"portnum\":\"\",\"dockermode\":\"standalone\",\"totalRowCount\":3,\"chunkCount\":0,\"rowLimit\":0,\"columnMetadata\":[{\"columnName\":\"Job_Code\",\"columnTypeName\":\"INTEGER\"}]}"
     },
     "output_type": "execute_result"
    }
   ],
   "source": [
    "SELECT Job_Code FROM Employee\n",
    "   WHERE Dept_Number IN  (301, 501)\n",
    "   INTERSECT \n",
    "   SELECT Job_Code FROM Job\n",
    "   WHERE Job_Desc  LIKE '%Manager%';"
   ]
  },
  {
   "cell_type": "markdown",
   "id": "89f6c00a",
   "metadata": {},
   "source": [
    "**<div class=\"alert alert-block alert-info\">2. Combines the Employee_Number value from both Employee and Emp_Phone table** </div>\n"
   ]
  },
  {
   "cell_type": "code",
   "execution_count": 153,
   "id": "9042495e",
   "metadata": {},
   "outputs": [
    {
     "data": {
      "application/vnd.teradata.resultset": "\"Employee_Number\"\n\"1001\"\n\"1002\"\n\"1004\"\n\"1006\"\n\"1007\"\n\"1008\"\n\"1009\"\n\"1010\"\n\"1012\"\n\"1013\"\n\"1014\"\n\"1015\"\n\"1016\"\n\"1018\"\n\"1020\"\n\"1021\"\n\"1022\"\n\"1023\"\n\"1024\"\n\"1025\"",
      "text/html": [
       "<div class = \"td-resultset-table-div\" style = \"max-height: 100%; overflow-y: auto\">\n",
       "      <table class=\"tdhistory880699\"><style>\n",
       "      table.tdhistory880699 { display: block !important; min-height: 504px !important; overflow: auto !important; height: 504px !important; width: 100% !important; border: 1px solid rgb(207, 207, 207) !important; border-collapse: collapse !important; ; color: var(--jp-ui-font-color1) !important; }\n",
       "      th.tdhistory880699 { border: 1px solid rgb(198,198,198) !important; border-collapse: collapse !important; ; padding: 2px 5px !important; ; font-size: 13px !important; ; text-align: center !important; white-space: normal !important; color: var(--jp-ui-font-color1) !important; }\n",
       "      th.tdhistory880699:last-child { text-align: left !important; }\n",
       "      tbody.tdhistory880699 tr:nth-child(even) { background: rgba(243, 243, 243, 0.75) !important; }\n",
       "      tbody.tdhistory880699 tr:nth-child(odd) { background: var(--jp-ui-inverse-font-color1) !important; }\n",
       "      td.tdhistory880699 { border: 1px solid rgb(207, 207, 207) !important; border-collapse: collapse !important; ; padding: 2px 5px !important; ; font-size: 13px !important; ; text-align: left !important;          white-space: nowrap !important; overflow:hidden !important; text-overflow:ellipsis !important;; }\n",
       "    </style><thead><tr style= \"background: rgba(243, 243, 243, 0.75)\"><th class=\"tdhistory880699\"></th><th class=\"tdhistory880699\">Employee_Number</th></tr></thead><tbody class=\"tdhistory880699 resultset-body\"><tr><th class=\"tdhistory880699\" style= \"background: rgba(243, 243, 243, 0.75)\">1</th><td class=\"tdhistory880699\">1001</td></tr><tr><th class=\"tdhistory880699\" style= \"background: rgba(243, 243, 243, 0.75)\">2</th><td class=\"tdhistory880699\">1002</td></tr><tr><th class=\"tdhistory880699\" style= \"background: rgba(243, 243, 243, 0.75)\">3</th><td class=\"tdhistory880699\">1004</td></tr><tr><th class=\"tdhistory880699\" style= \"background: rgba(243, 243, 243, 0.75)\">4</th><td class=\"tdhistory880699\">1006</td></tr><tr><th class=\"tdhistory880699\" style= \"background: rgba(243, 243, 243, 0.75)\">5</th><td class=\"tdhistory880699\">1007</td></tr><tr><th class=\"tdhistory880699\" style= \"background: rgba(243, 243, 243, 0.75)\">6</th><td class=\"tdhistory880699\">1008</td></tr><tr><th class=\"tdhistory880699\" style= \"background: rgba(243, 243, 243, 0.75)\">7</th><td class=\"tdhistory880699\">1009</td></tr><tr><th class=\"tdhistory880699\" style= \"background: rgba(243, 243, 243, 0.75)\">8</th><td class=\"tdhistory880699\">1010</td></tr><tr><th class=\"tdhistory880699\" style= \"background: rgba(243, 243, 243, 0.75)\">9</th><td class=\"tdhistory880699\">1012</td></tr><tr><th class=\"tdhistory880699\" style= \"background: rgba(243, 243, 243, 0.75)\">10</th><td class=\"tdhistory880699\">1013</td></tr><tr><th class=\"tdhistory880699\" style= \"background: rgba(243, 243, 243, 0.75)\">11</th><td class=\"tdhistory880699\">1014</td></tr><tr><th class=\"tdhistory880699\" style= \"background: rgba(243, 243, 243, 0.75)\">12</th><td class=\"tdhistory880699\">1015</td></tr><tr><th class=\"tdhistory880699\" style= \"background: rgba(243, 243, 243, 0.75)\">13</th><td class=\"tdhistory880699\">1016</td></tr><tr><th class=\"tdhistory880699\" style= \"background: rgba(243, 243, 243, 0.75)\">14</th><td class=\"tdhistory880699\">1018</td></tr><tr><th class=\"tdhistory880699\" style= \"background: rgba(243, 243, 243, 0.75)\">15</th><td class=\"tdhistory880699\">1020</td></tr><tr><th class=\"tdhistory880699\" style= \"background: rgba(243, 243, 243, 0.75)\">16</th><td class=\"tdhistory880699\">1021</td></tr><tr><th class=\"tdhistory880699\" style= \"background: rgba(243, 243, 243, 0.75)\">17</th><td class=\"tdhistory880699\">1022</td></tr><tr><th class=\"tdhistory880699\" style= \"background: rgba(243, 243, 243, 0.75)\">18</th><td class=\"tdhistory880699\">1023</td></tr><tr><th class=\"tdhistory880699\" style= \"background: rgba(243, 243, 243, 0.75)\">19</th><td class=\"tdhistory880699\">1024</td></tr><tr><th class=\"tdhistory880699\" style= \"background: rgba(243, 243, 243, 0.75)\">20</th><td class=\"tdhistory880699\">1025</td></tr></tbody></table></div>"
      ]
     },
     "execution_count": 153,
     "metadata": {
      "application/vnd.teradata.resultset": "{\"resultSetID\":\"/home/jupyter/Teradata/Resultsets/2022.01.11_15.02.08.381_UTC\",\"historyID\":148,\"chunkID\":\"00001\",\"sessionid\":\"\",\"portnum\":\"\",\"dockermode\":\"standalone\",\"totalRowCount\":20,\"chunkCount\":0,\"rowLimit\":0,\"columnMetadata\":[{\"columnName\":\"Employee_Number\",\"columnTypeName\":\"INTEGER\"}]}"
     },
     "output_type": "execute_result"
    }
   ],
   "source": [
    "SELECT Employee_Number\n",
    "FROM  \n",
    "Employee \n",
    "UNION \n",
    "SELECT Employee_Number\n",
    "FROM  \n",
    "Emp_Phone;\n"
   ]
  },
  {
   "cell_type": "markdown",
   "id": "ac47e43a",
   "metadata": {},
   "source": [
    "**<div class=\"alert alert-block alert-info\"> 3. Select all employee number who does not have phone number registered** </div>"
   ]
  },
  {
   "cell_type": "code",
   "execution_count": 154,
   "id": "1eb56578",
   "metadata": {},
   "outputs": [
    {
     "data": {
      "application/vnd.teradata.resultset": "\"Employee_Number\"\n\"1009\"\n\"1010\"\n\"1012\"\n\"1013\"\n\"1014\"\n\"1015\"\n\"1016\"\n\"1018\"\n\"1020\"\n\"1021\"\n\"1022\"\n\"1023\"\n\"1024\"\n\"1025\"",
      "text/html": [
       "<div class = \"td-resultset-table-div\" style = \"max-height: 100%; overflow-y: auto\">\n",
       "      <table class=\"tdhistory828956\"><style>\n",
       "      table.tdhistory828956 { display: block !important; min-height: 378px !important; overflow: auto !important; height: 378px !important; width: 100% !important; border: 1px solid rgb(207, 207, 207) !important; border-collapse: collapse !important; ; color: var(--jp-ui-font-color1) !important; }\n",
       "      th.tdhistory828956 { border: 1px solid rgb(198,198,198) !important; border-collapse: collapse !important; ; padding: 2px 5px !important; ; font-size: 13px !important; ; text-align: center !important; white-space: normal !important; color: var(--jp-ui-font-color1) !important; }\n",
       "      th.tdhistory828956:last-child { text-align: left !important; }\n",
       "      tbody.tdhistory828956 tr:nth-child(even) { background: rgba(243, 243, 243, 0.75) !important; }\n",
       "      tbody.tdhistory828956 tr:nth-child(odd) { background: var(--jp-ui-inverse-font-color1) !important; }\n",
       "      td.tdhistory828956 { border: 1px solid rgb(207, 207, 207) !important; border-collapse: collapse !important; ; padding: 2px 5px !important; ; font-size: 13px !important; ; text-align: left !important;          white-space: nowrap !important; overflow:hidden !important; text-overflow:ellipsis !important;; }\n",
       "    </style><thead><tr style= \"background: rgba(243, 243, 243, 0.75)\"><th class=\"tdhistory828956\"></th><th class=\"tdhistory828956\">Employee_Number</th></tr></thead><tbody class=\"tdhistory828956 resultset-body\"><tr><th class=\"tdhistory828956\" style= \"background: rgba(243, 243, 243, 0.75)\">1</th><td class=\"tdhistory828956\">1009</td></tr><tr><th class=\"tdhistory828956\" style= \"background: rgba(243, 243, 243, 0.75)\">2</th><td class=\"tdhistory828956\">1010</td></tr><tr><th class=\"tdhistory828956\" style= \"background: rgba(243, 243, 243, 0.75)\">3</th><td class=\"tdhistory828956\">1012</td></tr><tr><th class=\"tdhistory828956\" style= \"background: rgba(243, 243, 243, 0.75)\">4</th><td class=\"tdhistory828956\">1013</td></tr><tr><th class=\"tdhistory828956\" style= \"background: rgba(243, 243, 243, 0.75)\">5</th><td class=\"tdhistory828956\">1014</td></tr><tr><th class=\"tdhistory828956\" style= \"background: rgba(243, 243, 243, 0.75)\">6</th><td class=\"tdhistory828956\">1015</td></tr><tr><th class=\"tdhistory828956\" style= \"background: rgba(243, 243, 243, 0.75)\">7</th><td class=\"tdhistory828956\">1016</td></tr><tr><th class=\"tdhistory828956\" style= \"background: rgba(243, 243, 243, 0.75)\">8</th><td class=\"tdhistory828956\">1018</td></tr><tr><th class=\"tdhistory828956\" style= \"background: rgba(243, 243, 243, 0.75)\">9</th><td class=\"tdhistory828956\">1020</td></tr><tr><th class=\"tdhistory828956\" style= \"background: rgba(243, 243, 243, 0.75)\">10</th><td class=\"tdhistory828956\">1021</td></tr><tr><th class=\"tdhistory828956\" style= \"background: rgba(243, 243, 243, 0.75)\">11</th><td class=\"tdhistory828956\">1022</td></tr><tr><th class=\"tdhistory828956\" style= \"background: rgba(243, 243, 243, 0.75)\">12</th><td class=\"tdhistory828956\">1023</td></tr><tr><th class=\"tdhistory828956\" style= \"background: rgba(243, 243, 243, 0.75)\">13</th><td class=\"tdhistory828956\">1024</td></tr><tr><th class=\"tdhistory828956\" style= \"background: rgba(243, 243, 243, 0.75)\">14</th><td class=\"tdhistory828956\">1025</td></tr></tbody></table></div>"
      ]
     },
     "execution_count": 154,
     "metadata": {
      "application/vnd.teradata.resultset": "{\"resultSetID\":\"/home/jupyter/Teradata/Resultsets/2022.01.11_15.02.21.394_UTC\",\"historyID\":149,\"chunkID\":\"00001\",\"sessionid\":\"\",\"portnum\":\"\",\"dockermode\":\"standalone\",\"totalRowCount\":14,\"chunkCount\":0,\"rowLimit\":0,\"columnMetadata\":[{\"columnName\":\"Employee_Number\",\"columnTypeName\":\"INTEGER\"}]}"
     },
     "output_type": "execute_result"
    }
   ],
   "source": [
    "SELECT Employee_Number\n",
    "        FROM  \n",
    "        Employee \n",
    "    \n",
    "    MINUS\n",
    "    SELECT Employee_Number\n",
    "        FROM Emp_Phone\n",
    "        WHERE Phone_Number IS NOT NULL;"
   ]
  },
  {
   "cell_type": "markdown",
   "id": "0699ab51",
   "metadata": {},
   "source": [
    "# Teradata SQL Basic – Functions Slide [57-71]\n",
    "\n",
    "**<div class=\"alert alert-block alert-info\"> 1. From the Employee table, display the last name and first name for employees 1013, 1018, and 1024. Concatenate the columns so that you see them as \"last, first.\"** </div>"
   ]
  },
  {
   "cell_type": "code",
   "execution_count": 155,
   "id": "75847b6e",
   "metadata": {},
   "outputs": [
    {
     "data": {
      "application/vnd.teradata.resultset": "\"Last_Name\",\"First_Name\",\"FullName\"\n\"Brown                                   \",\"Allen\",\"Brown, Allen\"\n\"Phillips                                \",\"Charles\",\"Phillips, Charles\"\n\"Ratzlaff                                \",\"Larry\",\"Ratzlaff, Larry\"",
      "text/html": [
       "<div class = \"td-resultset-table-div\" style = \"max-height: 100%; overflow-y: auto\">\n",
       "      <table class=\"tdhistory127444\"><style>\n",
       "      table.tdhistory127444 { display: block !important; min-height: 147px !important; overflow: auto !important; height: 147px !important; width: 100% !important; border: 1px solid rgb(207, 207, 207) !important; border-collapse: collapse !important; ; color: var(--jp-ui-font-color1) !important; }\n",
       "      th.tdhistory127444 { border: 1px solid rgb(198,198,198) !important; border-collapse: collapse !important; ; padding: 2px 5px !important; ; font-size: 13px !important; ; text-align: center !important; white-space: normal !important; color: var(--jp-ui-font-color1) !important; }\n",
       "      th.tdhistory127444:last-child { text-align: left !important; }\n",
       "      tbody.tdhistory127444 tr:nth-child(even) { background: rgba(243, 243, 243, 0.75) !important; }\n",
       "      tbody.tdhistory127444 tr:nth-child(odd) { background: var(--jp-ui-inverse-font-color1) !important; }\n",
       "      td.tdhistory127444 { border: 1px solid rgb(207, 207, 207) !important; border-collapse: collapse !important; ; padding: 2px 5px !important; ; font-size: 13px !important; ; text-align: left !important;          white-space: nowrap !important; overflow:hidden !important; text-overflow:ellipsis !important;; }\n",
       "    </style><thead><tr style= \"background: rgba(243, 243, 243, 0.75)\"><th class=\"tdhistory127444\"></th><th class=\"tdhistory127444\">Last_Name</th><th class=\"tdhistory127444\">First_Name</th><th class=\"tdhistory127444\">FullName</th></tr></thead><tbody class=\"tdhistory127444 resultset-body\"><tr><th class=\"tdhistory127444\" style= \"background: rgba(243, 243, 243, 0.75)\">1</th><td class=\"tdhistory127444\">Brown                                   </td><td class=\"tdhistory127444\">Allen</td><td class=\"tdhistory127444\">Brown, Allen</td></tr><tr><th class=\"tdhistory127444\" style= \"background: rgba(243, 243, 243, 0.75)\">2</th><td class=\"tdhistory127444\">Phillips                                </td><td class=\"tdhistory127444\">Charles</td><td class=\"tdhistory127444\">Phillips, Charles</td></tr><tr><th class=\"tdhistory127444\" style= \"background: rgba(243, 243, 243, 0.75)\">3</th><td class=\"tdhistory127444\">Ratzlaff                                </td><td class=\"tdhistory127444\">Larry</td><td class=\"tdhistory127444\">Ratzlaff, Larry</td></tr></tbody></table></div>"
      ]
     },
     "execution_count": 155,
     "metadata": {
      "application/vnd.teradata.resultset": "{\"resultSetID\":\"/home/jupyter/Teradata/Resultsets/2022.01.11_15.02.27.593_UTC\",\"historyID\":150,\"chunkID\":\"00001\",\"sessionid\":\"\",\"portnum\":\"\",\"dockermode\":\"standalone\",\"totalRowCount\":3,\"chunkCount\":0,\"rowLimit\":0,\"columnMetadata\":[{\"columnName\":\"Last_Name\",\"columnTypeName\":\"CHAR\",\"length\":20,\"scale\":20},{\"columnNumber\":1,\"columnName\":\"First_Name\",\"columnTypeName\":\"VARCHAR\",\"length\":20,\"scale\":20},{\"columnNumber\":2,\"columnName\":\"FullName\",\"columnTypeName\":\"VARCHAR\",\"length\":42,\"scale\":42}]}"
     },
     "output_type": "execute_result"
    }
   ],
   "source": [
    "SELECT last_name,first_name,TRIM(last_name)||', '||TRIM(first_name) AS FullName\n",
    "FROM employee\n",
    "WHERE employee_number in (1013, 1018,1024);"
   ]
  },
  {
   "cell_type": "markdown",
   "id": "cdbf9511",
   "metadata": {},
   "source": [
    "**<div class=\"alert alert-block alert-info\"> 2. Repeat #1. Replace your WHERE clause, using LIKE to only list employees who have an \"LL\" combination in their last name** </div>\n"
   ]
  },
  {
   "cell_type": "code",
   "execution_count": 156,
   "id": "5f3ee015",
   "metadata": {},
   "outputs": [
    {
     "data": {
      "application/vnd.teradata.resultset": "\"Last_Name\",\"First_Name\",\"FullName\"\n\"Villegas                                \",\"Arnando\",\"Villegas, Arnando\"\n\"Phillips                                \",\"Charles\",\"Phillips, Charles\"",
      "text/html": [
       "<div class = \"td-resultset-table-div\" style = \"max-height: 100%; overflow-y: auto\">\n",
       "      <table class=\"tdhistory715748\"><style>\n",
       "      table.tdhistory715748 { display: block !important; min-height: 126px !important; overflow: auto !important; height: 126px !important; width: 100% !important; border: 1px solid rgb(207, 207, 207) !important; border-collapse: collapse !important; ; color: var(--jp-ui-font-color1) !important; }\n",
       "      th.tdhistory715748 { border: 1px solid rgb(198,198,198) !important; border-collapse: collapse !important; ; padding: 2px 5px !important; ; font-size: 13px !important; ; text-align: center !important; white-space: normal !important; color: var(--jp-ui-font-color1) !important; }\n",
       "      th.tdhistory715748:last-child { text-align: left !important; }\n",
       "      tbody.tdhistory715748 tr:nth-child(even) { background: rgba(243, 243, 243, 0.75) !important; }\n",
       "      tbody.tdhistory715748 tr:nth-child(odd) { background: var(--jp-ui-inverse-font-color1) !important; }\n",
       "      td.tdhistory715748 { border: 1px solid rgb(207, 207, 207) !important; border-collapse: collapse !important; ; padding: 2px 5px !important; ; font-size: 13px !important; ; text-align: left !important;          white-space: nowrap !important; overflow:hidden !important; text-overflow:ellipsis !important;; }\n",
       "    </style><thead><tr style= \"background: rgba(243, 243, 243, 0.75)\"><th class=\"tdhistory715748\"></th><th class=\"tdhistory715748\">Last_Name</th><th class=\"tdhistory715748\">First_Name</th><th class=\"tdhistory715748\">FullName</th></tr></thead><tbody class=\"tdhistory715748 resultset-body\"><tr><th class=\"tdhistory715748\" style= \"background: rgba(243, 243, 243, 0.75)\">1</th><td class=\"tdhistory715748\">Villegas                                </td><td class=\"tdhistory715748\">Arnando</td><td class=\"tdhistory715748\">Villegas, Arnando</td></tr><tr><th class=\"tdhistory715748\" style= \"background: rgba(243, 243, 243, 0.75)\">2</th><td class=\"tdhistory715748\">Phillips                                </td><td class=\"tdhistory715748\">Charles</td><td class=\"tdhistory715748\">Phillips, Charles</td></tr></tbody></table></div>"
      ]
     },
     "execution_count": 156,
     "metadata": {
      "application/vnd.teradata.resultset": "{\"resultSetID\":\"/home/jupyter/Teradata/Resultsets/2022.01.11_15.02.33.576_UTC\",\"historyID\":151,\"chunkID\":\"00001\",\"sessionid\":\"\",\"portnum\":\"\",\"dockermode\":\"standalone\",\"totalRowCount\":2,\"chunkCount\":0,\"rowLimit\":0,\"columnMetadata\":[{\"columnName\":\"Last_Name\",\"columnTypeName\":\"CHAR\",\"length\":20,\"scale\":20},{\"columnNumber\":1,\"columnName\":\"First_Name\",\"columnTypeName\":\"VARCHAR\",\"length\":20,\"scale\":20},{\"columnNumber\":2,\"columnName\":\"FullName\",\"columnTypeName\":\"VARCHAR\",\"length\":42,\"scale\":42}]}"
     },
     "output_type": "execute_result"
    }
   ],
   "source": [
    "SELECT last_name,first_name,TRIM(last_name)||', '||TRIM(first_name) AS FullName\n",
    "FROM employee\n",
    "WHERE last_name LIKE '%ll%';\n"
   ]
  },
  {
   "cell_type": "markdown",
   "id": "5b61408f",
   "metadata": {},
   "source": [
    "**<div class=\"alert alert-block alert-info\">3. Using POSITION, change #2 to also include last names having an \"FF\"combination in their last name, and instead display the result like this:** </div>"
   ]
  },
  {
   "cell_type": "markdown",
   "id": "8d793fb0",
   "metadata": {},
   "source": [
    "**FullName<br>**\n",
    "**-----------------**<br>\n",
    "**Phillips, Charles**<br>\n",
    "**Ratzlaff, Larry**<br>\n",
    "**Villegas, Arnando**<br>"
   ]
  },
  {
   "cell_type": "code",
   "execution_count": 157,
   "id": "74d5b9a5",
   "metadata": {},
   "outputs": [
    {
     "data": {
      "application/vnd.teradata.resultset": "\"FullName\"\n\"Villegas, Arnando\"\n\"Phillips, Charles\"\n\"Ratzlaff, Larry\"",
      "text/html": [
       "<div class = \"td-resultset-table-div\" style = \"max-height: 100%; overflow-y: auto\">\n",
       "      <table class=\"tdhistory168115\"><style>\n",
       "      table.tdhistory168115 { display: block !important; min-height: 147px !important; overflow: auto !important; height: 147px !important; width: 100% !important; border: 1px solid rgb(207, 207, 207) !important; border-collapse: collapse !important; ; color: var(--jp-ui-font-color1) !important; }\n",
       "      th.tdhistory168115 { border: 1px solid rgb(198,198,198) !important; border-collapse: collapse !important; ; padding: 2px 5px !important; ; font-size: 13px !important; ; text-align: center !important; white-space: normal !important; color: var(--jp-ui-font-color1) !important; }\n",
       "      th.tdhistory168115:last-child { text-align: left !important; }\n",
       "      tbody.tdhistory168115 tr:nth-child(even) { background: rgba(243, 243, 243, 0.75) !important; }\n",
       "      tbody.tdhistory168115 tr:nth-child(odd) { background: var(--jp-ui-inverse-font-color1) !important; }\n",
       "      td.tdhistory168115 { border: 1px solid rgb(207, 207, 207) !important; border-collapse: collapse !important; ; padding: 2px 5px !important; ; font-size: 13px !important; ; text-align: left !important;          white-space: nowrap !important; overflow:hidden !important; text-overflow:ellipsis !important;; }\n",
       "    </style><thead><tr style= \"background: rgba(243, 243, 243, 0.75)\"><th class=\"tdhistory168115\"></th><th class=\"tdhistory168115\">FullName</th></tr></thead><tbody class=\"tdhistory168115 resultset-body\"><tr><th class=\"tdhistory168115\" style= \"background: rgba(243, 243, 243, 0.75)\">1</th><td class=\"tdhistory168115\">Villegas, Arnando</td></tr><tr><th class=\"tdhistory168115\" style= \"background: rgba(243, 243, 243, 0.75)\">2</th><td class=\"tdhistory168115\">Phillips, Charles</td></tr><tr><th class=\"tdhistory168115\" style= \"background: rgba(243, 243, 243, 0.75)\">3</th><td class=\"tdhistory168115\">Ratzlaff, Larry</td></tr></tbody></table></div>"
      ]
     },
     "execution_count": 157,
     "metadata": {
      "application/vnd.teradata.resultset": "{\"resultSetID\":\"/home/jupyter/Teradata/Resultsets/2022.01.11_15.02.42.722_UTC\",\"historyID\":152,\"chunkID\":\"00001\",\"sessionid\":\"\",\"portnum\":\"\",\"dockermode\":\"standalone\",\"totalRowCount\":3,\"chunkCount\":0,\"rowLimit\":0,\"columnMetadata\":[{\"columnName\":\"FullName\",\"columnTypeName\":\"VARCHAR\",\"length\":42,\"scale\":42}]}"
     },
     "output_type": "execute_result"
    }
   ],
   "source": [
    "SELECT TRIM(last_name)||', '||TRIM(first_name) AS FullName\n",
    "FROM employee\n",
    "WHERE POSITION('ll' in last_name) > 0\n",
    "or POSITION('ff' in last_name) > 0;\n"
   ]
  },
  {
   "cell_type": "code",
   "execution_count": 158,
   "id": "09f535ba",
   "metadata": {},
   "outputs": [
    {
     "data": {
      "application/vnd.teradata.resultset": "\"FullName\"\n\"Villegas, Arnando\"\n\"Phillips, Charles\"\n\"Ratzlaff, Larry\"",
      "text/html": [
       "<div class = \"td-resultset-table-div\" style = \"max-height: 100%; overflow-y: auto\">\n",
       "      <table class=\"tdhistory965785\"><style>\n",
       "      table.tdhistory965785 { display: block !important; min-height: 147px !important; overflow: auto !important; height: 147px !important; width: 100% !important; border: 1px solid rgb(207, 207, 207) !important; border-collapse: collapse !important; ; color: var(--jp-ui-font-color1) !important; }\n",
       "      th.tdhistory965785 { border: 1px solid rgb(198,198,198) !important; border-collapse: collapse !important; ; padding: 2px 5px !important; ; font-size: 13px !important; ; text-align: center !important; white-space: normal !important; color: var(--jp-ui-font-color1) !important; }\n",
       "      th.tdhistory965785:last-child { text-align: left !important; }\n",
       "      tbody.tdhistory965785 tr:nth-child(even) { background: rgba(243, 243, 243, 0.75) !important; }\n",
       "      tbody.tdhistory965785 tr:nth-child(odd) { background: var(--jp-ui-inverse-font-color1) !important; }\n",
       "      td.tdhistory965785 { border: 1px solid rgb(207, 207, 207) !important; border-collapse: collapse !important; ; padding: 2px 5px !important; ; font-size: 13px !important; ; text-align: left !important;          white-space: nowrap !important; overflow:hidden !important; text-overflow:ellipsis !important;; }\n",
       "    </style><thead><tr style= \"background: rgba(243, 243, 243, 0.75)\"><th class=\"tdhistory965785\"></th><th class=\"tdhistory965785\">FullName</th></tr></thead><tbody class=\"tdhistory965785 resultset-body\"><tr><th class=\"tdhistory965785\" style= \"background: rgba(243, 243, 243, 0.75)\">1</th><td class=\"tdhistory965785\">Villegas, Arnando</td></tr><tr><th class=\"tdhistory965785\" style= \"background: rgba(243, 243, 243, 0.75)\">2</th><td class=\"tdhistory965785\">Phillips, Charles</td></tr><tr><th class=\"tdhistory965785\" style= \"background: rgba(243, 243, 243, 0.75)\">3</th><td class=\"tdhistory965785\">Ratzlaff, Larry</td></tr></tbody></table></div>"
      ]
     },
     "execution_count": 158,
     "metadata": {
      "application/vnd.teradata.resultset": "{\"resultSetID\":\"/home/jupyter/Teradata/Resultsets/2022.01.11_15.02.50.213_UTC\",\"historyID\":153,\"chunkID\":\"00001\",\"sessionid\":\"\",\"portnum\":\"\",\"dockermode\":\"standalone\",\"totalRowCount\":3,\"chunkCount\":0,\"rowLimit\":0,\"columnMetadata\":[{\"columnName\":\"FullName\",\"columnTypeName\":\"VARCHAR\",\"length\":42,\"scale\":42}]}"
     },
     "output_type": "execute_result"
    }
   ],
   "source": [
    "\n",
    "SELECT TRIM(last_name)||', '||TRIM(first_name) AS FullName\n",
    "FROM Employee\n",
    "WHERE last_name LIKE ANY ('%ll%', '%ff%');"
   ]
  },
  {
   "cell_type": "markdown",
   "id": "1a3dd02d",
   "metadata": {},
   "source": [
    "**<div class=\"alert alert-block alert-info\"> 4. Display whatever employee information you deem necessary to compare salary changes for the people in their respective departments as shown in the chart below** </div>\n",
    "\n"
   ]
  },
  {
   "cell_type": "markdown",
   "id": "8f07a9b1",
   "metadata": {},
   "source": [
    "**Department Change in Salary<br>**\n",
    "**---------- ----------------**<br>\n",
    "**301 10%**<br>\n",
    "**NULL -5%**<br>\n",
    "**501 20%**<br>"
   ]
  },
  {
   "cell_type": "code",
   "execution_count": 161,
   "id": "1cb350a2",
   "metadata": {},
   "outputs": [
    {
     "data": {
      "application/vnd.teradata.resultset": "\"Last_Name\",\"D#\",\"Job_Code\",\"O_sal\",\"N_sal\"\n\"Morrissey           \",\"\",\"222101\",\"56500.00\",\"53675.00\"\n\"Rogers              \",\"\",\"321100\",\"56500.00\",\"53675.00\"\n\"Short               \",\"\",\"211100\",\"56500.00\",\"53675.00\"\n\"Kanieski            \",\"301\",\"312102\",\"46000.00\",\"50600.00\"\n\"Stein               \",\"301\",\"312101\",\"46000.00\",\"50600.00\"\n\"Rabbit              \",\"501\",\"312103\",\"56500.00\",\"67800.00\"\n\"Ratzlaff            \",\"501\",\"412101\",\"56500.00\",\"67800.00\"\n\"Wilson              \",\"501\",\"412109\",\"37900.00\",\"45480.00\"",
      "text/html": [
       "<div class = \"td-resultset-table-div\" style = \"max-height: 100%; overflow-y: auto\">\n",
       "      <table class=\"tdhistory295877\"><style>\n",
       "      table.tdhistory295877 { display: block !important; min-height: 252px !important; overflow: auto !important; height: 252px !important; width: 100% !important; border: 1px solid rgb(207, 207, 207) !important; border-collapse: collapse !important; ; color: var(--jp-ui-font-color1) !important; }\n",
       "      th.tdhistory295877 { border: 1px solid rgb(198,198,198) !important; border-collapse: collapse !important; ; padding: 2px 5px !important; ; font-size: 13px !important; ; text-align: center !important; white-space: normal !important; color: var(--jp-ui-font-color1) !important; }\n",
       "      th.tdhistory295877:last-child { text-align: left !important; }\n",
       "      tbody.tdhistory295877 tr:nth-child(even) { background: rgba(243, 243, 243, 0.75) !important; }\n",
       "      tbody.tdhistory295877 tr:nth-child(odd) { background: var(--jp-ui-inverse-font-color1) !important; }\n",
       "      td.tdhistory295877 { border: 1px solid rgb(207, 207, 207) !important; border-collapse: collapse !important; ; padding: 2px 5px !important; ; font-size: 13px !important; ; text-align: left !important;          white-space: nowrap !important; overflow:hidden !important; text-overflow:ellipsis !important;; }\n",
       "    </style><thead><tr style= \"background: rgba(243, 243, 243, 0.75)\"><th class=\"tdhistory295877\"></th><th class=\"tdhistory295877\">Last_Name</th><th class=\"tdhistory295877\">D#</th><th class=\"tdhistory295877\">Job_Code</th><th class=\"tdhistory295877\">O_sal</th><th class=\"tdhistory295877\">N_sal</th></tr></thead><tbody class=\"tdhistory295877 resultset-body\"><tr><th class=\"tdhistory295877\" style= \"background: rgba(243, 243, 243, 0.75)\">1</th><td class=\"tdhistory295877\">Morrissey           </td><td class=\"tdhistory295877\"></td><td class=\"tdhistory295877\">222101</td><td class=\"tdhistory295877\">56500.00</td><td class=\"tdhistory295877\">53675.00</td></tr><tr><th class=\"tdhistory295877\" style= \"background: rgba(243, 243, 243, 0.75)\">2</th><td class=\"tdhistory295877\">Rogers              </td><td class=\"tdhistory295877\"></td><td class=\"tdhistory295877\">321100</td><td class=\"tdhistory295877\">56500.00</td><td class=\"tdhistory295877\">53675.00</td></tr><tr><th class=\"tdhistory295877\" style= \"background: rgba(243, 243, 243, 0.75)\">3</th><td class=\"tdhistory295877\">Short               </td><td class=\"tdhistory295877\"></td><td class=\"tdhistory295877\">211100</td><td class=\"tdhistory295877\">56500.00</td><td class=\"tdhistory295877\">53675.00</td></tr><tr><th class=\"tdhistory295877\" style= \"background: rgba(243, 243, 243, 0.75)\">4</th><td class=\"tdhistory295877\">Kanieski            </td><td class=\"tdhistory295877\">301</td><td class=\"tdhistory295877\">312102</td><td class=\"tdhistory295877\">46000.00</td><td class=\"tdhistory295877\">50600.00</td></tr><tr><th class=\"tdhistory295877\" style= \"background: rgba(243, 243, 243, 0.75)\">5</th><td class=\"tdhistory295877\">Stein               </td><td class=\"tdhistory295877\">301</td><td class=\"tdhistory295877\">312101</td><td class=\"tdhistory295877\">46000.00</td><td class=\"tdhistory295877\">50600.00</td></tr><tr><th class=\"tdhistory295877\" style= \"background: rgba(243, 243, 243, 0.75)\">6</th><td class=\"tdhistory295877\">Rabbit              </td><td class=\"tdhistory295877\">501</td><td class=\"tdhistory295877\">312103</td><td class=\"tdhistory295877\">56500.00</td><td class=\"tdhistory295877\">67800.00</td></tr><tr><th class=\"tdhistory295877\" style= \"background: rgba(243, 243, 243, 0.75)\">7</th><td class=\"tdhistory295877\">Ratzlaff            </td><td class=\"tdhistory295877\">501</td><td class=\"tdhistory295877\">412101</td><td class=\"tdhistory295877\">56500.00</td><td class=\"tdhistory295877\">67800.00</td></tr><tr><th class=\"tdhistory295877\" style= \"background: rgba(243, 243, 243, 0.75)\">8</th><td class=\"tdhistory295877\">Wilson              </td><td class=\"tdhistory295877\">501</td><td class=\"tdhistory295877\">412109</td><td class=\"tdhistory295877\">37900.00</td><td class=\"tdhistory295877\">45480.00</td></tr></tbody></table></div>"
      ]
     },
     "execution_count": 161,
     "metadata": {
      "application/vnd.teradata.resultset": "{\"resultSetID\":\"/home/jupyter/Teradata/Resultsets/2022.01.11_15.03.28.850_UTC\",\"historyID\":156,\"chunkID\":\"00001\",\"sessionid\":\"\",\"portnum\":\"\",\"dockermode\":\"standalone\",\"totalRowCount\":8,\"chunkCount\":0,\"rowLimit\":0,\"columnMetadata\":[{\"columnName\":\"Last_Name\",\"columnTypeName\":\"CHAR\",\"length\":10,\"scale\":10},{\"columnNumber\":1,\"columnName\":\"D#\",\"columnTypeName\":\"INTEGER\"},{\"columnNumber\":2,\"columnName\":\"Job_Code\",\"columnTypeName\":\"INTEGER\"},{\"columnNumber\":3,\"columnName\":\"O_sal\",\"columnTypeName\":\"DECIMAL\",\"length\":2,\"precision\":10,\"scale\":2},{\"columnNumber\":4,\"columnName\":\"N_sal\",\"columnTypeName\":\"DECIMAL\",\"length\":2,\"precision\":10,\"scale\":2}]}"
     },
     "output_type": "execute_result"
    }
   ],
   "source": [
    "SELECT last_name (CHAR(10)), Dept_Number AS D#,\n",
    "job_code, salary_amount AS O_sal,\n",
    "CASE\n",
    "WHEN Dept_Number = 301\n",
    "THEN COALESCE(salary_amount, job_code) * 1.1\n",
    "WHEN Dept_Number = 501\n",
    "THEN COALESCE(salary_amount, job_code) * 1.2\n",
    "WHEN Dept_Number IS NULL\n",
    "THEN COALESCE(salary_amount, job_code) * 0.95\n",
    "END (DEC(10,2)) AS N_sal\n",
    "FROM Employee\n",
    "WHERE Dept_Number IN (301, 501)\n",
    "OR Dept_Number IS NULL\n",
    "ORDER BY 2, 1;"
   ]
  },
  {
   "cell_type": "markdown",
   "id": "7840e55b",
   "metadata": {},
   "source": [
    "**<div class=\"alert alert-block alert-info\"> 5. Display whatever employee information you deem necessary to return the sums and two averages for department salaries. One average should be\n",
    "that where a null salary is made into a zero, and another where a zero salary is made into a null.\n",
    "Verify that, where different averages occur, the zero-to-null salary averages should be larger.**</div>"
   ]
  },
  {
   "cell_type": "code",
   "execution_count": 162,
   "id": "36f7659e",
   "metadata": {},
   "outputs": [
    {
     "data": {
      "application/vnd.teradata.resultset": "\"D#\",\"NullToZeroSum\",\"NullToZeroAvg\",\"ZeroToNullSum\",\"ZeroToNullAvg\"\n\"\",\"169500.00\",\"56500\",\"169500.00\",\"56500\"\n\"301\",\"92000.00\",\"46000\",\"92000.00\",\"46000\"\n\"401\",\"233400.00\",\"38900\",\"233400.00\",\"38900\"\n\"402\",\"37900.00\",\"37900\",\"37900.00\",\"37900\"\n\"403\",\"227900.00\",\"45580\",\"227900.00\",\"45580\"\n\"501\",\"150900.00\",\"50300\",\"150900.00\",\"50300\"",
      "text/html": [
       "<div class = \"td-resultset-table-div\" style = \"max-height: 100%; overflow-y: auto\">\n",
       "      <table class=\"tdhistory144380\"><style>\n",
       "      table.tdhistory144380 { display: block !important; min-height: 210px !important; overflow: auto !important; height: 210px !important; width: 100% !important; border: 1px solid rgb(207, 207, 207) !important; border-collapse: collapse !important; ; color: var(--jp-ui-font-color1) !important; }\n",
       "      th.tdhistory144380 { border: 1px solid rgb(198,198,198) !important; border-collapse: collapse !important; ; padding: 2px 5px !important; ; font-size: 13px !important; ; text-align: center !important; white-space: normal !important; color: var(--jp-ui-font-color1) !important; }\n",
       "      th.tdhistory144380:last-child { text-align: left !important; }\n",
       "      tbody.tdhistory144380 tr:nth-child(even) { background: rgba(243, 243, 243, 0.75) !important; }\n",
       "      tbody.tdhistory144380 tr:nth-child(odd) { background: var(--jp-ui-inverse-font-color1) !important; }\n",
       "      td.tdhistory144380 { border: 1px solid rgb(207, 207, 207) !important; border-collapse: collapse !important; ; padding: 2px 5px !important; ; font-size: 13px !important; ; text-align: left !important;          white-space: nowrap !important; overflow:hidden !important; text-overflow:ellipsis !important;; }\n",
       "    </style><thead><tr style= \"background: rgba(243, 243, 243, 0.75)\"><th class=\"tdhistory144380\"></th><th class=\"tdhistory144380\">D#</th><th class=\"tdhistory144380\">NullToZeroSum</th><th class=\"tdhistory144380\">NullToZeroAvg</th><th class=\"tdhistory144380\">ZeroToNullSum</th><th class=\"tdhistory144380\">ZeroToNullAvg</th></tr></thead><tbody class=\"tdhistory144380 resultset-body\"><tr><th class=\"tdhistory144380\" style= \"background: rgba(243, 243, 243, 0.75)\">1</th><td class=\"tdhistory144380\"></td><td class=\"tdhistory144380\">169500.00</td><td class=\"tdhistory144380\">56500</td><td class=\"tdhistory144380\">169500.00</td><td class=\"tdhistory144380\">56500</td></tr><tr><th class=\"tdhistory144380\" style= \"background: rgba(243, 243, 243, 0.75)\">2</th><td class=\"tdhistory144380\">301</td><td class=\"tdhistory144380\">92000.00</td><td class=\"tdhistory144380\">46000</td><td class=\"tdhistory144380\">92000.00</td><td class=\"tdhistory144380\">46000</td></tr><tr><th class=\"tdhistory144380\" style= \"background: rgba(243, 243, 243, 0.75)\">3</th><td class=\"tdhistory144380\">401</td><td class=\"tdhistory144380\">233400.00</td><td class=\"tdhistory144380\">38900</td><td class=\"tdhistory144380\">233400.00</td><td class=\"tdhistory144380\">38900</td></tr><tr><th class=\"tdhistory144380\" style= \"background: rgba(243, 243, 243, 0.75)\">4</th><td class=\"tdhistory144380\">402</td><td class=\"tdhistory144380\">37900.00</td><td class=\"tdhistory144380\">37900</td><td class=\"tdhistory144380\">37900.00</td><td class=\"tdhistory144380\">37900</td></tr><tr><th class=\"tdhistory144380\" style= \"background: rgba(243, 243, 243, 0.75)\">5</th><td class=\"tdhistory144380\">403</td><td class=\"tdhistory144380\">227900.00</td><td class=\"tdhistory144380\">45580</td><td class=\"tdhistory144380\">227900.00</td><td class=\"tdhistory144380\">45580</td></tr><tr><th class=\"tdhistory144380\" style= \"background: rgba(243, 243, 243, 0.75)\">6</th><td class=\"tdhistory144380\">501</td><td class=\"tdhistory144380\">150900.00</td><td class=\"tdhistory144380\">50300</td><td class=\"tdhistory144380\">150900.00</td><td class=\"tdhistory144380\">50300</td></tr></tbody></table></div>"
      ]
     },
     "execution_count": 162,
     "metadata": {
      "application/vnd.teradata.resultset": "{\"resultSetID\":\"/home/jupyter/Teradata/Resultsets/2022.01.11_15.03.37.209_UTC\",\"historyID\":157,\"chunkID\":\"00001\",\"sessionid\":\"\",\"portnum\":\"\",\"dockermode\":\"standalone\",\"totalRowCount\":6,\"chunkCount\":0,\"rowLimit\":0,\"columnMetadata\":[{\"columnName\":\"D#\",\"columnTypeName\":\"SMALLINT\"},{\"columnNumber\":1,\"columnName\":\"NullToZeroSum\",\"columnTypeName\":\"DECIMAL\",\"length\":2,\"precision\":38,\"scale\":2},{\"columnNumber\":2,\"columnName\":\"NullToZeroAvg\",\"columnTypeName\":\"FLOAT\"},{\"columnNumber\":3,\"columnName\":\"ZeroToNullSum\",\"columnTypeName\":\"DECIMAL\",\"length\":2,\"precision\":38,\"scale\":2},{\"columnNumber\":4,\"columnName\":\"ZeroToNullAvg\",\"columnTypeName\":\"FLOAT\"}]}"
     },
     "output_type": "execute_result"
    }
   ],
   "source": [
    "SELECT Dept_Number (SMALLINT) AS D#,\n",
    "SUM(COALESCE(salary_amount, 0)) AS NullToZeroSum,\n",
    "AVG(COALESCE(salary_amount, 0)) AS NullToZeroAvg,\n",
    "SUM(NULLIF(salary_amount, 0)) AS ZeroToNullSum,\n",
    "AVG(NULLIF(salary_amount, 0)) AS ZeroToNullAvg\n",
    "FROM employee\n",
    "GROUP BY 1\n",
    "ORDER BY 1;"
   ]
  },
  {
   "cell_type": "markdown",
   "id": "bd95d9da",
   "metadata": {},
   "source": [
    "# PIVOT  Slide 74\n",
    "\n",
    "**<div class=\"alert alert-block alert-info\">Create sample table and insert few records** </div>"
   ]
  },
  {
   "cell_type": "code",
   "execution_count": 163,
   "id": "e4506008",
   "metadata": {},
   "outputs": [
    {
     "ename": "ERROR",
     "evalue": "Unable to run SQL: Unable to run SQL query: Database reported error:3803:Table 't1' already exists.",
     "output_type": "error",
     "traceback": [
      "Unable to run SQL: Unable to run SQL query: Database reported error:3803:Table 't1' already exists."
     ]
    }
   ],
   "source": [
    "CREATE TABLE t1(yr INTEGER,mon VARCHAR(3),sales INTEGER);\n",
    "\n",
    "--Assume that following insert statements \n",
    "INSERT t1 VALUES(2003,'Jan',300);\n",
    "INSERT t1 VALUES(2001,'Jan',100);\n",
    "INSERT t1 VALUES(2003,'Feb',310);\n",
    "INSERT t1 VALUES(2001,'Feb',110);\n",
    "INSERT t1 VALUES(2002,'Jan',150);\n",
    "INSERT t1 VALUES(2001,'Mar',120);\n",
    "INSERT t1 VALUES(2002,'Feb',200);\n",
    "INSERT t1 VALUES(2002,'Mar',250);\n",
    "INSERT t1 VALUES(2003,'Mar',1000);\n",
    "\n",
    "\n",
    "\n",
    "\n",
    "\n",
    "\n"
   ]
  },
  {
   "cell_type": "code",
   "execution_count": 164,
   "id": "02edb9ea",
   "metadata": {},
   "outputs": [
    {
     "data": {
      "application/vnd.teradata.resultset": "\"yr\",\"mon\",\"sales\"\n\"2002\",\"Jan\",\"150\"\n\"2001\",\"Jan\",\"100\"\n\"2003\",\"Jan\",\"300\"\n\"2002\",\"Feb\",\"200\"\n\"2001\",\"Feb\",\"110\"\n\"2003\",\"Feb\",\"310\"\n\"2002\",\"Mar\",\"250\"\n\"2001\",\"Mar\",\"120\"\n\"2003\",\"Mar\",\"1000\"",
      "text/html": [
       "<div class = \"td-resultset-table-div\" style = \"max-height: 100%; overflow-y: auto\">\n",
       "      <table class=\"tdhistory460768\"><style>\n",
       "      table.tdhistory460768 { display: block !important; min-height: 273px !important; overflow: auto !important; height: 273px !important; width: 100% !important; border: 1px solid rgb(207, 207, 207) !important; border-collapse: collapse !important; ; color: var(--jp-ui-font-color1) !important; }\n",
       "      th.tdhistory460768 { border: 1px solid rgb(198,198,198) !important; border-collapse: collapse !important; ; padding: 2px 5px !important; ; font-size: 13px !important; ; text-align: center !important; white-space: normal !important; color: var(--jp-ui-font-color1) !important; }\n",
       "      th.tdhistory460768:last-child { text-align: left !important; }\n",
       "      tbody.tdhistory460768 tr:nth-child(even) { background: rgba(243, 243, 243, 0.75) !important; }\n",
       "      tbody.tdhistory460768 tr:nth-child(odd) { background: var(--jp-ui-inverse-font-color1) !important; }\n",
       "      td.tdhistory460768 { border: 1px solid rgb(207, 207, 207) !important; border-collapse: collapse !important; ; padding: 2px 5px !important; ; font-size: 13px !important; ; text-align: left !important;          white-space: nowrap !important; overflow:hidden !important; text-overflow:ellipsis !important;; }\n",
       "    </style><thead><tr style= \"background: rgba(243, 243, 243, 0.75)\"><th class=\"tdhistory460768\"></th><th class=\"tdhistory460768\">yr</th><th class=\"tdhistory460768\">mon</th><th class=\"tdhistory460768\">sales</th></tr></thead><tbody class=\"tdhistory460768 resultset-body\"><tr><th class=\"tdhistory460768\" style= \"background: rgba(243, 243, 243, 0.75)\">1</th><td class=\"tdhistory460768\">2002</td><td class=\"tdhistory460768\">Jan</td><td class=\"tdhistory460768\">150</td></tr><tr><th class=\"tdhistory460768\" style= \"background: rgba(243, 243, 243, 0.75)\">2</th><td class=\"tdhistory460768\">2001</td><td class=\"tdhistory460768\">Jan</td><td class=\"tdhistory460768\">100</td></tr><tr><th class=\"tdhistory460768\" style= \"background: rgba(243, 243, 243, 0.75)\">3</th><td class=\"tdhistory460768\">2003</td><td class=\"tdhistory460768\">Jan</td><td class=\"tdhistory460768\">300</td></tr><tr><th class=\"tdhistory460768\" style= \"background: rgba(243, 243, 243, 0.75)\">4</th><td class=\"tdhistory460768\">2002</td><td class=\"tdhistory460768\">Feb</td><td class=\"tdhistory460768\">200</td></tr><tr><th class=\"tdhistory460768\" style= \"background: rgba(243, 243, 243, 0.75)\">5</th><td class=\"tdhistory460768\">2001</td><td class=\"tdhistory460768\">Feb</td><td class=\"tdhistory460768\">110</td></tr><tr><th class=\"tdhistory460768\" style= \"background: rgba(243, 243, 243, 0.75)\">6</th><td class=\"tdhistory460768\">2003</td><td class=\"tdhistory460768\">Feb</td><td class=\"tdhistory460768\">310</td></tr><tr><th class=\"tdhistory460768\" style= \"background: rgba(243, 243, 243, 0.75)\">7</th><td class=\"tdhistory460768\">2002</td><td class=\"tdhistory460768\">Mar</td><td class=\"tdhistory460768\">250</td></tr><tr><th class=\"tdhistory460768\" style= \"background: rgba(243, 243, 243, 0.75)\">8</th><td class=\"tdhistory460768\">2001</td><td class=\"tdhistory460768\">Mar</td><td class=\"tdhistory460768\">120</td></tr><tr><th class=\"tdhistory460768\" style= \"background: rgba(243, 243, 243, 0.75)\">9</th><td class=\"tdhistory460768\">2003</td><td class=\"tdhistory460768\">Mar</td><td class=\"tdhistory460768\">1000</td></tr></tbody></table></div>"
      ]
     },
     "execution_count": 164,
     "metadata": {
      "application/vnd.teradata.resultset": "{\"resultSetID\":\"/home/jupyter/Teradata/Resultsets/2022.01.11_15.03.55.584_UTC\",\"historyID\":159,\"chunkID\":\"00001\",\"sessionid\":\"\",\"portnum\":\"\",\"dockermode\":\"standalone\",\"totalRowCount\":9,\"chunkCount\":0,\"rowLimit\":0,\"columnMetadata\":[{\"columnName\":\"yr\",\"columnTypeName\":\"INTEGER\"},{\"columnNumber\":1,\"columnName\":\"mon\",\"columnTypeName\":\"VARCHAR\",\"length\":3,\"scale\":3},{\"columnNumber\":2,\"columnName\":\"sales\",\"columnTypeName\":\"INTEGER\"}]}"
     },
     "output_type": "execute_result"
    }
   ],
   "source": [
    "-- View Data\n",
    "SELECT * FROM t1 ;"
   ]
  },
  {
   "cell_type": "markdown",
   "id": "7109ca3b",
   "metadata": {},
   "source": [
    "**<div class=\"alert alert-block alert-info\">Use Below Syntax to Pivot Table**</Div> "
   ]
  },
  {
   "cell_type": "code",
   "execution_count": 165,
   "id": "622638a2",
   "metadata": {},
   "outputs": [
    {
     "data": {
      "application/vnd.teradata.resultset": "\"yr\",\"Jan1_Year_sale\",\"Feb1_Year_sale\",\"March1_Year_sale\"\n\"2002\",\"150\",\"200\",\"250\"\n\"2001\",\"100\",\"110\",\"120\"\n\"2003\",\"300\",\"310\",\"1000\"",
      "text/html": [
       "<div class = \"td-resultset-table-div\" style = \"max-height: 100%; overflow-y: auto\">\n",
       "      <table class=\"tdhistory125102\"><style>\n",
       "      table.tdhistory125102 { display: block !important; min-height: 147px !important; overflow: auto !important; height: 147px !important; width: 100% !important; border: 1px solid rgb(207, 207, 207) !important; border-collapse: collapse !important; ; color: var(--jp-ui-font-color1) !important; }\n",
       "      th.tdhistory125102 { border: 1px solid rgb(198,198,198) !important; border-collapse: collapse !important; ; padding: 2px 5px !important; ; font-size: 13px !important; ; text-align: center !important; white-space: normal !important; color: var(--jp-ui-font-color1) !important; }\n",
       "      th.tdhistory125102:last-child { text-align: left !important; }\n",
       "      tbody.tdhistory125102 tr:nth-child(even) { background: rgba(243, 243, 243, 0.75) !important; }\n",
       "      tbody.tdhistory125102 tr:nth-child(odd) { background: var(--jp-ui-inverse-font-color1) !important; }\n",
       "      td.tdhistory125102 { border: 1px solid rgb(207, 207, 207) !important; border-collapse: collapse !important; ; padding: 2px 5px !important; ; font-size: 13px !important; ; text-align: left !important;          white-space: nowrap !important; overflow:hidden !important; text-overflow:ellipsis !important;; }\n",
       "    </style><thead><tr style= \"background: rgba(243, 243, 243, 0.75)\"><th class=\"tdhistory125102\"></th><th class=\"tdhistory125102\">yr</th><th class=\"tdhistory125102\">Jan1_Year_sale</th><th class=\"tdhistory125102\">Feb1_Year_sale</th><th class=\"tdhistory125102\">March1_Year_sale</th></tr></thead><tbody class=\"tdhistory125102 resultset-body\"><tr><th class=\"tdhistory125102\" style= \"background: rgba(243, 243, 243, 0.75)\">1</th><td class=\"tdhistory125102\">2002</td><td class=\"tdhistory125102\">150</td><td class=\"tdhistory125102\">200</td><td class=\"tdhistory125102\">250</td></tr><tr><th class=\"tdhistory125102\" style= \"background: rgba(243, 243, 243, 0.75)\">2</th><td class=\"tdhistory125102\">2001</td><td class=\"tdhistory125102\">100</td><td class=\"tdhistory125102\">110</td><td class=\"tdhistory125102\">120</td></tr><tr><th class=\"tdhistory125102\" style= \"background: rgba(243, 243, 243, 0.75)\">3</th><td class=\"tdhistory125102\">2003</td><td class=\"tdhistory125102\">300</td><td class=\"tdhistory125102\">310</td><td class=\"tdhistory125102\">1000</td></tr></tbody></table></div>"
      ]
     },
     "execution_count": 165,
     "metadata": {
      "application/vnd.teradata.resultset": "{\"resultSetID\":\"/home/jupyter/Teradata/Resultsets/2022.01.11_15.04.01.714_UTC\",\"historyID\":160,\"chunkID\":\"00001\",\"sessionid\":\"\",\"portnum\":\"\",\"dockermode\":\"standalone\",\"totalRowCount\":3,\"chunkCount\":0,\"rowLimit\":0,\"columnMetadata\":[{\"columnName\":\"yr\",\"columnTypeName\":\"INTEGER\"},{\"columnNumber\":1,\"columnName\":\"Jan1_Year_sale\",\"columnTypeName\":\"INTEGER\"},{\"columnNumber\":2,\"columnName\":\"Feb1_Year_sale\",\"columnTypeName\":\"INTEGER\"},{\"columnNumber\":3,\"columnName\":\"March1_Year_sale\",\"columnTypeName\":\"INTEGER\"}]}"
     },
     "output_type": "execute_result"
    }
   ],
   "source": [
    "--Pivot Syntax\n",
    "SELECT * FROM t1 PIVOT(SUM(sales) as Year_sale FOR mon IN ('Jan' as Jan1,'Feb' as Feb1,'Mar' as March1)) tmp;\n"
   ]
  },
  {
   "cell_type": "markdown",
   "id": "02748ab2",
   "metadata": {},
   "source": [
    "**<div class=\"alert alert-block alert-info\">Drop Newly creates sample table**</div>"
   ]
  },
  {
   "cell_type": "code",
   "execution_count": null,
   "id": "9cc199a6",
   "metadata": {},
   "outputs": [],
   "source": [
    "drop table t1;"
   ]
  },
  {
   "cell_type": "markdown",
   "id": "a0ed21f2",
   "metadata": {},
   "source": [
    "#  UNPIVOT Slide 75\n",
    "**<div class=\"alert alert-block alert-info\">Create sample table with few records** </div>"
   ]
  },
  {
   "cell_type": "code",
   "execution_count": 168,
   "id": "dfe229ea",
   "metadata": {},
   "outputs": [
    {
     "data": {
      "text/plain": [
       "Success: 0 rows affected"
      ]
     },
     "execution_count": 168,
     "metadata": {
      "application/vnd.teradata.resultset": ""
     },
     "output_type": "execute_result"
    }
   ],
   "source": [
    "CREATE TABLE unpivot_exp(yr INTEGER,JAN_sales INTEGER, FEB_sales INTEGER,mar_sales INTEGER);\n",
    " "
   ]
  },
  {
   "cell_type": "code",
   "execution_count": 169,
   "id": "264b59aa-98bf-4f56-a743-e3d158515c08",
   "metadata": {},
   "outputs": [
    {
     "data": {
      "text/plain": [
       "Success: 1 rows affected"
      ]
     },
     "execution_count": 169,
     "metadata": {
      "application/vnd.teradata.resultset": ""
     },
     "output_type": "execute_result"
    },
    {
     "data": {
      "text/plain": [
       "Success: 1 rows affected"
      ]
     },
     "execution_count": 169,
     "metadata": {
      "application/vnd.teradata.resultset": ""
     },
     "output_type": "execute_result"
    },
    {
     "data": {
      "text/plain": [
       "Success: 1 rows affected"
      ]
     },
     "execution_count": 169,
     "metadata": {
      "application/vnd.teradata.resultset": ""
     },
     "output_type": "execute_result"
    }
   ],
   "source": [
    "INSERT unpivot_exp(2001,100,110,120);\n",
    "INSERT unpivot_exp(2002,150,200,250);\n",
    "INSERT unpivot_exp(2003,300,310,1000);"
   ]
  },
  {
   "cell_type": "markdown",
   "id": "89d2067c",
   "metadata": {},
   "source": [
    "**<div class=\"alert alert-block alert-info\"> View Raw Data** </div>"
   ]
  },
  {
   "cell_type": "code",
   "execution_count": 170,
   "id": "2cafa80c",
   "metadata": {},
   "outputs": [
    {
     "data": {
      "application/vnd.teradata.resultset": "\"yr\",\"JAN_sales\",\"FEB_sales\",\"mar_sales\"\n\"2002\",\"150\",\"200\",\"250\"\n\"2001\",\"100\",\"110\",\"120\"\n\"2003\",\"300\",\"310\",\"1000\"",
      "text/html": [
       "<div class = \"td-resultset-table-div\" style = \"max-height: 100%; overflow-y: auto\">\n",
       "      <table class=\"tdhistory414095\"><style>\n",
       "      table.tdhistory414095 { display: block !important; min-height: 147px !important; overflow: auto !important; height: 147px !important; width: 100% !important; border: 1px solid rgb(207, 207, 207) !important; border-collapse: collapse !important; ; color: var(--jp-ui-font-color1) !important; }\n",
       "      th.tdhistory414095 { border: 1px solid rgb(198,198,198) !important; border-collapse: collapse !important; ; padding: 2px 5px !important; ; font-size: 13px !important; ; text-align: center !important; white-space: normal !important; color: var(--jp-ui-font-color1) !important; }\n",
       "      th.tdhistory414095:last-child { text-align: left !important; }\n",
       "      tbody.tdhistory414095 tr:nth-child(even) { background: rgba(243, 243, 243, 0.75) !important; }\n",
       "      tbody.tdhistory414095 tr:nth-child(odd) { background: var(--jp-ui-inverse-font-color1) !important; }\n",
       "      td.tdhistory414095 { border: 1px solid rgb(207, 207, 207) !important; border-collapse: collapse !important; ; padding: 2px 5px !important; ; font-size: 13px !important; ; text-align: left !important;          white-space: nowrap !important; overflow:hidden !important; text-overflow:ellipsis !important;; }\n",
       "    </style><thead><tr style= \"background: rgba(243, 243, 243, 0.75)\"><th class=\"tdhistory414095\"></th><th class=\"tdhistory414095\">yr</th><th class=\"tdhistory414095\">JAN_sales</th><th class=\"tdhistory414095\">FEB_sales</th><th class=\"tdhistory414095\">mar_sales</th></tr></thead><tbody class=\"tdhistory414095 resultset-body\"><tr><th class=\"tdhistory414095\" style= \"background: rgba(243, 243, 243, 0.75)\">1</th><td class=\"tdhistory414095\">2002</td><td class=\"tdhistory414095\">150</td><td class=\"tdhistory414095\">200</td><td class=\"tdhistory414095\">250</td></tr><tr><th class=\"tdhistory414095\" style= \"background: rgba(243, 243, 243, 0.75)\">2</th><td class=\"tdhistory414095\">2001</td><td class=\"tdhistory414095\">100</td><td class=\"tdhistory414095\">110</td><td class=\"tdhistory414095\">120</td></tr><tr><th class=\"tdhistory414095\" style= \"background: rgba(243, 243, 243, 0.75)\">3</th><td class=\"tdhistory414095\">2003</td><td class=\"tdhistory414095\">300</td><td class=\"tdhistory414095\">310</td><td class=\"tdhistory414095\">1000</td></tr></tbody></table></div>"
      ]
     },
     "execution_count": 170,
     "metadata": {
      "application/vnd.teradata.resultset": "{\"resultSetID\":\"/home/jupyter/Teradata/Resultsets/2022.01.11_15.04.56.000_UTC\",\"historyID\":165,\"chunkID\":\"00001\",\"sessionid\":\"\",\"portnum\":\"\",\"dockermode\":\"standalone\",\"totalRowCount\":3,\"chunkCount\":0,\"rowLimit\":0,\"columnMetadata\":[{\"columnName\":\"yr\",\"columnTypeName\":\"INTEGER\"},{\"columnNumber\":1,\"columnName\":\"JAN_sales\",\"columnTypeName\":\"INTEGER\"},{\"columnNumber\":2,\"columnName\":\"FEB_sales\",\"columnTypeName\":\"INTEGER\"},{\"columnNumber\":3,\"columnName\":\"mar_sales\",\"columnTypeName\":\"INTEGER\"}]}"
     },
     "output_type": "execute_result"
    }
   ],
   "source": [
    "select * from unpivot_exp;"
   ]
  },
  {
   "cell_type": "markdown",
   "id": "c6bcba41",
   "metadata": {},
   "source": [
    "**<div class=\"alert alert-block alert-info\"> Use below Syntax to Unpivot Table** </div>"
   ]
  },
  {
   "cell_type": "code",
   "execution_count": 171,
   "id": "c04efc56",
   "metadata": {},
   "outputs": [
    {
     "data": {
      "application/vnd.teradata.resultset": "\"yr\",\"MON\",\"SALES\"\n\"2002\",\"JAN\",\"150\"\n\"2001\",\"JAN\",\"100\"\n\"2003\",\"JAN\",\"300\"\n\"2002\",\"FEB\",\"200\"\n\"2001\",\"FEB\",\"110\"\n\"2003\",\"FEB\",\"310\"\n\"2002\",\"MAR\",\"250\"\n\"2001\",\"MAR\",\"120\"\n\"2003\",\"MAR\",\"1000\"",
      "text/html": [
       "<div class = \"td-resultset-table-div\" style = \"max-height: 100%; overflow-y: auto\">\n",
       "      <table class=\"tdhistory51955\"><style>\n",
       "      table.tdhistory51955 { display: block !important; min-height: 273px !important; overflow: auto !important; height: 273px !important; width: 100% !important; border: 1px solid rgb(207, 207, 207) !important; border-collapse: collapse !important; ; color: var(--jp-ui-font-color1) !important; }\n",
       "      th.tdhistory51955 { border: 1px solid rgb(198,198,198) !important; border-collapse: collapse !important; ; padding: 2px 5px !important; ; font-size: 13px !important; ; text-align: center !important; white-space: normal !important; color: var(--jp-ui-font-color1) !important; }\n",
       "      th.tdhistory51955:last-child { text-align: left !important; }\n",
       "      tbody.tdhistory51955 tr:nth-child(even) { background: rgba(243, 243, 243, 0.75) !important; }\n",
       "      tbody.tdhistory51955 tr:nth-child(odd) { background: var(--jp-ui-inverse-font-color1) !important; }\n",
       "      td.tdhistory51955 { border: 1px solid rgb(207, 207, 207) !important; border-collapse: collapse !important; ; padding: 2px 5px !important; ; font-size: 13px !important; ; text-align: left !important;          white-space: nowrap !important; overflow:hidden !important; text-overflow:ellipsis !important;; }\n",
       "    </style><thead><tr style= \"background: rgba(243, 243, 243, 0.75)\"><th class=\"tdhistory51955\"></th><th class=\"tdhistory51955\">yr</th><th class=\"tdhistory51955\">MON</th><th class=\"tdhistory51955\">SALES</th></tr></thead><tbody class=\"tdhistory51955 resultset-body\"><tr><th class=\"tdhistory51955\" style= \"background: rgba(243, 243, 243, 0.75)\">1</th><td class=\"tdhistory51955\">2002</td><td class=\"tdhistory51955\">JAN</td><td class=\"tdhistory51955\">150</td></tr><tr><th class=\"tdhistory51955\" style= \"background: rgba(243, 243, 243, 0.75)\">2</th><td class=\"tdhistory51955\">2001</td><td class=\"tdhistory51955\">JAN</td><td class=\"tdhistory51955\">100</td></tr><tr><th class=\"tdhistory51955\" style= \"background: rgba(243, 243, 243, 0.75)\">3</th><td class=\"tdhistory51955\">2003</td><td class=\"tdhistory51955\">JAN</td><td class=\"tdhistory51955\">300</td></tr><tr><th class=\"tdhistory51955\" style= \"background: rgba(243, 243, 243, 0.75)\">4</th><td class=\"tdhistory51955\">2002</td><td class=\"tdhistory51955\">FEB</td><td class=\"tdhistory51955\">200</td></tr><tr><th class=\"tdhistory51955\" style= \"background: rgba(243, 243, 243, 0.75)\">5</th><td class=\"tdhistory51955\">2001</td><td class=\"tdhistory51955\">FEB</td><td class=\"tdhistory51955\">110</td></tr><tr><th class=\"tdhistory51955\" style= \"background: rgba(243, 243, 243, 0.75)\">6</th><td class=\"tdhistory51955\">2003</td><td class=\"tdhistory51955\">FEB</td><td class=\"tdhistory51955\">310</td></tr><tr><th class=\"tdhistory51955\" style= \"background: rgba(243, 243, 243, 0.75)\">7</th><td class=\"tdhistory51955\">2002</td><td class=\"tdhistory51955\">MAR</td><td class=\"tdhistory51955\">250</td></tr><tr><th class=\"tdhistory51955\" style= \"background: rgba(243, 243, 243, 0.75)\">8</th><td class=\"tdhistory51955\">2001</td><td class=\"tdhistory51955\">MAR</td><td class=\"tdhistory51955\">120</td></tr><tr><th class=\"tdhistory51955\" style= \"background: rgba(243, 243, 243, 0.75)\">9</th><td class=\"tdhistory51955\">2003</td><td class=\"tdhistory51955\">MAR</td><td class=\"tdhistory51955\">1000</td></tr></tbody></table></div>"
      ]
     },
     "execution_count": 171,
     "metadata": {
      "application/vnd.teradata.resultset": "{\"resultSetID\":\"/home/jupyter/Teradata/Resultsets/2022.01.11_15.05.04.592_UTC\",\"historyID\":166,\"chunkID\":\"00001\",\"sessionid\":\"\",\"portnum\":\"\",\"dockermode\":\"standalone\",\"totalRowCount\":9,\"chunkCount\":0,\"rowLimit\":0,\"columnMetadata\":[{\"columnName\":\"yr\",\"columnTypeName\":\"INTEGER\"},{\"columnNumber\":1,\"columnName\":\"MON\",\"columnTypeName\":\"VARCHAR\",\"length\":1000,\"scale\":1000},{\"columnNumber\":2,\"columnName\":\"SALES\",\"columnTypeName\":\"INTEGER\"}]}"
     },
     "output_type": "execute_result"
    }
   ],
   "source": [
    "SELECT * FROM unpivot_exp UNPIVOT ((SALES)  FOR  MON \n",
    "                          IN ((JAN_sales) AS 'JAN', \n",
    "                              (FEB_sales) AS 'FEB',\n",
    "                              (MAR_sales) AS 'MAR')) Tmp;\n"
   ]
  },
  {
   "cell_type": "markdown",
   "id": "86f86978",
   "metadata": {},
   "source": [
    "**<div class=\"alert alert-block alert-info\"> Drop Newly Created Sample table** </div>"
   ]
  },
  {
   "cell_type": "code",
   "execution_count": 32,
   "id": "999f386a",
   "metadata": {},
   "outputs": [
    {
     "data": {
      "text/plain": [
       "Success: 18 rows affected"
      ]
     },
     "execution_count": 32,
     "metadata": {
      "application/vnd.teradata.resultset": ""
     },
     "output_type": "execute_result"
    }
   ],
   "source": [
    "Drop table unpivot_exp;"
   ]
  },
  {
   "cell_type": "markdown",
   "id": "cb529b1f",
   "metadata": {},
   "source": [
    "# Column Formatting Slide [81-84]\n",
    "**<div class=\"alert alert-block alert-info\"> 1. Apply the appropriate format to the budget_amount column (Department table) to produce the formatting result shown.**</div>\n",
    "**<div class=\"alert alert-block alert-info\"> a) $ 982,300.00 (Explicit CAST)**</div>\n"
   ]
  },
  {
   "cell_type": "code",
   "execution_count": 172,
   "id": "9048509c",
   "metadata": {},
   "outputs": [
    {
     "data": {
      "application/vnd.teradata.resultset": "\"Budget_Amount\"\n\"$    932,000.00\"\n\"$    982,300.00\"\n\"$    982,300.00\"\n\"$    982,300.00\"\n\"$    932,000.00\"",
      "text/html": [
       "<div class = \"td-resultset-table-div\" style = \"max-height: 100%; overflow-y: auto\">\n",
       "      <table class=\"tdhistory28750\"><style>\n",
       "      table.tdhistory28750 { display: block !important; min-height: 189px !important; overflow: auto !important; height: 189px !important; width: 100% !important; border: 1px solid rgb(207, 207, 207) !important; border-collapse: collapse !important; ; color: var(--jp-ui-font-color1) !important; }\n",
       "      th.tdhistory28750 { border: 1px solid rgb(198,198,198) !important; border-collapse: collapse !important; ; padding: 2px 5px !important; ; font-size: 13px !important; ; text-align: center !important; white-space: normal !important; color: var(--jp-ui-font-color1) !important; }\n",
       "      th.tdhistory28750:last-child { text-align: left !important; }\n",
       "      tbody.tdhistory28750 tr:nth-child(even) { background: rgba(243, 243, 243, 0.75) !important; }\n",
       "      tbody.tdhistory28750 tr:nth-child(odd) { background: var(--jp-ui-inverse-font-color1) !important; }\n",
       "      td.tdhistory28750 { border: 1px solid rgb(207, 207, 207) !important; border-collapse: collapse !important; ; padding: 2px 5px !important; ; font-size: 13px !important; ; text-align: left !important;          white-space: nowrap !important; overflow:hidden !important; text-overflow:ellipsis !important;; }\n",
       "    </style><thead><tr style= \"background: rgba(243, 243, 243, 0.75)\"><th class=\"tdhistory28750\"></th><th class=\"tdhistory28750\">Budget_Amount</th></tr></thead><tbody class=\"tdhistory28750 resultset-body\"><tr><th class=\"tdhistory28750\" style= \"background: rgba(243, 243, 243, 0.75)\">1</th><td class=\"tdhistory28750\">$    932,000.00</td></tr><tr><th class=\"tdhistory28750\" style= \"background: rgba(243, 243, 243, 0.75)\">2</th><td class=\"tdhistory28750\">$    982,300.00</td></tr><tr><th class=\"tdhistory28750\" style= \"background: rgba(243, 243, 243, 0.75)\">3</th><td class=\"tdhistory28750\">$    982,300.00</td></tr><tr><th class=\"tdhistory28750\" style= \"background: rgba(243, 243, 243, 0.75)\">4</th><td class=\"tdhistory28750\">$    982,300.00</td></tr><tr><th class=\"tdhistory28750\" style= \"background: rgba(243, 243, 243, 0.75)\">5</th><td class=\"tdhistory28750\">$    932,000.00</td></tr></tbody></table></div>"
      ]
     },
     "execution_count": 172,
     "metadata": {
      "application/vnd.teradata.resultset": "{\"resultSetID\":\"/home/jupyter/Teradata/Resultsets/2022.01.11_15.05.34.464_UTC\",\"historyID\":167,\"chunkID\":\"00001\",\"sessionid\":\"\",\"portnum\":\"\",\"dockermode\":\"standalone\",\"totalRowCount\":5,\"chunkCount\":0,\"rowLimit\":0,\"columnMetadata\":[{\"columnName\":\"Budget_Amount\",\"columnTypeName\":\"VARCHAR\",\"length\":30,\"scale\":30}]}"
     },
     "output_type": "execute_result"
    }
   ],
   "source": [
    "SELECT CAST((budget_amount (FORMAT '$zzz,zzz,zzz.99')) AS\n",
    "VARCHAR(30))\n",
    "FROM Department;"
   ]
  },
  {
   "cell_type": "markdown",
   "id": "c6f26e15",
   "metadata": {},
   "source": [
    "**<div class=\"alert alert-block alert-info\"> a) $ 982,300.00 (Implicit CAST)**</div>"
   ]
  },
  {
   "cell_type": "code",
   "execution_count": 173,
   "id": "4e43c269",
   "metadata": {},
   "outputs": [
    {
     "data": {
      "application/vnd.teradata.resultset": "\"Budget_Amount\"\n\"$    932,000.00\"\n\"$    982,300.00\"\n\"$    982,300.00\"\n\"$    982,300.00\"\n\"$    932,000.00\"",
      "text/html": [
       "<div class = \"td-resultset-table-div\" style = \"max-height: 100%; overflow-y: auto\">\n",
       "      <table class=\"tdhistory419072\"><style>\n",
       "      table.tdhistory419072 { display: block !important; min-height: 189px !important; overflow: auto !important; height: 189px !important; width: 100% !important; border: 1px solid rgb(207, 207, 207) !important; border-collapse: collapse !important; ; color: var(--jp-ui-font-color1) !important; }\n",
       "      th.tdhistory419072 { border: 1px solid rgb(198,198,198) !important; border-collapse: collapse !important; ; padding: 2px 5px !important; ; font-size: 13px !important; ; text-align: center !important; white-space: normal !important; color: var(--jp-ui-font-color1) !important; }\n",
       "      th.tdhistory419072:last-child { text-align: left !important; }\n",
       "      tbody.tdhistory419072 tr:nth-child(even) { background: rgba(243, 243, 243, 0.75) !important; }\n",
       "      tbody.tdhistory419072 tr:nth-child(odd) { background: var(--jp-ui-inverse-font-color1) !important; }\n",
       "      td.tdhistory419072 { border: 1px solid rgb(207, 207, 207) !important; border-collapse: collapse !important; ; padding: 2px 5px !important; ; font-size: 13px !important; ; text-align: left !important;          white-space: nowrap !important; overflow:hidden !important; text-overflow:ellipsis !important;; }\n",
       "    </style><thead><tr style= \"background: rgba(243, 243, 243, 0.75)\"><th class=\"tdhistory419072\"></th><th class=\"tdhistory419072\">Budget_Amount</th></tr></thead><tbody class=\"tdhistory419072 resultset-body\"><tr><th class=\"tdhistory419072\" style= \"background: rgba(243, 243, 243, 0.75)\">1</th><td class=\"tdhistory419072\">$    932,000.00</td></tr><tr><th class=\"tdhistory419072\" style= \"background: rgba(243, 243, 243, 0.75)\">2</th><td class=\"tdhistory419072\">$    982,300.00</td></tr><tr><th class=\"tdhistory419072\" style= \"background: rgba(243, 243, 243, 0.75)\">3</th><td class=\"tdhistory419072\">$    982,300.00</td></tr><tr><th class=\"tdhistory419072\" style= \"background: rgba(243, 243, 243, 0.75)\">4</th><td class=\"tdhistory419072\">$    982,300.00</td></tr><tr><th class=\"tdhistory419072\" style= \"background: rgba(243, 243, 243, 0.75)\">5</th><td class=\"tdhistory419072\">$    932,000.00</td></tr></tbody></table></div>"
      ]
     },
     "execution_count": 173,
     "metadata": {
      "application/vnd.teradata.resultset": "{\"resultSetID\":\"/home/jupyter/Teradata/Resultsets/2022.01.11_15.05.40.272_UTC\",\"historyID\":168,\"chunkID\":\"00001\",\"sessionid\":\"\",\"portnum\":\"\",\"dockermode\":\"standalone\",\"totalRowCount\":5,\"chunkCount\":0,\"rowLimit\":0,\"columnMetadata\":[{\"columnName\":\"Budget_Amount\",\"columnTypeName\":\"VARCHAR\",\"length\":30,\"scale\":30}]}"
     },
     "output_type": "execute_result"
    }
   ],
   "source": [
    "SELECT (budget_amount (FORMAT '$zzz,zzz,zzz.99')) (VARCHAR(30))\n",
    "FROM Department;"
   ]
  },
  {
   "cell_type": "markdown",
   "id": "4dc8d53b",
   "metadata": {},
   "source": [
    "**<div class=\"alert alert-block alert-info\"> b) $982,300.00**</div>"
   ]
  },
  {
   "cell_type": "code",
   "execution_count": 174,
   "id": "56a09bab",
   "metadata": {},
   "outputs": [
    {
     "data": {
      "application/vnd.teradata.resultset": "\"Budget_Amount\"\n\"$932,000.00\"\n\"$982,300.00\"\n\"$982,300.00\"\n\"$982,300.00\"\n\"$932,000.00\"",
      "text/html": [
       "<div class = \"td-resultset-table-div\" style = \"max-height: 100%; overflow-y: auto\">\n",
       "      <table class=\"tdhistory923714\"><style>\n",
       "      table.tdhistory923714 { display: block !important; min-height: 189px !important; overflow: auto !important; height: 189px !important; width: 100% !important; border: 1px solid rgb(207, 207, 207) !important; border-collapse: collapse !important; ; color: var(--jp-ui-font-color1) !important; }\n",
       "      th.tdhistory923714 { border: 1px solid rgb(198,198,198) !important; border-collapse: collapse !important; ; padding: 2px 5px !important; ; font-size: 13px !important; ; text-align: center !important; white-space: normal !important; color: var(--jp-ui-font-color1) !important; }\n",
       "      th.tdhistory923714:last-child { text-align: left !important; }\n",
       "      tbody.tdhistory923714 tr:nth-child(even) { background: rgba(243, 243, 243, 0.75) !important; }\n",
       "      tbody.tdhistory923714 tr:nth-child(odd) { background: var(--jp-ui-inverse-font-color1) !important; }\n",
       "      td.tdhistory923714 { border: 1px solid rgb(207, 207, 207) !important; border-collapse: collapse !important; ; padding: 2px 5px !important; ; font-size: 13px !important; ; text-align: left !important;          white-space: nowrap !important; overflow:hidden !important; text-overflow:ellipsis !important;; }\n",
       "    </style><thead><tr style= \"background: rgba(243, 243, 243, 0.75)\"><th class=\"tdhistory923714\"></th><th class=\"tdhistory923714\">Budget_Amount</th></tr></thead><tbody class=\"tdhistory923714 resultset-body\"><tr><th class=\"tdhistory923714\" style= \"background: rgba(243, 243, 243, 0.75)\">1</th><td class=\"tdhistory923714\">$932,000.00</td></tr><tr><th class=\"tdhistory923714\" style= \"background: rgba(243, 243, 243, 0.75)\">2</th><td class=\"tdhistory923714\">$982,300.00</td></tr><tr><th class=\"tdhistory923714\" style= \"background: rgba(243, 243, 243, 0.75)\">3</th><td class=\"tdhistory923714\">$982,300.00</td></tr><tr><th class=\"tdhistory923714\" style= \"background: rgba(243, 243, 243, 0.75)\">4</th><td class=\"tdhistory923714\">$982,300.00</td></tr><tr><th class=\"tdhistory923714\" style= \"background: rgba(243, 243, 243, 0.75)\">5</th><td class=\"tdhistory923714\">$932,000.00</td></tr></tbody></table></div>"
      ]
     },
     "execution_count": 174,
     "metadata": {
      "application/vnd.teradata.resultset": "{\"resultSetID\":\"/home/jupyter/Teradata/Resultsets/2022.01.11_15.05.53.805_UTC\",\"historyID\":169,\"chunkID\":\"00001\",\"sessionid\":\"\",\"portnum\":\"\",\"dockermode\":\"standalone\",\"totalRowCount\":5,\"chunkCount\":0,\"rowLimit\":0,\"columnMetadata\":[{\"columnName\":\"Budget_Amount\",\"columnTypeName\":\"VARCHAR\",\"length\":30,\"scale\":30}]}"
     },
     "output_type": "execute_result"
    }
   ],
   "source": [
    "SELECT CAST((budget_amount (FORMAT '$$$$,$$$,$zz.99')) AS\n",
    "VARCHAR(30))\n",
    "FROM Department;"
   ]
  },
  {
   "cell_type": "markdown",
   "id": "053a5c53",
   "metadata": {},
   "source": [
    "**<div class=\"alert alert-block alert-info\"> c) 982,300,00**</div>"
   ]
  },
  {
   "cell_type": "code",
   "execution_count": 175,
   "id": "b4bd3327",
   "metadata": {},
   "outputs": [
    {
     "data": {
      "application/vnd.teradata.resultset": "\"Budget_Amount\"\n\"932,000.00\"\n\"982,300.00\"\n\"982,300.00\"\n\"982,300.00\"\n\"932,000.00\"",
      "text/html": [
       "<div class = \"td-resultset-table-div\" style = \"max-height: 100%; overflow-y: auto\">\n",
       "      <table class=\"tdhistory540314\"><style>\n",
       "      table.tdhistory540314 { display: block !important; min-height: 189px !important; overflow: auto !important; height: 189px !important; width: 100% !important; border: 1px solid rgb(207, 207, 207) !important; border-collapse: collapse !important; ; color: var(--jp-ui-font-color1) !important; }\n",
       "      th.tdhistory540314 { border: 1px solid rgb(198,198,198) !important; border-collapse: collapse !important; ; padding: 2px 5px !important; ; font-size: 13px !important; ; text-align: center !important; white-space: normal !important; color: var(--jp-ui-font-color1) !important; }\n",
       "      th.tdhistory540314:last-child { text-align: left !important; }\n",
       "      tbody.tdhistory540314 tr:nth-child(even) { background: rgba(243, 243, 243, 0.75) !important; }\n",
       "      tbody.tdhistory540314 tr:nth-child(odd) { background: var(--jp-ui-inverse-font-color1) !important; }\n",
       "      td.tdhistory540314 { border: 1px solid rgb(207, 207, 207) !important; border-collapse: collapse !important; ; padding: 2px 5px !important; ; font-size: 13px !important; ; text-align: left !important;          white-space: nowrap !important; overflow:hidden !important; text-overflow:ellipsis !important;; }\n",
       "    </style><thead><tr style= \"background: rgba(243, 243, 243, 0.75)\"><th class=\"tdhistory540314\"></th><th class=\"tdhistory540314\">Budget_Amount</th></tr></thead><tbody class=\"tdhistory540314 resultset-body\"><tr><th class=\"tdhistory540314\" style= \"background: rgba(243, 243, 243, 0.75)\">1</th><td class=\"tdhistory540314\">932,000.00</td></tr><tr><th class=\"tdhistory540314\" style= \"background: rgba(243, 243, 243, 0.75)\">2</th><td class=\"tdhistory540314\">982,300.00</td></tr><tr><th class=\"tdhistory540314\" style= \"background: rgba(243, 243, 243, 0.75)\">3</th><td class=\"tdhistory540314\">982,300.00</td></tr><tr><th class=\"tdhistory540314\" style= \"background: rgba(243, 243, 243, 0.75)\">4</th><td class=\"tdhistory540314\">982,300.00</td></tr><tr><th class=\"tdhistory540314\" style= \"background: rgba(243, 243, 243, 0.75)\">5</th><td class=\"tdhistory540314\">932,000.00</td></tr></tbody></table></div>"
      ]
     },
     "execution_count": 175,
     "metadata": {
      "application/vnd.teradata.resultset": "{\"resultSetID\":\"/home/jupyter/Teradata/Resultsets/2022.01.11_15.05.59.154_UTC\",\"historyID\":170,\"chunkID\":\"00001\",\"sessionid\":\"\",\"portnum\":\"\",\"dockermode\":\"standalone\",\"totalRowCount\":5,\"chunkCount\":0,\"rowLimit\":0,\"columnMetadata\":[{\"columnName\":\"Budget_Amount\",\"columnTypeName\":\"VARCHAR\",\"length\":30,\"scale\":30}]}"
     },
     "output_type": "execute_result"
    }
   ],
   "source": [
    "SELECT CAST((budget_amount (FORMAT 'zzz,zzz,zzz.99')) AS\n",
    "VARCHAR(30))\n",
    "FROM Department;\n"
   ]
  },
  {
   "cell_type": "markdown",
   "id": "4fbaeaf1",
   "metadata": {},
   "source": [
    "**<div class=\"alert alert-block alert-info\">  d) 00,982,300.00**</div>"
   ]
  },
  {
   "cell_type": "code",
   "execution_count": 176,
   "id": "3bc8a55e",
   "metadata": {},
   "outputs": [
    {
     "data": {
      "application/vnd.teradata.resultset": "\"Budget_Amount\"\n\"00,932,000.00\"\n\"00,982,300.00\"\n\"00,982,300.00\"\n\"00,982,300.00\"\n\"00,932,000.00\"",
      "text/html": [
       "<div class = \"td-resultset-table-div\" style = \"max-height: 100%; overflow-y: auto\">\n",
       "      <table class=\"tdhistory867354\"><style>\n",
       "      table.tdhistory867354 { display: block !important; min-height: 189px !important; overflow: auto !important; height: 189px !important; width: 100% !important; border: 1px solid rgb(207, 207, 207) !important; border-collapse: collapse !important; ; color: var(--jp-ui-font-color1) !important; }\n",
       "      th.tdhistory867354 { border: 1px solid rgb(198,198,198) !important; border-collapse: collapse !important; ; padding: 2px 5px !important; ; font-size: 13px !important; ; text-align: center !important; white-space: normal !important; color: var(--jp-ui-font-color1) !important; }\n",
       "      th.tdhistory867354:last-child { text-align: left !important; }\n",
       "      tbody.tdhistory867354 tr:nth-child(even) { background: rgba(243, 243, 243, 0.75) !important; }\n",
       "      tbody.tdhistory867354 tr:nth-child(odd) { background: var(--jp-ui-inverse-font-color1) !important; }\n",
       "      td.tdhistory867354 { border: 1px solid rgb(207, 207, 207) !important; border-collapse: collapse !important; ; padding: 2px 5px !important; ; font-size: 13px !important; ; text-align: left !important;          white-space: nowrap !important; overflow:hidden !important; text-overflow:ellipsis !important;; }\n",
       "    </style><thead><tr style= \"background: rgba(243, 243, 243, 0.75)\"><th class=\"tdhistory867354\"></th><th class=\"tdhistory867354\">Budget_Amount</th></tr></thead><tbody class=\"tdhistory867354 resultset-body\"><tr><th class=\"tdhistory867354\" style= \"background: rgba(243, 243, 243, 0.75)\">1</th><td class=\"tdhistory867354\">00,932,000.00</td></tr><tr><th class=\"tdhistory867354\" style= \"background: rgba(243, 243, 243, 0.75)\">2</th><td class=\"tdhistory867354\">00,982,300.00</td></tr><tr><th class=\"tdhistory867354\" style= \"background: rgba(243, 243, 243, 0.75)\">3</th><td class=\"tdhistory867354\">00,982,300.00</td></tr><tr><th class=\"tdhistory867354\" style= \"background: rgba(243, 243, 243, 0.75)\">4</th><td class=\"tdhistory867354\">00,982,300.00</td></tr><tr><th class=\"tdhistory867354\" style= \"background: rgba(243, 243, 243, 0.75)\">5</th><td class=\"tdhistory867354\">00,932,000.00</td></tr></tbody></table></div>"
      ]
     },
     "execution_count": 176,
     "metadata": {
      "application/vnd.teradata.resultset": "{\"resultSetID\":\"/home/jupyter/Teradata/Resultsets/2022.01.11_15.06.05.966_UTC\",\"historyID\":171,\"chunkID\":\"00001\",\"sessionid\":\"\",\"portnum\":\"\",\"dockermode\":\"standalone\",\"totalRowCount\":5,\"chunkCount\":0,\"rowLimit\":0,\"columnMetadata\":[{\"columnName\":\"Budget_Amount\",\"columnTypeName\":\"VARCHAR\",\"length\":30,\"scale\":30}]}"
     },
     "output_type": "execute_result"
    }
   ],
   "source": [
    "SELECT CAST((budget_amount (FORMAT '99,999,999.99')) AS\n",
    "VARCHAR(30))\n",
    "FROM Department;"
   ]
  },
  {
   "cell_type": "markdown",
   "id": "e963d6bc",
   "metadata": {},
   "source": [
    "**<div class=\"alert alert-block alert-info\">2. Apply the appropriate format to the Hire_Date column (Employee table) to produce the formatting result shown.**</div>\n",
    "**<div class=\"alert alert-block alert-info\">a) January 10, 2012**</div>"
   ]
  },
  {
   "cell_type": "code",
   "execution_count": 178,
   "id": "d205e894",
   "metadata": {},
   "outputs": [
    {
     "data": {
      "application/vnd.teradata.resultset": "\"Hire_Date\"\n\"February 02 2021\"\n\"February 05 2021\"\n\"February 14 2021\"\n\"February 04 2021\"\n\"February 14 2021\"\n\"February 08 2021\"\n\"February 03 2021\"\n\"February 04 2021\"\n\"February 14 2021\"\n\"February 14 2021\"\n\"February 09 2021\"\n\"February 10 2021\"\n\"February 12 2021\"\n\"February 13 2021\"\n\"February 14 2021\"\n\"February 07 2021\"\n\"February 11 2021\"\n\"February 01 2021\"\n\"February 06 2021\"\n\"February 09 2021\"",
      "text/html": [
       "<div class = \"td-resultset-table-div\" style = \"max-height: 100%; overflow-y: auto\">\n",
       "      <table class=\"tdhistory536085\"><style>\n",
       "      table.tdhistory536085 { display: block !important; min-height: 504px !important; overflow: auto !important; height: 504px !important; width: 100% !important; border: 1px solid rgb(207, 207, 207) !important; border-collapse: collapse !important; ; color: var(--jp-ui-font-color1) !important; }\n",
       "      th.tdhistory536085 { border: 1px solid rgb(198,198,198) !important; border-collapse: collapse !important; ; padding: 2px 5px !important; ; font-size: 13px !important; ; text-align: center !important; white-space: normal !important; color: var(--jp-ui-font-color1) !important; }\n",
       "      th.tdhistory536085:last-child { text-align: left !important; }\n",
       "      tbody.tdhistory536085 tr:nth-child(even) { background: rgba(243, 243, 243, 0.75) !important; }\n",
       "      tbody.tdhistory536085 tr:nth-child(odd) { background: var(--jp-ui-inverse-font-color1) !important; }\n",
       "      td.tdhistory536085 { border: 1px solid rgb(207, 207, 207) !important; border-collapse: collapse !important; ; padding: 2px 5px !important; ; font-size: 13px !important; ; text-align: left !important;          white-space: nowrap !important; overflow:hidden !important; text-overflow:ellipsis !important;; }\n",
       "    </style><thead><tr style= \"background: rgba(243, 243, 243, 0.75)\"><th class=\"tdhistory536085\"></th><th class=\"tdhistory536085\">Hire_Date</th></tr></thead><tbody class=\"tdhistory536085 resultset-body\"><tr><th class=\"tdhistory536085\" style= \"background: rgba(243, 243, 243, 0.75)\">1</th><td class=\"tdhistory536085\">February 02 2021</td></tr><tr><th class=\"tdhistory536085\" style= \"background: rgba(243, 243, 243, 0.75)\">2</th><td class=\"tdhistory536085\">February 05 2021</td></tr><tr><th class=\"tdhistory536085\" style= \"background: rgba(243, 243, 243, 0.75)\">3</th><td class=\"tdhistory536085\">February 14 2021</td></tr><tr><th class=\"tdhistory536085\" style= \"background: rgba(243, 243, 243, 0.75)\">4</th><td class=\"tdhistory536085\">February 04 2021</td></tr><tr><th class=\"tdhistory536085\" style= \"background: rgba(243, 243, 243, 0.75)\">5</th><td class=\"tdhistory536085\">February 14 2021</td></tr><tr><th class=\"tdhistory536085\" style= \"background: rgba(243, 243, 243, 0.75)\">6</th><td class=\"tdhistory536085\">February 08 2021</td></tr><tr><th class=\"tdhistory536085\" style= \"background: rgba(243, 243, 243, 0.75)\">7</th><td class=\"tdhistory536085\">February 03 2021</td></tr><tr><th class=\"tdhistory536085\" style= \"background: rgba(243, 243, 243, 0.75)\">8</th><td class=\"tdhistory536085\">February 04 2021</td></tr><tr><th class=\"tdhistory536085\" style= \"background: rgba(243, 243, 243, 0.75)\">9</th><td class=\"tdhistory536085\">February 14 2021</td></tr><tr><th class=\"tdhistory536085\" style= \"background: rgba(243, 243, 243, 0.75)\">10</th><td class=\"tdhistory536085\">February 14 2021</td></tr><tr><th class=\"tdhistory536085\" style= \"background: rgba(243, 243, 243, 0.75)\">11</th><td class=\"tdhistory536085\">February 09 2021</td></tr><tr><th class=\"tdhistory536085\" style= \"background: rgba(243, 243, 243, 0.75)\">12</th><td class=\"tdhistory536085\">February 10 2021</td></tr><tr><th class=\"tdhistory536085\" style= \"background: rgba(243, 243, 243, 0.75)\">13</th><td class=\"tdhistory536085\">February 12 2021</td></tr><tr><th class=\"tdhistory536085\" style= \"background: rgba(243, 243, 243, 0.75)\">14</th><td class=\"tdhistory536085\">February 13 2021</td></tr><tr><th class=\"tdhistory536085\" style= \"background: rgba(243, 243, 243, 0.75)\">15</th><td class=\"tdhistory536085\">February 14 2021</td></tr><tr><th class=\"tdhistory536085\" style= \"background: rgba(243, 243, 243, 0.75)\">16</th><td class=\"tdhistory536085\">February 07 2021</td></tr><tr><th class=\"tdhistory536085\" style= \"background: rgba(243, 243, 243, 0.75)\">17</th><td class=\"tdhistory536085\">February 11 2021</td></tr><tr><th class=\"tdhistory536085\" style= \"background: rgba(243, 243, 243, 0.75)\">18</th><td class=\"tdhistory536085\">February 01 2021</td></tr><tr><th class=\"tdhistory536085\" style= \"background: rgba(243, 243, 243, 0.75)\">19</th><td class=\"tdhistory536085\">February 06 2021</td></tr><tr><th class=\"tdhistory536085\" style= \"background: rgba(243, 243, 243, 0.75)\">20</th><td class=\"tdhistory536085\">February 09 2021</td></tr></tbody></table></div>"
      ]
     },
     "execution_count": 178,
     "metadata": {
      "application/vnd.teradata.resultset": "{\"resultSetID\":\"/home/jupyter/Teradata/Resultsets/2022.01.11_15.06.33.766_UTC\",\"historyID\":173,\"chunkID\":\"00001\",\"sessionid\":\"\",\"portnum\":\"\",\"dockermode\":\"standalone\",\"totalRowCount\":20,\"chunkCount\":0,\"rowLimit\":0,\"columnMetadata\":[{\"columnName\":\"Hire_Date\",\"columnTypeName\":\"VARCHAR\",\"length\":30,\"scale\":30}]}"
     },
     "output_type": "execute_result"
    }
   ],
   "source": [
    "SELECT CAST((hire_date (FORMAT 'm4BddBy4'))AS VARCHAR(30))\n",
    "FROM Employee;"
   ]
  },
  {
   "cell_type": "markdown",
   "id": "31c254a4",
   "metadata": {},
   "source": [
    "**<div class=\"alert alert-block alert-info\">b) Monday, January 10**</div>"
   ]
  },
  {
   "cell_type": "code",
   "execution_count": 179,
   "id": "a8ed7f4a",
   "metadata": {},
   "outputs": [
    {
     "data": {
      "application/vnd.teradata.resultset": "\"Hire_Date\"\n\"Tuesday, February 02\"\n\"Friday, February 05\"\n\"Sunday, February 14\"\n\"Thursday, February 04\"\n\"Sunday, February 14\"\n\"Monday, February 08\"\n\"Wednesday, February 03\"\n\"Thursday, February 04\"\n\"Sunday, February 14\"\n\"Sunday, February 14\"\n\"Tuesday, February 09\"\n\"Wednesday, February 10\"\n\"Friday, February 12\"\n\"Saturday, February 13\"\n\"Sunday, February 14\"\n\"Sunday, February 07\"\n\"Thursday, February 11\"\n\"Monday, February 01\"\n\"Saturday, February 06\"\n\"Tuesday, February 09\"",
      "text/html": [
       "<div class = \"td-resultset-table-div\" style = \"max-height: 100%; overflow-y: auto\">\n",
       "      <table class=\"tdhistory996451\"><style>\n",
       "      table.tdhistory996451 { display: block !important; min-height: 504px !important; overflow: auto !important; height: 504px !important; width: 100% !important; border: 1px solid rgb(207, 207, 207) !important; border-collapse: collapse !important; ; color: var(--jp-ui-font-color1) !important; }\n",
       "      th.tdhistory996451 { border: 1px solid rgb(198,198,198) !important; border-collapse: collapse !important; ; padding: 2px 5px !important; ; font-size: 13px !important; ; text-align: center !important; white-space: normal !important; color: var(--jp-ui-font-color1) !important; }\n",
       "      th.tdhistory996451:last-child { text-align: left !important; }\n",
       "      tbody.tdhistory996451 tr:nth-child(even) { background: rgba(243, 243, 243, 0.75) !important; }\n",
       "      tbody.tdhistory996451 tr:nth-child(odd) { background: var(--jp-ui-inverse-font-color1) !important; }\n",
       "      td.tdhistory996451 { border: 1px solid rgb(207, 207, 207) !important; border-collapse: collapse !important; ; padding: 2px 5px !important; ; font-size: 13px !important; ; text-align: left !important;          white-space: nowrap !important; overflow:hidden !important; text-overflow:ellipsis !important;; }\n",
       "    </style><thead><tr style= \"background: rgba(243, 243, 243, 0.75)\"><th class=\"tdhistory996451\"></th><th class=\"tdhistory996451\">Hire_Date</th></tr></thead><tbody class=\"tdhistory996451 resultset-body\"><tr><th class=\"tdhistory996451\" style= \"background: rgba(243, 243, 243, 0.75)\">1</th><td class=\"tdhistory996451\">Tuesday, February 02</td></tr><tr><th class=\"tdhistory996451\" style= \"background: rgba(243, 243, 243, 0.75)\">2</th><td class=\"tdhistory996451\">Friday, February 05</td></tr><tr><th class=\"tdhistory996451\" style= \"background: rgba(243, 243, 243, 0.75)\">3</th><td class=\"tdhistory996451\">Sunday, February 14</td></tr><tr><th class=\"tdhistory996451\" style= \"background: rgba(243, 243, 243, 0.75)\">4</th><td class=\"tdhistory996451\">Thursday, February 04</td></tr><tr><th class=\"tdhistory996451\" style= \"background: rgba(243, 243, 243, 0.75)\">5</th><td class=\"tdhistory996451\">Sunday, February 14</td></tr><tr><th class=\"tdhistory996451\" style= \"background: rgba(243, 243, 243, 0.75)\">6</th><td class=\"tdhistory996451\">Monday, February 08</td></tr><tr><th class=\"tdhistory996451\" style= \"background: rgba(243, 243, 243, 0.75)\">7</th><td class=\"tdhistory996451\">Wednesday, February 03</td></tr><tr><th class=\"tdhistory996451\" style= \"background: rgba(243, 243, 243, 0.75)\">8</th><td class=\"tdhistory996451\">Thursday, February 04</td></tr><tr><th class=\"tdhistory996451\" style= \"background: rgba(243, 243, 243, 0.75)\">9</th><td class=\"tdhistory996451\">Sunday, February 14</td></tr><tr><th class=\"tdhistory996451\" style= \"background: rgba(243, 243, 243, 0.75)\">10</th><td class=\"tdhistory996451\">Sunday, February 14</td></tr><tr><th class=\"tdhistory996451\" style= \"background: rgba(243, 243, 243, 0.75)\">11</th><td class=\"tdhistory996451\">Tuesday, February 09</td></tr><tr><th class=\"tdhistory996451\" style= \"background: rgba(243, 243, 243, 0.75)\">12</th><td class=\"tdhistory996451\">Wednesday, February 10</td></tr><tr><th class=\"tdhistory996451\" style= \"background: rgba(243, 243, 243, 0.75)\">13</th><td class=\"tdhistory996451\">Friday, February 12</td></tr><tr><th class=\"tdhistory996451\" style= \"background: rgba(243, 243, 243, 0.75)\">14</th><td class=\"tdhistory996451\">Saturday, February 13</td></tr><tr><th class=\"tdhistory996451\" style= \"background: rgba(243, 243, 243, 0.75)\">15</th><td class=\"tdhistory996451\">Sunday, February 14</td></tr><tr><th class=\"tdhistory996451\" style= \"background: rgba(243, 243, 243, 0.75)\">16</th><td class=\"tdhistory996451\">Sunday, February 07</td></tr><tr><th class=\"tdhistory996451\" style= \"background: rgba(243, 243, 243, 0.75)\">17</th><td class=\"tdhistory996451\">Thursday, February 11</td></tr><tr><th class=\"tdhistory996451\" style= \"background: rgba(243, 243, 243, 0.75)\">18</th><td class=\"tdhistory996451\">Monday, February 01</td></tr><tr><th class=\"tdhistory996451\" style= \"background: rgba(243, 243, 243, 0.75)\">19</th><td class=\"tdhistory996451\">Saturday, February 06</td></tr><tr><th class=\"tdhistory996451\" style= \"background: rgba(243, 243, 243, 0.75)\">20</th><td class=\"tdhistory996451\">Tuesday, February 09</td></tr></tbody></table></div>"
      ]
     },
     "execution_count": 179,
     "metadata": {
      "application/vnd.teradata.resultset": "{\"resultSetID\":\"/home/jupyter/Teradata/Resultsets/2022.01.11_15.06.35.934_UTC\",\"historyID\":174,\"chunkID\":\"00001\",\"sessionid\":\"\",\"portnum\":\"\",\"dockermode\":\"standalone\",\"totalRowCount\":20,\"chunkCount\":0,\"rowLimit\":0,\"columnMetadata\":[{\"columnName\":\"Hire_Date\",\"columnTypeName\":\"VARCHAR\",\"length\":30,\"scale\":30}]}"
     },
     "output_type": "execute_result"
    }
   ],
   "source": [
    "SELECT CAST((hire_date (FORMAT 'e4,Bm4bdd'))AS VARCHAR(30))\n",
    "FROM Employee;\n"
   ]
  },
  {
   "cell_type": "markdown",
   "id": "257fd58b",
   "metadata": {},
   "source": [
    "**<div class=\"alert alert-block alert-info\">c) Day 201 2012**</div>"
   ]
  },
  {
   "cell_type": "code",
   "execution_count": 180,
   "id": "781b6104",
   "metadata": {},
   "outputs": [
    {
     "data": {
      "application/vnd.teradata.resultset": "\"Hire_Date\"\n\"Day 033 2021\"\n\"Day 036 2021\"\n\"Day 045 2021\"\n\"Day 035 2021\"\n\"Day 045 2021\"\n\"Day 039 2021\"\n\"Day 034 2021\"\n\"Day 035 2021\"\n\"Day 045 2021\"\n\"Day 045 2021\"\n\"Day 040 2021\"\n\"Day 041 2021\"\n\"Day 043 2021\"\n\"Day 044 2021\"\n\"Day 045 2021\"\n\"Day 038 2021\"\n\"Day 042 2021\"\n\"Day 032 2021\"\n\"Day 037 2021\"\n\"Day 040 2021\"",
      "text/html": [
       "<div class = \"td-resultset-table-div\" style = \"max-height: 100%; overflow-y: auto\">\n",
       "      <table class=\"tdhistory476712\"><style>\n",
       "      table.tdhistory476712 { display: block !important; min-height: 504px !important; overflow: auto !important; height: 504px !important; width: 100% !important; border: 1px solid rgb(207, 207, 207) !important; border-collapse: collapse !important; ; color: var(--jp-ui-font-color1) !important; }\n",
       "      th.tdhistory476712 { border: 1px solid rgb(198,198,198) !important; border-collapse: collapse !important; ; padding: 2px 5px !important; ; font-size: 13px !important; ; text-align: center !important; white-space: normal !important; color: var(--jp-ui-font-color1) !important; }\n",
       "      th.tdhistory476712:last-child { text-align: left !important; }\n",
       "      tbody.tdhistory476712 tr:nth-child(even) { background: rgba(243, 243, 243, 0.75) !important; }\n",
       "      tbody.tdhistory476712 tr:nth-child(odd) { background: var(--jp-ui-inverse-font-color1) !important; }\n",
       "      td.tdhistory476712 { border: 1px solid rgb(207, 207, 207) !important; border-collapse: collapse !important; ; padding: 2px 5px !important; ; font-size: 13px !important; ; text-align: left !important;          white-space: nowrap !important; overflow:hidden !important; text-overflow:ellipsis !important;; }\n",
       "    </style><thead><tr style= \"background: rgba(243, 243, 243, 0.75)\"><th class=\"tdhistory476712\"></th><th class=\"tdhistory476712\">Hire_Date</th></tr></thead><tbody class=\"tdhistory476712 resultset-body\"><tr><th class=\"tdhistory476712\" style= \"background: rgba(243, 243, 243, 0.75)\">1</th><td class=\"tdhistory476712\">Day 033 2021</td></tr><tr><th class=\"tdhistory476712\" style= \"background: rgba(243, 243, 243, 0.75)\">2</th><td class=\"tdhistory476712\">Day 036 2021</td></tr><tr><th class=\"tdhistory476712\" style= \"background: rgba(243, 243, 243, 0.75)\">3</th><td class=\"tdhistory476712\">Day 045 2021</td></tr><tr><th class=\"tdhistory476712\" style= \"background: rgba(243, 243, 243, 0.75)\">4</th><td class=\"tdhistory476712\">Day 035 2021</td></tr><tr><th class=\"tdhistory476712\" style= \"background: rgba(243, 243, 243, 0.75)\">5</th><td class=\"tdhistory476712\">Day 045 2021</td></tr><tr><th class=\"tdhistory476712\" style= \"background: rgba(243, 243, 243, 0.75)\">6</th><td class=\"tdhistory476712\">Day 039 2021</td></tr><tr><th class=\"tdhistory476712\" style= \"background: rgba(243, 243, 243, 0.75)\">7</th><td class=\"tdhistory476712\">Day 034 2021</td></tr><tr><th class=\"tdhistory476712\" style= \"background: rgba(243, 243, 243, 0.75)\">8</th><td class=\"tdhistory476712\">Day 035 2021</td></tr><tr><th class=\"tdhistory476712\" style= \"background: rgba(243, 243, 243, 0.75)\">9</th><td class=\"tdhistory476712\">Day 045 2021</td></tr><tr><th class=\"tdhistory476712\" style= \"background: rgba(243, 243, 243, 0.75)\">10</th><td class=\"tdhistory476712\">Day 045 2021</td></tr><tr><th class=\"tdhistory476712\" style= \"background: rgba(243, 243, 243, 0.75)\">11</th><td class=\"tdhistory476712\">Day 040 2021</td></tr><tr><th class=\"tdhistory476712\" style= \"background: rgba(243, 243, 243, 0.75)\">12</th><td class=\"tdhistory476712\">Day 041 2021</td></tr><tr><th class=\"tdhistory476712\" style= \"background: rgba(243, 243, 243, 0.75)\">13</th><td class=\"tdhistory476712\">Day 043 2021</td></tr><tr><th class=\"tdhistory476712\" style= \"background: rgba(243, 243, 243, 0.75)\">14</th><td class=\"tdhistory476712\">Day 044 2021</td></tr><tr><th class=\"tdhistory476712\" style= \"background: rgba(243, 243, 243, 0.75)\">15</th><td class=\"tdhistory476712\">Day 045 2021</td></tr><tr><th class=\"tdhistory476712\" style= \"background: rgba(243, 243, 243, 0.75)\">16</th><td class=\"tdhistory476712\">Day 038 2021</td></tr><tr><th class=\"tdhistory476712\" style= \"background: rgba(243, 243, 243, 0.75)\">17</th><td class=\"tdhistory476712\">Day 042 2021</td></tr><tr><th class=\"tdhistory476712\" style= \"background: rgba(243, 243, 243, 0.75)\">18</th><td class=\"tdhistory476712\">Day 032 2021</td></tr><tr><th class=\"tdhistory476712\" style= \"background: rgba(243, 243, 243, 0.75)\">19</th><td class=\"tdhistory476712\">Day 037 2021</td></tr><tr><th class=\"tdhistory476712\" style= \"background: rgba(243, 243, 243, 0.75)\">20</th><td class=\"tdhistory476712\">Day 040 2021</td></tr></tbody></table></div>"
      ]
     },
     "execution_count": 180,
     "metadata": {
      "application/vnd.teradata.resultset": "{\"resultSetID\":\"/home/jupyter/Teradata/Resultsets/2022.01.11_15.06.37.717_UTC\",\"historyID\":175,\"chunkID\":\"00001\",\"sessionid\":\"\",\"portnum\":\"\",\"dockermode\":\"standalone\",\"totalRowCount\":20,\"chunkCount\":0,\"rowLimit\":0,\"columnMetadata\":[{\"columnName\":\"Hire_Date\",\"columnTypeName\":\"VARCHAR\",\"length\":34,\"scale\":34}]}"
     },
     "output_type": "execute_result"
    }
   ],
   "source": [
    "SELECT\n",
    "'Day '||CAST((hire_date (FORMAT 'd3By4'))AS VARCHAR(30))\n",
    "FROM Employee;"
   ]
  },
  {
   "cell_type": "markdown",
   "id": "98650959",
   "metadata": {},
   "source": [
    "# Teradata Joins Slide [86-96]\n",
    "**<div class=\"alert alert-block alert-info\"> INNER JOIN** </div>"
   ]
  },
  {
   "cell_type": "code",
   "execution_count": 181,
   "id": "82ae2041",
   "metadata": {},
   "outputs": [
    {
     "data": {
      "application/vnd.teradata.resultset": "\"Last_Name\",\"First_Name\",\"Employee_Number\",\"Dept_Number\",\"Job_Desc\"\n\"Stein                                   \",\"John\",\"1006\",\"301\",\"Manager - Research a                    \"\n\"Wilson                                  \",\"Edward\",\"1015\",\"501\",\"Manager - Customer S                    \"\n\"Rogers                                  \",\"Frank\",\"1010\",\"401\",\"Manager - Education                     \"\n\"Johnson                                 \",\"Darlene\",\"1004\",\"401\",\"Manager - Education                     \"\n\"Ratzlaff                                \",\"Larry\",\"1018\",\"501\",\"Manager - Education                     \"\n\"Hoover                                  \",\"William\",\"1001\",\"401\",\"Manager - Education                     \"",
      "text/html": [
       "<div class = \"td-resultset-table-div\" style = \"max-height: 100%; overflow-y: auto\">\n",
       "      <table class=\"tdhistory19744\"><style>\n",
       "      table.tdhistory19744 { display: block !important; min-height: 210px !important; overflow: auto !important; height: 210px !important; width: 100% !important; border: 1px solid rgb(207, 207, 207) !important; border-collapse: collapse !important; ; color: var(--jp-ui-font-color1) !important; }\n",
       "      th.tdhistory19744 { border: 1px solid rgb(198,198,198) !important; border-collapse: collapse !important; ; padding: 2px 5px !important; ; font-size: 13px !important; ; text-align: center !important; white-space: normal !important; color: var(--jp-ui-font-color1) !important; }\n",
       "      th.tdhistory19744:last-child { text-align: left !important; }\n",
       "      tbody.tdhistory19744 tr:nth-child(even) { background: rgba(243, 243, 243, 0.75) !important; }\n",
       "      tbody.tdhistory19744 tr:nth-child(odd) { background: var(--jp-ui-inverse-font-color1) !important; }\n",
       "      td.tdhistory19744 { border: 1px solid rgb(207, 207, 207) !important; border-collapse: collapse !important; ; padding: 2px 5px !important; ; font-size: 13px !important; ; text-align: left !important;          white-space: nowrap !important; overflow:hidden !important; text-overflow:ellipsis !important;; }\n",
       "    </style><thead><tr style= \"background: rgba(243, 243, 243, 0.75)\"><th class=\"tdhistory19744\"></th><th class=\"tdhistory19744\">Last_Name</th><th class=\"tdhistory19744\">First_Name</th><th class=\"tdhistory19744\">Employee_Number</th><th class=\"tdhistory19744\">Dept_Number</th><th class=\"tdhistory19744\">Job_Desc</th></tr></thead><tbody class=\"tdhistory19744 resultset-body\"><tr><th class=\"tdhistory19744\" style= \"background: rgba(243, 243, 243, 0.75)\">1</th><td class=\"tdhistory19744\">Stein                                   </td><td class=\"tdhistory19744\">John</td><td class=\"tdhistory19744\">1006</td><td class=\"tdhistory19744\">301</td><td class=\"tdhistory19744\">Manager - Research a                    </td></tr><tr><th class=\"tdhistory19744\" style= \"background: rgba(243, 243, 243, 0.75)\">2</th><td class=\"tdhistory19744\">Wilson                                  </td><td class=\"tdhistory19744\">Edward</td><td class=\"tdhistory19744\">1015</td><td class=\"tdhistory19744\">501</td><td class=\"tdhistory19744\">Manager - Customer S                    </td></tr><tr><th class=\"tdhistory19744\" style= \"background: rgba(243, 243, 243, 0.75)\">3</th><td class=\"tdhistory19744\">Rogers                                  </td><td class=\"tdhistory19744\">Frank</td><td class=\"tdhistory19744\">1010</td><td class=\"tdhistory19744\">401</td><td class=\"tdhistory19744\">Manager - Education                     </td></tr><tr><th class=\"tdhistory19744\" style= \"background: rgba(243, 243, 243, 0.75)\">4</th><td class=\"tdhistory19744\">Johnson                                 </td><td class=\"tdhistory19744\">Darlene</td><td class=\"tdhistory19744\">1004</td><td class=\"tdhistory19744\">401</td><td class=\"tdhistory19744\">Manager - Education                     </td></tr><tr><th class=\"tdhistory19744\" style= \"background: rgba(243, 243, 243, 0.75)\">5</th><td class=\"tdhistory19744\">Ratzlaff                                </td><td class=\"tdhistory19744\">Larry</td><td class=\"tdhistory19744\">1018</td><td class=\"tdhistory19744\">501</td><td class=\"tdhistory19744\">Manager - Education                     </td></tr><tr><th class=\"tdhistory19744\" style= \"background: rgba(243, 243, 243, 0.75)\">6</th><td class=\"tdhistory19744\">Hoover                                  </td><td class=\"tdhistory19744\">William</td><td class=\"tdhistory19744\">1001</td><td class=\"tdhistory19744\">401</td><td class=\"tdhistory19744\">Manager - Education                     </td></tr></tbody></table></div>"
      ]
     },
     "execution_count": 181,
     "metadata": {
      "application/vnd.teradata.resultset": "{\"resultSetID\":\"/home/jupyter/Teradata/Resultsets/2022.01.11_15.06.41.745_UTC\",\"historyID\":176,\"chunkID\":\"00001\",\"sessionid\":\"\",\"portnum\":\"\",\"dockermode\":\"standalone\",\"totalRowCount\":6,\"chunkCount\":0,\"rowLimit\":0,\"columnMetadata\":[{\"columnName\":\"Last_Name\",\"columnTypeName\":\"CHAR\",\"length\":20,\"scale\":20},{\"columnNumber\":1,\"columnName\":\"First_Name\",\"columnTypeName\":\"VARCHAR\",\"length\":20,\"scale\":20},{\"columnNumber\":2,\"columnName\":\"Employee_Number\",\"columnTypeName\":\"INTEGER\"},{\"columnNumber\":3,\"columnName\":\"Dept_Number\",\"columnTypeName\":\"INTEGER\"},{\"columnNumber\":4,\"columnName\":\"Job_Desc\",\"columnTypeName\":\"CHAR\",\"length\":20,\"scale\":20}]}"
     },
     "output_type": "execute_result"
    }
   ],
   "source": [
    "SELECT e.last_name, e.first_name, e.employee_number, e.dept_number,\n",
    "j.job_desc\n",
    "FROM Employee e INNER JOIN Job j\n",
    "On e. Job_Code=j. Job_Code;\n"
   ]
  },
  {
   "cell_type": "markdown",
   "id": "74d8856f",
   "metadata": {},
   "source": [
    "**<div class=\"alert alert-block alert-info\"> 1.Write a query to fetch employee details like name, employee number, department number and job description if available. (Left outer join)** </div>\n"
   ]
  },
  {
   "cell_type": "code",
   "execution_count": 182,
   "id": "400f3dd1",
   "metadata": {},
   "outputs": [
    {
     "data": {
      "application/vnd.teradata.resultset": "\"Last_Name\",\"First_Name\",\"Employee_Number\",\"Dept_Number\",\"Job_Desc\"\n\"Stein                                   \",\"John\",\"1006\",\"301\",\"Manager - Research a                    \"\n\"Rabbit                                  \",\"Peter\",\"1023\",\"501\",\"\"\n\"Short                                   \",\"Michael\",\"1025\",\"\",\"\"\n\"Wilson                                  \",\"Edward\",\"1015\",\"501\",\"Manager - Customer S                    \"\n\"Morrissey                               \",\"Jim\",\"1021\",\"\",\"\"\n\"Johnson                                 \",\"Darlene\",\"1004\",\"401\",\"Manager - Education                     \"\n\"Villegas                                \",\"Arnando\",\"1007\",\"403\",\"\"\n\"Rogers                                  \",\"Nora\",\"1016\",\"\",\"\"\n\"Kanieski                                \",\"Carol\",\"1008\",\"301\",\"\"\n\"Machado                                 \",\"Albert\",\"1022\",\"401\",\"\"\n\"Hoover                                  \",\"William\",\"1001\",\"401\",\"Manager - Education                     \"\n\"Crane                                   \",\"Robert\",\"1014\",\"402\",\"\"\n\"Ratzlaff                                \",\"Larry\",\"1018\",\"501\",\"Manager - Education                     \"\n\"Brown                                   \",\"Allen\",\"1024\",\"403\",\"\"\n\"Rogers                                  \",\"Frank\",\"1010\",\"401\",\"Manager - Education                     \"\n\"Hopkins                                 \",\"Paulene\",\"1012\",\"403\",\"\"\n\"Lombardo                                \",\"Domingus\",\"1009\",\"403\",\"\"\n\"Phillips                                \",\"Charles\",\"1013\",\"401\",\"\"\n\"Charles                                 \",\"John\",\"1020\",\"403\",\"\"\n\"Brown                                   \",\"Alan\",\"1002\",\"401\",\"\"",
      "text/html": [
       "<div class = \"td-resultset-table-div\" style = \"max-height: 100%; overflow-y: auto\">\n",
       "      <table class=\"tdhistory915575\"><style>\n",
       "      table.tdhistory915575 { display: block !important; min-height: 504px !important; overflow: auto !important; height: 504px !important; width: 100% !important; border: 1px solid rgb(207, 207, 207) !important; border-collapse: collapse !important; ; color: var(--jp-ui-font-color1) !important; }\n",
       "      th.tdhistory915575 { border: 1px solid rgb(198,198,198) !important; border-collapse: collapse !important; ; padding: 2px 5px !important; ; font-size: 13px !important; ; text-align: center !important; white-space: normal !important; color: var(--jp-ui-font-color1) !important; }\n",
       "      th.tdhistory915575:last-child { text-align: left !important; }\n",
       "      tbody.tdhistory915575 tr:nth-child(even) { background: rgba(243, 243, 243, 0.75) !important; }\n",
       "      tbody.tdhistory915575 tr:nth-child(odd) { background: var(--jp-ui-inverse-font-color1) !important; }\n",
       "      td.tdhistory915575 { border: 1px solid rgb(207, 207, 207) !important; border-collapse: collapse !important; ; padding: 2px 5px !important; ; font-size: 13px !important; ; text-align: left !important;          white-space: nowrap !important; overflow:hidden !important; text-overflow:ellipsis !important;; }\n",
       "    </style><thead><tr style= \"background: rgba(243, 243, 243, 0.75)\"><th class=\"tdhistory915575\"></th><th class=\"tdhistory915575\">Last_Name</th><th class=\"tdhistory915575\">First_Name</th><th class=\"tdhistory915575\">Employee_Number</th><th class=\"tdhistory915575\">Dept_Number</th><th class=\"tdhistory915575\">Job_Desc</th></tr></thead><tbody class=\"tdhistory915575 resultset-body\"><tr><th class=\"tdhistory915575\" style= \"background: rgba(243, 243, 243, 0.75)\">1</th><td class=\"tdhistory915575\">Stein                                   </td><td class=\"tdhistory915575\">John</td><td class=\"tdhistory915575\">1006</td><td class=\"tdhistory915575\">301</td><td class=\"tdhistory915575\">Manager - Research a                    </td></tr><tr><th class=\"tdhistory915575\" style= \"background: rgba(243, 243, 243, 0.75)\">2</th><td class=\"tdhistory915575\">Rabbit                                  </td><td class=\"tdhistory915575\">Peter</td><td class=\"tdhistory915575\">1023</td><td class=\"tdhistory915575\">501</td><td class=\"tdhistory915575\"></td></tr><tr><th class=\"tdhistory915575\" style= \"background: rgba(243, 243, 243, 0.75)\">3</th><td class=\"tdhistory915575\">Short                                   </td><td class=\"tdhistory915575\">Michael</td><td class=\"tdhistory915575\">1025</td><td class=\"tdhistory915575\"></td><td class=\"tdhistory915575\"></td></tr><tr><th class=\"tdhistory915575\" style= \"background: rgba(243, 243, 243, 0.75)\">4</th><td class=\"tdhistory915575\">Wilson                                  </td><td class=\"tdhistory915575\">Edward</td><td class=\"tdhistory915575\">1015</td><td class=\"tdhistory915575\">501</td><td class=\"tdhistory915575\">Manager - Customer S                    </td></tr><tr><th class=\"tdhistory915575\" style= \"background: rgba(243, 243, 243, 0.75)\">5</th><td class=\"tdhistory915575\">Morrissey                               </td><td class=\"tdhistory915575\">Jim</td><td class=\"tdhistory915575\">1021</td><td class=\"tdhistory915575\"></td><td class=\"tdhistory915575\"></td></tr><tr><th class=\"tdhistory915575\" style= \"background: rgba(243, 243, 243, 0.75)\">6</th><td class=\"tdhistory915575\">Johnson                                 </td><td class=\"tdhistory915575\">Darlene</td><td class=\"tdhistory915575\">1004</td><td class=\"tdhistory915575\">401</td><td class=\"tdhistory915575\">Manager - Education                     </td></tr><tr><th class=\"tdhistory915575\" style= \"background: rgba(243, 243, 243, 0.75)\">7</th><td class=\"tdhistory915575\">Villegas                                </td><td class=\"tdhistory915575\">Arnando</td><td class=\"tdhistory915575\">1007</td><td class=\"tdhistory915575\">403</td><td class=\"tdhistory915575\"></td></tr><tr><th class=\"tdhistory915575\" style= \"background: rgba(243, 243, 243, 0.75)\">8</th><td class=\"tdhistory915575\">Rogers                                  </td><td class=\"tdhistory915575\">Nora</td><td class=\"tdhistory915575\">1016</td><td class=\"tdhistory915575\"></td><td class=\"tdhistory915575\"></td></tr><tr><th class=\"tdhistory915575\" style= \"background: rgba(243, 243, 243, 0.75)\">9</th><td class=\"tdhistory915575\">Kanieski                                </td><td class=\"tdhistory915575\">Carol</td><td class=\"tdhistory915575\">1008</td><td class=\"tdhistory915575\">301</td><td class=\"tdhistory915575\"></td></tr><tr><th class=\"tdhistory915575\" style= \"background: rgba(243, 243, 243, 0.75)\">10</th><td class=\"tdhistory915575\">Machado                                 </td><td class=\"tdhistory915575\">Albert</td><td class=\"tdhistory915575\">1022</td><td class=\"tdhistory915575\">401</td><td class=\"tdhistory915575\"></td></tr><tr><th class=\"tdhistory915575\" style= \"background: rgba(243, 243, 243, 0.75)\">11</th><td class=\"tdhistory915575\">Hoover                                  </td><td class=\"tdhistory915575\">William</td><td class=\"tdhistory915575\">1001</td><td class=\"tdhistory915575\">401</td><td class=\"tdhistory915575\">Manager - Education                     </td></tr><tr><th class=\"tdhistory915575\" style= \"background: rgba(243, 243, 243, 0.75)\">12</th><td class=\"tdhistory915575\">Crane                                   </td><td class=\"tdhistory915575\">Robert</td><td class=\"tdhistory915575\">1014</td><td class=\"tdhistory915575\">402</td><td class=\"tdhistory915575\"></td></tr><tr><th class=\"tdhistory915575\" style= \"background: rgba(243, 243, 243, 0.75)\">13</th><td class=\"tdhistory915575\">Ratzlaff                                </td><td class=\"tdhistory915575\">Larry</td><td class=\"tdhistory915575\">1018</td><td class=\"tdhistory915575\">501</td><td class=\"tdhistory915575\">Manager - Education                     </td></tr><tr><th class=\"tdhistory915575\" style= \"background: rgba(243, 243, 243, 0.75)\">14</th><td class=\"tdhistory915575\">Brown                                   </td><td class=\"tdhistory915575\">Allen</td><td class=\"tdhistory915575\">1024</td><td class=\"tdhistory915575\">403</td><td class=\"tdhistory915575\"></td></tr><tr><th class=\"tdhistory915575\" style= \"background: rgba(243, 243, 243, 0.75)\">15</th><td class=\"tdhistory915575\">Rogers                                  </td><td class=\"tdhistory915575\">Frank</td><td class=\"tdhistory915575\">1010</td><td class=\"tdhistory915575\">401</td><td class=\"tdhistory915575\">Manager - Education                     </td></tr><tr><th class=\"tdhistory915575\" style= \"background: rgba(243, 243, 243, 0.75)\">16</th><td class=\"tdhistory915575\">Hopkins                                 </td><td class=\"tdhistory915575\">Paulene</td><td class=\"tdhistory915575\">1012</td><td class=\"tdhistory915575\">403</td><td class=\"tdhistory915575\"></td></tr><tr><th class=\"tdhistory915575\" style= \"background: rgba(243, 243, 243, 0.75)\">17</th><td class=\"tdhistory915575\">Lombardo                                </td><td class=\"tdhistory915575\">Domingus</td><td class=\"tdhistory915575\">1009</td><td class=\"tdhistory915575\">403</td><td class=\"tdhistory915575\"></td></tr><tr><th class=\"tdhistory915575\" style= \"background: rgba(243, 243, 243, 0.75)\">18</th><td class=\"tdhistory915575\">Phillips                                </td><td class=\"tdhistory915575\">Charles</td><td class=\"tdhistory915575\">1013</td><td class=\"tdhistory915575\">401</td><td class=\"tdhistory915575\"></td></tr><tr><th class=\"tdhistory915575\" style= \"background: rgba(243, 243, 243, 0.75)\">19</th><td class=\"tdhistory915575\">Charles                                 </td><td class=\"tdhistory915575\">John</td><td class=\"tdhistory915575\">1020</td><td class=\"tdhistory915575\">403</td><td class=\"tdhistory915575\"></td></tr><tr><th class=\"tdhistory915575\" style= \"background: rgba(243, 243, 243, 0.75)\">20</th><td class=\"tdhistory915575\">Brown                                   </td><td class=\"tdhistory915575\">Alan</td><td class=\"tdhistory915575\">1002</td><td class=\"tdhistory915575\">401</td><td class=\"tdhistory915575\"></td></tr></tbody></table></div>"
      ]
     },
     "execution_count": 182,
     "metadata": {
      "application/vnd.teradata.resultset": "{\"resultSetID\":\"/home/jupyter/Teradata/Resultsets/2022.01.11_15.06.44.780_UTC\",\"historyID\":177,\"chunkID\":\"00001\",\"sessionid\":\"\",\"portnum\":\"\",\"dockermode\":\"standalone\",\"totalRowCount\":20,\"chunkCount\":0,\"rowLimit\":0,\"columnMetadata\":[{\"columnName\":\"Last_Name\",\"columnTypeName\":\"CHAR\",\"length\":20,\"scale\":20},{\"columnNumber\":1,\"columnName\":\"First_Name\",\"columnTypeName\":\"VARCHAR\",\"length\":20,\"scale\":20},{\"columnNumber\":2,\"columnName\":\"Employee_Number\",\"columnTypeName\":\"INTEGER\"},{\"columnNumber\":3,\"columnName\":\"Dept_Number\",\"columnTypeName\":\"INTEGER\"},{\"columnNumber\":4,\"columnName\":\"Job_Desc\",\"columnTypeName\":\"CHAR\",\"length\":20,\"scale\":20}]}"
     },
     "output_type": "execute_result"
    }
   ],
   "source": [
    "SELECT e.last_name, e.first_name, e.employee_number, e.dept_number,\n",
    "j.job_desc\n",
    "FROM Employee e LEFT OUTER JOIN Job j\n",
    "On e. Job_Code=j. Job_Code;\n"
   ]
  },
  {
   "cell_type": "markdown",
   "id": "59aa5f96",
   "metadata": {},
   "source": [
    "**<div class=\"alert alert-block alert-info\">2. Write a query to fetch employee details like name, employee number, department number and job description if available. (Right outer join)** </div>\n"
   ]
  },
  {
   "cell_type": "code",
   "execution_count": 183,
   "id": "cf725d94",
   "metadata": {},
   "outputs": [
    {
     "data": {
      "application/vnd.teradata.resultset": "\"Last_Name\",\"First_Name\",\"Employee_Number\",\"Dept_Number\",\"Job_Desc\"\n\"Stein                                   \",\"John\",\"1006\",\"301\",\"Manager - Research a                    \"\n\"Wilson                                  \",\"Edward\",\"1015\",\"501\",\"Manager - Customer S                    \"\n\"Rogers                                  \",\"Frank\",\"1010\",\"401\",\"Manager - Education                     \"\n\"Johnson                                 \",\"Darlene\",\"1004\",\"401\",\"Manager - Education                     \"\n\"Hoover                                  \",\"William\",\"1001\",\"401\",\"Manager - Education                     \"\n\"Ratzlaff                                \",\"Larry\",\"1018\",\"501\",\"Manager - Education                     \"",
      "text/html": [
       "<div class = \"td-resultset-table-div\" style = \"max-height: 100%; overflow-y: auto\">\n",
       "      <table class=\"tdhistory51659\"><style>\n",
       "      table.tdhistory51659 { display: block !important; min-height: 210px !important; overflow: auto !important; height: 210px !important; width: 100% !important; border: 1px solid rgb(207, 207, 207) !important; border-collapse: collapse !important; ; color: var(--jp-ui-font-color1) !important; }\n",
       "      th.tdhistory51659 { border: 1px solid rgb(198,198,198) !important; border-collapse: collapse !important; ; padding: 2px 5px !important; ; font-size: 13px !important; ; text-align: center !important; white-space: normal !important; color: var(--jp-ui-font-color1) !important; }\n",
       "      th.tdhistory51659:last-child { text-align: left !important; }\n",
       "      tbody.tdhistory51659 tr:nth-child(even) { background: rgba(243, 243, 243, 0.75) !important; }\n",
       "      tbody.tdhistory51659 tr:nth-child(odd) { background: var(--jp-ui-inverse-font-color1) !important; }\n",
       "      td.tdhistory51659 { border: 1px solid rgb(207, 207, 207) !important; border-collapse: collapse !important; ; padding: 2px 5px !important; ; font-size: 13px !important; ; text-align: left !important;          white-space: nowrap !important; overflow:hidden !important; text-overflow:ellipsis !important;; }\n",
       "    </style><thead><tr style= \"background: rgba(243, 243, 243, 0.75)\"><th class=\"tdhistory51659\"></th><th class=\"tdhistory51659\">Last_Name</th><th class=\"tdhistory51659\">First_Name</th><th class=\"tdhistory51659\">Employee_Number</th><th class=\"tdhistory51659\">Dept_Number</th><th class=\"tdhistory51659\">Job_Desc</th></tr></thead><tbody class=\"tdhistory51659 resultset-body\"><tr><th class=\"tdhistory51659\" style= \"background: rgba(243, 243, 243, 0.75)\">1</th><td class=\"tdhistory51659\">Stein                                   </td><td class=\"tdhistory51659\">John</td><td class=\"tdhistory51659\">1006</td><td class=\"tdhistory51659\">301</td><td class=\"tdhistory51659\">Manager - Research a                    </td></tr><tr><th class=\"tdhistory51659\" style= \"background: rgba(243, 243, 243, 0.75)\">2</th><td class=\"tdhistory51659\">Wilson                                  </td><td class=\"tdhistory51659\">Edward</td><td class=\"tdhistory51659\">1015</td><td class=\"tdhistory51659\">501</td><td class=\"tdhistory51659\">Manager - Customer S                    </td></tr><tr><th class=\"tdhistory51659\" style= \"background: rgba(243, 243, 243, 0.75)\">3</th><td class=\"tdhistory51659\">Rogers                                  </td><td class=\"tdhistory51659\">Frank</td><td class=\"tdhistory51659\">1010</td><td class=\"tdhistory51659\">401</td><td class=\"tdhistory51659\">Manager - Education                     </td></tr><tr><th class=\"tdhistory51659\" style= \"background: rgba(243, 243, 243, 0.75)\">4</th><td class=\"tdhistory51659\">Johnson                                 </td><td class=\"tdhistory51659\">Darlene</td><td class=\"tdhistory51659\">1004</td><td class=\"tdhistory51659\">401</td><td class=\"tdhistory51659\">Manager - Education                     </td></tr><tr><th class=\"tdhistory51659\" style= \"background: rgba(243, 243, 243, 0.75)\">5</th><td class=\"tdhistory51659\">Hoover                                  </td><td class=\"tdhistory51659\">William</td><td class=\"tdhistory51659\">1001</td><td class=\"tdhistory51659\">401</td><td class=\"tdhistory51659\">Manager - Education                     </td></tr><tr><th class=\"tdhistory51659\" style= \"background: rgba(243, 243, 243, 0.75)\">6</th><td class=\"tdhistory51659\">Ratzlaff                                </td><td class=\"tdhistory51659\">Larry</td><td class=\"tdhistory51659\">1018</td><td class=\"tdhistory51659\">501</td><td class=\"tdhistory51659\">Manager - Education                     </td></tr></tbody></table></div>"
      ]
     },
     "execution_count": 183,
     "metadata": {
      "application/vnd.teradata.resultset": "{\"resultSetID\":\"/home/jupyter/Teradata/Resultsets/2022.01.11_15.06.49.276_UTC\",\"historyID\":178,\"chunkID\":\"00001\",\"sessionid\":\"\",\"portnum\":\"\",\"dockermode\":\"standalone\",\"totalRowCount\":6,\"chunkCount\":0,\"rowLimit\":0,\"columnMetadata\":[{\"columnName\":\"Last_Name\",\"columnTypeName\":\"CHAR\",\"length\":20,\"scale\":20},{\"columnNumber\":1,\"columnName\":\"First_Name\",\"columnTypeName\":\"VARCHAR\",\"length\":20,\"scale\":20},{\"columnNumber\":2,\"columnName\":\"Employee_Number\",\"columnTypeName\":\"INTEGER\"},{\"columnNumber\":3,\"columnName\":\"Dept_Number\",\"columnTypeName\":\"INTEGER\"},{\"columnNumber\":4,\"columnName\":\"Job_Desc\",\"columnTypeName\":\"CHAR\",\"length\":20,\"scale\":20}]}"
     },
     "output_type": "execute_result"
    }
   ],
   "source": [
    "SELECT e.last_name, e.first_name, e.employee_number, e.dept_number,\n",
    "j.job_desc\n",
    "FROM Employee e RIGHT OUTER JOIN Job j\n",
    "On e. Job_Code=j. Job_Code;\n"
   ]
  },
  {
   "cell_type": "markdown",
   "id": "a4e5687b",
   "metadata": {},
   "source": [
    "**<div class=\"alert alert-block alert-info\">3. Write a query to fetch employee employee number, department number and  department description if available. (Right outer join))** </div>\n"
   ]
  },
  {
   "cell_type": "code",
   "execution_count": 184,
   "id": "a8ca5137",
   "metadata": {},
   "outputs": [
    {
     "data": {
      "application/vnd.teradata.resultset": "\"Dept_Number\",\"Dept_Name\",\"Employee_Number\"\n\"403\",\"education                               \",\"1024\"\n\"401\",\"customer support                        \",\"1013\"\n\"402\",\"NULL                                    \",\"1014\"\n\"501\",\"marketing sales                         \",\"1015\"\n\"301\",\"research and devl.                      \",\"1006\"\n\"403\",\"education                               \",\"1007\"\n\"401\",\"customer support                        \",\"1001\"\n\"501\",\"marketing sales                         \",\"1018\"\n\"301\",\"research and devl.                      \",\"1008\"\n\"403\",\"education                               \",\"1012\"\n\"401\",\"customer support                        \",\"1002\"\n\"501\",\"marketing sales                         \",\"1023\"\n\"403\",\"education                               \",\"1020\"\n\"401\",\"customer support                        \",\"1022\"\n\"403\",\"education                               \",\"1009\"\n\"401\",\"customer support                        \",\"1004\"\n\"401\",\"customer support                        \",\"1010\"",
      "text/html": [
       "<div class = \"td-resultset-table-div\" style = \"max-height: 100%; overflow-y: auto\">\n",
       "      <table class=\"tdhistory900271\"><style>\n",
       "      table.tdhistory900271 { display: block !important; min-height: 441px !important; overflow: auto !important; height: 441px !important; width: 100% !important; border: 1px solid rgb(207, 207, 207) !important; border-collapse: collapse !important; ; color: var(--jp-ui-font-color1) !important; }\n",
       "      th.tdhistory900271 { border: 1px solid rgb(198,198,198) !important; border-collapse: collapse !important; ; padding: 2px 5px !important; ; font-size: 13px !important; ; text-align: center !important; white-space: normal !important; color: var(--jp-ui-font-color1) !important; }\n",
       "      th.tdhistory900271:last-child { text-align: left !important; }\n",
       "      tbody.tdhistory900271 tr:nth-child(even) { background: rgba(243, 243, 243, 0.75) !important; }\n",
       "      tbody.tdhistory900271 tr:nth-child(odd) { background: var(--jp-ui-inverse-font-color1) !important; }\n",
       "      td.tdhistory900271 { border: 1px solid rgb(207, 207, 207) !important; border-collapse: collapse !important; ; padding: 2px 5px !important; ; font-size: 13px !important; ; text-align: left !important;          white-space: nowrap !important; overflow:hidden !important; text-overflow:ellipsis !important;; }\n",
       "    </style><thead><tr style= \"background: rgba(243, 243, 243, 0.75)\"><th class=\"tdhistory900271\"></th><th class=\"tdhistory900271\">Dept_Number</th><th class=\"tdhistory900271\">Dept_Name</th><th class=\"tdhistory900271\">Employee_Number</th></tr></thead><tbody class=\"tdhistory900271 resultset-body\"><tr><th class=\"tdhistory900271\" style= \"background: rgba(243, 243, 243, 0.75)\">1</th><td class=\"tdhistory900271\">403</td><td class=\"tdhistory900271\">education                               </td><td class=\"tdhistory900271\">1024</td></tr><tr><th class=\"tdhistory900271\" style= \"background: rgba(243, 243, 243, 0.75)\">2</th><td class=\"tdhistory900271\">401</td><td class=\"tdhistory900271\">customer support                        </td><td class=\"tdhistory900271\">1013</td></tr><tr><th class=\"tdhistory900271\" style= \"background: rgba(243, 243, 243, 0.75)\">3</th><td class=\"tdhistory900271\">402</td><td class=\"tdhistory900271\">NULL                                    </td><td class=\"tdhistory900271\">1014</td></tr><tr><th class=\"tdhistory900271\" style= \"background: rgba(243, 243, 243, 0.75)\">4</th><td class=\"tdhistory900271\">501</td><td class=\"tdhistory900271\">marketing sales                         </td><td class=\"tdhistory900271\">1015</td></tr><tr><th class=\"tdhistory900271\" style= \"background: rgba(243, 243, 243, 0.75)\">5</th><td class=\"tdhistory900271\">301</td><td class=\"tdhistory900271\">research and devl.                      </td><td class=\"tdhistory900271\">1006</td></tr><tr><th class=\"tdhistory900271\" style= \"background: rgba(243, 243, 243, 0.75)\">6</th><td class=\"tdhistory900271\">403</td><td class=\"tdhistory900271\">education                               </td><td class=\"tdhistory900271\">1007</td></tr><tr><th class=\"tdhistory900271\" style= \"background: rgba(243, 243, 243, 0.75)\">7</th><td class=\"tdhistory900271\">401</td><td class=\"tdhistory900271\">customer support                        </td><td class=\"tdhistory900271\">1001</td></tr><tr><th class=\"tdhistory900271\" style= \"background: rgba(243, 243, 243, 0.75)\">8</th><td class=\"tdhistory900271\">501</td><td class=\"tdhistory900271\">marketing sales                         </td><td class=\"tdhistory900271\">1018</td></tr><tr><th class=\"tdhistory900271\" style= \"background: rgba(243, 243, 243, 0.75)\">9</th><td class=\"tdhistory900271\">301</td><td class=\"tdhistory900271\">research and devl.                      </td><td class=\"tdhistory900271\">1008</td></tr><tr><th class=\"tdhistory900271\" style= \"background: rgba(243, 243, 243, 0.75)\">10</th><td class=\"tdhistory900271\">403</td><td class=\"tdhistory900271\">education                               </td><td class=\"tdhistory900271\">1012</td></tr><tr><th class=\"tdhistory900271\" style= \"background: rgba(243, 243, 243, 0.75)\">11</th><td class=\"tdhistory900271\">401</td><td class=\"tdhistory900271\">customer support                        </td><td class=\"tdhistory900271\">1002</td></tr><tr><th class=\"tdhistory900271\" style= \"background: rgba(243, 243, 243, 0.75)\">12</th><td class=\"tdhistory900271\">501</td><td class=\"tdhistory900271\">marketing sales                         </td><td class=\"tdhistory900271\">1023</td></tr><tr><th class=\"tdhistory900271\" style= \"background: rgba(243, 243, 243, 0.75)\">13</th><td class=\"tdhistory900271\">403</td><td class=\"tdhistory900271\">education                               </td><td class=\"tdhistory900271\">1020</td></tr><tr><th class=\"tdhistory900271\" style= \"background: rgba(243, 243, 243, 0.75)\">14</th><td class=\"tdhistory900271\">401</td><td class=\"tdhistory900271\">customer support                        </td><td class=\"tdhistory900271\">1022</td></tr><tr><th class=\"tdhistory900271\" style= \"background: rgba(243, 243, 243, 0.75)\">15</th><td class=\"tdhistory900271\">403</td><td class=\"tdhistory900271\">education                               </td><td class=\"tdhistory900271\">1009</td></tr><tr><th class=\"tdhistory900271\" style= \"background: rgba(243, 243, 243, 0.75)\">16</th><td class=\"tdhistory900271\">401</td><td class=\"tdhistory900271\">customer support                        </td><td class=\"tdhistory900271\">1004</td></tr><tr><th class=\"tdhistory900271\" style= \"background: rgba(243, 243, 243, 0.75)\">17</th><td class=\"tdhistory900271\">401</td><td class=\"tdhistory900271\">customer support                        </td><td class=\"tdhistory900271\">1010</td></tr></tbody></table></div>"
      ]
     },
     "execution_count": 184,
     "metadata": {
      "application/vnd.teradata.resultset": "{\"resultSetID\":\"/home/jupyter/Teradata/Resultsets/2022.01.11_15.06.55.493_UTC\",\"historyID\":179,\"chunkID\":\"00001\",\"sessionid\":\"\",\"portnum\":\"\",\"dockermode\":\"standalone\",\"totalRowCount\":17,\"chunkCount\":0,\"rowLimit\":0,\"columnMetadata\":[{\"columnName\":\"Dept_Number\",\"columnTypeName\":\"INTEGER\"},{\"columnNumber\":1,\"columnName\":\"Dept_Name\",\"columnTypeName\":\"CHAR\",\"length\":20,\"scale\":20},{\"columnNumber\":2,\"columnName\":\"Employee_Number\",\"columnTypeName\":\"INTEGER\"}]}"
     },
     "output_type": "execute_result"
    }
   ],
   "source": [
    "SELECT e. Dept_Number,d. Dept_Name, e.employee_number\n",
    "FROM Department d LEFT OUTER JOIN Employee e\n",
    "On d. Dept_Number =e. Dept_Number;\n"
   ]
  },
  {
   "cell_type": "markdown",
   "id": "84d7c0b8",
   "metadata": {},
   "source": [
    "**<div class=\"alert alert-block alert-info\">4. Write a query that shows the employee_number, last_name, Dept_Number, department_name, and department_budget amounts.\n",
    "    Make sure to include all employees with invalid departments and all departments that do not have assigned employees.(Full outer join)** </div>"
   ]
  },
  {
   "cell_type": "code",
   "execution_count": 185,
   "id": "9baf0859",
   "metadata": {},
   "outputs": [
    {
     "data": {
      "application/vnd.teradata.resultset": "\"Employee_Number\",\"Last_Name\",\"Dept_Number\",\"Dept_Name\",\"Budget_Amount\"\n\"1016\",\"Rogers                                  \",\"\",\"\",\"\"\n\"1025\",\"Short                                   \",\"\",\"\",\"\"\n\"1021\",\"Morrissey                               \",\"\",\"\",\"\"\n\"1006\",\"Stein                                   \",\"301\",\"research and devl.                      \",\"932000.00\"\n\"1008\",\"Kanieski                                \",\"301\",\"research and devl.                      \",\"932000.00\"\n\"1002\",\"Brown                                   \",\"401\",\"customer support                        \",\"982300.00\"\n\"1001\",\"Hoover                                  \",\"401\",\"customer support                        \",\"982300.00\"\n\"1022\",\"Machado                                 \",\"401\",\"customer support                        \",\"982300.00\"\n\"1004\",\"Johnson                                 \",\"401\",\"customer support                        \",\"982300.00\"\n\"1013\",\"Phillips                                \",\"401\",\"customer support                        \",\"982300.00\"\n\"1010\",\"Rogers                                  \",\"401\",\"customer support                        \",\"982300.00\"\n\"1014\",\"Crane                                   \",\"402\",\"NULL                                    \",\"982300.00\"\n\"1007\",\"Villegas                                \",\"403\",\"education                               \",\"932000.00\"\n\"1020\",\"Charles                                 \",\"403\",\"education                               \",\"932000.00\"\n\"1024\",\"Brown                                   \",\"403\",\"education                               \",\"932000.00\"\n\"1009\",\"Lombardo                                \",\"403\",\"education                               \",\"932000.00\"\n\"1012\",\"Hopkins                                 \",\"403\",\"education                               \",\"932000.00\"\n\"1018\",\"Ratzlaff                                \",\"501\",\"marketing sales                         \",\"982300.00\"\n\"1023\",\"Rabbit                                  \",\"501\",\"marketing sales                         \",\"982300.00\"\n\"1015\",\"Wilson                                  \",\"501\",\"marketing sales                         \",\"982300.00\"",
      "text/html": [
       "<div class = \"td-resultset-table-div\" style = \"max-height: 100%; overflow-y: auto\">\n",
       "      <table class=\"tdhistory405213\"><style>\n",
       "      table.tdhistory405213 { display: block !important; min-height: 504px !important; overflow: auto !important; height: 504px !important; width: 100% !important; border: 1px solid rgb(207, 207, 207) !important; border-collapse: collapse !important; ; color: var(--jp-ui-font-color1) !important; }\n",
       "      th.tdhistory405213 { border: 1px solid rgb(198,198,198) !important; border-collapse: collapse !important; ; padding: 2px 5px !important; ; font-size: 13px !important; ; text-align: center !important; white-space: normal !important; color: var(--jp-ui-font-color1) !important; }\n",
       "      th.tdhistory405213:last-child { text-align: left !important; }\n",
       "      tbody.tdhistory405213 tr:nth-child(even) { background: rgba(243, 243, 243, 0.75) !important; }\n",
       "      tbody.tdhistory405213 tr:nth-child(odd) { background: var(--jp-ui-inverse-font-color1) !important; }\n",
       "      td.tdhistory405213 { border: 1px solid rgb(207, 207, 207) !important; border-collapse: collapse !important; ; padding: 2px 5px !important; ; font-size: 13px !important; ; text-align: left !important;          white-space: nowrap !important; overflow:hidden !important; text-overflow:ellipsis !important;; }\n",
       "    </style><thead><tr style= \"background: rgba(243, 243, 243, 0.75)\"><th class=\"tdhistory405213\"></th><th class=\"tdhistory405213\">Employee_Number</th><th class=\"tdhistory405213\">Last_Name</th><th class=\"tdhistory405213\">Dept_Number</th><th class=\"tdhistory405213\">Dept_Name</th><th class=\"tdhistory405213\">Budget_Amount</th></tr></thead><tbody class=\"tdhistory405213 resultset-body\"><tr><th class=\"tdhistory405213\" style= \"background: rgba(243, 243, 243, 0.75)\">1</th><td class=\"tdhistory405213\">1016</td><td class=\"tdhistory405213\">Rogers                                  </td><td class=\"tdhistory405213\"></td><td class=\"tdhistory405213\"></td><td class=\"tdhistory405213\"></td></tr><tr><th class=\"tdhistory405213\" style= \"background: rgba(243, 243, 243, 0.75)\">2</th><td class=\"tdhistory405213\">1025</td><td class=\"tdhistory405213\">Short                                   </td><td class=\"tdhistory405213\"></td><td class=\"tdhistory405213\"></td><td class=\"tdhistory405213\"></td></tr><tr><th class=\"tdhistory405213\" style= \"background: rgba(243, 243, 243, 0.75)\">3</th><td class=\"tdhistory405213\">1021</td><td class=\"tdhistory405213\">Morrissey                               </td><td class=\"tdhistory405213\"></td><td class=\"tdhistory405213\"></td><td class=\"tdhistory405213\"></td></tr><tr><th class=\"tdhistory405213\" style= \"background: rgba(243, 243, 243, 0.75)\">4</th><td class=\"tdhistory405213\">1006</td><td class=\"tdhistory405213\">Stein                                   </td><td class=\"tdhistory405213\">301</td><td class=\"tdhistory405213\">research and devl.                      </td><td class=\"tdhistory405213\">932000.00</td></tr><tr><th class=\"tdhistory405213\" style= \"background: rgba(243, 243, 243, 0.75)\">5</th><td class=\"tdhistory405213\">1008</td><td class=\"tdhistory405213\">Kanieski                                </td><td class=\"tdhistory405213\">301</td><td class=\"tdhistory405213\">research and devl.                      </td><td class=\"tdhistory405213\">932000.00</td></tr><tr><th class=\"tdhistory405213\" style= \"background: rgba(243, 243, 243, 0.75)\">6</th><td class=\"tdhistory405213\">1002</td><td class=\"tdhistory405213\">Brown                                   </td><td class=\"tdhistory405213\">401</td><td class=\"tdhistory405213\">customer support                        </td><td class=\"tdhistory405213\">982300.00</td></tr><tr><th class=\"tdhistory405213\" style= \"background: rgba(243, 243, 243, 0.75)\">7</th><td class=\"tdhistory405213\">1001</td><td class=\"tdhistory405213\">Hoover                                  </td><td class=\"tdhistory405213\">401</td><td class=\"tdhistory405213\">customer support                        </td><td class=\"tdhistory405213\">982300.00</td></tr><tr><th class=\"tdhistory405213\" style= \"background: rgba(243, 243, 243, 0.75)\">8</th><td class=\"tdhistory405213\">1022</td><td class=\"tdhistory405213\">Machado                                 </td><td class=\"tdhistory405213\">401</td><td class=\"tdhistory405213\">customer support                        </td><td class=\"tdhistory405213\">982300.00</td></tr><tr><th class=\"tdhistory405213\" style= \"background: rgba(243, 243, 243, 0.75)\">9</th><td class=\"tdhistory405213\">1004</td><td class=\"tdhistory405213\">Johnson                                 </td><td class=\"tdhistory405213\">401</td><td class=\"tdhistory405213\">customer support                        </td><td class=\"tdhistory405213\">982300.00</td></tr><tr><th class=\"tdhistory405213\" style= \"background: rgba(243, 243, 243, 0.75)\">10</th><td class=\"tdhistory405213\">1013</td><td class=\"tdhistory405213\">Phillips                                </td><td class=\"tdhistory405213\">401</td><td class=\"tdhistory405213\">customer support                        </td><td class=\"tdhistory405213\">982300.00</td></tr><tr><th class=\"tdhistory405213\" style= \"background: rgba(243, 243, 243, 0.75)\">11</th><td class=\"tdhistory405213\">1010</td><td class=\"tdhistory405213\">Rogers                                  </td><td class=\"tdhistory405213\">401</td><td class=\"tdhistory405213\">customer support                        </td><td class=\"tdhistory405213\">982300.00</td></tr><tr><th class=\"tdhistory405213\" style= \"background: rgba(243, 243, 243, 0.75)\">12</th><td class=\"tdhistory405213\">1014</td><td class=\"tdhistory405213\">Crane                                   </td><td class=\"tdhistory405213\">402</td><td class=\"tdhistory405213\">NULL                                    </td><td class=\"tdhistory405213\">982300.00</td></tr><tr><th class=\"tdhistory405213\" style= \"background: rgba(243, 243, 243, 0.75)\">13</th><td class=\"tdhistory405213\">1007</td><td class=\"tdhistory405213\">Villegas                                </td><td class=\"tdhistory405213\">403</td><td class=\"tdhistory405213\">education                               </td><td class=\"tdhistory405213\">932000.00</td></tr><tr><th class=\"tdhistory405213\" style= \"background: rgba(243, 243, 243, 0.75)\">14</th><td class=\"tdhistory405213\">1020</td><td class=\"tdhistory405213\">Charles                                 </td><td class=\"tdhistory405213\">403</td><td class=\"tdhistory405213\">education                               </td><td class=\"tdhistory405213\">932000.00</td></tr><tr><th class=\"tdhistory405213\" style= \"background: rgba(243, 243, 243, 0.75)\">15</th><td class=\"tdhistory405213\">1024</td><td class=\"tdhistory405213\">Brown                                   </td><td class=\"tdhistory405213\">403</td><td class=\"tdhistory405213\">education                               </td><td class=\"tdhistory405213\">932000.00</td></tr><tr><th class=\"tdhistory405213\" style= \"background: rgba(243, 243, 243, 0.75)\">16</th><td class=\"tdhistory405213\">1009</td><td class=\"tdhistory405213\">Lombardo                                </td><td class=\"tdhistory405213\">403</td><td class=\"tdhistory405213\">education                               </td><td class=\"tdhistory405213\">932000.00</td></tr><tr><th class=\"tdhistory405213\" style= \"background: rgba(243, 243, 243, 0.75)\">17</th><td class=\"tdhistory405213\">1012</td><td class=\"tdhistory405213\">Hopkins                                 </td><td class=\"tdhistory405213\">403</td><td class=\"tdhistory405213\">education                               </td><td class=\"tdhistory405213\">932000.00</td></tr><tr><th class=\"tdhistory405213\" style= \"background: rgba(243, 243, 243, 0.75)\">18</th><td class=\"tdhistory405213\">1018</td><td class=\"tdhistory405213\">Ratzlaff                                </td><td class=\"tdhistory405213\">501</td><td class=\"tdhistory405213\">marketing sales                         </td><td class=\"tdhistory405213\">982300.00</td></tr><tr><th class=\"tdhistory405213\" style= \"background: rgba(243, 243, 243, 0.75)\">19</th><td class=\"tdhistory405213\">1023</td><td class=\"tdhistory405213\">Rabbit                                  </td><td class=\"tdhistory405213\">501</td><td class=\"tdhistory405213\">marketing sales                         </td><td class=\"tdhistory405213\">982300.00</td></tr><tr><th class=\"tdhistory405213\" style= \"background: rgba(243, 243, 243, 0.75)\">20</th><td class=\"tdhistory405213\">1015</td><td class=\"tdhistory405213\">Wilson                                  </td><td class=\"tdhistory405213\">501</td><td class=\"tdhistory405213\">marketing sales                         </td><td class=\"tdhistory405213\">982300.00</td></tr></tbody></table></div>"
      ]
     },
     "execution_count": 185,
     "metadata": {
      "application/vnd.teradata.resultset": "{\"resultSetID\":\"/home/jupyter/Teradata/Resultsets/2022.01.11_15.07.01.497_UTC\",\"historyID\":180,\"chunkID\":\"00001\",\"sessionid\":\"\",\"portnum\":\"\",\"dockermode\":\"standalone\",\"totalRowCount\":20,\"chunkCount\":0,\"rowLimit\":0,\"columnMetadata\":[{\"columnName\":\"Employee_Number\",\"columnTypeName\":\"INTEGER\"},{\"columnNumber\":1,\"columnName\":\"Last_Name\",\"columnTypeName\":\"CHAR\",\"length\":20,\"scale\":20},{\"columnNumber\":2,\"columnName\":\"Dept_Number\",\"columnTypeName\":\"INTEGER\"},{\"columnNumber\":3,\"columnName\":\"Dept_Name\",\"columnTypeName\":\"CHAR\",\"length\":20,\"scale\":20},{\"columnNumber\":4,\"columnName\":\"Budget_Amount\",\"columnTypeName\":\"DECIMAL\",\"length\":2,\"precision\":10,\"scale\":2}]}"
     },
     "output_type": "execute_result"
    }
   ],
   "source": [
    "SELECT emp.employee_number\n",
    ",emp.last_name\n",
    ",emp.Dept_Number\n",
    ",dept.Dept_Name\n",
    ",dept.budget_amount\n",
    "FROM employee emp FULL OUTER JOIN\n",
    "department dept\n",
    "ON emp.Dept_Number = dept.Dept_Number\n",
    "ORDER BY emp.Dept_Number;"
   ]
  },
  {
   "cell_type": "markdown",
   "id": "84a18b1d",
   "metadata": {},
   "source": [
    "**<div class=\"alert alert-block alert-info\"> 5. Write a query to get employee details who has phone number enrolled in system record. (Inner join)** </div>\n"
   ]
  },
  {
   "cell_type": "code",
   "execution_count": 186,
   "id": "da7179c8",
   "metadata": {},
   "outputs": [
    {
     "data": {
      "application/vnd.teradata.resultset": "\"Last_Name\",\"First_Name\",\"Employee_Number\",\"Phone_Number\"\n\"Hoover                                  \",\"William\",\"1001\",\"6718096\"\n\"Villegas                                \",\"Arnando\",\"1007\",\"6718100\"\n\"Brown                                   \",\"Alan\",\"1002\",\"6718097\"\n\"Johnson                                 \",\"Darlene\",\"1004\",\"6718098\"\n\"Kanieski                                \",\"Carol\",\"1008\",\"6718101\"\n\"Stein                                   \",\"John\",\"1006\",\"6718099\"",
      "text/html": [
       "<div class = \"td-resultset-table-div\" style = \"max-height: 100%; overflow-y: auto\">\n",
       "      <table class=\"tdhistory61755\"><style>\n",
       "      table.tdhistory61755 { display: block !important; min-height: 210px !important; overflow: auto !important; height: 210px !important; width: 100% !important; border: 1px solid rgb(207, 207, 207) !important; border-collapse: collapse !important; ; color: var(--jp-ui-font-color1) !important; }\n",
       "      th.tdhistory61755 { border: 1px solid rgb(198,198,198) !important; border-collapse: collapse !important; ; padding: 2px 5px !important; ; font-size: 13px !important; ; text-align: center !important; white-space: normal !important; color: var(--jp-ui-font-color1) !important; }\n",
       "      th.tdhistory61755:last-child { text-align: left !important; }\n",
       "      tbody.tdhistory61755 tr:nth-child(even) { background: rgba(243, 243, 243, 0.75) !important; }\n",
       "      tbody.tdhistory61755 tr:nth-child(odd) { background: var(--jp-ui-inverse-font-color1) !important; }\n",
       "      td.tdhistory61755 { border: 1px solid rgb(207, 207, 207) !important; border-collapse: collapse !important; ; padding: 2px 5px !important; ; font-size: 13px !important; ; text-align: left !important;          white-space: nowrap !important; overflow:hidden !important; text-overflow:ellipsis !important;; }\n",
       "    </style><thead><tr style= \"background: rgba(243, 243, 243, 0.75)\"><th class=\"tdhistory61755\"></th><th class=\"tdhistory61755\">Last_Name</th><th class=\"tdhistory61755\">First_Name</th><th class=\"tdhistory61755\">Employee_Number</th><th class=\"tdhistory61755\">Phone_Number</th></tr></thead><tbody class=\"tdhistory61755 resultset-body\"><tr><th class=\"tdhistory61755\" style= \"background: rgba(243, 243, 243, 0.75)\">1</th><td class=\"tdhistory61755\">Hoover                                  </td><td class=\"tdhistory61755\">William</td><td class=\"tdhistory61755\">1001</td><td class=\"tdhistory61755\">6718096</td></tr><tr><th class=\"tdhistory61755\" style= \"background: rgba(243, 243, 243, 0.75)\">2</th><td class=\"tdhistory61755\">Villegas                                </td><td class=\"tdhistory61755\">Arnando</td><td class=\"tdhistory61755\">1007</td><td class=\"tdhistory61755\">6718100</td></tr><tr><th class=\"tdhistory61755\" style= \"background: rgba(243, 243, 243, 0.75)\">3</th><td class=\"tdhistory61755\">Brown                                   </td><td class=\"tdhistory61755\">Alan</td><td class=\"tdhistory61755\">1002</td><td class=\"tdhistory61755\">6718097</td></tr><tr><th class=\"tdhistory61755\" style= \"background: rgba(243, 243, 243, 0.75)\">4</th><td class=\"tdhistory61755\">Johnson                                 </td><td class=\"tdhistory61755\">Darlene</td><td class=\"tdhistory61755\">1004</td><td class=\"tdhistory61755\">6718098</td></tr><tr><th class=\"tdhistory61755\" style= \"background: rgba(243, 243, 243, 0.75)\">5</th><td class=\"tdhistory61755\">Kanieski                                </td><td class=\"tdhistory61755\">Carol</td><td class=\"tdhistory61755\">1008</td><td class=\"tdhistory61755\">6718101</td></tr><tr><th class=\"tdhistory61755\" style= \"background: rgba(243, 243, 243, 0.75)\">6</th><td class=\"tdhistory61755\">Stein                                   </td><td class=\"tdhistory61755\">John</td><td class=\"tdhistory61755\">1006</td><td class=\"tdhistory61755\">6718099</td></tr></tbody></table></div>"
      ]
     },
     "execution_count": 186,
     "metadata": {
      "application/vnd.teradata.resultset": "{\"resultSetID\":\"/home/jupyter/Teradata/Resultsets/2022.01.11_15.07.04.517_UTC\",\"historyID\":181,\"chunkID\":\"00001\",\"sessionid\":\"\",\"portnum\":\"\",\"dockermode\":\"standalone\",\"totalRowCount\":6,\"chunkCount\":0,\"rowLimit\":0,\"columnMetadata\":[{\"columnName\":\"Last_Name\",\"columnTypeName\":\"CHAR\",\"length\":20,\"scale\":20},{\"columnNumber\":1,\"columnName\":\"First_Name\",\"columnTypeName\":\"VARCHAR\",\"length\":20,\"scale\":20},{\"columnNumber\":2,\"columnName\":\"Employee_Number\",\"columnTypeName\":\"INTEGER\"},{\"columnNumber\":3,\"columnName\":\"Phone_Number\",\"columnTypeName\":\"INTEGER\"}]}"
     },
     "output_type": "execute_result"
    }
   ],
   "source": [
    "SELECT e.last_name, e.first_name, e.employee_number, p. Phone_Number\n",
    "FROM Employee e Inner join Emp_Phone p\n",
    "On e. employee_number =p. employee_number\n",
    "And p. Phone_Number is not NULL;"
   ]
  },
  {
   "cell_type": "markdown",
   "id": "d0b8fc01",
   "metadata": {},
   "source": [
    "# Corelated Queries Slide [98]\n",
    "\n",
    "**<div class=\"alert alert-block alert-info\">1. Use multiple NCSSQs inside an IN list to retrieve from the department table those departments with the highest and lowest budget amounts** </div>\n",
    "\n"
   ]
  },
  {
   "cell_type": "code",
   "execution_count": 187,
   "id": "d8d8f135",
   "metadata": {},
   "outputs": [
    {
     "data": {
      "application/vnd.teradata.resultset": "\"Dept_Number\",\"Dept_Name\",\"Budget_Amount\"\n\"403\",\"education                               \",\"932000.00\"\n\"401\",\"customer support                        \",\"982300.00\"\n\"402\",\"NULL                                    \",\"982300.00\"\n\"501\",\"marketing sales                         \",\"982300.00\"\n\"301\",\"research and devl.                      \",\"932000.00\"",
      "text/html": [
       "<div class = \"td-resultset-table-div\" style = \"max-height: 100%; overflow-y: auto\">\n",
       "      <table class=\"tdhistory163798\"><style>\n",
       "      table.tdhistory163798 { display: block !important; min-height: 189px !important; overflow: auto !important; height: 189px !important; width: 100% !important; border: 1px solid rgb(207, 207, 207) !important; border-collapse: collapse !important; ; color: var(--jp-ui-font-color1) !important; }\n",
       "      th.tdhistory163798 { border: 1px solid rgb(198,198,198) !important; border-collapse: collapse !important; ; padding: 2px 5px !important; ; font-size: 13px !important; ; text-align: center !important; white-space: normal !important; color: var(--jp-ui-font-color1) !important; }\n",
       "      th.tdhistory163798:last-child { text-align: left !important; }\n",
       "      tbody.tdhistory163798 tr:nth-child(even) { background: rgba(243, 243, 243, 0.75) !important; }\n",
       "      tbody.tdhistory163798 tr:nth-child(odd) { background: var(--jp-ui-inverse-font-color1) !important; }\n",
       "      td.tdhistory163798 { border: 1px solid rgb(207, 207, 207) !important; border-collapse: collapse !important; ; padding: 2px 5px !important; ; font-size: 13px !important; ; text-align: left !important;          white-space: nowrap !important; overflow:hidden !important; text-overflow:ellipsis !important;; }\n",
       "    </style><thead><tr style= \"background: rgba(243, 243, 243, 0.75)\"><th class=\"tdhistory163798\"></th><th class=\"tdhistory163798\">Dept_Number</th><th class=\"tdhistory163798\">Dept_Name</th><th class=\"tdhistory163798\">Budget_Amount</th></tr></thead><tbody class=\"tdhistory163798 resultset-body\"><tr><th class=\"tdhistory163798\" style= \"background: rgba(243, 243, 243, 0.75)\">1</th><td class=\"tdhistory163798\">403</td><td class=\"tdhistory163798\">education                               </td><td class=\"tdhistory163798\">932000.00</td></tr><tr><th class=\"tdhistory163798\" style= \"background: rgba(243, 243, 243, 0.75)\">2</th><td class=\"tdhistory163798\">401</td><td class=\"tdhistory163798\">customer support                        </td><td class=\"tdhistory163798\">982300.00</td></tr><tr><th class=\"tdhistory163798\" style= \"background: rgba(243, 243, 243, 0.75)\">3</th><td class=\"tdhistory163798\">402</td><td class=\"tdhistory163798\">NULL                                    </td><td class=\"tdhistory163798\">982300.00</td></tr><tr><th class=\"tdhistory163798\" style= \"background: rgba(243, 243, 243, 0.75)\">4</th><td class=\"tdhistory163798\">501</td><td class=\"tdhistory163798\">marketing sales                         </td><td class=\"tdhistory163798\">982300.00</td></tr><tr><th class=\"tdhistory163798\" style= \"background: rgba(243, 243, 243, 0.75)\">5</th><td class=\"tdhistory163798\">301</td><td class=\"tdhistory163798\">research and devl.                      </td><td class=\"tdhistory163798\">932000.00</td></tr></tbody></table></div>"
      ]
     },
     "execution_count": 187,
     "metadata": {
      "application/vnd.teradata.resultset": "{\"resultSetID\":\"/home/jupyter/Teradata/Resultsets/2022.01.11_15.07.14.428_UTC\",\"historyID\":182,\"chunkID\":\"00001\",\"sessionid\":\"\",\"portnum\":\"\",\"dockermode\":\"standalone\",\"totalRowCount\":5,\"chunkCount\":0,\"rowLimit\":0,\"columnMetadata\":[{\"columnName\":\"Dept_Number\",\"columnTypeName\":\"INTEGER\"},{\"columnNumber\":1,\"columnName\":\"Dept_Name\",\"columnTypeName\":\"CHAR\",\"length\":20,\"scale\":20},{\"columnNumber\":2,\"columnName\":\"Budget_Amount\",\"columnTypeName\":\"DECIMAL\",\"length\":2,\"precision\":10,\"scale\":2}]}"
     },
     "output_type": "execute_result"
    }
   ],
   "source": [
    "SEL Dept_Number, Dept_Name, budget_amount\n",
    "FROM department\n",
    "WHERE budget_amount IN\n",
    "((SEL MIN(budget_amount) FROM department), (SEL\n",
    "MAX(budget_amount) FROM department) );\n"
   ]
  },
  {
   "cell_type": "markdown",
   "id": "920f20f7",
   "metadata": {},
   "source": [
    "**<div class=\"alert alert-block alert-info\">2. Use a CSSQ in an IN list to retrieve all employees in the department having the highest salary in their department** </div>"
   ]
  },
  {
   "cell_type": "code",
   "execution_count": 188,
   "id": "d91386d7",
   "metadata": {},
   "outputs": [
    {
     "data": {
      "application/vnd.teradata.resultset": "\"Last_Name\",\"First_Name\",\"d#\",\"Salary_Amount\"\n\"Brown               \",\"Allen               \",\"403\",\"56500.00\"\n\"Machado             \",\"Albert              \",\"401\",\"56500.00\"\n\"Ratzlaff            \",\"Larry               \",\"501\",\"56500.00\"\n\"Charles             \",\"John                \",\"403\",\"56500.00\"\n\"Hoover              \",\"William             \",\"401\",\"31000.00\"\n\"Rabbit              \",\"Peter               \",\"501\",\"56500.00\"\n\"Hopkins             \",\"Paulene             \",\"403\",\"37900.00\"\n\"Brown               \",\"Alan                \",\"401\",\"31000.00\"\n\"Wilson              \",\"Edward              \",\"501\",\"37900.00\"\n\"Villegas            \",\"Arnando             \",\"403\",\"46000.00\"\n\"Phillips            \",\"Charles             \",\"401\",\"37900.00\"\n\"Lombardo            \",\"Domingus            \",\"403\",\"31000.00\"\n\"Johnson             \",\"Darlene             \",\"401\",\"31000.00\"\n\"Rogers              \",\"Frank               \",\"401\",\"46000.00\"",
      "text/html": [
       "<div class = \"td-resultset-table-div\" style = \"max-height: 100%; overflow-y: auto\">\n",
       "      <table class=\"tdhistory996842\"><style>\n",
       "      table.tdhistory996842 { display: block !important; min-height: 378px !important; overflow: auto !important; height: 378px !important; width: 100% !important; border: 1px solid rgb(207, 207, 207) !important; border-collapse: collapse !important; ; color: var(--jp-ui-font-color1) !important; }\n",
       "      th.tdhistory996842 { border: 1px solid rgb(198,198,198) !important; border-collapse: collapse !important; ; padding: 2px 5px !important; ; font-size: 13px !important; ; text-align: center !important; white-space: normal !important; color: var(--jp-ui-font-color1) !important; }\n",
       "      th.tdhistory996842:last-child { text-align: left !important; }\n",
       "      tbody.tdhistory996842 tr:nth-child(even) { background: rgba(243, 243, 243, 0.75) !important; }\n",
       "      tbody.tdhistory996842 tr:nth-child(odd) { background: var(--jp-ui-inverse-font-color1) !important; }\n",
       "      td.tdhistory996842 { border: 1px solid rgb(207, 207, 207) !important; border-collapse: collapse !important; ; padding: 2px 5px !important; ; font-size: 13px !important; ; text-align: left !important;          white-space: nowrap !important; overflow:hidden !important; text-overflow:ellipsis !important;; }\n",
       "    </style><thead><tr style= \"background: rgba(243, 243, 243, 0.75)\"><th class=\"tdhistory996842\"></th><th class=\"tdhistory996842\">Last_Name</th><th class=\"tdhistory996842\">First_Name</th><th class=\"tdhistory996842\">d#</th><th class=\"tdhistory996842\">Salary_Amount</th></tr></thead><tbody class=\"tdhistory996842 resultset-body\"><tr><th class=\"tdhistory996842\" style= \"background: rgba(243, 243, 243, 0.75)\">1</th><td class=\"tdhistory996842\">Brown               </td><td class=\"tdhistory996842\">Allen               </td><td class=\"tdhistory996842\">403</td><td class=\"tdhistory996842\">56500.00</td></tr><tr><th class=\"tdhistory996842\" style= \"background: rgba(243, 243, 243, 0.75)\">2</th><td class=\"tdhistory996842\">Machado             </td><td class=\"tdhistory996842\">Albert              </td><td class=\"tdhistory996842\">401</td><td class=\"tdhistory996842\">56500.00</td></tr><tr><th class=\"tdhistory996842\" style= \"background: rgba(243, 243, 243, 0.75)\">3</th><td class=\"tdhistory996842\">Ratzlaff            </td><td class=\"tdhistory996842\">Larry               </td><td class=\"tdhistory996842\">501</td><td class=\"tdhistory996842\">56500.00</td></tr><tr><th class=\"tdhistory996842\" style= \"background: rgba(243, 243, 243, 0.75)\">4</th><td class=\"tdhistory996842\">Charles             </td><td class=\"tdhistory996842\">John                </td><td class=\"tdhistory996842\">403</td><td class=\"tdhistory996842\">56500.00</td></tr><tr><th class=\"tdhistory996842\" style= \"background: rgba(243, 243, 243, 0.75)\">5</th><td class=\"tdhistory996842\">Hoover              </td><td class=\"tdhistory996842\">William             </td><td class=\"tdhistory996842\">401</td><td class=\"tdhistory996842\">31000.00</td></tr><tr><th class=\"tdhistory996842\" style= \"background: rgba(243, 243, 243, 0.75)\">6</th><td class=\"tdhistory996842\">Rabbit              </td><td class=\"tdhistory996842\">Peter               </td><td class=\"tdhistory996842\">501</td><td class=\"tdhistory996842\">56500.00</td></tr><tr><th class=\"tdhistory996842\" style= \"background: rgba(243, 243, 243, 0.75)\">7</th><td class=\"tdhistory996842\">Hopkins             </td><td class=\"tdhistory996842\">Paulene             </td><td class=\"tdhistory996842\">403</td><td class=\"tdhistory996842\">37900.00</td></tr><tr><th class=\"tdhistory996842\" style= \"background: rgba(243, 243, 243, 0.75)\">8</th><td class=\"tdhistory996842\">Brown               </td><td class=\"tdhistory996842\">Alan                </td><td class=\"tdhistory996842\">401</td><td class=\"tdhistory996842\">31000.00</td></tr><tr><th class=\"tdhistory996842\" style= \"background: rgba(243, 243, 243, 0.75)\">9</th><td class=\"tdhistory996842\">Wilson              </td><td class=\"tdhistory996842\">Edward              </td><td class=\"tdhistory996842\">501</td><td class=\"tdhistory996842\">37900.00</td></tr><tr><th class=\"tdhistory996842\" style= \"background: rgba(243, 243, 243, 0.75)\">10</th><td class=\"tdhistory996842\">Villegas            </td><td class=\"tdhistory996842\">Arnando             </td><td class=\"tdhistory996842\">403</td><td class=\"tdhistory996842\">46000.00</td></tr><tr><th class=\"tdhistory996842\" style= \"background: rgba(243, 243, 243, 0.75)\">11</th><td class=\"tdhistory996842\">Phillips            </td><td class=\"tdhistory996842\">Charles             </td><td class=\"tdhistory996842\">401</td><td class=\"tdhistory996842\">37900.00</td></tr><tr><th class=\"tdhistory996842\" style= \"background: rgba(243, 243, 243, 0.75)\">12</th><td class=\"tdhistory996842\">Lombardo            </td><td class=\"tdhistory996842\">Domingus            </td><td class=\"tdhistory996842\">403</td><td class=\"tdhistory996842\">31000.00</td></tr><tr><th class=\"tdhistory996842\" style= \"background: rgba(243, 243, 243, 0.75)\">13</th><td class=\"tdhistory996842\">Johnson             </td><td class=\"tdhistory996842\">Darlene             </td><td class=\"tdhistory996842\">401</td><td class=\"tdhistory996842\">31000.00</td></tr><tr><th class=\"tdhistory996842\" style= \"background: rgba(243, 243, 243, 0.75)\">14</th><td class=\"tdhistory996842\">Rogers              </td><td class=\"tdhistory996842\">Frank               </td><td class=\"tdhistory996842\">401</td><td class=\"tdhistory996842\">46000.00</td></tr></tbody></table></div>"
      ]
     },
     "execution_count": 188,
     "metadata": {
      "application/vnd.teradata.resultset": "{\"resultSetID\":\"/home/jupyter/Teradata/Resultsets/2022.01.11_15.07.21.814_UTC\",\"historyID\":183,\"chunkID\":\"00001\",\"sessionid\":\"\",\"portnum\":\"\",\"dockermode\":\"standalone\",\"totalRowCount\":14,\"chunkCount\":0,\"rowLimit\":0,\"columnMetadata\":[{\"columnName\":\"Last_Name\",\"columnTypeName\":\"CHAR\",\"length\":10,\"scale\":10},{\"columnNumber\":1,\"columnName\":\"First_Name\",\"columnTypeName\":\"CHAR\",\"length\":10,\"scale\":10},{\"columnNumber\":2,\"columnName\":\"d#\",\"columnTypeName\":\"INTEGER\"},{\"columnNumber\":3,\"columnName\":\"Salary_Amount\",\"columnTypeName\":\"DECIMAL\",\"length\":2,\"precision\":10,\"scale\":2}]}"
     },
     "output_type": "execute_result"
    }
   ],
   "source": [
    "SEL last_name (CHAR(10)), first_name (CHAR(10)),\n",
    "Dept_Number AS d#, salary_amount\n",
    "FROM employee e1\n",
    "WHERE Dept_Number IN\n",
    "(SELECT DISTINCT Dept_Number FROM employee\n",
    "WHERE salary_amount = (SELECT MAX(salary_amount) FROM\n",
    "employee));"
   ]
  },
  {
   "cell_type": "markdown",
   "id": "294366ff",
   "metadata": {},
   "source": [
    "# \"Derived\" Tables Slide [108]\n",
    "**<div class=\"alert alert-block alert-info\"> 1. Use a derived table to list those departments whose budgets are greater than the average budget for all departments.** </div>"
   ]
  },
  {
   "cell_type": "code",
   "execution_count": 189,
   "id": "72b00caf",
   "metadata": {},
   "outputs": [
    {
     "data": {
      "application/vnd.teradata.resultset": "\"d#\",\"Dept_Name\",\"Budget_Amount\",\"avgbudget\"\n\"401\",\"customer support                        \",\"982300.00\",\"962180\"\n\"402\",\"NULL                                    \",\"982300.00\",\"962180\"\n\"501\",\"marketing sales                         \",\"982300.00\",\"962180\"",
      "text/html": [
       "<div class = \"td-resultset-table-div\" style = \"max-height: 100%; overflow-y: auto\">\n",
       "      <table class=\"tdhistory746751\"><style>\n",
       "      table.tdhistory746751 { display: block !important; min-height: 147px !important; overflow: auto !important; height: 147px !important; width: 100% !important; border: 1px solid rgb(207, 207, 207) !important; border-collapse: collapse !important; ; color: var(--jp-ui-font-color1) !important; }\n",
       "      th.tdhistory746751 { border: 1px solid rgb(198,198,198) !important; border-collapse: collapse !important; ; padding: 2px 5px !important; ; font-size: 13px !important; ; text-align: center !important; white-space: normal !important; color: var(--jp-ui-font-color1) !important; }\n",
       "      th.tdhistory746751:last-child { text-align: left !important; }\n",
       "      tbody.tdhistory746751 tr:nth-child(even) { background: rgba(243, 243, 243, 0.75) !important; }\n",
       "      tbody.tdhistory746751 tr:nth-child(odd) { background: var(--jp-ui-inverse-font-color1) !important; }\n",
       "      td.tdhistory746751 { border: 1px solid rgb(207, 207, 207) !important; border-collapse: collapse !important; ; padding: 2px 5px !important; ; font-size: 13px !important; ; text-align: left !important;          white-space: nowrap !important; overflow:hidden !important; text-overflow:ellipsis !important;; }\n",
       "    </style><thead><tr style= \"background: rgba(243, 243, 243, 0.75)\"><th class=\"tdhistory746751\"></th><th class=\"tdhistory746751\">d#</th><th class=\"tdhistory746751\">Dept_Name</th><th class=\"tdhistory746751\">Budget_Amount</th><th class=\"tdhistory746751\">avgbudget</th></tr></thead><tbody class=\"tdhistory746751 resultset-body\"><tr><th class=\"tdhistory746751\" style= \"background: rgba(243, 243, 243, 0.75)\">1</th><td class=\"tdhistory746751\">401</td><td class=\"tdhistory746751\">customer support                        </td><td class=\"tdhistory746751\">982300.00</td><td class=\"tdhistory746751\">962180</td></tr><tr><th class=\"tdhistory746751\" style= \"background: rgba(243, 243, 243, 0.75)\">2</th><td class=\"tdhistory746751\">402</td><td class=\"tdhistory746751\">NULL                                    </td><td class=\"tdhistory746751\">982300.00</td><td class=\"tdhistory746751\">962180</td></tr><tr><th class=\"tdhistory746751\" style= \"background: rgba(243, 243, 243, 0.75)\">3</th><td class=\"tdhistory746751\">501</td><td class=\"tdhistory746751\">marketing sales                         </td><td class=\"tdhistory746751\">982300.00</td><td class=\"tdhistory746751\">962180</td></tr></tbody></table></div>"
      ]
     },
     "execution_count": 189,
     "metadata": {
      "application/vnd.teradata.resultset": "{\"resultSetID\":\"/home/jupyter/Teradata/Resultsets/2022.01.11_15.07.28.995_UTC\",\"historyID\":184,\"chunkID\":\"00001\",\"sessionid\":\"\",\"portnum\":\"\",\"dockermode\":\"standalone\",\"totalRowCount\":3,\"chunkCount\":0,\"rowLimit\":0,\"columnMetadata\":[{\"columnName\":\"d#\",\"columnTypeName\":\"INTEGER\"},{\"columnNumber\":1,\"columnName\":\"Dept_Name\",\"columnTypeName\":\"CHAR\",\"length\":20,\"scale\":20},{\"columnNumber\":2,\"columnName\":\"Budget_Amount\",\"columnTypeName\":\"DECIMAL\",\"length\":2,\"precision\":10,\"scale\":2},{\"columnNumber\":3,\"columnName\":\"avgbudget\",\"columnTypeName\":\"FLOAT\"}]}"
     },
     "output_type": "execute_result"
    }
   ],
   "source": [
    "SELECT d. Dept_Number AS d#, d.dept_name,\n",
    "d.budget_amount, a.avgbudget\n",
    "FROM department d,\n",
    "(SELECT AVG(budget_amount) as avgbudget\n",
    "FROM department) AS a\n",
    "WHERE d.budget_amount > a.avgbudget\n",
    "ORDER BY 1, 2;\n"
   ]
  },
  {
   "cell_type": "markdown",
   "id": "f0788dcd",
   "metadata": {},
   "source": [
    "**<div class=\"alert alert-block alert-info\">2. Add to exercise #1 those employees who work in those departments.** </div>"
   ]
  },
  {
   "cell_type": "code",
   "execution_count": 190,
   "id": "12157b29",
   "metadata": {},
   "outputs": [
    {
     "data": {
      "application/vnd.teradata.resultset": "\"d#\",\"f_name\",\"l_name\",\"Budget_Amount\",\"avgbudget\"\n\"401\",\"Alan                \",\"Brown               \",\"982300.00\",\"962180\"\n\"401\",\"Albert              \",\"Machado             \",\"982300.00\",\"962180\"\n\"401\",\"Charles             \",\"Phillips            \",\"982300.00\",\"962180\"\n\"401\",\"Darlene             \",\"Johnson             \",\"982300.00\",\"962180\"\n\"401\",\"Frank               \",\"Rogers              \",\"982300.00\",\"962180\"\n\"401\",\"William             \",\"Hoover              \",\"982300.00\",\"962180\"\n\"402\",\"Robert              \",\"Crane               \",\"982300.00\",\"962180\"\n\"501\",\"Edward              \",\"Wilson              \",\"982300.00\",\"962180\"\n\"501\",\"Larry               \",\"Ratzlaff            \",\"982300.00\",\"962180\"\n\"501\",\"Peter               \",\"Rabbit              \",\"982300.00\",\"962180\"",
      "text/html": [
       "<div class = \"td-resultset-table-div\" style = \"max-height: 100%; overflow-y: auto\">\n",
       "      <table class=\"tdhistory428792\"><style>\n",
       "      table.tdhistory428792 { display: block !important; min-height: 294px !important; overflow: auto !important; height: 294px !important; width: 100% !important; border: 1px solid rgb(207, 207, 207) !important; border-collapse: collapse !important; ; color: var(--jp-ui-font-color1) !important; }\n",
       "      th.tdhistory428792 { border: 1px solid rgb(198,198,198) !important; border-collapse: collapse !important; ; padding: 2px 5px !important; ; font-size: 13px !important; ; text-align: center !important; white-space: normal !important; color: var(--jp-ui-font-color1) !important; }\n",
       "      th.tdhistory428792:last-child { text-align: left !important; }\n",
       "      tbody.tdhistory428792 tr:nth-child(even) { background: rgba(243, 243, 243, 0.75) !important; }\n",
       "      tbody.tdhistory428792 tr:nth-child(odd) { background: var(--jp-ui-inverse-font-color1) !important; }\n",
       "      td.tdhistory428792 { border: 1px solid rgb(207, 207, 207) !important; border-collapse: collapse !important; ; padding: 2px 5px !important; ; font-size: 13px !important; ; text-align: left !important;          white-space: nowrap !important; overflow:hidden !important; text-overflow:ellipsis !important;; }\n",
       "    </style><thead><tr style= \"background: rgba(243, 243, 243, 0.75)\"><th class=\"tdhistory428792\"></th><th class=\"tdhistory428792\">d#</th><th class=\"tdhistory428792\">f_name</th><th class=\"tdhistory428792\">l_name</th><th class=\"tdhistory428792\">Budget_Amount</th><th class=\"tdhistory428792\">avgbudget</th></tr></thead><tbody class=\"tdhistory428792 resultset-body\"><tr><th class=\"tdhistory428792\" style= \"background: rgba(243, 243, 243, 0.75)\">1</th><td class=\"tdhistory428792\">401</td><td class=\"tdhistory428792\">Alan                </td><td class=\"tdhistory428792\">Brown               </td><td class=\"tdhistory428792\">982300.00</td><td class=\"tdhistory428792\">962180</td></tr><tr><th class=\"tdhistory428792\" style= \"background: rgba(243, 243, 243, 0.75)\">2</th><td class=\"tdhistory428792\">401</td><td class=\"tdhistory428792\">Albert              </td><td class=\"tdhistory428792\">Machado             </td><td class=\"tdhistory428792\">982300.00</td><td class=\"tdhistory428792\">962180</td></tr><tr><th class=\"tdhistory428792\" style= \"background: rgba(243, 243, 243, 0.75)\">3</th><td class=\"tdhistory428792\">401</td><td class=\"tdhistory428792\">Charles             </td><td class=\"tdhistory428792\">Phillips            </td><td class=\"tdhistory428792\">982300.00</td><td class=\"tdhistory428792\">962180</td></tr><tr><th class=\"tdhistory428792\" style= \"background: rgba(243, 243, 243, 0.75)\">4</th><td class=\"tdhistory428792\">401</td><td class=\"tdhistory428792\">Darlene             </td><td class=\"tdhistory428792\">Johnson             </td><td class=\"tdhistory428792\">982300.00</td><td class=\"tdhistory428792\">962180</td></tr><tr><th class=\"tdhistory428792\" style= \"background: rgba(243, 243, 243, 0.75)\">5</th><td class=\"tdhistory428792\">401</td><td class=\"tdhistory428792\">Frank               </td><td class=\"tdhistory428792\">Rogers              </td><td class=\"tdhistory428792\">982300.00</td><td class=\"tdhistory428792\">962180</td></tr><tr><th class=\"tdhistory428792\" style= \"background: rgba(243, 243, 243, 0.75)\">6</th><td class=\"tdhistory428792\">401</td><td class=\"tdhistory428792\">William             </td><td class=\"tdhistory428792\">Hoover              </td><td class=\"tdhistory428792\">982300.00</td><td class=\"tdhistory428792\">962180</td></tr><tr><th class=\"tdhistory428792\" style= \"background: rgba(243, 243, 243, 0.75)\">7</th><td class=\"tdhistory428792\">402</td><td class=\"tdhistory428792\">Robert              </td><td class=\"tdhistory428792\">Crane               </td><td class=\"tdhistory428792\">982300.00</td><td class=\"tdhistory428792\">962180</td></tr><tr><th class=\"tdhistory428792\" style= \"background: rgba(243, 243, 243, 0.75)\">8</th><td class=\"tdhistory428792\">501</td><td class=\"tdhistory428792\">Edward              </td><td class=\"tdhistory428792\">Wilson              </td><td class=\"tdhistory428792\">982300.00</td><td class=\"tdhistory428792\">962180</td></tr><tr><th class=\"tdhistory428792\" style= \"background: rgba(243, 243, 243, 0.75)\">9</th><td class=\"tdhistory428792\">501</td><td class=\"tdhistory428792\">Larry               </td><td class=\"tdhistory428792\">Ratzlaff            </td><td class=\"tdhistory428792\">982300.00</td><td class=\"tdhistory428792\">962180</td></tr><tr><th class=\"tdhistory428792\" style= \"background: rgba(243, 243, 243, 0.75)\">10</th><td class=\"tdhistory428792\">501</td><td class=\"tdhistory428792\">Peter               </td><td class=\"tdhistory428792\">Rabbit              </td><td class=\"tdhistory428792\">982300.00</td><td class=\"tdhistory428792\">962180</td></tr></tbody></table></div>"
      ]
     },
     "execution_count": 190,
     "metadata": {
      "application/vnd.teradata.resultset": "{\"resultSetID\":\"/home/jupyter/Teradata/Resultsets/2022.01.11_15.07.34.973_UTC\",\"historyID\":185,\"chunkID\":\"00001\",\"sessionid\":\"\",\"portnum\":\"\",\"dockermode\":\"standalone\",\"totalRowCount\":10,\"chunkCount\":0,\"rowLimit\":0,\"columnMetadata\":[{\"columnName\":\"d#\",\"columnTypeName\":\"INTEGER\"},{\"columnNumber\":1,\"columnName\":\"f_name\",\"columnTypeName\":\"CHAR\",\"length\":10,\"scale\":10},{\"columnNumber\":2,\"columnName\":\"l_name\",\"columnTypeName\":\"CHAR\",\"length\":10,\"scale\":10},{\"columnNumber\":3,\"columnName\":\"Budget_Amount\",\"columnTypeName\":\"DECIMAL\",\"length\":2,\"precision\":10,\"scale\":2},{\"columnNumber\":4,\"columnName\":\"avgbudget\",\"columnTypeName\":\"FLOAT\"}]}"
     },
     "output_type": "execute_result"
    }
   ],
   "source": [
    "SELECT d. Dept_Number AS d#,\n",
    "e.first_name (CHAR(10)) AS f_name,\n",
    "e.last_name (CHAR(10)) AS l_name,\n",
    "d.budget_amount, a.avgbudget\n",
    "FROM department d,\n",
    "(SELECT AVG(budget_amount) as avgbudget\n",
    "FROM department) AS a,\n",
    "employee e\n",
    "WHERE d.budget_amount > a.avgbudget\n",
    "AND e.Dept_Number = d.Dept_Number\n",
    "ORDER BY 1, 2;"
   ]
  },
  {
   "cell_type": "markdown",
   "id": "63e27c34",
   "metadata": {},
   "source": [
    "**<div class=\"alert alert-block alert-info\">3. Modify #1 to add the differences between the departments budget and the average.** </div>"
   ]
  },
  {
   "cell_type": "code",
   "execution_count": 191,
   "id": "cf4e6ae0",
   "metadata": {},
   "outputs": [
    {
     "data": {
      "application/vnd.teradata.resultset": "\"Dept_Name\",\"Budget_Amount\",\"avgbudget\",\"BudgeDiff\"\n\"customer support                        \",\"982300.00\",\"962180\",\"20120\"\n\"NULL                                    \",\"982300.00\",\"962180\",\"20120\"\n\"marketing sales                         \",\"982300.00\",\"962180\",\"20120\"",
      "text/html": [
       "<div class = \"td-resultset-table-div\" style = \"max-height: 100%; overflow-y: auto\">\n",
       "      <table class=\"tdhistory87552\"><style>\n",
       "      table.tdhistory87552 { display: block !important; min-height: 147px !important; overflow: auto !important; height: 147px !important; width: 100% !important; border: 1px solid rgb(207, 207, 207) !important; border-collapse: collapse !important; ; color: var(--jp-ui-font-color1) !important; }\n",
       "      th.tdhistory87552 { border: 1px solid rgb(198,198,198) !important; border-collapse: collapse !important; ; padding: 2px 5px !important; ; font-size: 13px !important; ; text-align: center !important; white-space: normal !important; color: var(--jp-ui-font-color1) !important; }\n",
       "      th.tdhistory87552:last-child { text-align: left !important; }\n",
       "      tbody.tdhistory87552 tr:nth-child(even) { background: rgba(243, 243, 243, 0.75) !important; }\n",
       "      tbody.tdhistory87552 tr:nth-child(odd) { background: var(--jp-ui-inverse-font-color1) !important; }\n",
       "      td.tdhistory87552 { border: 1px solid rgb(207, 207, 207) !important; border-collapse: collapse !important; ; padding: 2px 5px !important; ; font-size: 13px !important; ; text-align: left !important;          white-space: nowrap !important; overflow:hidden !important; text-overflow:ellipsis !important;; }\n",
       "    </style><thead><tr style= \"background: rgba(243, 243, 243, 0.75)\"><th class=\"tdhistory87552\"></th><th class=\"tdhistory87552\">Dept_Name</th><th class=\"tdhistory87552\">Budget_Amount</th><th class=\"tdhistory87552\">avgbudget</th><th class=\"tdhistory87552\">BudgeDiff</th></tr></thead><tbody class=\"tdhistory87552 resultset-body\"><tr><th class=\"tdhistory87552\" style= \"background: rgba(243, 243, 243, 0.75)\">1</th><td class=\"tdhistory87552\">customer support                        </td><td class=\"tdhistory87552\">982300.00</td><td class=\"tdhistory87552\">962180</td><td class=\"tdhistory87552\">20120</td></tr><tr><th class=\"tdhistory87552\" style= \"background: rgba(243, 243, 243, 0.75)\">2</th><td class=\"tdhistory87552\">NULL                                    </td><td class=\"tdhistory87552\">982300.00</td><td class=\"tdhistory87552\">962180</td><td class=\"tdhistory87552\">20120</td></tr><tr><th class=\"tdhistory87552\" style= \"background: rgba(243, 243, 243, 0.75)\">3</th><td class=\"tdhistory87552\">marketing sales                         </td><td class=\"tdhistory87552\">982300.00</td><td class=\"tdhistory87552\">962180</td><td class=\"tdhistory87552\">20120</td></tr></tbody></table></div>"
      ]
     },
     "execution_count": 191,
     "metadata": {
      "application/vnd.teradata.resultset": "{\"resultSetID\":\"/home/jupyter/Teradata/Resultsets/2022.01.11_15.07.37.182_UTC\",\"historyID\":186,\"chunkID\":\"00001\",\"sessionid\":\"\",\"portnum\":\"\",\"dockermode\":\"standalone\",\"totalRowCount\":3,\"chunkCount\":0,\"rowLimit\":0,\"columnMetadata\":[{\"columnName\":\"Dept_Name\",\"columnTypeName\":\"CHAR\",\"length\":20,\"scale\":20},{\"columnNumber\":1,\"columnName\":\"Budget_Amount\",\"columnTypeName\":\"DECIMAL\",\"length\":2,\"precision\":10,\"scale\":2},{\"columnNumber\":2,\"columnName\":\"avgbudget\",\"columnTypeName\":\"FLOAT\"},{\"columnNumber\":3,\"columnName\":\"BudgeDiff\",\"columnTypeName\":\"FLOAT\"}]}"
     },
     "output_type": "execute_result"
    }
   ],
   "source": [
    "SELECT dept_name, budget_amount, avgbudget,\n",
    "budget_amount - avgbudget AS BudgeDiff\n",
    "FROM (SELECT AVG(budget_amount) AS avgbudget\n",
    "FROM department) AS ab,\n",
    "Department d\n",
    "WHERE budget_amount > avgbudget;"
   ]
  },
  {
   "cell_type": "markdown",
   "id": "cf127802",
   "metadata": {},
   "source": [
    "# VOLATILE TABLE Slide [110]\n",
    "\n",
    "**<div class=\"alert alert-block alert-info\"> 1. Change your default database to \"Employee_Sales\" and create a volatile table based on the definition of the Department without qualifying any\n",
    "database names of either the target and source tables. Then populate it with data from the department table. Use the \"preserve\" option. Select all rows from the table you created.** </div>\n",
    "\n",
    "\n",
    "**<div class=\"alert alert-block alert-warning\">Note that the default database is ignored for the CREATE TABLE. However, you will have to qualify the target table name for the INSERT-SELECT!**\n",
    "</div>"
   ]
  },
  {
   "cell_type": "code",
   "execution_count": 192,
   "id": "099e1b66",
   "metadata": {},
   "outputs": [
    {
     "data": {
      "text/plain": [
       "Success: 0 rows affected"
      ]
     },
     "execution_count": 192,
     "metadata": {
      "application/vnd.teradata.resultset": ""
     },
     "output_type": "execute_result"
    }
   ],
   "source": [
    "CREATE VOLATILE TABLE department_new\n",
    "(Dept_Number SMALLINT,\n",
    "department_name CHAR(30),\n",
    "budget_amount DECIMAL(10,2),\n",
    "manager_employee_number INTEGER)\n",
    "UNIQUE PRIMARY INDEX (Dept_Number)\n",
    "ON COMMIT PRESERVE ROWS;\n"
   ]
  },
  {
   "cell_type": "code",
   "execution_count": 193,
   "id": "93168b5f",
   "metadata": {},
   "outputs": [
    {
     "data": {
      "text/plain": [
       "Success: 5 rows affected"
      ]
     },
     "execution_count": 193,
     "metadata": {
      "application/vnd.teradata.resultset": ""
     },
     "output_type": "execute_result"
    }
   ],
   "source": [
    "\n",
    "INSERT INTO department_new SELECT * FROM department;"
   ]
  },
  {
   "cell_type": "markdown",
   "id": "45e3dc92",
   "metadata": {},
   "source": [
    "**<div class=\"alert alert-block alert-info\"> 2. Create another volatile table that averages the salary amounts for each department. Now issue a HELP command to verify the existence of the two volatile tables that you created. Do SHOW TABLE on one of them and then drop the first one and repeat the earlier HELP command.** </div>\n",
    "\n",
    "**<div class=\"alert alert-block alert-warning\"> Note\n",
    "    Remember to reset your default database from the previous exercise!**\n",
    "</div>"
   ]
  },
  {
   "cell_type": "code",
   "execution_count": 194,
   "id": "71bc637e",
   "metadata": {},
   "outputs": [
    {
     "data": {
      "text/plain": [
       "Success: 0 rows affected"
      ]
     },
     "execution_count": 194,
     "metadata": {
      "application/vnd.teradata.resultset": ""
     },
     "output_type": "execute_result"
    }
   ],
   "source": [
    "CREATE VOLATILE TABLE department_avgs\n",
    "(Dept_Number SMALLINT,\n",
    "Avgsals DECIMAL(10,2))\n",
    "UNIQUE PRIMARY INDEX (Dept_Number)\n",
    "ON COMMIT PRESERVE ROWS;"
   ]
  },
  {
   "cell_type": "code",
   "execution_count": 195,
   "id": "9fefd994",
   "metadata": {},
   "outputs": [
    {
     "data": {
      "application/vnd.teradata.resultset": "\"Table Name\",\"Table Id\",\"Table Dictionary Name\",\"Table SQL Name\",\"Table UEscape\"\n\"department_new                                                                            \",\"56C4D46A0000            \",\"department_new\",\"department_new\",\"\"\n\"department_avgs                                                                           \",\"56C4D56A0000            \",\"department_avgs\",\"department_avgs\",\"\"",
      "text/html": [
       "<div class = \"td-resultset-table-div\" style = \"max-height: 100%; overflow-y: auto\">\n",
       "      <table class=\"tdhistory842324\"><style>\n",
       "      table.tdhistory842324 { display: block !important; min-height: 126px !important; overflow: auto !important; height: 126px !important; width: 100% !important; border: 1px solid rgb(207, 207, 207) !important; border-collapse: collapse !important; ; color: var(--jp-ui-font-color1) !important; }\n",
       "      th.tdhistory842324 { border: 1px solid rgb(198,198,198) !important; border-collapse: collapse !important; ; padding: 2px 5px !important; ; font-size: 13px !important; ; text-align: center !important; white-space: normal !important; color: var(--jp-ui-font-color1) !important; }\n",
       "      th.tdhistory842324:last-child { text-align: left !important; }\n",
       "      tbody.tdhistory842324 tr:nth-child(even) { background: rgba(243, 243, 243, 0.75) !important; }\n",
       "      tbody.tdhistory842324 tr:nth-child(odd) { background: var(--jp-ui-inverse-font-color1) !important; }\n",
       "      td.tdhistory842324 { border: 1px solid rgb(207, 207, 207) !important; border-collapse: collapse !important; ; padding: 2px 5px !important; ; font-size: 13px !important; ; text-align: left !important;          white-space: nowrap !important; overflow:hidden !important; text-overflow:ellipsis !important;; }\n",
       "    </style><thead><tr style= \"background: rgba(243, 243, 243, 0.75)\"><th class=\"tdhistory842324\"></th><th class=\"tdhistory842324\">Table Name</th><th class=\"tdhistory842324\">Table Id</th><th class=\"tdhistory842324\">Table Dictionary Name</th><th class=\"tdhistory842324\">Table SQL Name</th><th class=\"tdhistory842324\">Table UEscape</th></tr></thead><tbody class=\"tdhistory842324 resultset-body\"><tr><th class=\"tdhistory842324\" style= \"background: rgba(243, 243, 243, 0.75)\">1</th><td class=\"tdhistory842324\">department_new                                                                            </td><td class=\"tdhistory842324\">56C4D46A0000            </td><td class=\"tdhistory842324\">department_new</td><td class=\"tdhistory842324\">department_new</td><td class=\"tdhistory842324\"></td></tr><tr><th class=\"tdhistory842324\" style= \"background: rgba(243, 243, 243, 0.75)\">2</th><td class=\"tdhistory842324\">department_avgs                                                                           </td><td class=\"tdhistory842324\">56C4D56A0000            </td><td class=\"tdhistory842324\">department_avgs</td><td class=\"tdhistory842324\">department_avgs</td><td class=\"tdhistory842324\"></td></tr></tbody></table></div>"
      ]
     },
     "execution_count": 195,
     "metadata": {
      "application/vnd.teradata.resultset": "{\"resultSetID\":\"/home/jupyter/Teradata/Resultsets/2022.01.11_15.07.42.998_UTC\",\"historyID\":190,\"chunkID\":\"00001\",\"sessionid\":\"\",\"portnum\":\"\",\"dockermode\":\"standalone\",\"totalRowCount\":2,\"chunkCount\":0,\"rowLimit\":0,\"columnMetadata\":[{\"columnName\":\"Table Name\",\"columnTypeName\":\"CHAR\",\"length\":30,\"scale\":30},{\"columnNumber\":1,\"columnName\":\"Table Id\",\"columnTypeName\":\"CHAR\",\"length\":12,\"scale\":12},{\"columnNumber\":2,\"columnName\":\"Table Dictionary Name\",\"columnTypeName\":\"VARCHAR\",\"length\":128,\"scale\":128},{\"columnNumber\":3,\"columnName\":\"Table SQL Name\",\"columnTypeName\":\"VARCHAR\",\"length\":644,\"scale\":644},{\"columnNumber\":4,\"columnName\":\"Table UEscape\",\"columnTypeName\":\"VARCHAR\",\"length\":1,\"scale\":1}]}"
     },
     "output_type": "execute_result"
    }
   ],
   "source": [
    "HELP VOLATILE TABLE;\n"
   ]
  },
  {
   "cell_type": "markdown",
   "id": "eb2426fa",
   "metadata": {},
   "source": [
    "# SAMPLE AND RANDOM Slide [112-115]\n",
    "\n",
    "**<div class=\"alert alert-block alert-info\">1. Return two 15 row samples from the employee table. Anything less than 15 rows per sample is unacceptable. Project last and first names plus hire dates and birth dates.** </div>"
   ]
  },
  {
   "cell_type": "code",
   "execution_count": 196,
   "id": "2745405a",
   "metadata": {},
   "outputs": [
    {
     "data": {
      "application/vnd.teradata.resultset": "\"Employee_Number\",\"Dept_Number\",\"Emp_Mgr_Number\",\"Job_Code\",\"Last_Name\",\"First_Name\",\"Salary_Amount\",\"Hire_Date\",\"SampleId\"\n\"1024\",\"403\",\"\",\"\",\"Brown                                   \",\"Allen\",\"56500.00\",\"2021-02-02\",\"1\"\n\"1020\",\"403\",\"\",\"\",\"Charles                                 \",\"John\",\"56500.00\",\"2021-02-05\",\"1\"\n\"1001\",\"401\",\"\",\"412101\",\"Hoover                                  \",\"William\",\"31000.00\",\"2021-02-14\",\"1\"\n\"1022\",\"401\",\"\",\"\",\"Machado                                 \",\"Albert\",\"56500.00\",\"2021-02-04\",\"1\"\n\"1007\",\"403\",\"\",\"432101\",\"Villegas                                \",\"Arnando\",\"46000.00\",\"2021-02-14\",\"1\"\n\"1015\",\"501\",\"\",\"412109\",\"Wilson                                  \",\"Edward\",\"37900.00\",\"2021-02-08\",\"1\"\n\"1021\",\"\",\"\",\"222101\",\"Morrissey                               \",\"Jim\",\"56500.00\",\"2021-02-04\",\"1\"\n\"1002\",\"401\",\"\",\"\",\"Brown                                   \",\"Alan\",\"31000.00\",\"2021-02-14\",\"1\"\n\"1004\",\"401\",\"\",\"412101\",\"Johnson                                 \",\"Darlene\",\"31000.00\",\"2021-02-14\",\"1\"\n\"1013\",\"401\",\"\",\"\",\"Phillips                                \",\"Charles\",\"37900.00\",\"2021-02-09\",\"1\"\n\"1012\",\"403\",\"\",\"\",\"Hopkins                                 \",\"Paulene\",\"37900.00\",\"2021-02-10\",\"1\"\n\"1009\",\"403\",\"\",\"\",\"Lombardo                                \",\"Domingus\",\"31000.00\",\"2021-02-12\",\"1\"\n\"1008\",\"301\",\"\",\"312102\",\"Kanieski                                \",\"Carol\",\"46000.00\",\"2021-02-13\",\"1\"\n\"1016\",\"\",\"\",\"321100\",\"Rogers                                  \",\"Nora\",\"56500.00\",\"2021-02-07\",\"1\"\n\"1025\",\"\",\"\",\"211100\",\"Short                                   \",\"Michael\",\"56500.00\",\"2021-02-01\",\"1\"\n\"1024\",\"403\",\"\",\"\",\"Brown                                   \",\"Allen\",\"56500.00\",\"2021-02-02\",\"2\"\n\"1020\",\"403\",\"\",\"\",\"Charles                                 \",\"John\",\"56500.00\",\"2021-02-05\",\"2\"\n\"1001\",\"401\",\"\",\"412101\",\"Hoover                                  \",\"William\",\"31000.00\",\"2021-02-14\",\"2\"\n\"1022\",\"401\",\"\",\"\",\"Machado                                 \",\"Albert\",\"56500.00\",\"2021-02-04\",\"2\"\n\"1007\",\"403\",\"\",\"432101\",\"Villegas                                \",\"Arnando\",\"46000.00\",\"2021-02-14\",\"2\"\n\"1015\",\"501\",\"\",\"412109\",\"Wilson                                  \",\"Edward\",\"37900.00\",\"2021-02-08\",\"2\"\n\"1021\",\"\",\"\",\"222101\",\"Morrissey                               \",\"Jim\",\"56500.00\",\"2021-02-04\",\"2\"\n\"1002\",\"401\",\"\",\"\",\"Brown                                   \",\"Alan\",\"31000.00\",\"2021-02-14\",\"2\"\n\"1004\",\"401\",\"\",\"412101\",\"Johnson                                 \",\"Darlene\",\"31000.00\",\"2021-02-14\",\"2\"\n\"1013\",\"401\",\"\",\"\",\"Phillips                                \",\"Charles\",\"37900.00\",\"2021-02-09\",\"2\"\n\"1012\",\"403\",\"\",\"\",\"Hopkins                                 \",\"Paulene\",\"37900.00\",\"2021-02-10\",\"2\"\n\"1009\",\"403\",\"\",\"\",\"Lombardo                                \",\"Domingus\",\"31000.00\",\"2021-02-12\",\"2\"\n\"1008\",\"301\",\"\",\"312102\",\"Kanieski                                \",\"Carol\",\"46000.00\",\"2021-02-13\",\"2\"\n\"1016\",\"\",\"\",\"321100\",\"Rogers                                  \",\"Nora\",\"56500.00\",\"2021-02-07\",\"2\"\n\"1025\",\"\",\"\",\"211100\",\"Short                                   \",\"Michael\",\"56500.00\",\"2021-02-01\",\"2\"",
      "text/html": [
       "<div class = \"td-resultset-table-div\" style = \"max-height: 100%; overflow-y: auto\">\n",
       "      <table class=\"tdhistory264475\"><style>\n",
       "      table.tdhistory264475 { display: block !important; min-height: 588px !important; overflow: auto !important; height: 588px !important; width: 100% !important; border: 1px solid rgb(207, 207, 207) !important; border-collapse: collapse !important; ; color: var(--jp-ui-font-color1) !important; }\n",
       "      th.tdhistory264475 { border: 1px solid rgb(198,198,198) !important; border-collapse: collapse !important; ; padding: 2px 5px !important; ; font-size: 13px !important; ; text-align: center !important; white-space: normal !important; color: var(--jp-ui-font-color1) !important; }\n",
       "      th.tdhistory264475:last-child { text-align: left !important; }\n",
       "      tbody.tdhistory264475 tr:nth-child(even) { background: rgba(243, 243, 243, 0.75) !important; }\n",
       "      tbody.tdhistory264475 tr:nth-child(odd) { background: var(--jp-ui-inverse-font-color1) !important; }\n",
       "      td.tdhistory264475 { border: 1px solid rgb(207, 207, 207) !important; border-collapse: collapse !important; ; padding: 2px 5px !important; ; font-size: 13px !important; ; text-align: left !important;          white-space: nowrap !important; overflow:hidden !important; text-overflow:ellipsis !important;; }\n",
       "    </style><thead><tr style= \"background: rgba(243, 243, 243, 0.75)\"><th class=\"tdhistory264475\"></th><th class=\"tdhistory264475\">Employee_Number</th><th class=\"tdhistory264475\">Dept_Number</th><th class=\"tdhistory264475\">Emp_Mgr_Number</th><th class=\"tdhistory264475\">Job_Code</th><th class=\"tdhistory264475\">Last_Name</th><th class=\"tdhistory264475\">First_Name</th><th class=\"tdhistory264475\">Salary_Amount</th><th class=\"tdhistory264475\">Hire_Date</th><th class=\"tdhistory264475\">SampleId</th></tr></thead><tbody class=\"tdhistory264475 resultset-body\"><tr><th class=\"tdhistory264475\" style= \"background: rgba(243, 243, 243, 0.75)\">1</th><td class=\"tdhistory264475\">1024</td><td class=\"tdhistory264475\">403</td><td class=\"tdhistory264475\"></td><td class=\"tdhistory264475\"></td><td class=\"tdhistory264475\">Brown                                   </td><td class=\"tdhistory264475\">Allen</td><td class=\"tdhistory264475\">56500.00</td><td class=\"tdhistory264475\">2021-02-02</td><td class=\"tdhistory264475\">1</td></tr><tr><th class=\"tdhistory264475\" style= \"background: rgba(243, 243, 243, 0.75)\">2</th><td class=\"tdhistory264475\">1020</td><td class=\"tdhistory264475\">403</td><td class=\"tdhistory264475\"></td><td class=\"tdhistory264475\"></td><td class=\"tdhistory264475\">Charles                                 </td><td class=\"tdhistory264475\">John</td><td class=\"tdhistory264475\">56500.00</td><td class=\"tdhistory264475\">2021-02-05</td><td class=\"tdhistory264475\">1</td></tr><tr><th class=\"tdhistory264475\" style= \"background: rgba(243, 243, 243, 0.75)\">3</th><td class=\"tdhistory264475\">1001</td><td class=\"tdhistory264475\">401</td><td class=\"tdhistory264475\"></td><td class=\"tdhistory264475\">412101</td><td class=\"tdhistory264475\">Hoover                                  </td><td class=\"tdhistory264475\">William</td><td class=\"tdhistory264475\">31000.00</td><td class=\"tdhistory264475\">2021-02-14</td><td class=\"tdhistory264475\">1</td></tr><tr><th class=\"tdhistory264475\" style= \"background: rgba(243, 243, 243, 0.75)\">4</th><td class=\"tdhistory264475\">1022</td><td class=\"tdhistory264475\">401</td><td class=\"tdhistory264475\"></td><td class=\"tdhistory264475\"></td><td class=\"tdhistory264475\">Machado                                 </td><td class=\"tdhistory264475\">Albert</td><td class=\"tdhistory264475\">56500.00</td><td class=\"tdhistory264475\">2021-02-04</td><td class=\"tdhistory264475\">1</td></tr><tr><th class=\"tdhistory264475\" style= \"background: rgba(243, 243, 243, 0.75)\">5</th><td class=\"tdhistory264475\">1007</td><td class=\"tdhistory264475\">403</td><td class=\"tdhistory264475\"></td><td class=\"tdhistory264475\">432101</td><td class=\"tdhistory264475\">Villegas                                </td><td class=\"tdhistory264475\">Arnando</td><td class=\"tdhistory264475\">46000.00</td><td class=\"tdhistory264475\">2021-02-14</td><td class=\"tdhistory264475\">1</td></tr><tr><th class=\"tdhistory264475\" style= \"background: rgba(243, 243, 243, 0.75)\">6</th><td class=\"tdhistory264475\">1015</td><td class=\"tdhistory264475\">501</td><td class=\"tdhistory264475\"></td><td class=\"tdhistory264475\">412109</td><td class=\"tdhistory264475\">Wilson                                  </td><td class=\"tdhistory264475\">Edward</td><td class=\"tdhistory264475\">37900.00</td><td class=\"tdhistory264475\">2021-02-08</td><td class=\"tdhistory264475\">1</td></tr><tr><th class=\"tdhistory264475\" style= \"background: rgba(243, 243, 243, 0.75)\">7</th><td class=\"tdhistory264475\">1021</td><td class=\"tdhistory264475\"></td><td class=\"tdhistory264475\"></td><td class=\"tdhistory264475\">222101</td><td class=\"tdhistory264475\">Morrissey                               </td><td class=\"tdhistory264475\">Jim</td><td class=\"tdhistory264475\">56500.00</td><td class=\"tdhistory264475\">2021-02-04</td><td class=\"tdhistory264475\">1</td></tr><tr><th class=\"tdhistory264475\" style= \"background: rgba(243, 243, 243, 0.75)\">8</th><td class=\"tdhistory264475\">1002</td><td class=\"tdhistory264475\">401</td><td class=\"tdhistory264475\"></td><td class=\"tdhistory264475\"></td><td class=\"tdhistory264475\">Brown                                   </td><td class=\"tdhistory264475\">Alan</td><td class=\"tdhistory264475\">31000.00</td><td class=\"tdhistory264475\">2021-02-14</td><td class=\"tdhistory264475\">1</td></tr><tr><th class=\"tdhistory264475\" style= \"background: rgba(243, 243, 243, 0.75)\">9</th><td class=\"tdhistory264475\">1004</td><td class=\"tdhistory264475\">401</td><td class=\"tdhistory264475\"></td><td class=\"tdhistory264475\">412101</td><td class=\"tdhistory264475\">Johnson                                 </td><td class=\"tdhistory264475\">Darlene</td><td class=\"tdhistory264475\">31000.00</td><td class=\"tdhistory264475\">2021-02-14</td><td class=\"tdhistory264475\">1</td></tr><tr><th class=\"tdhistory264475\" style= \"background: rgba(243, 243, 243, 0.75)\">10</th><td class=\"tdhistory264475\">1013</td><td class=\"tdhistory264475\">401</td><td class=\"tdhistory264475\"></td><td class=\"tdhistory264475\"></td><td class=\"tdhistory264475\">Phillips                                </td><td class=\"tdhistory264475\">Charles</td><td class=\"tdhistory264475\">37900.00</td><td class=\"tdhistory264475\">2021-02-09</td><td class=\"tdhistory264475\">1</td></tr><tr><th class=\"tdhistory264475\" style= \"background: rgba(243, 243, 243, 0.75)\">11</th><td class=\"tdhistory264475\">1012</td><td class=\"tdhistory264475\">403</td><td class=\"tdhistory264475\"></td><td class=\"tdhistory264475\"></td><td class=\"tdhistory264475\">Hopkins                                 </td><td class=\"tdhistory264475\">Paulene</td><td class=\"tdhistory264475\">37900.00</td><td class=\"tdhistory264475\">2021-02-10</td><td class=\"tdhistory264475\">1</td></tr><tr><th class=\"tdhistory264475\" style= \"background: rgba(243, 243, 243, 0.75)\">12</th><td class=\"tdhistory264475\">1009</td><td class=\"tdhistory264475\">403</td><td class=\"tdhistory264475\"></td><td class=\"tdhistory264475\"></td><td class=\"tdhistory264475\">Lombardo                                </td><td class=\"tdhistory264475\">Domingus</td><td class=\"tdhistory264475\">31000.00</td><td class=\"tdhistory264475\">2021-02-12</td><td class=\"tdhistory264475\">1</td></tr><tr><th class=\"tdhistory264475\" style= \"background: rgba(243, 243, 243, 0.75)\">13</th><td class=\"tdhistory264475\">1008</td><td class=\"tdhistory264475\">301</td><td class=\"tdhistory264475\"></td><td class=\"tdhistory264475\">312102</td><td class=\"tdhistory264475\">Kanieski                                </td><td class=\"tdhistory264475\">Carol</td><td class=\"tdhistory264475\">46000.00</td><td class=\"tdhistory264475\">2021-02-13</td><td class=\"tdhistory264475\">1</td></tr><tr><th class=\"tdhistory264475\" style= \"background: rgba(243, 243, 243, 0.75)\">14</th><td class=\"tdhistory264475\">1016</td><td class=\"tdhistory264475\"></td><td class=\"tdhistory264475\"></td><td class=\"tdhistory264475\">321100</td><td class=\"tdhistory264475\">Rogers                                  </td><td class=\"tdhistory264475\">Nora</td><td class=\"tdhistory264475\">56500.00</td><td class=\"tdhistory264475\">2021-02-07</td><td class=\"tdhistory264475\">1</td></tr><tr><th class=\"tdhistory264475\" style= \"background: rgba(243, 243, 243, 0.75)\">15</th><td class=\"tdhistory264475\">1025</td><td class=\"tdhistory264475\"></td><td class=\"tdhistory264475\"></td><td class=\"tdhistory264475\">211100</td><td class=\"tdhistory264475\">Short                                   </td><td class=\"tdhistory264475\">Michael</td><td class=\"tdhistory264475\">56500.00</td><td class=\"tdhistory264475\">2021-02-01</td><td class=\"tdhistory264475\">1</td></tr><tr><th class=\"tdhistory264475\" style= \"background: rgba(243, 243, 243, 0.75)\">16</th><td class=\"tdhistory264475\">1024</td><td class=\"tdhistory264475\">403</td><td class=\"tdhistory264475\"></td><td class=\"tdhistory264475\"></td><td class=\"tdhistory264475\">Brown                                   </td><td class=\"tdhistory264475\">Allen</td><td class=\"tdhistory264475\">56500.00</td><td class=\"tdhistory264475\">2021-02-02</td><td class=\"tdhistory264475\">2</td></tr><tr><th class=\"tdhistory264475\" style= \"background: rgba(243, 243, 243, 0.75)\">17</th><td class=\"tdhistory264475\">1020</td><td class=\"tdhistory264475\">403</td><td class=\"tdhistory264475\"></td><td class=\"tdhistory264475\"></td><td class=\"tdhistory264475\">Charles                                 </td><td class=\"tdhistory264475\">John</td><td class=\"tdhistory264475\">56500.00</td><td class=\"tdhistory264475\">2021-02-05</td><td class=\"tdhistory264475\">2</td></tr><tr><th class=\"tdhistory264475\" style= \"background: rgba(243, 243, 243, 0.75)\">18</th><td class=\"tdhistory264475\">1001</td><td class=\"tdhistory264475\">401</td><td class=\"tdhistory264475\"></td><td class=\"tdhistory264475\">412101</td><td class=\"tdhistory264475\">Hoover                                  </td><td class=\"tdhistory264475\">William</td><td class=\"tdhistory264475\">31000.00</td><td class=\"tdhistory264475\">2021-02-14</td><td class=\"tdhistory264475\">2</td></tr><tr><th class=\"tdhistory264475\" style= \"background: rgba(243, 243, 243, 0.75)\">19</th><td class=\"tdhistory264475\">1022</td><td class=\"tdhistory264475\">401</td><td class=\"tdhistory264475\"></td><td class=\"tdhistory264475\"></td><td class=\"tdhistory264475\">Machado                                 </td><td class=\"tdhistory264475\">Albert</td><td class=\"tdhistory264475\">56500.00</td><td class=\"tdhistory264475\">2021-02-04</td><td class=\"tdhistory264475\">2</td></tr><tr><th class=\"tdhistory264475\" style= \"background: rgba(243, 243, 243, 0.75)\">20</th><td class=\"tdhistory264475\">1007</td><td class=\"tdhistory264475\">403</td><td class=\"tdhistory264475\"></td><td class=\"tdhistory264475\">432101</td><td class=\"tdhistory264475\">Villegas                                </td><td class=\"tdhistory264475\">Arnando</td><td class=\"tdhistory264475\">46000.00</td><td class=\"tdhistory264475\">2021-02-14</td><td class=\"tdhistory264475\">2</td></tr><tr><th class=\"tdhistory264475\" style= \"background: rgba(243, 243, 243, 0.75)\">21</th><td class=\"tdhistory264475\">1015</td><td class=\"tdhistory264475\">501</td><td class=\"tdhistory264475\"></td><td class=\"tdhistory264475\">412109</td><td class=\"tdhistory264475\">Wilson                                  </td><td class=\"tdhistory264475\">Edward</td><td class=\"tdhistory264475\">37900.00</td><td class=\"tdhistory264475\">2021-02-08</td><td class=\"tdhistory264475\">2</td></tr><tr><th class=\"tdhistory264475\" style= \"background: rgba(243, 243, 243, 0.75)\">22</th><td class=\"tdhistory264475\">1021</td><td class=\"tdhistory264475\"></td><td class=\"tdhistory264475\"></td><td class=\"tdhistory264475\">222101</td><td class=\"tdhistory264475\">Morrissey                               </td><td class=\"tdhistory264475\">Jim</td><td class=\"tdhistory264475\">56500.00</td><td class=\"tdhistory264475\">2021-02-04</td><td class=\"tdhistory264475\">2</td></tr><tr><th class=\"tdhistory264475\" style= \"background: rgba(243, 243, 243, 0.75)\">23</th><td class=\"tdhistory264475\">1002</td><td class=\"tdhistory264475\">401</td><td class=\"tdhistory264475\"></td><td class=\"tdhistory264475\"></td><td class=\"tdhistory264475\">Brown                                   </td><td class=\"tdhistory264475\">Alan</td><td class=\"tdhistory264475\">31000.00</td><td class=\"tdhistory264475\">2021-02-14</td><td class=\"tdhistory264475\">2</td></tr><tr><th class=\"tdhistory264475\" style= \"background: rgba(243, 243, 243, 0.75)\">24</th><td class=\"tdhistory264475\">1004</td><td class=\"tdhistory264475\">401</td><td class=\"tdhistory264475\"></td><td class=\"tdhistory264475\">412101</td><td class=\"tdhistory264475\">Johnson                                 </td><td class=\"tdhistory264475\">Darlene</td><td class=\"tdhistory264475\">31000.00</td><td class=\"tdhistory264475\">2021-02-14</td><td class=\"tdhistory264475\">2</td></tr><tr><th class=\"tdhistory264475\" style= \"background: rgba(243, 243, 243, 0.75)\">25</th><td class=\"tdhistory264475\">1013</td><td class=\"tdhistory264475\">401</td><td class=\"tdhistory264475\"></td><td class=\"tdhistory264475\"></td><td class=\"tdhistory264475\">Phillips                                </td><td class=\"tdhistory264475\">Charles</td><td class=\"tdhistory264475\">37900.00</td><td class=\"tdhistory264475\">2021-02-09</td><td class=\"tdhistory264475\">2</td></tr><tr><th class=\"tdhistory264475\" style= \"background: rgba(243, 243, 243, 0.75)\">26</th><td class=\"tdhistory264475\">1012</td><td class=\"tdhistory264475\">403</td><td class=\"tdhistory264475\"></td><td class=\"tdhistory264475\"></td><td class=\"tdhistory264475\">Hopkins                                 </td><td class=\"tdhistory264475\">Paulene</td><td class=\"tdhistory264475\">37900.00</td><td class=\"tdhistory264475\">2021-02-10</td><td class=\"tdhistory264475\">2</td></tr><tr><th class=\"tdhistory264475\" style= \"background: rgba(243, 243, 243, 0.75)\">27</th><td class=\"tdhistory264475\">1009</td><td class=\"tdhistory264475\">403</td><td class=\"tdhistory264475\"></td><td class=\"tdhistory264475\"></td><td class=\"tdhistory264475\">Lombardo                                </td><td class=\"tdhistory264475\">Domingus</td><td class=\"tdhistory264475\">31000.00</td><td class=\"tdhistory264475\">2021-02-12</td><td class=\"tdhistory264475\">2</td></tr><tr><th class=\"tdhistory264475\" style= \"background: rgba(243, 243, 243, 0.75)\">28</th><td class=\"tdhistory264475\">1008</td><td class=\"tdhistory264475\">301</td><td class=\"tdhistory264475\"></td><td class=\"tdhistory264475\">312102</td><td class=\"tdhistory264475\">Kanieski                                </td><td class=\"tdhistory264475\">Carol</td><td class=\"tdhistory264475\">46000.00</td><td class=\"tdhistory264475\">2021-02-13</td><td class=\"tdhistory264475\">2</td></tr><tr><th class=\"tdhistory264475\" style= \"background: rgba(243, 243, 243, 0.75)\">29</th><td class=\"tdhistory264475\">1016</td><td class=\"tdhistory264475\"></td><td class=\"tdhistory264475\"></td><td class=\"tdhistory264475\">321100</td><td class=\"tdhistory264475\">Rogers                                  </td><td class=\"tdhistory264475\">Nora</td><td class=\"tdhistory264475\">56500.00</td><td class=\"tdhistory264475\">2021-02-07</td><td class=\"tdhistory264475\">2</td></tr><tr><th class=\"tdhistory264475\" style= \"background: rgba(243, 243, 243, 0.75)\">30</th><td class=\"tdhistory264475\">1025</td><td class=\"tdhistory264475\"></td><td class=\"tdhistory264475\"></td><td class=\"tdhistory264475\">211100</td><td class=\"tdhistory264475\">Short                                   </td><td class=\"tdhistory264475\">Michael</td><td class=\"tdhistory264475\">56500.00</td><td class=\"tdhistory264475\">2021-02-01</td><td class=\"tdhistory264475\">2</td></tr></tbody></table></div>"
      ]
     },
     "execution_count": 196,
     "metadata": {
      "application/vnd.teradata.resultset": "{\"resultSetID\":\"/home/jupyter/Teradata/Resultsets/2022.01.11_15.07.52.976_UTC\",\"historyID\":191,\"chunkID\":\"00001\",\"sessionid\":\"\",\"portnum\":\"\",\"dockermode\":\"standalone\",\"totalRowCount\":30,\"chunkCount\":0,\"rowLimit\":0,\"columnMetadata\":[{\"columnName\":\"Employee_Number\",\"columnTypeName\":\"INTEGER\"},{\"columnNumber\":1,\"columnName\":\"Dept_Number\",\"columnTypeName\":\"INTEGER\"},{\"columnNumber\":2,\"columnName\":\"Emp_Mgr_Number\",\"columnTypeName\":\"INTEGER\"},{\"columnNumber\":3,\"columnName\":\"Job_Code\",\"columnTypeName\":\"INTEGER\"},{\"columnNumber\":4,\"columnName\":\"Last_Name\",\"columnTypeName\":\"CHAR\",\"length\":20,\"scale\":20},{\"columnNumber\":5,\"columnName\":\"First_Name\",\"columnTypeName\":\"VARCHAR\",\"length\":20,\"scale\":20},{\"columnNumber\":6,\"columnName\":\"Salary_Amount\",\"columnTypeName\":\"DECIMAL\",\"length\":2,\"precision\":10,\"scale\":2},{\"columnNumber\":7,\"columnName\":\"Hire_Date\",\"columnTypeName\":\"DATE\"},{\"columnNumber\":8,\"columnName\":\"SampleId\",\"columnTypeName\":\"INTEGER\"}]}"
     },
     "output_type": "execute_result"
    }
   ],
   "source": [
    "SELECT employee.*, SAMPLEID\n",
    "FROM employee\n",
    "SAMPLE WITH REPLACEMENT 15, 15\n",
    "ORDER BY SAMPLEID;\n"
   ]
  },
  {
   "cell_type": "markdown",
   "id": "212865bb",
   "metadata": {},
   "source": [
    "**<div class=\"alert alert-block alert-info\">2. Return two 50% row samples of employees for each of departments 401 and 501.** </div>\n"
   ]
  },
  {
   "cell_type": "code",
   "execution_count": 197,
   "id": "b3784faa",
   "metadata": {},
   "outputs": [
    {
     "data": {
      "application/vnd.teradata.resultset": "\"Employee_Number\",\"Dept_Number\",\"Emp_Mgr_Number\",\"Job_Code\",\"Last_Name\",\"First_Name\",\"Salary_Amount\",\"Hire_Date\",\"SampleId\"\n\"1022\",\"401\",\"\",\"\",\"Machado                                 \",\"Albert\",\"56500.00\",\"2021-02-04\",\"1\"\n\"1002\",\"401\",\"\",\"\",\"Brown                                   \",\"Alan\",\"31000.00\",\"2021-02-14\",\"1\"\n\"1010\",\"401\",\"\",\"412101\",\"Rogers                                  \",\"Frank\",\"46000.00\",\"2021-02-11\",\"1\"\n\"1001\",\"401\",\"\",\"412101\",\"Hoover                                  \",\"William\",\"31000.00\",\"2021-02-14\",\"2\"\n\"1004\",\"401\",\"\",\"412101\",\"Johnson                                 \",\"Darlene\",\"31000.00\",\"2021-02-14\",\"2\"\n\"1013\",\"401\",\"\",\"\",\"Phillips                                \",\"Charles\",\"37900.00\",\"2021-02-09\",\"2\"\n\"1015\",\"501\",\"\",\"412109\",\"Wilson                                  \",\"Edward\",\"37900.00\",\"2021-02-08\",\"3\"\n\"1023\",\"501\",\"\",\"312103\",\"Rabbit                                  \",\"Peter\",\"56500.00\",\"2021-02-03\",\"3\"\n\"1018\",\"501\",\"\",\"412101\",\"Ratzlaff                                \",\"Larry\",\"56500.00\",\"2021-02-06\",\"4\"",
      "text/html": [
       "<div class = \"td-resultset-table-div\" style = \"max-height: 100%; overflow-y: auto\">\n",
       "      <table class=\"tdhistory60864\"><style>\n",
       "      table.tdhistory60864 { display: block !important; min-height: 273px !important; overflow: auto !important; height: 273px !important; width: 100% !important; border: 1px solid rgb(207, 207, 207) !important; border-collapse: collapse !important; ; color: var(--jp-ui-font-color1) !important; }\n",
       "      th.tdhistory60864 { border: 1px solid rgb(198,198,198) !important; border-collapse: collapse !important; ; padding: 2px 5px !important; ; font-size: 13px !important; ; text-align: center !important; white-space: normal !important; color: var(--jp-ui-font-color1) !important; }\n",
       "      th.tdhistory60864:last-child { text-align: left !important; }\n",
       "      tbody.tdhistory60864 tr:nth-child(even) { background: rgba(243, 243, 243, 0.75) !important; }\n",
       "      tbody.tdhistory60864 tr:nth-child(odd) { background: var(--jp-ui-inverse-font-color1) !important; }\n",
       "      td.tdhistory60864 { border: 1px solid rgb(207, 207, 207) !important; border-collapse: collapse !important; ; padding: 2px 5px !important; ; font-size: 13px !important; ; text-align: left !important;          white-space: nowrap !important; overflow:hidden !important; text-overflow:ellipsis !important;; }\n",
       "    </style><thead><tr style= \"background: rgba(243, 243, 243, 0.75)\"><th class=\"tdhistory60864\"></th><th class=\"tdhistory60864\">Employee_Number</th><th class=\"tdhistory60864\">Dept_Number</th><th class=\"tdhistory60864\">Emp_Mgr_Number</th><th class=\"tdhistory60864\">Job_Code</th><th class=\"tdhistory60864\">Last_Name</th><th class=\"tdhistory60864\">First_Name</th><th class=\"tdhistory60864\">Salary_Amount</th><th class=\"tdhistory60864\">Hire_Date</th><th class=\"tdhistory60864\">SampleId</th></tr></thead><tbody class=\"tdhistory60864 resultset-body\"><tr><th class=\"tdhistory60864\" style= \"background: rgba(243, 243, 243, 0.75)\">1</th><td class=\"tdhistory60864\">1022</td><td class=\"tdhistory60864\">401</td><td class=\"tdhistory60864\"></td><td class=\"tdhistory60864\"></td><td class=\"tdhistory60864\">Machado                                 </td><td class=\"tdhistory60864\">Albert</td><td class=\"tdhistory60864\">56500.00</td><td class=\"tdhistory60864\">2021-02-04</td><td class=\"tdhistory60864\">1</td></tr><tr><th class=\"tdhistory60864\" style= \"background: rgba(243, 243, 243, 0.75)\">2</th><td class=\"tdhistory60864\">1002</td><td class=\"tdhistory60864\">401</td><td class=\"tdhistory60864\"></td><td class=\"tdhistory60864\"></td><td class=\"tdhistory60864\">Brown                                   </td><td class=\"tdhistory60864\">Alan</td><td class=\"tdhistory60864\">31000.00</td><td class=\"tdhistory60864\">2021-02-14</td><td class=\"tdhistory60864\">1</td></tr><tr><th class=\"tdhistory60864\" style= \"background: rgba(243, 243, 243, 0.75)\">3</th><td class=\"tdhistory60864\">1010</td><td class=\"tdhistory60864\">401</td><td class=\"tdhistory60864\"></td><td class=\"tdhistory60864\">412101</td><td class=\"tdhistory60864\">Rogers                                  </td><td class=\"tdhistory60864\">Frank</td><td class=\"tdhistory60864\">46000.00</td><td class=\"tdhistory60864\">2021-02-11</td><td class=\"tdhistory60864\">1</td></tr><tr><th class=\"tdhistory60864\" style= \"background: rgba(243, 243, 243, 0.75)\">4</th><td class=\"tdhistory60864\">1001</td><td class=\"tdhistory60864\">401</td><td class=\"tdhistory60864\"></td><td class=\"tdhistory60864\">412101</td><td class=\"tdhistory60864\">Hoover                                  </td><td class=\"tdhistory60864\">William</td><td class=\"tdhistory60864\">31000.00</td><td class=\"tdhistory60864\">2021-02-14</td><td class=\"tdhistory60864\">2</td></tr><tr><th class=\"tdhistory60864\" style= \"background: rgba(243, 243, 243, 0.75)\">5</th><td class=\"tdhistory60864\">1004</td><td class=\"tdhistory60864\">401</td><td class=\"tdhistory60864\"></td><td class=\"tdhistory60864\">412101</td><td class=\"tdhistory60864\">Johnson                                 </td><td class=\"tdhistory60864\">Darlene</td><td class=\"tdhistory60864\">31000.00</td><td class=\"tdhistory60864\">2021-02-14</td><td class=\"tdhistory60864\">2</td></tr><tr><th class=\"tdhistory60864\" style= \"background: rgba(243, 243, 243, 0.75)\">6</th><td class=\"tdhistory60864\">1013</td><td class=\"tdhistory60864\">401</td><td class=\"tdhistory60864\"></td><td class=\"tdhistory60864\"></td><td class=\"tdhistory60864\">Phillips                                </td><td class=\"tdhistory60864\">Charles</td><td class=\"tdhistory60864\">37900.00</td><td class=\"tdhistory60864\">2021-02-09</td><td class=\"tdhistory60864\">2</td></tr><tr><th class=\"tdhistory60864\" style= \"background: rgba(243, 243, 243, 0.75)\">7</th><td class=\"tdhistory60864\">1015</td><td class=\"tdhistory60864\">501</td><td class=\"tdhistory60864\"></td><td class=\"tdhistory60864\">412109</td><td class=\"tdhistory60864\">Wilson                                  </td><td class=\"tdhistory60864\">Edward</td><td class=\"tdhistory60864\">37900.00</td><td class=\"tdhistory60864\">2021-02-08</td><td class=\"tdhistory60864\">3</td></tr><tr><th class=\"tdhistory60864\" style= \"background: rgba(243, 243, 243, 0.75)\">8</th><td class=\"tdhistory60864\">1023</td><td class=\"tdhistory60864\">501</td><td class=\"tdhistory60864\"></td><td class=\"tdhistory60864\">312103</td><td class=\"tdhistory60864\">Rabbit                                  </td><td class=\"tdhistory60864\">Peter</td><td class=\"tdhistory60864\">56500.00</td><td class=\"tdhistory60864\">2021-02-03</td><td class=\"tdhistory60864\">3</td></tr><tr><th class=\"tdhistory60864\" style= \"background: rgba(243, 243, 243, 0.75)\">9</th><td class=\"tdhistory60864\">1018</td><td class=\"tdhistory60864\">501</td><td class=\"tdhistory60864\"></td><td class=\"tdhistory60864\">412101</td><td class=\"tdhistory60864\">Ratzlaff                                </td><td class=\"tdhistory60864\">Larry</td><td class=\"tdhistory60864\">56500.00</td><td class=\"tdhistory60864\">2021-02-06</td><td class=\"tdhistory60864\">4</td></tr></tbody></table></div>"
      ]
     },
     "execution_count": 197,
     "metadata": {
      "application/vnd.teradata.resultset": "{\"resultSetID\":\"/home/jupyter/Teradata/Resultsets/2022.01.11_15.08.00.742_UTC\",\"historyID\":192,\"chunkID\":\"00001\",\"sessionid\":\"\",\"portnum\":\"\",\"dockermode\":\"standalone\",\"totalRowCount\":9,\"chunkCount\":0,\"rowLimit\":0,\"columnMetadata\":[{\"columnName\":\"Employee_Number\",\"columnTypeName\":\"INTEGER\"},{\"columnNumber\":1,\"columnName\":\"Dept_Number\",\"columnTypeName\":\"INTEGER\"},{\"columnNumber\":2,\"columnName\":\"Emp_Mgr_Number\",\"columnTypeName\":\"INTEGER\"},{\"columnNumber\":3,\"columnName\":\"Job_Code\",\"columnTypeName\":\"INTEGER\"},{\"columnNumber\":4,\"columnName\":\"Last_Name\",\"columnTypeName\":\"CHAR\",\"length\":20,\"scale\":20},{\"columnNumber\":5,\"columnName\":\"First_Name\",\"columnTypeName\":\"VARCHAR\",\"length\":20,\"scale\":20},{\"columnNumber\":6,\"columnName\":\"Salary_Amount\",\"columnTypeName\":\"DECIMAL\",\"length\":2,\"precision\":10,\"scale\":2},{\"columnNumber\":7,\"columnName\":\"Hire_Date\",\"columnTypeName\":\"DATE\"},{\"columnNumber\":8,\"columnName\":\"SampleId\",\"columnTypeName\":\"INTEGER\"}]}"
     },
     "output_type": "execute_result"
    }
   ],
   "source": [
    "SELECT employee.*, SAMPLEID\n",
    "FROM employee\n",
    "SAMPLE WHEN Dept_Number = 401 THEN 0.5, 0.5\n",
    "WHEN Dept_Number = 501 THEN 0.5, 0.5\n",
    "END\n",
    "ORDER BY SAMPLEID;\n"
   ]
  },
  {
   "cell_type": "markdown",
   "id": "f84d380e",
   "metadata": {},
   "source": [
    "**<div class=\"alert alert-block alert-info\">3. Using the same sampling as #2, SUM the salaries for each sample.** </div>\n"
   ]
  },
  {
   "cell_type": "code",
   "execution_count": 198,
   "id": "0b6908a5",
   "metadata": {},
   "outputs": [
    {
     "data": {
      "application/vnd.teradata.resultset": "\"SID\",\"SALARY_AMOUNT\"\n\"1\",\"125400.00\"\n\"2\",\"108000.00\"\n\"3\",\"113000.00\"\n\"4\",\"37900.00\"",
      "text/html": [
       "<div class = \"td-resultset-table-div\" style = \"max-height: 100%; overflow-y: auto\">\n",
       "      <table class=\"tdhistory74541\"><style>\n",
       "      table.tdhistory74541 { display: block !important; min-height: 168px !important; overflow: auto !important; height: 168px !important; width: 100% !important; border: 1px solid rgb(207, 207, 207) !important; border-collapse: collapse !important; ; color: var(--jp-ui-font-color1) !important; }\n",
       "      th.tdhistory74541 { border: 1px solid rgb(198,198,198) !important; border-collapse: collapse !important; ; padding: 2px 5px !important; ; font-size: 13px !important; ; text-align: center !important; white-space: normal !important; color: var(--jp-ui-font-color1) !important; }\n",
       "      th.tdhistory74541:last-child { text-align: left !important; }\n",
       "      tbody.tdhistory74541 tr:nth-child(even) { background: rgba(243, 243, 243, 0.75) !important; }\n",
       "      tbody.tdhistory74541 tr:nth-child(odd) { background: var(--jp-ui-inverse-font-color1) !important; }\n",
       "      td.tdhistory74541 { border: 1px solid rgb(207, 207, 207) !important; border-collapse: collapse !important; ; padding: 2px 5px !important; ; font-size: 13px !important; ; text-align: left !important;          white-space: nowrap !important; overflow:hidden !important; text-overflow:ellipsis !important;; }\n",
       "    </style><thead><tr style= \"background: rgba(243, 243, 243, 0.75)\"><th class=\"tdhistory74541\"></th><th class=\"tdhistory74541\">SID</th><th class=\"tdhistory74541\">SALARY_AMOUNT</th></tr></thead><tbody class=\"tdhistory74541 resultset-body\"><tr><th class=\"tdhistory74541\" style= \"background: rgba(243, 243, 243, 0.75)\">1</th><td class=\"tdhistory74541\">1</td><td class=\"tdhistory74541\">125400.00</td></tr><tr><th class=\"tdhistory74541\" style= \"background: rgba(243, 243, 243, 0.75)\">2</th><td class=\"tdhistory74541\">2</td><td class=\"tdhistory74541\">108000.00</td></tr><tr><th class=\"tdhistory74541\" style= \"background: rgba(243, 243, 243, 0.75)\">3</th><td class=\"tdhistory74541\">3</td><td class=\"tdhistory74541\">113000.00</td></tr><tr><th class=\"tdhistory74541\" style= \"background: rgba(243, 243, 243, 0.75)\">4</th><td class=\"tdhistory74541\">4</td><td class=\"tdhistory74541\">37900.00</td></tr></tbody></table></div>"
      ]
     },
     "execution_count": 198,
     "metadata": {
      "application/vnd.teradata.resultset": "{\"resultSetID\":\"/home/jupyter/Teradata/Resultsets/2022.01.11_15.08.06.498_UTC\",\"historyID\":193,\"chunkID\":\"00001\",\"sessionid\":\"\",\"portnum\":\"\",\"dockermode\":\"standalone\",\"totalRowCount\":4,\"chunkCount\":0,\"rowLimit\":0,\"columnMetadata\":[{\"columnName\":\"SID\",\"columnTypeName\":\"INTEGER\"},{\"columnNumber\":1,\"columnName\":\"SALARY_AMOUNT\",\"columnTypeName\":\"DECIMAL\",\"length\":2,\"precision\":38,\"scale\":2}]}"
     },
     "output_type": "execute_result"
    }
   ],
   "source": [
    "SELECT SID, SUM(salary_amount)\n",
    "FROM\n",
    "(SELECT salary_amount, SAMPLEID AS SID\n",
    "FROM employee\n",
    "SAMPLE WHEN Dept_Number = 401 THEN 0.5, 0.5\n",
    "WHEN Dept_Number = 501 THEN 0.5, 0.5\n",
    "END) AS t1\n",
    "GROUP BY 1\n",
    "ORDER BY 1;\n"
   ]
  },
  {
   "cell_type": "markdown",
   "id": "be36a04a",
   "metadata": {},
   "source": [
    "#  TOP N Slide [117]\n",
    "\n",
    "**<div class=\"alert alert-block alert-info\">1. List the top five salary amount VALUES in the employee table along with the last and first name of the employee.** </div>\n"
   ]
  },
  {
   "cell_type": "code",
   "execution_count": 199,
   "id": "1c3386d5",
   "metadata": {},
   "outputs": [
    {
     "data": {
      "application/vnd.teradata.resultset": "\"Last_Name\",\"First_Name\",\"Salary_Amount\"\n\"Rabbit                                  \",\"Peter\",\"56500.00\"\n\"Ratzlaff                                \",\"Larry\",\"56500.00\"\n\"Brown                                   \",\"Allen\",\"56500.00\"\n\"Rogers                                  \",\"Nora\",\"56500.00\"\n\"Morrissey                               \",\"Jim\",\"56500.00\"",
      "text/html": [
       "<div class = \"td-resultset-table-div\" style = \"max-height: 100%; overflow-y: auto\">\n",
       "      <table class=\"tdhistory49246\"><style>\n",
       "      table.tdhistory49246 { display: block !important; min-height: 189px !important; overflow: auto !important; height: 189px !important; width: 100% !important; border: 1px solid rgb(207, 207, 207) !important; border-collapse: collapse !important; ; color: var(--jp-ui-font-color1) !important; }\n",
       "      th.tdhistory49246 { border: 1px solid rgb(198,198,198) !important; border-collapse: collapse !important; ; padding: 2px 5px !important; ; font-size: 13px !important; ; text-align: center !important; white-space: normal !important; color: var(--jp-ui-font-color1) !important; }\n",
       "      th.tdhistory49246:last-child { text-align: left !important; }\n",
       "      tbody.tdhistory49246 tr:nth-child(even) { background: rgba(243, 243, 243, 0.75) !important; }\n",
       "      tbody.tdhistory49246 tr:nth-child(odd) { background: var(--jp-ui-inverse-font-color1) !important; }\n",
       "      td.tdhistory49246 { border: 1px solid rgb(207, 207, 207) !important; border-collapse: collapse !important; ; padding: 2px 5px !important; ; font-size: 13px !important; ; text-align: left !important;          white-space: nowrap !important; overflow:hidden !important; text-overflow:ellipsis !important;; }\n",
       "    </style><thead><tr style= \"background: rgba(243, 243, 243, 0.75)\"><th class=\"tdhistory49246\"></th><th class=\"tdhistory49246\">Last_Name</th><th class=\"tdhistory49246\">First_Name</th><th class=\"tdhistory49246\">Salary_Amount</th></tr></thead><tbody class=\"tdhistory49246 resultset-body\"><tr><th class=\"tdhistory49246\" style= \"background: rgba(243, 243, 243, 0.75)\">1</th><td class=\"tdhistory49246\">Rabbit                                  </td><td class=\"tdhistory49246\">Peter</td><td class=\"tdhistory49246\">56500.00</td></tr><tr><th class=\"tdhistory49246\" style= \"background: rgba(243, 243, 243, 0.75)\">2</th><td class=\"tdhistory49246\">Ratzlaff                                </td><td class=\"tdhistory49246\">Larry</td><td class=\"tdhistory49246\">56500.00</td></tr><tr><th class=\"tdhistory49246\" style= \"background: rgba(243, 243, 243, 0.75)\">3</th><td class=\"tdhistory49246\">Brown                                   </td><td class=\"tdhistory49246\">Allen</td><td class=\"tdhistory49246\">56500.00</td></tr><tr><th class=\"tdhistory49246\" style= \"background: rgba(243, 243, 243, 0.75)\">4</th><td class=\"tdhistory49246\">Rogers                                  </td><td class=\"tdhistory49246\">Nora</td><td class=\"tdhistory49246\">56500.00</td></tr><tr><th class=\"tdhistory49246\" style= \"background: rgba(243, 243, 243, 0.75)\">5</th><td class=\"tdhistory49246\">Morrissey                               </td><td class=\"tdhistory49246\">Jim</td><td class=\"tdhistory49246\">56500.00</td></tr></tbody></table></div>"
      ]
     },
     "execution_count": 199,
     "metadata": {
      "application/vnd.teradata.resultset": "{\"resultSetID\":\"/home/jupyter/Teradata/Resultsets/2022.01.11_15.08.07.845_UTC\",\"historyID\":194,\"chunkID\":\"00001\",\"sessionid\":\"\",\"portnum\":\"\",\"dockermode\":\"standalone\",\"totalRowCount\":5,\"chunkCount\":0,\"rowLimit\":0,\"columnMetadata\":[{\"columnName\":\"Last_Name\",\"columnTypeName\":\"CHAR\",\"length\":20,\"scale\":20},{\"columnNumber\":1,\"columnName\":\"First_Name\",\"columnTypeName\":\"VARCHAR\",\"length\":20,\"scale\":20},{\"columnNumber\":2,\"columnName\":\"Salary_Amount\",\"columnTypeName\":\"DECIMAL\",\"length\":2,\"precision\":10,\"scale\":2}]}"
     },
     "output_type": "execute_result"
    }
   ],
   "source": [
    "SELECT TOP 5 last_name, first_name, salary_amount\n",
    "FROM employee\n",
    "ORDER BY 3 DESC;"
   ]
  },
  {
   "cell_type": "markdown",
   "id": "ae383ddd",
   "metadata": {},
   "source": [
    "**<div class=\"alert alert-block alert-info\">2. To see if it can be used on character data values, list the top three department names from the department table by VALUE (in descending order).** </div>\n"
   ]
  },
  {
   "cell_type": "code",
   "execution_count": 200,
   "id": "9064a380",
   "metadata": {},
   "outputs": [
    {
     "data": {
      "application/vnd.teradata.resultset": "\"Dept_Name\"\n\"research and devl.                      \"\n\"NULL                                    \"\n\"marketing sales                         \"",
      "text/html": [
       "<div class = \"td-resultset-table-div\" style = \"max-height: 100%; overflow-y: auto\">\n",
       "      <table class=\"tdhistory262837\"><style>\n",
       "      table.tdhistory262837 { display: block !important; min-height: 147px !important; overflow: auto !important; height: 147px !important; width: 100% !important; border: 1px solid rgb(207, 207, 207) !important; border-collapse: collapse !important; ; color: var(--jp-ui-font-color1) !important; }\n",
       "      th.tdhistory262837 { border: 1px solid rgb(198,198,198) !important; border-collapse: collapse !important; ; padding: 2px 5px !important; ; font-size: 13px !important; ; text-align: center !important; white-space: normal !important; color: var(--jp-ui-font-color1) !important; }\n",
       "      th.tdhistory262837:last-child { text-align: left !important; }\n",
       "      tbody.tdhistory262837 tr:nth-child(even) { background: rgba(243, 243, 243, 0.75) !important; }\n",
       "      tbody.tdhistory262837 tr:nth-child(odd) { background: var(--jp-ui-inverse-font-color1) !important; }\n",
       "      td.tdhistory262837 { border: 1px solid rgb(207, 207, 207) !important; border-collapse: collapse !important; ; padding: 2px 5px !important; ; font-size: 13px !important; ; text-align: left !important;          white-space: nowrap !important; overflow:hidden !important; text-overflow:ellipsis !important;; }\n",
       "    </style><thead><tr style= \"background: rgba(243, 243, 243, 0.75)\"><th class=\"tdhistory262837\"></th><th class=\"tdhistory262837\">Dept_Name</th></tr></thead><tbody class=\"tdhistory262837 resultset-body\"><tr><th class=\"tdhistory262837\" style= \"background: rgba(243, 243, 243, 0.75)\">1</th><td class=\"tdhistory262837\">research and devl.                      </td></tr><tr><th class=\"tdhistory262837\" style= \"background: rgba(243, 243, 243, 0.75)\">2</th><td class=\"tdhistory262837\">NULL                                    </td></tr><tr><th class=\"tdhistory262837\" style= \"background: rgba(243, 243, 243, 0.75)\">3</th><td class=\"tdhistory262837\">marketing sales                         </td></tr></tbody></table></div>"
      ]
     },
     "execution_count": 200,
     "metadata": {
      "application/vnd.teradata.resultset": "{\"resultSetID\":\"/home/jupyter/Teradata/Resultsets/2022.01.11_15.08.09.096_UTC\",\"historyID\":195,\"chunkID\":\"00001\",\"sessionid\":\"\",\"portnum\":\"\",\"dockermode\":\"standalone\",\"totalRowCount\":3,\"chunkCount\":0,\"rowLimit\":0,\"columnMetadata\":[{\"columnName\":\"Dept_Name\",\"columnTypeName\":\"CHAR\",\"length\":20,\"scale\":20}]}"
     },
     "output_type": "execute_result"
    }
   ],
   "source": [
    "SELECT TOP 3 dept_name FROM department ORDER BY 1 DESC;"
   ]
  },
  {
   "cell_type": "markdown",
   "id": "d72c93ac",
   "metadata": {},
   "source": [
    "**<div class=\"alert alert-block alert-info\">3. Retrieve the top three department salary sums by VALUE - descending.** </div>\n"
   ]
  },
  {
   "cell_type": "code",
   "execution_count": 201,
   "id": "46d1263f",
   "metadata": {},
   "outputs": [
    {
     "data": {
      "application/vnd.teradata.resultset": "\"Dept_Number\",\"sumsal\"\n\"401\",\"233400.00\"\n\"403\",\"227900.00\"\n\"\",\"169500.00\"",
      "text/html": [
       "<div class = \"td-resultset-table-div\" style = \"max-height: 100%; overflow-y: auto\">\n",
       "      <table class=\"tdhistory868643\"><style>\n",
       "      table.tdhistory868643 { display: block !important; min-height: 147px !important; overflow: auto !important; height: 147px !important; width: 100% !important; border: 1px solid rgb(207, 207, 207) !important; border-collapse: collapse !important; ; color: var(--jp-ui-font-color1) !important; }\n",
       "      th.tdhistory868643 { border: 1px solid rgb(198,198,198) !important; border-collapse: collapse !important; ; padding: 2px 5px !important; ; font-size: 13px !important; ; text-align: center !important; white-space: normal !important; color: var(--jp-ui-font-color1) !important; }\n",
       "      th.tdhistory868643:last-child { text-align: left !important; }\n",
       "      tbody.tdhistory868643 tr:nth-child(even) { background: rgba(243, 243, 243, 0.75) !important; }\n",
       "      tbody.tdhistory868643 tr:nth-child(odd) { background: var(--jp-ui-inverse-font-color1) !important; }\n",
       "      td.tdhistory868643 { border: 1px solid rgb(207, 207, 207) !important; border-collapse: collapse !important; ; padding: 2px 5px !important; ; font-size: 13px !important; ; text-align: left !important;          white-space: nowrap !important; overflow:hidden !important; text-overflow:ellipsis !important;; }\n",
       "    </style><thead><tr style= \"background: rgba(243, 243, 243, 0.75)\"><th class=\"tdhistory868643\"></th><th class=\"tdhistory868643\">Dept_Number</th><th class=\"tdhistory868643\">sumsal</th></tr></thead><tbody class=\"tdhistory868643 resultset-body\"><tr><th class=\"tdhistory868643\" style= \"background: rgba(243, 243, 243, 0.75)\">1</th><td class=\"tdhistory868643\">401</td><td class=\"tdhistory868643\">233400.00</td></tr><tr><th class=\"tdhistory868643\" style= \"background: rgba(243, 243, 243, 0.75)\">2</th><td class=\"tdhistory868643\">403</td><td class=\"tdhistory868643\">227900.00</td></tr><tr><th class=\"tdhistory868643\" style= \"background: rgba(243, 243, 243, 0.75)\">3</th><td class=\"tdhistory868643\"></td><td class=\"tdhistory868643\">169500.00</td></tr></tbody></table></div>"
      ]
     },
     "execution_count": 201,
     "metadata": {
      "application/vnd.teradata.resultset": "{\"resultSetID\":\"/home/jupyter/Teradata/Resultsets/2022.01.11_15.08.11.092_UTC\",\"historyID\":196,\"chunkID\":\"00001\",\"sessionid\":\"\",\"portnum\":\"\",\"dockermode\":\"standalone\",\"totalRowCount\":3,\"chunkCount\":0,\"rowLimit\":0,\"columnMetadata\":[{\"columnName\":\"Dept_Number\",\"columnTypeName\":\"INTEGER\"},{\"columnNumber\":1,\"columnName\":\"sumsal\",\"columnTypeName\":\"DECIMAL\",\"length\":2,\"precision\":38,\"scale\":2}]}"
     },
     "output_type": "execute_result"
    }
   ],
   "source": [
    "SELECT TOP 3 *\n",
    "FROM (SELECT Dept_Number, SUM(salary_amount) AS sumsal\n",
    "FROM employee\n",
    "GROUP BY 1) e\n",
    "ORDER BY 2 DESC;"
   ]
  },
  {
   "cell_type": "markdown",
   "id": "8e37cbbd",
   "metadata": {},
   "source": [
    "# Window Aggregate Functions Slide [119]\n",
    "\n",
    "**<div class=\"alert alert-block alert-info\">1. Use a GROUP function to find employees having a salary greater than their department average and display the average.** </div>\n"
   ]
  },
  {
   "cell_type": "code",
   "execution_count": 202,
   "id": "3733cb03",
   "metadata": {},
   "outputs": [
    {
     "data": {
      "application/vnd.teradata.resultset": "\"Last_Name\",\"First_Name\",\"dept#\",\"Salary_Amount\",\"deptavg\"\n\"Machado             \",\"Albert              \",\"401\",\"56500.00\",\"38900\"\n\"Rogers              \",\"Frank               \",\"401\",\"46000.00\",\"38900\"\n\"Brown               \",\"Allen               \",\"403\",\"56500.00\",\"45580\"\n\"Charles             \",\"John                \",\"403\",\"56500.00\",\"45580\"\n\"Villegas            \",\"Arnando             \",\"403\",\"46000.00\",\"45580\"\n\"Rabbit              \",\"Peter               \",\"501\",\"56500.00\",\"50300\"\n\"Ratzlaff            \",\"Larry               \",\"501\",\"56500.00\",\"50300\"",
      "text/html": [
       "<div class = \"td-resultset-table-div\" style = \"max-height: 100%; overflow-y: auto\">\n",
       "      <table class=\"tdhistory167945\"><style>\n",
       "      table.tdhistory167945 { display: block !important; min-height: 231px !important; overflow: auto !important; height: 231px !important; width: 100% !important; border: 1px solid rgb(207, 207, 207) !important; border-collapse: collapse !important; ; color: var(--jp-ui-font-color1) !important; }\n",
       "      th.tdhistory167945 { border: 1px solid rgb(198,198,198) !important; border-collapse: collapse !important; ; padding: 2px 5px !important; ; font-size: 13px !important; ; text-align: center !important; white-space: normal !important; color: var(--jp-ui-font-color1) !important; }\n",
       "      th.tdhistory167945:last-child { text-align: left !important; }\n",
       "      tbody.tdhistory167945 tr:nth-child(even) { background: rgba(243, 243, 243, 0.75) !important; }\n",
       "      tbody.tdhistory167945 tr:nth-child(odd) { background: var(--jp-ui-inverse-font-color1) !important; }\n",
       "      td.tdhistory167945 { border: 1px solid rgb(207, 207, 207) !important; border-collapse: collapse !important; ; padding: 2px 5px !important; ; font-size: 13px !important; ; text-align: left !important;          white-space: nowrap !important; overflow:hidden !important; text-overflow:ellipsis !important;; }\n",
       "    </style><thead><tr style= \"background: rgba(243, 243, 243, 0.75)\"><th class=\"tdhistory167945\"></th><th class=\"tdhistory167945\">Last_Name</th><th class=\"tdhistory167945\">First_Name</th><th class=\"tdhistory167945\">dept#</th><th class=\"tdhistory167945\">Salary_Amount</th><th class=\"tdhistory167945\">deptavg</th></tr></thead><tbody class=\"tdhistory167945 resultset-body\"><tr><th class=\"tdhistory167945\" style= \"background: rgba(243, 243, 243, 0.75)\">1</th><td class=\"tdhistory167945\">Machado             </td><td class=\"tdhistory167945\">Albert              </td><td class=\"tdhistory167945\">401</td><td class=\"tdhistory167945\">56500.00</td><td class=\"tdhistory167945\">38900</td></tr><tr><th class=\"tdhistory167945\" style= \"background: rgba(243, 243, 243, 0.75)\">2</th><td class=\"tdhistory167945\">Rogers              </td><td class=\"tdhistory167945\">Frank               </td><td class=\"tdhistory167945\">401</td><td class=\"tdhistory167945\">46000.00</td><td class=\"tdhistory167945\">38900</td></tr><tr><th class=\"tdhistory167945\" style= \"background: rgba(243, 243, 243, 0.75)\">3</th><td class=\"tdhistory167945\">Brown               </td><td class=\"tdhistory167945\">Allen               </td><td class=\"tdhistory167945\">403</td><td class=\"tdhistory167945\">56500.00</td><td class=\"tdhistory167945\">45580</td></tr><tr><th class=\"tdhistory167945\" style= \"background: rgba(243, 243, 243, 0.75)\">4</th><td class=\"tdhistory167945\">Charles             </td><td class=\"tdhistory167945\">John                </td><td class=\"tdhistory167945\">403</td><td class=\"tdhistory167945\">56500.00</td><td class=\"tdhistory167945\">45580</td></tr><tr><th class=\"tdhistory167945\" style= \"background: rgba(243, 243, 243, 0.75)\">5</th><td class=\"tdhistory167945\">Villegas            </td><td class=\"tdhistory167945\">Arnando             </td><td class=\"tdhistory167945\">403</td><td class=\"tdhistory167945\">46000.00</td><td class=\"tdhistory167945\">45580</td></tr><tr><th class=\"tdhistory167945\" style= \"background: rgba(243, 243, 243, 0.75)\">6</th><td class=\"tdhistory167945\">Rabbit              </td><td class=\"tdhistory167945\">Peter               </td><td class=\"tdhistory167945\">501</td><td class=\"tdhistory167945\">56500.00</td><td class=\"tdhistory167945\">50300</td></tr><tr><th class=\"tdhistory167945\" style= \"background: rgba(243, 243, 243, 0.75)\">7</th><td class=\"tdhistory167945\">Ratzlaff            </td><td class=\"tdhistory167945\">Larry               </td><td class=\"tdhistory167945\">501</td><td class=\"tdhistory167945\">56500.00</td><td class=\"tdhistory167945\">50300</td></tr></tbody></table></div>"
      ]
     },
     "execution_count": 202,
     "metadata": {
      "application/vnd.teradata.resultset": "{\"resultSetID\":\"/home/jupyter/Teradata/Resultsets/2022.01.11_15.08.13.385_UTC\",\"historyID\":197,\"chunkID\":\"00001\",\"sessionid\":\"\",\"portnum\":\"\",\"dockermode\":\"standalone\",\"totalRowCount\":7,\"chunkCount\":0,\"rowLimit\":0,\"columnMetadata\":[{\"columnName\":\"Last_Name\",\"columnTypeName\":\"CHAR\",\"length\":10,\"scale\":10},{\"columnNumber\":1,\"columnName\":\"First_Name\",\"columnTypeName\":\"CHAR\",\"length\":10,\"scale\":10},{\"columnNumber\":2,\"columnName\":\"dept#\",\"columnTypeName\":\"INTEGER\"},{\"columnNumber\":3,\"columnName\":\"Salary_Amount\",\"columnTypeName\":\"DECIMAL\",\"length\":2,\"precision\":10,\"scale\":2},{\"columnNumber\":4,\"columnName\":\"deptavg\",\"columnTypeName\":\"FLOAT\"}]}"
     },
     "output_type": "execute_result"
    }
   ],
   "source": [
    "SELECT last_name (CHAR(10)), first_name (CHAR(10)),\n",
    "Dept_Number AS dept#,\n",
    "salary_amount,\n",
    "AVG(salary_amount)\n",
    "OVER (PARTITION BY Dept_Number) AS deptavg\n",
    "FROM employee\n",
    "QUALIFY salary_amount > deptavg\n",
    "ORDER BY Dept_Number, last_name;"
   ]
  },
  {
   "cell_type": "markdown",
   "id": "23395209",
   "metadata": {},
   "source": [
    "# ROW_NUMBER Slide [120]\n",
    "\n",
    "**<div class=\"alert alert-block alert-info\">1. Select Employee detail for the employee belongs to department number 401 and 501** </div>\n"
   ]
  },
  {
   "cell_type": "code",
   "execution_count": 203,
   "id": "ec1c4c47",
   "metadata": {},
   "outputs": [
    {
     "data": {
      "application/vnd.teradata.resultset": "\"Last_Name\",\"First_Name\",\"Dept_Number\",\"Last_Name-1\"\n\"Brown                                   \",\"Alan\",\"401\",\"1\"\n\"Hoover                                  \",\"William\",\"401\",\"2\"\n\"Johnson                                 \",\"Darlene\",\"401\",\"3\"\n\"Machado                                 \",\"Albert\",\"401\",\"4\"\n\"Phillips                                \",\"Charles\",\"401\",\"5\"\n\"Rabbit                                  \",\"Peter\",\"501\",\"6\"\n\"Ratzlaff                                \",\"Larry\",\"501\",\"7\"\n\"Rogers                                  \",\"Frank\",\"401\",\"8\"\n\"Wilson                                  \",\"Edward\",\"501\",\"9\"",
      "text/html": [
       "<div class = \"td-resultset-table-div\" style = \"max-height: 100%; overflow-y: auto\">\n",
       "      <table class=\"tdhistory710366\"><style>\n",
       "      table.tdhistory710366 { display: block !important; min-height: 273px !important; overflow: auto !important; height: 273px !important; width: 100% !important; border: 1px solid rgb(207, 207, 207) !important; border-collapse: collapse !important; ; color: var(--jp-ui-font-color1) !important; }\n",
       "      th.tdhistory710366 { border: 1px solid rgb(198,198,198) !important; border-collapse: collapse !important; ; padding: 2px 5px !important; ; font-size: 13px !important; ; text-align: center !important; white-space: normal !important; color: var(--jp-ui-font-color1) !important; }\n",
       "      th.tdhistory710366:last-child { text-align: left !important; }\n",
       "      tbody.tdhistory710366 tr:nth-child(even) { background: rgba(243, 243, 243, 0.75) !important; }\n",
       "      tbody.tdhistory710366 tr:nth-child(odd) { background: var(--jp-ui-inverse-font-color1) !important; }\n",
       "      td.tdhistory710366 { border: 1px solid rgb(207, 207, 207) !important; border-collapse: collapse !important; ; padding: 2px 5px !important; ; font-size: 13px !important; ; text-align: left !important;          white-space: nowrap !important; overflow:hidden !important; text-overflow:ellipsis !important;; }\n",
       "    </style><thead><tr style= \"background: rgba(243, 243, 243, 0.75)\"><th class=\"tdhistory710366\"></th><th class=\"tdhistory710366\">Last_Name</th><th class=\"tdhistory710366\">First_Name</th><th class=\"tdhistory710366\">Dept_Number</th><th class=\"tdhistory710366\">Last_Name-1</th></tr></thead><tbody class=\"tdhistory710366 resultset-body\"><tr><th class=\"tdhistory710366\" style= \"background: rgba(243, 243, 243, 0.75)\">1</th><td class=\"tdhistory710366\">Brown                                   </td><td class=\"tdhistory710366\">Alan</td><td class=\"tdhistory710366\">401</td><td class=\"tdhistory710366\">1</td></tr><tr><th class=\"tdhistory710366\" style= \"background: rgba(243, 243, 243, 0.75)\">2</th><td class=\"tdhistory710366\">Hoover                                  </td><td class=\"tdhistory710366\">William</td><td class=\"tdhistory710366\">401</td><td class=\"tdhistory710366\">2</td></tr><tr><th class=\"tdhistory710366\" style= \"background: rgba(243, 243, 243, 0.75)\">3</th><td class=\"tdhistory710366\">Johnson                                 </td><td class=\"tdhistory710366\">Darlene</td><td class=\"tdhistory710366\">401</td><td class=\"tdhistory710366\">3</td></tr><tr><th class=\"tdhistory710366\" style= \"background: rgba(243, 243, 243, 0.75)\">4</th><td class=\"tdhistory710366\">Machado                                 </td><td class=\"tdhistory710366\">Albert</td><td class=\"tdhistory710366\">401</td><td class=\"tdhistory710366\">4</td></tr><tr><th class=\"tdhistory710366\" style= \"background: rgba(243, 243, 243, 0.75)\">5</th><td class=\"tdhistory710366\">Phillips                                </td><td class=\"tdhistory710366\">Charles</td><td class=\"tdhistory710366\">401</td><td class=\"tdhistory710366\">5</td></tr><tr><th class=\"tdhistory710366\" style= \"background: rgba(243, 243, 243, 0.75)\">6</th><td class=\"tdhistory710366\">Rabbit                                  </td><td class=\"tdhistory710366\">Peter</td><td class=\"tdhistory710366\">501</td><td class=\"tdhistory710366\">6</td></tr><tr><th class=\"tdhistory710366\" style= \"background: rgba(243, 243, 243, 0.75)\">7</th><td class=\"tdhistory710366\">Ratzlaff                                </td><td class=\"tdhistory710366\">Larry</td><td class=\"tdhistory710366\">501</td><td class=\"tdhistory710366\">7</td></tr><tr><th class=\"tdhistory710366\" style= \"background: rgba(243, 243, 243, 0.75)\">8</th><td class=\"tdhistory710366\">Rogers                                  </td><td class=\"tdhistory710366\">Frank</td><td class=\"tdhistory710366\">401</td><td class=\"tdhistory710366\">8</td></tr><tr><th class=\"tdhistory710366\" style= \"background: rgba(243, 243, 243, 0.75)\">9</th><td class=\"tdhistory710366\">Wilson                                  </td><td class=\"tdhistory710366\">Edward</td><td class=\"tdhistory710366\">501</td><td class=\"tdhistory710366\">9</td></tr></tbody></table></div>"
      ]
     },
     "execution_count": 203,
     "metadata": {
      "application/vnd.teradata.resultset": "{\"resultSetID\":\"/home/jupyter/Teradata/Resultsets/2022.01.11_15.08.15.164_UTC\",\"historyID\":198,\"chunkID\":\"00001\",\"sessionid\":\"\",\"portnum\":\"\",\"dockermode\":\"standalone\",\"totalRowCount\":9,\"chunkCount\":0,\"rowLimit\":0,\"columnMetadata\":[{\"columnName\":\"Last_Name\",\"columnTypeName\":\"CHAR\",\"length\":20,\"scale\":20},{\"columnNumber\":1,\"columnName\":\"First_Name\",\"columnTypeName\":\"VARCHAR\",\"length\":20,\"scale\":20},{\"columnNumber\":2,\"columnName\":\"Dept_Number\",\"columnTypeName\":\"INTEGER\"},{\"columnNumber\":3,\"columnName\":\"Last_Name-1\",\"columnTypeName\":\"INTEGER\"}]}"
     },
     "output_type": "execute_result"
    }
   ],
   "source": [
    "SELECT Last_Name, First_Name, Dept_Number,\n",
    "ROW_NUMBER( ) OVER (ORDER BY Last_Name)\n",
    "FROM Employee\n",
    "WHERE Dept_Number IN (401, 501);\n"
   ]
  },
  {
   "cell_type": "markdown",
   "id": "75ab1ded",
   "metadata": {},
   "source": [
    "# Group by Slide [123]\n",
    "\n",
    "**<div class=\"alert alert-block alert-info\">1.Generate a report of salary totals by department.** </div>"
   ]
  },
  {
   "cell_type": "code",
   "execution_count": 204,
   "id": "7ac2ebc8",
   "metadata": {},
   "outputs": [
    {
     "data": {
      "application/vnd.teradata.resultset": "\"Dept_Number\",\"Salary_Amount\"\n\"403\",\"227900.00\"\n\"401\",\"233400.00\"\n\"402\",\"37900.00\"\n\"501\",\"150900.00\"\n\"301\",\"92000.00\"\n\"\",\"169500.00\"",
      "text/html": [
       "<div class = \"td-resultset-table-div\" style = \"max-height: 100%; overflow-y: auto\">\n",
       "      <table class=\"tdhistory187646\"><style>\n",
       "      table.tdhistory187646 { display: block !important; min-height: 210px !important; overflow: auto !important; height: 210px !important; width: 100% !important; border: 1px solid rgb(207, 207, 207) !important; border-collapse: collapse !important; ; color: var(--jp-ui-font-color1) !important; }\n",
       "      th.tdhistory187646 { border: 1px solid rgb(198,198,198) !important; border-collapse: collapse !important; ; padding: 2px 5px !important; ; font-size: 13px !important; ; text-align: center !important; white-space: normal !important; color: var(--jp-ui-font-color1) !important; }\n",
       "      th.tdhistory187646:last-child { text-align: left !important; }\n",
       "      tbody.tdhistory187646 tr:nth-child(even) { background: rgba(243, 243, 243, 0.75) !important; }\n",
       "      tbody.tdhistory187646 tr:nth-child(odd) { background: var(--jp-ui-inverse-font-color1) !important; }\n",
       "      td.tdhistory187646 { border: 1px solid rgb(207, 207, 207) !important; border-collapse: collapse !important; ; padding: 2px 5px !important; ; font-size: 13px !important; ; text-align: left !important;          white-space: nowrap !important; overflow:hidden !important; text-overflow:ellipsis !important;; }\n",
       "    </style><thead><tr style= \"background: rgba(243, 243, 243, 0.75)\"><th class=\"tdhistory187646\"></th><th class=\"tdhistory187646\">Dept_Number</th><th class=\"tdhistory187646\">Salary_Amount</th></tr></thead><tbody class=\"tdhistory187646 resultset-body\"><tr><th class=\"tdhistory187646\" style= \"background: rgba(243, 243, 243, 0.75)\">1</th><td class=\"tdhistory187646\">403</td><td class=\"tdhistory187646\">227900.00</td></tr><tr><th class=\"tdhistory187646\" style= \"background: rgba(243, 243, 243, 0.75)\">2</th><td class=\"tdhistory187646\">401</td><td class=\"tdhistory187646\">233400.00</td></tr><tr><th class=\"tdhistory187646\" style= \"background: rgba(243, 243, 243, 0.75)\">3</th><td class=\"tdhistory187646\">402</td><td class=\"tdhistory187646\">37900.00</td></tr><tr><th class=\"tdhistory187646\" style= \"background: rgba(243, 243, 243, 0.75)\">4</th><td class=\"tdhistory187646\">501</td><td class=\"tdhistory187646\">150900.00</td></tr><tr><th class=\"tdhistory187646\" style= \"background: rgba(243, 243, 243, 0.75)\">5</th><td class=\"tdhistory187646\">301</td><td class=\"tdhistory187646\">92000.00</td></tr><tr><th class=\"tdhistory187646\" style= \"background: rgba(243, 243, 243, 0.75)\">6</th><td class=\"tdhistory187646\"></td><td class=\"tdhistory187646\">169500.00</td></tr></tbody></table></div>"
      ]
     },
     "execution_count": 204,
     "metadata": {
      "application/vnd.teradata.resultset": "{\"resultSetID\":\"/home/jupyter/Teradata/Resultsets/2022.01.11_15.08.16.732_UTC\",\"historyID\":199,\"chunkID\":\"00001\",\"sessionid\":\"\",\"portnum\":\"\",\"dockermode\":\"standalone\",\"totalRowCount\":6,\"chunkCount\":0,\"rowLimit\":0,\"columnMetadata\":[{\"columnName\":\"Dept_Number\",\"columnTypeName\":\"INTEGER\"},{\"columnNumber\":1,\"columnName\":\"Salary_Amount\",\"columnTypeName\":\"DECIMAL\",\"length\":2,\"precision\":38,\"scale\":2}]}"
     },
     "output_type": "execute_result"
    }
   ],
   "source": [
    "SELECT Dept_Number, SUM(Salary_Amount) \n",
    "FROM employee \n",
    "GROUP BY Dept_Number;\n"
   ]
  },
  {
   "cell_type": "markdown",
   "id": "b43d8a02",
   "metadata": {},
   "source": [
    "# HAVING Clause Slide [124]\n",
    "**<div class=\"alert alert-block alert-info\">1.Select all department whose head count is greater than 5 employee.** </div>"
   ]
  },
  {
   "cell_type": "code",
   "execution_count": 205,
   "id": "4f1b10a0",
   "metadata": {},
   "outputs": [
    {
     "data": {
      "application/vnd.teradata.resultset": "\"Dept_Number\",\"Employee_Number\"\n\"401\",\"6\"",
      "text/html": [
       "<div class = \"td-resultset-table-div\" style = \"max-height: 100%; overflow-y: auto\">\n",
       "      <table class=\"tdhistory506017\"><style>\n",
       "      table.tdhistory506017 { display: block !important; min-height: 105px !important; overflow: auto !important; height: 105px !important; width: 100% !important; border: 1px solid rgb(207, 207, 207) !important; border-collapse: collapse !important; ; color: var(--jp-ui-font-color1) !important; }\n",
       "      th.tdhistory506017 { border: 1px solid rgb(198,198,198) !important; border-collapse: collapse !important; ; padding: 2px 5px !important; ; font-size: 13px !important; ; text-align: center !important; white-space: normal !important; color: var(--jp-ui-font-color1) !important; }\n",
       "      th.tdhistory506017:last-child { text-align: left !important; }\n",
       "      tbody.tdhistory506017 tr:nth-child(even) { background: rgba(243, 243, 243, 0.75) !important; }\n",
       "      tbody.tdhistory506017 tr:nth-child(odd) { background: var(--jp-ui-inverse-font-color1) !important; }\n",
       "      td.tdhistory506017 { border: 1px solid rgb(207, 207, 207) !important; border-collapse: collapse !important; ; padding: 2px 5px !important; ; font-size: 13px !important; ; text-align: left !important;          white-space: nowrap !important; overflow:hidden !important; text-overflow:ellipsis !important;; }\n",
       "    </style><thead><tr style= \"background: rgba(243, 243, 243, 0.75)\"><th class=\"tdhistory506017\"></th><th class=\"tdhistory506017\">Dept_Number</th><th class=\"tdhistory506017\">Employee_Number</th></tr></thead><tbody class=\"tdhistory506017 resultset-body\"><tr><th class=\"tdhistory506017\" style= \"background: rgba(243, 243, 243, 0.75)\">1</th><td class=\"tdhistory506017\">401</td><td class=\"tdhistory506017\">6</td></tr></tbody></table></div>"
      ]
     },
     "execution_count": 205,
     "metadata": {
      "application/vnd.teradata.resultset": "{\"resultSetID\":\"/home/jupyter/Teradata/Resultsets/2022.01.11_15.08.18.661_UTC\",\"historyID\":200,\"chunkID\":\"00001\",\"sessionid\":\"\",\"portnum\":\"\",\"dockermode\":\"standalone\",\"totalRowCount\":1,\"chunkCount\":0,\"rowLimit\":0,\"columnMetadata\":[{\"columnName\":\"Dept_Number\",\"columnTypeName\":\"INTEGER\"},{\"columnNumber\":1,\"columnName\":\"Employee_Number\",\"columnTypeName\":\"INTEGER\"}]}"
     },
     "output_type": "execute_result"
    }
   ],
   "source": [
    "SELECT Dept_Number,COUNT(Employee_Number)\n",
    "     FROM Employee\n",
    "  Group by Dept_Number\n",
    "  HAVING COUNT(Employee_Number) > 5;\n",
    " "
   ]
  },
  {
   "cell_type": "markdown",
   "id": "5821f71b",
   "metadata": {},
   "source": [
    "#  NULL Processing Slide [126-127]\n",
    "\n",
    "**<div class=\"alert alert-block alert-info\">1. Request separate reports of employees who have not been assigned to a department, then those who have not been given a job code.** </div>\n",
    "\n"
   ]
  },
  {
   "cell_type": "code",
   "execution_count": 206,
   "id": "35e6a856",
   "metadata": {},
   "outputs": [
    {
     "data": {
      "application/vnd.teradata.resultset": "\"Last_Name\",\"First_Name\",\"Dept_Number\",\"Job_Code\"\n\"Morrissey                               \",\"Jim\",\"\",\"222101\"\n\"Rogers                                  \",\"Nora\",\"\",\"321100\"\n\"Short                                   \",\"Michael\",\"\",\"211100\"",
      "text/html": [
       "<div class = \"td-resultset-table-div\" style = \"max-height: 100%; overflow-y: auto\">\n",
       "      <table class=\"tdhistory749402\"><style>\n",
       "      table.tdhistory749402 { display: block !important; min-height: 147px !important; overflow: auto !important; height: 147px !important; width: 100% !important; border: 1px solid rgb(207, 207, 207) !important; border-collapse: collapse !important; ; color: var(--jp-ui-font-color1) !important; }\n",
       "      th.tdhistory749402 { border: 1px solid rgb(198,198,198) !important; border-collapse: collapse !important; ; padding: 2px 5px !important; ; font-size: 13px !important; ; text-align: center !important; white-space: normal !important; color: var(--jp-ui-font-color1) !important; }\n",
       "      th.tdhistory749402:last-child { text-align: left !important; }\n",
       "      tbody.tdhistory749402 tr:nth-child(even) { background: rgba(243, 243, 243, 0.75) !important; }\n",
       "      tbody.tdhistory749402 tr:nth-child(odd) { background: var(--jp-ui-inverse-font-color1) !important; }\n",
       "      td.tdhistory749402 { border: 1px solid rgb(207, 207, 207) !important; border-collapse: collapse !important; ; padding: 2px 5px !important; ; font-size: 13px !important; ; text-align: left !important;          white-space: nowrap !important; overflow:hidden !important; text-overflow:ellipsis !important;; }\n",
       "    </style><thead><tr style= \"background: rgba(243, 243, 243, 0.75)\"><th class=\"tdhistory749402\"></th><th class=\"tdhistory749402\">Last_Name</th><th class=\"tdhistory749402\">First_Name</th><th class=\"tdhistory749402\">Dept_Number</th><th class=\"tdhistory749402\">Job_Code</th></tr></thead><tbody class=\"tdhistory749402 resultset-body\"><tr><th class=\"tdhistory749402\" style= \"background: rgba(243, 243, 243, 0.75)\">1</th><td class=\"tdhistory749402\">Morrissey                               </td><td class=\"tdhistory749402\">Jim</td><td class=\"tdhistory749402\"></td><td class=\"tdhistory749402\">222101</td></tr><tr><th class=\"tdhistory749402\" style= \"background: rgba(243, 243, 243, 0.75)\">2</th><td class=\"tdhistory749402\">Rogers                                  </td><td class=\"tdhistory749402\">Nora</td><td class=\"tdhistory749402\"></td><td class=\"tdhistory749402\">321100</td></tr><tr><th class=\"tdhistory749402\" style= \"background: rgba(243, 243, 243, 0.75)\">3</th><td class=\"tdhistory749402\">Short                                   </td><td class=\"tdhistory749402\">Michael</td><td class=\"tdhistory749402\"></td><td class=\"tdhistory749402\">211100</td></tr></tbody></table></div>"
      ]
     },
     "execution_count": 206,
     "metadata": {
      "application/vnd.teradata.resultset": "{\"resultSetID\":\"/home/jupyter/Teradata/Resultsets/2022.01.11_15.08.19.670_UTC\",\"historyID\":201,\"chunkID\":\"00001\",\"sessionid\":\"\",\"portnum\":\"\",\"dockermode\":\"standalone\",\"totalRowCount\":3,\"chunkCount\":0,\"rowLimit\":0,\"columnMetadata\":[{\"columnName\":\"Last_Name\",\"columnTypeName\":\"CHAR\",\"length\":20,\"scale\":20},{\"columnNumber\":1,\"columnName\":\"First_Name\",\"columnTypeName\":\"VARCHAR\",\"length\":20,\"scale\":20},{\"columnNumber\":2,\"columnName\":\"Dept_Number\",\"columnTypeName\":\"INTEGER\"},{\"columnNumber\":3,\"columnName\":\"Job_Code\",\"columnTypeName\":\"INTEGER\"}]}"
     },
     "output_type": "execute_result"
    }
   ],
   "source": [
    "SELECT last_name, first_name, Dept_Number, job_code\n",
    "FROM Employee\n",
    "WHERE Dept_Number IS NULL;\n"
   ]
  },
  {
   "cell_type": "markdown",
   "id": "02296022",
   "metadata": {},
   "source": [
    "**<div class=\"alert alert-block alert-info\">2. Using an IN list, display employees with any of the following job codes:   \n",
    "       412101, 412109, and NULL.** </div>\n"
   ]
  },
  {
   "cell_type": "code",
   "execution_count": 207,
   "id": "d2f6f337",
   "metadata": {},
   "outputs": [
    {
     "data": {
      "application/vnd.teradata.resultset": "\"Last_Name\",\"First_Name\",\"Job_Code\"\n\"Brown                                   \",\"Allen\",\"\"\n\"Brown                                   \",\"Alan\",\"\"\n\"Charles                                 \",\"John\",\"\"\n\"Crane                                   \",\"Robert\",\"\"\n\"Hoover                                  \",\"William\",\"412101\"\n\"Hopkins                                 \",\"Paulene\",\"\"\n\"Johnson                                 \",\"Darlene\",\"412101\"\n\"Lombardo                                \",\"Domingus\",\"\"\n\"Machado                                 \",\"Albert\",\"\"\n\"Phillips                                \",\"Charles\",\"\"\n\"Ratzlaff                                \",\"Larry\",\"412101\"\n\"Rogers                                  \",\"Frank\",\"412101\"\n\"Wilson                                  \",\"Edward\",\"412109\"",
      "text/html": [
       "<div class = \"td-resultset-table-div\" style = \"max-height: 100%; overflow-y: auto\">\n",
       "      <table class=\"tdhistory61529\"><style>\n",
       "      table.tdhistory61529 { display: block !important; min-height: 357px !important; overflow: auto !important; height: 357px !important; width: 100% !important; border: 1px solid rgb(207, 207, 207) !important; border-collapse: collapse !important; ; color: var(--jp-ui-font-color1) !important; }\n",
       "      th.tdhistory61529 { border: 1px solid rgb(198,198,198) !important; border-collapse: collapse !important; ; padding: 2px 5px !important; ; font-size: 13px !important; ; text-align: center !important; white-space: normal !important; color: var(--jp-ui-font-color1) !important; }\n",
       "      th.tdhistory61529:last-child { text-align: left !important; }\n",
       "      tbody.tdhistory61529 tr:nth-child(even) { background: rgba(243, 243, 243, 0.75) !important; }\n",
       "      tbody.tdhistory61529 tr:nth-child(odd) { background: var(--jp-ui-inverse-font-color1) !important; }\n",
       "      td.tdhistory61529 { border: 1px solid rgb(207, 207, 207) !important; border-collapse: collapse !important; ; padding: 2px 5px !important; ; font-size: 13px !important; ; text-align: left !important;          white-space: nowrap !important; overflow:hidden !important; text-overflow:ellipsis !important;; }\n",
       "    </style><thead><tr style= \"background: rgba(243, 243, 243, 0.75)\"><th class=\"tdhistory61529\"></th><th class=\"tdhistory61529\">Last_Name</th><th class=\"tdhistory61529\">First_Name</th><th class=\"tdhistory61529\">Job_Code</th></tr></thead><tbody class=\"tdhistory61529 resultset-body\"><tr><th class=\"tdhistory61529\" style= \"background: rgba(243, 243, 243, 0.75)\">1</th><td class=\"tdhistory61529\">Brown                                   </td><td class=\"tdhistory61529\">Allen</td><td class=\"tdhistory61529\"></td></tr><tr><th class=\"tdhistory61529\" style= \"background: rgba(243, 243, 243, 0.75)\">2</th><td class=\"tdhistory61529\">Brown                                   </td><td class=\"tdhistory61529\">Alan</td><td class=\"tdhistory61529\"></td></tr><tr><th class=\"tdhistory61529\" style= \"background: rgba(243, 243, 243, 0.75)\">3</th><td class=\"tdhistory61529\">Charles                                 </td><td class=\"tdhistory61529\">John</td><td class=\"tdhistory61529\"></td></tr><tr><th class=\"tdhistory61529\" style= \"background: rgba(243, 243, 243, 0.75)\">4</th><td class=\"tdhistory61529\">Crane                                   </td><td class=\"tdhistory61529\">Robert</td><td class=\"tdhistory61529\"></td></tr><tr><th class=\"tdhistory61529\" style= \"background: rgba(243, 243, 243, 0.75)\">5</th><td class=\"tdhistory61529\">Hoover                                  </td><td class=\"tdhistory61529\">William</td><td class=\"tdhistory61529\">412101</td></tr><tr><th class=\"tdhistory61529\" style= \"background: rgba(243, 243, 243, 0.75)\">6</th><td class=\"tdhistory61529\">Hopkins                                 </td><td class=\"tdhistory61529\">Paulene</td><td class=\"tdhistory61529\"></td></tr><tr><th class=\"tdhistory61529\" style= \"background: rgba(243, 243, 243, 0.75)\">7</th><td class=\"tdhistory61529\">Johnson                                 </td><td class=\"tdhistory61529\">Darlene</td><td class=\"tdhistory61529\">412101</td></tr><tr><th class=\"tdhistory61529\" style= \"background: rgba(243, 243, 243, 0.75)\">8</th><td class=\"tdhistory61529\">Lombardo                                </td><td class=\"tdhistory61529\">Domingus</td><td class=\"tdhistory61529\"></td></tr><tr><th class=\"tdhistory61529\" style= \"background: rgba(243, 243, 243, 0.75)\">9</th><td class=\"tdhistory61529\">Machado                                 </td><td class=\"tdhistory61529\">Albert</td><td class=\"tdhistory61529\"></td></tr><tr><th class=\"tdhistory61529\" style= \"background: rgba(243, 243, 243, 0.75)\">10</th><td class=\"tdhistory61529\">Phillips                                </td><td class=\"tdhistory61529\">Charles</td><td class=\"tdhistory61529\"></td></tr><tr><th class=\"tdhistory61529\" style= \"background: rgba(243, 243, 243, 0.75)\">11</th><td class=\"tdhistory61529\">Ratzlaff                                </td><td class=\"tdhistory61529\">Larry</td><td class=\"tdhistory61529\">412101</td></tr><tr><th class=\"tdhistory61529\" style= \"background: rgba(243, 243, 243, 0.75)\">12</th><td class=\"tdhistory61529\">Rogers                                  </td><td class=\"tdhistory61529\">Frank</td><td class=\"tdhistory61529\">412101</td></tr><tr><th class=\"tdhistory61529\" style= \"background: rgba(243, 243, 243, 0.75)\">13</th><td class=\"tdhistory61529\">Wilson                                  </td><td class=\"tdhistory61529\">Edward</td><td class=\"tdhistory61529\">412109</td></tr></tbody></table></div>"
      ]
     },
     "execution_count": 207,
     "metadata": {
      "application/vnd.teradata.resultset": "{\"resultSetID\":\"/home/jupyter/Teradata/Resultsets/2022.01.11_15.08.20.742_UTC\",\"historyID\":202,\"chunkID\":\"00001\",\"sessionid\":\"\",\"portnum\":\"\",\"dockermode\":\"standalone\",\"totalRowCount\":13,\"chunkCount\":0,\"rowLimit\":0,\"columnMetadata\":[{\"columnName\":\"Last_Name\",\"columnTypeName\":\"CHAR\",\"length\":20,\"scale\":20},{\"columnNumber\":1,\"columnName\":\"First_Name\",\"columnTypeName\":\"VARCHAR\",\"length\":20,\"scale\":20},{\"columnNumber\":2,\"columnName\":\"Job_Code\",\"columnTypeName\":\"INTEGER\"}]}"
     },
     "output_type": "execute_result"
    }
   ],
   "source": [
    "SELECT last_name, first_name, job_code\n",
    "FROM Employee\n",
    "WHERE job_code IN (412101, 412109)\n",
    "OR job_code IS NULL\n",
    "ORDER BY 1;"
   ]
  },
  {
   "cell_type": "markdown",
   "id": "1a7bb83d",
   "metadata": {},
   "source": [
    "**<div class=\"alert alert-block alert-info\">3. Rewrite #2 using all OR'ed conditions.** </div>"
   ]
  },
  {
   "cell_type": "code",
   "execution_count": 208,
   "id": "0bb6fa4e",
   "metadata": {},
   "outputs": [
    {
     "data": {
      "application/vnd.teradata.resultset": "\"Last_Name\",\"First_Name\",\"Job_Code\"\n\"Brown                                   \",\"Allen\",\"\"\n\"Brown                                   \",\"Alan\",\"\"\n\"Charles                                 \",\"John\",\"\"\n\"Crane                                   \",\"Robert\",\"\"\n\"Hoover                                  \",\"William\",\"412101\"\n\"Hopkins                                 \",\"Paulene\",\"\"\n\"Johnson                                 \",\"Darlene\",\"412101\"\n\"Lombardo                                \",\"Domingus\",\"\"\n\"Machado                                 \",\"Albert\",\"\"\n\"Phillips                                \",\"Charles\",\"\"\n\"Ratzlaff                                \",\"Larry\",\"412101\"\n\"Rogers                                  \",\"Frank\",\"412101\"\n\"Wilson                                  \",\"Edward\",\"412109\"",
      "text/html": [
       "<div class = \"td-resultset-table-div\" style = \"max-height: 100%; overflow-y: auto\">\n",
       "      <table class=\"tdhistory755806\"><style>\n",
       "      table.tdhistory755806 { display: block !important; min-height: 357px !important; overflow: auto !important; height: 357px !important; width: 100% !important; border: 1px solid rgb(207, 207, 207) !important; border-collapse: collapse !important; ; color: var(--jp-ui-font-color1) !important; }\n",
       "      th.tdhistory755806 { border: 1px solid rgb(198,198,198) !important; border-collapse: collapse !important; ; padding: 2px 5px !important; ; font-size: 13px !important; ; text-align: center !important; white-space: normal !important; color: var(--jp-ui-font-color1) !important; }\n",
       "      th.tdhistory755806:last-child { text-align: left !important; }\n",
       "      tbody.tdhistory755806 tr:nth-child(even) { background: rgba(243, 243, 243, 0.75) !important; }\n",
       "      tbody.tdhistory755806 tr:nth-child(odd) { background: var(--jp-ui-inverse-font-color1) !important; }\n",
       "      td.tdhistory755806 { border: 1px solid rgb(207, 207, 207) !important; border-collapse: collapse !important; ; padding: 2px 5px !important; ; font-size: 13px !important; ; text-align: left !important;          white-space: nowrap !important; overflow:hidden !important; text-overflow:ellipsis !important;; }\n",
       "    </style><thead><tr style= \"background: rgba(243, 243, 243, 0.75)\"><th class=\"tdhistory755806\"></th><th class=\"tdhistory755806\">Last_Name</th><th class=\"tdhistory755806\">First_Name</th><th class=\"tdhistory755806\">Job_Code</th></tr></thead><tbody class=\"tdhistory755806 resultset-body\"><tr><th class=\"tdhistory755806\" style= \"background: rgba(243, 243, 243, 0.75)\">1</th><td class=\"tdhistory755806\">Brown                                   </td><td class=\"tdhistory755806\">Allen</td><td class=\"tdhistory755806\"></td></tr><tr><th class=\"tdhistory755806\" style= \"background: rgba(243, 243, 243, 0.75)\">2</th><td class=\"tdhistory755806\">Brown                                   </td><td class=\"tdhistory755806\">Alan</td><td class=\"tdhistory755806\"></td></tr><tr><th class=\"tdhistory755806\" style= \"background: rgba(243, 243, 243, 0.75)\">3</th><td class=\"tdhistory755806\">Charles                                 </td><td class=\"tdhistory755806\">John</td><td class=\"tdhistory755806\"></td></tr><tr><th class=\"tdhistory755806\" style= \"background: rgba(243, 243, 243, 0.75)\">4</th><td class=\"tdhistory755806\">Crane                                   </td><td class=\"tdhistory755806\">Robert</td><td class=\"tdhistory755806\"></td></tr><tr><th class=\"tdhistory755806\" style= \"background: rgba(243, 243, 243, 0.75)\">5</th><td class=\"tdhistory755806\">Hoover                                  </td><td class=\"tdhistory755806\">William</td><td class=\"tdhistory755806\">412101</td></tr><tr><th class=\"tdhistory755806\" style= \"background: rgba(243, 243, 243, 0.75)\">6</th><td class=\"tdhistory755806\">Hopkins                                 </td><td class=\"tdhistory755806\">Paulene</td><td class=\"tdhistory755806\"></td></tr><tr><th class=\"tdhistory755806\" style= \"background: rgba(243, 243, 243, 0.75)\">7</th><td class=\"tdhistory755806\">Johnson                                 </td><td class=\"tdhistory755806\">Darlene</td><td class=\"tdhistory755806\">412101</td></tr><tr><th class=\"tdhistory755806\" style= \"background: rgba(243, 243, 243, 0.75)\">8</th><td class=\"tdhistory755806\">Lombardo                                </td><td class=\"tdhistory755806\">Domingus</td><td class=\"tdhistory755806\"></td></tr><tr><th class=\"tdhistory755806\" style= \"background: rgba(243, 243, 243, 0.75)\">9</th><td class=\"tdhistory755806\">Machado                                 </td><td class=\"tdhistory755806\">Albert</td><td class=\"tdhistory755806\"></td></tr><tr><th class=\"tdhistory755806\" style= \"background: rgba(243, 243, 243, 0.75)\">10</th><td class=\"tdhistory755806\">Phillips                                </td><td class=\"tdhistory755806\">Charles</td><td class=\"tdhistory755806\"></td></tr><tr><th class=\"tdhistory755806\" style= \"background: rgba(243, 243, 243, 0.75)\">11</th><td class=\"tdhistory755806\">Ratzlaff                                </td><td class=\"tdhistory755806\">Larry</td><td class=\"tdhistory755806\">412101</td></tr><tr><th class=\"tdhistory755806\" style= \"background: rgba(243, 243, 243, 0.75)\">12</th><td class=\"tdhistory755806\">Rogers                                  </td><td class=\"tdhistory755806\">Frank</td><td class=\"tdhistory755806\">412101</td></tr><tr><th class=\"tdhistory755806\" style= \"background: rgba(243, 243, 243, 0.75)\">13</th><td class=\"tdhistory755806\">Wilson                                  </td><td class=\"tdhistory755806\">Edward</td><td class=\"tdhistory755806\">412109</td></tr></tbody></table></div>"
      ]
     },
     "execution_count": 208,
     "metadata": {
      "application/vnd.teradata.resultset": "{\"resultSetID\":\"/home/jupyter/Teradata/Resultsets/2022.01.11_15.08.22.081_UTC\",\"historyID\":203,\"chunkID\":\"00001\",\"sessionid\":\"\",\"portnum\":\"\",\"dockermode\":\"standalone\",\"totalRowCount\":13,\"chunkCount\":0,\"rowLimit\":0,\"columnMetadata\":[{\"columnName\":\"Last_Name\",\"columnTypeName\":\"CHAR\",\"length\":20,\"scale\":20},{\"columnNumber\":1,\"columnName\":\"First_Name\",\"columnTypeName\":\"VARCHAR\",\"length\":20,\"scale\":20},{\"columnNumber\":2,\"columnName\":\"Job_Code\",\"columnTypeName\":\"INTEGER\"}]}"
     },
     "output_type": "execute_result"
    }
   ],
   "source": [
    "SELECT last_name, first_name, job_code\n",
    "FROM Employee\n",
    "WHERE job_code = 412101\n",
    "OR job_code = 412109\n",
    "OR job_code IS NULL\n",
    "ORDER BY 1;"
   ]
  },
  {
   "cell_type": "markdown",
   "id": "2f62c0e0",
   "metadata": {},
   "source": [
    "# QUALIFY Slide [129]\n",
    "\n",
    "**<div class=\"alert alert-block alert-info\">1.Use a GROUP function to find employees having a salary greater than their department average and display the average.** </div>\n",
    "\n",
    "**<div class=\"alert alert-block alert-warning\"> Note that the ordering shown may, depending upon the effect of QUALIFY, be more efficient, in this case, than placing it in the OVER clause due to fewer rows being ordered after the QUALIFY take place.**</div>\n"
   ]
  },
  {
   "cell_type": "code",
   "execution_count": 209,
   "id": "15c6e266",
   "metadata": {},
   "outputs": [
    {
     "data": {
      "application/vnd.teradata.resultset": "\"Last_Name\",\"First_Name\",\"dept#\",\"Salary_Amount\",\"deptavg\"\n\"Machado             \",\"Albert              \",\"401\",\"56500.00\",\"38900\"\n\"Rogers              \",\"Frank               \",\"401\",\"46000.00\",\"38900\"\n\"Brown               \",\"Allen               \",\"403\",\"56500.00\",\"45580\"\n\"Charles             \",\"John                \",\"403\",\"56500.00\",\"45580\"\n\"Villegas            \",\"Arnando             \",\"403\",\"46000.00\",\"45580\"\n\"Rabbit              \",\"Peter               \",\"501\",\"56500.00\",\"50300\"\n\"Ratzlaff            \",\"Larry               \",\"501\",\"56500.00\",\"50300\"",
      "text/html": [
       "<div class = \"td-resultset-table-div\" style = \"max-height: 100%; overflow-y: auto\">\n",
       "      <table class=\"tdhistory97477\"><style>\n",
       "      table.tdhistory97477 { display: block !important; min-height: 231px !important; overflow: auto !important; height: 231px !important; width: 100% !important; border: 1px solid rgb(207, 207, 207) !important; border-collapse: collapse !important; ; color: var(--jp-ui-font-color1) !important; }\n",
       "      th.tdhistory97477 { border: 1px solid rgb(198,198,198) !important; border-collapse: collapse !important; ; padding: 2px 5px !important; ; font-size: 13px !important; ; text-align: center !important; white-space: normal !important; color: var(--jp-ui-font-color1) !important; }\n",
       "      th.tdhistory97477:last-child { text-align: left !important; }\n",
       "      tbody.tdhistory97477 tr:nth-child(even) { background: rgba(243, 243, 243, 0.75) !important; }\n",
       "      tbody.tdhistory97477 tr:nth-child(odd) { background: var(--jp-ui-inverse-font-color1) !important; }\n",
       "      td.tdhistory97477 { border: 1px solid rgb(207, 207, 207) !important; border-collapse: collapse !important; ; padding: 2px 5px !important; ; font-size: 13px !important; ; text-align: left !important;          white-space: nowrap !important; overflow:hidden !important; text-overflow:ellipsis !important;; }\n",
       "    </style><thead><tr style= \"background: rgba(243, 243, 243, 0.75)\"><th class=\"tdhistory97477\"></th><th class=\"tdhistory97477\">Last_Name</th><th class=\"tdhistory97477\">First_Name</th><th class=\"tdhistory97477\">dept#</th><th class=\"tdhistory97477\">Salary_Amount</th><th class=\"tdhistory97477\">deptavg</th></tr></thead><tbody class=\"tdhistory97477 resultset-body\"><tr><th class=\"tdhistory97477\" style= \"background: rgba(243, 243, 243, 0.75)\">1</th><td class=\"tdhistory97477\">Machado             </td><td class=\"tdhistory97477\">Albert              </td><td class=\"tdhistory97477\">401</td><td class=\"tdhistory97477\">56500.00</td><td class=\"tdhistory97477\">38900</td></tr><tr><th class=\"tdhistory97477\" style= \"background: rgba(243, 243, 243, 0.75)\">2</th><td class=\"tdhistory97477\">Rogers              </td><td class=\"tdhistory97477\">Frank               </td><td class=\"tdhistory97477\">401</td><td class=\"tdhistory97477\">46000.00</td><td class=\"tdhistory97477\">38900</td></tr><tr><th class=\"tdhistory97477\" style= \"background: rgba(243, 243, 243, 0.75)\">3</th><td class=\"tdhistory97477\">Brown               </td><td class=\"tdhistory97477\">Allen               </td><td class=\"tdhistory97477\">403</td><td class=\"tdhistory97477\">56500.00</td><td class=\"tdhistory97477\">45580</td></tr><tr><th class=\"tdhistory97477\" style= \"background: rgba(243, 243, 243, 0.75)\">4</th><td class=\"tdhistory97477\">Charles             </td><td class=\"tdhistory97477\">John                </td><td class=\"tdhistory97477\">403</td><td class=\"tdhistory97477\">56500.00</td><td class=\"tdhistory97477\">45580</td></tr><tr><th class=\"tdhistory97477\" style= \"background: rgba(243, 243, 243, 0.75)\">5</th><td class=\"tdhistory97477\">Villegas            </td><td class=\"tdhistory97477\">Arnando             </td><td class=\"tdhistory97477\">403</td><td class=\"tdhistory97477\">46000.00</td><td class=\"tdhistory97477\">45580</td></tr><tr><th class=\"tdhistory97477\" style= \"background: rgba(243, 243, 243, 0.75)\">6</th><td class=\"tdhistory97477\">Rabbit              </td><td class=\"tdhistory97477\">Peter               </td><td class=\"tdhistory97477\">501</td><td class=\"tdhistory97477\">56500.00</td><td class=\"tdhistory97477\">50300</td></tr><tr><th class=\"tdhistory97477\" style= \"background: rgba(243, 243, 243, 0.75)\">7</th><td class=\"tdhistory97477\">Ratzlaff            </td><td class=\"tdhistory97477\">Larry               </td><td class=\"tdhistory97477\">501</td><td class=\"tdhistory97477\">56500.00</td><td class=\"tdhistory97477\">50300</td></tr></tbody></table></div>"
      ]
     },
     "execution_count": 209,
     "metadata": {
      "application/vnd.teradata.resultset": "{\"resultSetID\":\"/home/jupyter/Teradata/Resultsets/2022.01.11_15.08.26.853_UTC\",\"historyID\":204,\"chunkID\":\"00001\",\"sessionid\":\"\",\"portnum\":\"\",\"dockermode\":\"standalone\",\"totalRowCount\":7,\"chunkCount\":0,\"rowLimit\":0,\"columnMetadata\":[{\"columnName\":\"Last_Name\",\"columnTypeName\":\"CHAR\",\"length\":10,\"scale\":10},{\"columnNumber\":1,\"columnName\":\"First_Name\",\"columnTypeName\":\"CHAR\",\"length\":10,\"scale\":10},{\"columnNumber\":2,\"columnName\":\"dept#\",\"columnTypeName\":\"INTEGER\"},{\"columnNumber\":3,\"columnName\":\"Salary_Amount\",\"columnTypeName\":\"DECIMAL\",\"length\":2,\"precision\":10,\"scale\":2},{\"columnNumber\":4,\"columnName\":\"deptavg\",\"columnTypeName\":\"FLOAT\"}]}"
     },
     "output_type": "execute_result"
    }
   ],
   "source": [
    "SELECT last_name (CHAR(10)), first_name (CHAR(10)),\n",
    "Dept_Number AS dept#,\n",
    "salary_amount,\n",
    "AVG(salary_amount)\n",
    "OVER (PARTITION BY Dept_Number) AS deptavg\n",
    "FROM employee\n",
    "QUALIFY salary_amount > deptavg\n",
    "ORDER BY Dept_Number, last_name;\n",
    "\n"
   ]
  }
 ],
 "metadata": {
  "environment": {
   "name": "common-cpu.m81",
   "type": "gcloud",
   "uri": "gcr.io/deeplearning-platform-release/base-cpu:m81"
  },
  "kernelspec": {
   "display_name": "Teradata SQL",
   "language": "Teradata SQL",
   "name": "teradatasql"
  },
  "language_info": {
   "codemirror_mode": "Teradata SQL",
   "file_extension": ".tdrs",
   "mimetype": "application/vnd.teradata.resultset",
   "name": "Teradata SQL",
   "nbconvert_exporter": "",
   "pygments_lexer": "",
   "version": "16.20"
  }
 },
 "nbformat": 4,
 "nbformat_minor": 5
}
